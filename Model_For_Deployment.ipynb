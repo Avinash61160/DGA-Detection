{
  "cells": [
    {
      "cell_type": "markdown",
      "id": "ba2de34d",
      "metadata": {
        "id": "ba2de34d"
      },
      "source": [
        "## Importing all required modules"
      ]
    },
    {
      "cell_type": "code",
      "execution_count": 215,
      "id": "57782619",
      "metadata": {
        "colab": {
          "base_uri": "https://localhost:8080/"
        },
        "id": "57782619",
        "outputId": "bdeedca0-9b64-480e-a5fb-24ee212b59b3"
      },
      "outputs": [
        {
          "output_type": "stream",
          "name": "stdout",
          "text": [
            "Looking in indexes: https://pypi.org/simple, https://us-python.pkg.dev/colab-wheels/public/simple/\n",
            "Requirement already satisfied: catboost in /usr/local/lib/python3.7/dist-packages (1.0.6)\n",
            "Requirement already satisfied: plotly in /usr/local/lib/python3.7/dist-packages (from catboost) (5.5.0)\n",
            "Requirement already satisfied: numpy>=1.16.0 in /usr/local/lib/python3.7/dist-packages (from catboost) (1.21.6)\n",
            "Requirement already satisfied: pandas>=0.24.0 in /usr/local/lib/python3.7/dist-packages (from catboost) (1.3.5)\n",
            "Requirement already satisfied: scipy in /usr/local/lib/python3.7/dist-packages (from catboost) (1.7.3)\n",
            "Requirement already satisfied: six in /usr/local/lib/python3.7/dist-packages (from catboost) (1.15.0)\n",
            "Requirement already satisfied: matplotlib in /usr/local/lib/python3.7/dist-packages (from catboost) (3.2.2)\n",
            "Requirement already satisfied: graphviz in /usr/local/lib/python3.7/dist-packages (from catboost) (0.10.1)\n",
            "Requirement already satisfied: pytz>=2017.3 in /usr/local/lib/python3.7/dist-packages (from pandas>=0.24.0->catboost) (2022.2.1)\n",
            "Requirement already satisfied: python-dateutil>=2.7.3 in /usr/local/lib/python3.7/dist-packages (from pandas>=0.24.0->catboost) (2.8.2)\n",
            "Requirement already satisfied: kiwisolver>=1.0.1 in /usr/local/lib/python3.7/dist-packages (from matplotlib->catboost) (1.4.4)\n",
            "Requirement already satisfied: cycler>=0.10 in /usr/local/lib/python3.7/dist-packages (from matplotlib->catboost) (0.11.0)\n",
            "Requirement already satisfied: pyparsing!=2.0.4,!=2.1.2,!=2.1.6,>=2.0.1 in /usr/local/lib/python3.7/dist-packages (from matplotlib->catboost) (3.0.9)\n",
            "Requirement already satisfied: typing-extensions in /usr/local/lib/python3.7/dist-packages (from kiwisolver>=1.0.1->matplotlib->catboost) (4.1.1)\n",
            "Requirement already satisfied: tenacity>=6.2.0 in /usr/local/lib/python3.7/dist-packages (from plotly->catboost) (8.0.1)\n"
          ]
        }
      ],
      "source": [
        "!pip install catboost\n",
        "\n",
        "import numpy as np\n",
        "import pandas as pd\n",
        "import re\n",
        "import seaborn as sns\n",
        "import matplotlib.pyplot as plt\n",
        "\n",
        "from sklearn.model_selection import train_test_split\n",
        "\n",
        "from sklearn.metrics import confusion_matrix,f1_score, accuracy_score, classification_report\n",
        "from sklearn.preprocessing import StandardScaler\n",
        "\n",
        "import scipy\n",
        "from scipy import stats\n",
        "\n",
        "import catboost\n",
        "from catboost import CatBoostClassifier\n",
        "import joblib"
      ]
    },
    {
      "cell_type": "markdown",
      "id": "e255fa67",
      "metadata": {
        "id": "e255fa67"
      },
      "source": [
        "## Reading the file and exploratory data analysis"
      ]
    },
    {
      "cell_type": "code",
      "execution_count": 216,
      "id": "c32fbb2b",
      "metadata": {
        "id": "c32fbb2b"
      },
      "outputs": [],
      "source": [
        "df = pd.read_csv(\"dga_data.csv\")"
      ]
    },
    {
      "cell_type": "code",
      "execution_count": 217,
      "id": "6dc21077",
      "metadata": {
        "colab": {
          "base_uri": "https://localhost:8080/",
          "height": 206
        },
        "id": "6dc21077",
        "outputId": "26c999d7-60e1-4da8-eec4-229245a33579"
      },
      "outputs": [
        {
          "output_type": "execute_result",
          "data": {
            "text/plain": [
              "  isDGA                      domain                            host  \\\n",
              "0   dga  6xzxsw3sokvg1tc752y1a6p0af  6xzxsw3sokvg1tc752y1a6p0af.com   \n",
              "1   dga              glbtlxwwhbnpxs               glbtlxwwhbnpxs.ru   \n",
              "2   dga              xxmamopyipbfpk               xxmamopyipbfpk.ru   \n",
              "3   dga   zfd5szpi18i85wj9uy13l69rg   zfd5szpi18i85wj9uy13l69rg.net   \n",
              "4   dga                jpqftymiuver                 jpqftymiuver.ru   \n",
              "\n",
              "       subclass  \n",
              "0   gameoverdga  \n",
              "1  cryptolocker  \n",
              "2  cryptolocker  \n",
              "3        newgoz  \n",
              "4  cryptolocker  "
            ],
            "text/html": [
              "\n",
              "  <div id=\"df-83cc3d44-0f79-472d-b00c-f362be10d3e9\">\n",
              "    <div class=\"colab-df-container\">\n",
              "      <div>\n",
              "<style scoped>\n",
              "    .dataframe tbody tr th:only-of-type {\n",
              "        vertical-align: middle;\n",
              "    }\n",
              "\n",
              "    .dataframe tbody tr th {\n",
              "        vertical-align: top;\n",
              "    }\n",
              "\n",
              "    .dataframe thead th {\n",
              "        text-align: right;\n",
              "    }\n",
              "</style>\n",
              "<table border=\"1\" class=\"dataframe\">\n",
              "  <thead>\n",
              "    <tr style=\"text-align: right;\">\n",
              "      <th></th>\n",
              "      <th>isDGA</th>\n",
              "      <th>domain</th>\n",
              "      <th>host</th>\n",
              "      <th>subclass</th>\n",
              "    </tr>\n",
              "  </thead>\n",
              "  <tbody>\n",
              "    <tr>\n",
              "      <th>0</th>\n",
              "      <td>dga</td>\n",
              "      <td>6xzxsw3sokvg1tc752y1a6p0af</td>\n",
              "      <td>6xzxsw3sokvg1tc752y1a6p0af.com</td>\n",
              "      <td>gameoverdga</td>\n",
              "    </tr>\n",
              "    <tr>\n",
              "      <th>1</th>\n",
              "      <td>dga</td>\n",
              "      <td>glbtlxwwhbnpxs</td>\n",
              "      <td>glbtlxwwhbnpxs.ru</td>\n",
              "      <td>cryptolocker</td>\n",
              "    </tr>\n",
              "    <tr>\n",
              "      <th>2</th>\n",
              "      <td>dga</td>\n",
              "      <td>xxmamopyipbfpk</td>\n",
              "      <td>xxmamopyipbfpk.ru</td>\n",
              "      <td>cryptolocker</td>\n",
              "    </tr>\n",
              "    <tr>\n",
              "      <th>3</th>\n",
              "      <td>dga</td>\n",
              "      <td>zfd5szpi18i85wj9uy13l69rg</td>\n",
              "      <td>zfd5szpi18i85wj9uy13l69rg.net</td>\n",
              "      <td>newgoz</td>\n",
              "    </tr>\n",
              "    <tr>\n",
              "      <th>4</th>\n",
              "      <td>dga</td>\n",
              "      <td>jpqftymiuver</td>\n",
              "      <td>jpqftymiuver.ru</td>\n",
              "      <td>cryptolocker</td>\n",
              "    </tr>\n",
              "  </tbody>\n",
              "</table>\n",
              "</div>\n",
              "      <button class=\"colab-df-convert\" onclick=\"convertToInteractive('df-83cc3d44-0f79-472d-b00c-f362be10d3e9')\"\n",
              "              title=\"Convert this dataframe to an interactive table.\"\n",
              "              style=\"display:none;\">\n",
              "        \n",
              "  <svg xmlns=\"http://www.w3.org/2000/svg\" height=\"24px\"viewBox=\"0 0 24 24\"\n",
              "       width=\"24px\">\n",
              "    <path d=\"M0 0h24v24H0V0z\" fill=\"none\"/>\n",
              "    <path d=\"M18.56 5.44l.94 2.06.94-2.06 2.06-.94-2.06-.94-.94-2.06-.94 2.06-2.06.94zm-11 1L8.5 8.5l.94-2.06 2.06-.94-2.06-.94L8.5 2.5l-.94 2.06-2.06.94zm10 10l.94 2.06.94-2.06 2.06-.94-2.06-.94-.94-2.06-.94 2.06-2.06.94z\"/><path d=\"M17.41 7.96l-1.37-1.37c-.4-.4-.92-.59-1.43-.59-.52 0-1.04.2-1.43.59L10.3 9.45l-7.72 7.72c-.78.78-.78 2.05 0 2.83L4 21.41c.39.39.9.59 1.41.59.51 0 1.02-.2 1.41-.59l7.78-7.78 2.81-2.81c.8-.78.8-2.07 0-2.86zM5.41 20L4 18.59l7.72-7.72 1.47 1.35L5.41 20z\"/>\n",
              "  </svg>\n",
              "      </button>\n",
              "      \n",
              "  <style>\n",
              "    .colab-df-container {\n",
              "      display:flex;\n",
              "      flex-wrap:wrap;\n",
              "      gap: 12px;\n",
              "    }\n",
              "\n",
              "    .colab-df-convert {\n",
              "      background-color: #E8F0FE;\n",
              "      border: none;\n",
              "      border-radius: 50%;\n",
              "      cursor: pointer;\n",
              "      display: none;\n",
              "      fill: #1967D2;\n",
              "      height: 32px;\n",
              "      padding: 0 0 0 0;\n",
              "      width: 32px;\n",
              "    }\n",
              "\n",
              "    .colab-df-convert:hover {\n",
              "      background-color: #E2EBFA;\n",
              "      box-shadow: 0px 1px 2px rgba(60, 64, 67, 0.3), 0px 1px 3px 1px rgba(60, 64, 67, 0.15);\n",
              "      fill: #174EA6;\n",
              "    }\n",
              "\n",
              "    [theme=dark] .colab-df-convert {\n",
              "      background-color: #3B4455;\n",
              "      fill: #D2E3FC;\n",
              "    }\n",
              "\n",
              "    [theme=dark] .colab-df-convert:hover {\n",
              "      background-color: #434B5C;\n",
              "      box-shadow: 0px 1px 3px 1px rgba(0, 0, 0, 0.15);\n",
              "      filter: drop-shadow(0px 1px 2px rgba(0, 0, 0, 0.3));\n",
              "      fill: #FFFFFF;\n",
              "    }\n",
              "  </style>\n",
              "\n",
              "      <script>\n",
              "        const buttonEl =\n",
              "          document.querySelector('#df-83cc3d44-0f79-472d-b00c-f362be10d3e9 button.colab-df-convert');\n",
              "        buttonEl.style.display =\n",
              "          google.colab.kernel.accessAllowed ? 'block' : 'none';\n",
              "\n",
              "        async function convertToInteractive(key) {\n",
              "          const element = document.querySelector('#df-83cc3d44-0f79-472d-b00c-f362be10d3e9');\n",
              "          const dataTable =\n",
              "            await google.colab.kernel.invokeFunction('convertToInteractive',\n",
              "                                                     [key], {});\n",
              "          if (!dataTable) return;\n",
              "\n",
              "          const docLinkHtml = 'Like what you see? Visit the ' +\n",
              "            '<a target=\"_blank\" href=https://colab.research.google.com/notebooks/data_table.ipynb>data table notebook</a>'\n",
              "            + ' to learn more about interactive tables.';\n",
              "          element.innerHTML = '';\n",
              "          dataTable['output_type'] = 'display_data';\n",
              "          await google.colab.output.renderOutput(dataTable, element);\n",
              "          const docLink = document.createElement('div');\n",
              "          docLink.innerHTML = docLinkHtml;\n",
              "          element.appendChild(docLink);\n",
              "        }\n",
              "      </script>\n",
              "    </div>\n",
              "  </div>\n",
              "  "
            ]
          },
          "metadata": {},
          "execution_count": 217
        }
      ],
      "source": [
        "df.head()"
      ]
    },
    {
      "cell_type": "code",
      "execution_count": 218,
      "id": "23fa9a61",
      "metadata": {
        "colab": {
          "base_uri": "https://localhost:8080/"
        },
        "id": "23fa9a61",
        "outputId": "fd6ba9ce-2283-425d-bed2-1bf90b66b192"
      },
      "outputs": [
        {
          "output_type": "execute_result",
          "data": {
            "text/plain": [
              "(160000, 4)"
            ]
          },
          "metadata": {},
          "execution_count": 218
        }
      ],
      "source": [
        "df.shape"
      ]
    },
    {
      "cell_type": "code",
      "execution_count": 219,
      "id": "ffb60c35",
      "metadata": {
        "colab": {
          "base_uri": "https://localhost:8080/"
        },
        "id": "ffb60c35",
        "outputId": "0f73eefe-ec9d-4d2c-debc-bd7bee533f5c"
      },
      "outputs": [
        {
          "output_type": "execute_result",
          "data": {
            "text/plain": [
              "isDGA       object\n",
              "domain      object\n",
              "host        object\n",
              "subclass    object\n",
              "dtype: object"
            ]
          },
          "metadata": {},
          "execution_count": 219
        }
      ],
      "source": [
        "df.dtypes"
      ]
    },
    {
      "cell_type": "code",
      "execution_count": 220,
      "id": "7b74cbd7",
      "metadata": {
        "colab": {
          "base_uri": "https://localhost:8080/"
        },
        "id": "7b74cbd7",
        "outputId": "d64de9a1-058e-4b21-e432-cf27e87e9cff"
      },
      "outputs": [
        {
          "output_type": "stream",
          "name": "stdout",
          "text": [
            "<class 'pandas.core.frame.DataFrame'>\n",
            "RangeIndex: 160000 entries, 0 to 159999\n",
            "Data columns (total 4 columns):\n",
            " #   Column    Non-Null Count   Dtype \n",
            "---  ------    --------------   ----- \n",
            " 0   isDGA     160000 non-null  object\n",
            " 1   domain    159998 non-null  object\n",
            " 2   host      160000 non-null  object\n",
            " 3   subclass  160000 non-null  object\n",
            "dtypes: object(4)\n",
            "memory usage: 4.9+ MB\n"
          ]
        }
      ],
      "source": [
        "df.info()"
      ]
    },
    {
      "cell_type": "code",
      "execution_count": 221,
      "id": "6766e64a",
      "metadata": {
        "colab": {
          "base_uri": "https://localhost:8080/",
          "height": 175
        },
        "id": "6766e64a",
        "outputId": "9b75711e-bce6-4cac-85b4-0561b96bd18a"
      },
      "outputs": [
        {
          "output_type": "execute_result",
          "data": {
            "text/plain": [
              "         isDGA                      domain                 host subclass\n",
              "count   160000                      159998               160000   160000\n",
              "unique       2                      159998               159235        9\n",
              "top        dga  6xzxsw3sokvg1tc752y1a6p0af  ventures-africa.com    alexa\n",
              "freq     80000                           1                    2    42616"
            ],
            "text/html": [
              "\n",
              "  <div id=\"df-cdee2f23-1bdf-4f46-b517-bb9709eec3da\">\n",
              "    <div class=\"colab-df-container\">\n",
              "      <div>\n",
              "<style scoped>\n",
              "    .dataframe tbody tr th:only-of-type {\n",
              "        vertical-align: middle;\n",
              "    }\n",
              "\n",
              "    .dataframe tbody tr th {\n",
              "        vertical-align: top;\n",
              "    }\n",
              "\n",
              "    .dataframe thead th {\n",
              "        text-align: right;\n",
              "    }\n",
              "</style>\n",
              "<table border=\"1\" class=\"dataframe\">\n",
              "  <thead>\n",
              "    <tr style=\"text-align: right;\">\n",
              "      <th></th>\n",
              "      <th>isDGA</th>\n",
              "      <th>domain</th>\n",
              "      <th>host</th>\n",
              "      <th>subclass</th>\n",
              "    </tr>\n",
              "  </thead>\n",
              "  <tbody>\n",
              "    <tr>\n",
              "      <th>count</th>\n",
              "      <td>160000</td>\n",
              "      <td>159998</td>\n",
              "      <td>160000</td>\n",
              "      <td>160000</td>\n",
              "    </tr>\n",
              "    <tr>\n",
              "      <th>unique</th>\n",
              "      <td>2</td>\n",
              "      <td>159998</td>\n",
              "      <td>159235</td>\n",
              "      <td>9</td>\n",
              "    </tr>\n",
              "    <tr>\n",
              "      <th>top</th>\n",
              "      <td>dga</td>\n",
              "      <td>6xzxsw3sokvg1tc752y1a6p0af</td>\n",
              "      <td>ventures-africa.com</td>\n",
              "      <td>alexa</td>\n",
              "    </tr>\n",
              "    <tr>\n",
              "      <th>freq</th>\n",
              "      <td>80000</td>\n",
              "      <td>1</td>\n",
              "      <td>2</td>\n",
              "      <td>42616</td>\n",
              "    </tr>\n",
              "  </tbody>\n",
              "</table>\n",
              "</div>\n",
              "      <button class=\"colab-df-convert\" onclick=\"convertToInteractive('df-cdee2f23-1bdf-4f46-b517-bb9709eec3da')\"\n",
              "              title=\"Convert this dataframe to an interactive table.\"\n",
              "              style=\"display:none;\">\n",
              "        \n",
              "  <svg xmlns=\"http://www.w3.org/2000/svg\" height=\"24px\"viewBox=\"0 0 24 24\"\n",
              "       width=\"24px\">\n",
              "    <path d=\"M0 0h24v24H0V0z\" fill=\"none\"/>\n",
              "    <path d=\"M18.56 5.44l.94 2.06.94-2.06 2.06-.94-2.06-.94-.94-2.06-.94 2.06-2.06.94zm-11 1L8.5 8.5l.94-2.06 2.06-.94-2.06-.94L8.5 2.5l-.94 2.06-2.06.94zm10 10l.94 2.06.94-2.06 2.06-.94-2.06-.94-.94-2.06-.94 2.06-2.06.94z\"/><path d=\"M17.41 7.96l-1.37-1.37c-.4-.4-.92-.59-1.43-.59-.52 0-1.04.2-1.43.59L10.3 9.45l-7.72 7.72c-.78.78-.78 2.05 0 2.83L4 21.41c.39.39.9.59 1.41.59.51 0 1.02-.2 1.41-.59l7.78-7.78 2.81-2.81c.8-.78.8-2.07 0-2.86zM5.41 20L4 18.59l7.72-7.72 1.47 1.35L5.41 20z\"/>\n",
              "  </svg>\n",
              "      </button>\n",
              "      \n",
              "  <style>\n",
              "    .colab-df-container {\n",
              "      display:flex;\n",
              "      flex-wrap:wrap;\n",
              "      gap: 12px;\n",
              "    }\n",
              "\n",
              "    .colab-df-convert {\n",
              "      background-color: #E8F0FE;\n",
              "      border: none;\n",
              "      border-radius: 50%;\n",
              "      cursor: pointer;\n",
              "      display: none;\n",
              "      fill: #1967D2;\n",
              "      height: 32px;\n",
              "      padding: 0 0 0 0;\n",
              "      width: 32px;\n",
              "    }\n",
              "\n",
              "    .colab-df-convert:hover {\n",
              "      background-color: #E2EBFA;\n",
              "      box-shadow: 0px 1px 2px rgba(60, 64, 67, 0.3), 0px 1px 3px 1px rgba(60, 64, 67, 0.15);\n",
              "      fill: #174EA6;\n",
              "    }\n",
              "\n",
              "    [theme=dark] .colab-df-convert {\n",
              "      background-color: #3B4455;\n",
              "      fill: #D2E3FC;\n",
              "    }\n",
              "\n",
              "    [theme=dark] .colab-df-convert:hover {\n",
              "      background-color: #434B5C;\n",
              "      box-shadow: 0px 1px 3px 1px rgba(0, 0, 0, 0.15);\n",
              "      filter: drop-shadow(0px 1px 2px rgba(0, 0, 0, 0.3));\n",
              "      fill: #FFFFFF;\n",
              "    }\n",
              "  </style>\n",
              "\n",
              "      <script>\n",
              "        const buttonEl =\n",
              "          document.querySelector('#df-cdee2f23-1bdf-4f46-b517-bb9709eec3da button.colab-df-convert');\n",
              "        buttonEl.style.display =\n",
              "          google.colab.kernel.accessAllowed ? 'block' : 'none';\n",
              "\n",
              "        async function convertToInteractive(key) {\n",
              "          const element = document.querySelector('#df-cdee2f23-1bdf-4f46-b517-bb9709eec3da');\n",
              "          const dataTable =\n",
              "            await google.colab.kernel.invokeFunction('convertToInteractive',\n",
              "                                                     [key], {});\n",
              "          if (!dataTable) return;\n",
              "\n",
              "          const docLinkHtml = 'Like what you see? Visit the ' +\n",
              "            '<a target=\"_blank\" href=https://colab.research.google.com/notebooks/data_table.ipynb>data table notebook</a>'\n",
              "            + ' to learn more about interactive tables.';\n",
              "          element.innerHTML = '';\n",
              "          dataTable['output_type'] = 'display_data';\n",
              "          await google.colab.output.renderOutput(dataTable, element);\n",
              "          const docLink = document.createElement('div');\n",
              "          docLink.innerHTML = docLinkHtml;\n",
              "          element.appendChild(docLink);\n",
              "        }\n",
              "      </script>\n",
              "    </div>\n",
              "  </div>\n",
              "  "
            ]
          },
          "metadata": {},
          "execution_count": 221
        }
      ],
      "source": [
        "df.describe()"
      ]
    },
    {
      "cell_type": "code",
      "execution_count": 222,
      "id": "41b7c2de",
      "metadata": {
        "colab": {
          "base_uri": "https://localhost:8080/"
        },
        "id": "41b7c2de",
        "outputId": "e2b024b3-5849-4871-e4d9-bb61ba04fea0"
      },
      "outputs": [
        {
          "output_type": "execute_result",
          "data": {
            "text/plain": [
              "2"
            ]
          },
          "metadata": {},
          "execution_count": 222
        }
      ],
      "source": [
        "df.isDGA.nunique()"
      ]
    },
    {
      "cell_type": "code",
      "execution_count": 223,
      "id": "5451b1e9",
      "metadata": {
        "colab": {
          "base_uri": "https://localhost:8080/"
        },
        "id": "5451b1e9",
        "outputId": "e294f77f-3ef9-40ea-9e84-f8f10631cd07"
      },
      "outputs": [
        {
          "output_type": "execute_result",
          "data": {
            "text/plain": [
              "array(['dga', 'legit'], dtype=object)"
            ]
          },
          "metadata": {},
          "execution_count": 223
        }
      ],
      "source": [
        "df.isDGA.unique()"
      ]
    },
    {
      "cell_type": "code",
      "execution_count": 224,
      "id": "6f686242",
      "metadata": {
        "colab": {
          "base_uri": "https://localhost:8080/"
        },
        "id": "6f686242",
        "outputId": "700411ec-1537-422f-d493-6f6d42697a13"
      },
      "outputs": [
        {
          "output_type": "execute_result",
          "data": {
            "text/plain": [
              "159998"
            ]
          },
          "metadata": {},
          "execution_count": 224
        }
      ],
      "source": [
        "df.domain.nunique()"
      ]
    },
    {
      "cell_type": "code",
      "execution_count": 225,
      "id": "3fa8a980",
      "metadata": {
        "colab": {
          "base_uri": "https://localhost:8080/"
        },
        "id": "3fa8a980",
        "outputId": "6cc2a9cf-703e-48da-eaad-70e468fc31fc"
      },
      "outputs": [
        {
          "output_type": "execute_result",
          "data": {
            "text/plain": [
              "159235"
            ]
          },
          "metadata": {},
          "execution_count": 225
        }
      ],
      "source": [
        "df.host.nunique()"
      ]
    },
    {
      "cell_type": "code",
      "execution_count": 226,
      "id": "0f0d9964",
      "metadata": {
        "colab": {
          "base_uri": "https://localhost:8080/"
        },
        "id": "0f0d9964",
        "outputId": "a53ddcb9-1e2c-4029-fc66-9716e73c45bc"
      },
      "outputs": [
        {
          "output_type": "execute_result",
          "data": {
            "text/plain": [
              "9"
            ]
          },
          "metadata": {},
          "execution_count": 226
        }
      ],
      "source": [
        "df.subclass.nunique()"
      ]
    },
    {
      "cell_type": "code",
      "execution_count": 227,
      "id": "b8dde226",
      "metadata": {
        "colab": {
          "base_uri": "https://localhost:8080/"
        },
        "id": "b8dde226",
        "outputId": "f7174032-ba2a-4d06-a6bd-8d768c96c328"
      },
      "outputs": [
        {
          "output_type": "execute_result",
          "data": {
            "text/plain": [
              "array(['gameoverdga', 'cryptolocker', 'newgoz', 'nivdort', 'goz',\n",
              "       'necurs', 'bamital', 'legit', 'alexa'], dtype=object)"
            ]
          },
          "metadata": {},
          "execution_count": 227
        }
      ],
      "source": [
        "df.subclass.unique()"
      ]
    },
    {
      "cell_type": "code",
      "execution_count": 228,
      "id": "dc64495e",
      "metadata": {
        "id": "dc64495e"
      },
      "outputs": [],
      "source": [
        "df.dropna(inplace=True) # To remove null "
      ]
    },
    {
      "cell_type": "code",
      "execution_count": 229,
      "id": "0f415aaa",
      "metadata": {
        "id": "0f415aaa"
      },
      "outputs": [],
      "source": [
        "tld = df['host'].str.split('.',expand=True)"
      ]
    },
    {
      "cell_type": "code",
      "execution_count": 230,
      "id": "89ad7ab6",
      "metadata": {
        "id": "89ad7ab6"
      },
      "outputs": [],
      "source": [
        "df['TLD'] = tld[1]"
      ]
    },
    {
      "cell_type": "code",
      "execution_count": 231,
      "id": "8ec79d34",
      "metadata": {
        "colab": {
          "base_uri": "https://localhost:8080/",
          "height": 206
        },
        "id": "8ec79d34",
        "outputId": "5262c9ce-682e-495e-a379-7a78edf19a85",
        "tags": []
      },
      "outputs": [
        {
          "output_type": "execute_result",
          "data": {
            "text/plain": [
              "  isDGA                      domain                            host  \\\n",
              "0   dga  6xzxsw3sokvg1tc752y1a6p0af  6xzxsw3sokvg1tc752y1a6p0af.com   \n",
              "1   dga              glbtlxwwhbnpxs               glbtlxwwhbnpxs.ru   \n",
              "2   dga              xxmamopyipbfpk               xxmamopyipbfpk.ru   \n",
              "3   dga   zfd5szpi18i85wj9uy13l69rg   zfd5szpi18i85wj9uy13l69rg.net   \n",
              "4   dga                jpqftymiuver                 jpqftymiuver.ru   \n",
              "\n",
              "       subclass  TLD  \n",
              "0   gameoverdga  com  \n",
              "1  cryptolocker   ru  \n",
              "2  cryptolocker   ru  \n",
              "3        newgoz  net  \n",
              "4  cryptolocker   ru  "
            ],
            "text/html": [
              "\n",
              "  <div id=\"df-86a35e10-6cd3-4c90-b82b-bddf8dba69a1\">\n",
              "    <div class=\"colab-df-container\">\n",
              "      <div>\n",
              "<style scoped>\n",
              "    .dataframe tbody tr th:only-of-type {\n",
              "        vertical-align: middle;\n",
              "    }\n",
              "\n",
              "    .dataframe tbody tr th {\n",
              "        vertical-align: top;\n",
              "    }\n",
              "\n",
              "    .dataframe thead th {\n",
              "        text-align: right;\n",
              "    }\n",
              "</style>\n",
              "<table border=\"1\" class=\"dataframe\">\n",
              "  <thead>\n",
              "    <tr style=\"text-align: right;\">\n",
              "      <th></th>\n",
              "      <th>isDGA</th>\n",
              "      <th>domain</th>\n",
              "      <th>host</th>\n",
              "      <th>subclass</th>\n",
              "      <th>TLD</th>\n",
              "    </tr>\n",
              "  </thead>\n",
              "  <tbody>\n",
              "    <tr>\n",
              "      <th>0</th>\n",
              "      <td>dga</td>\n",
              "      <td>6xzxsw3sokvg1tc752y1a6p0af</td>\n",
              "      <td>6xzxsw3sokvg1tc752y1a6p0af.com</td>\n",
              "      <td>gameoverdga</td>\n",
              "      <td>com</td>\n",
              "    </tr>\n",
              "    <tr>\n",
              "      <th>1</th>\n",
              "      <td>dga</td>\n",
              "      <td>glbtlxwwhbnpxs</td>\n",
              "      <td>glbtlxwwhbnpxs.ru</td>\n",
              "      <td>cryptolocker</td>\n",
              "      <td>ru</td>\n",
              "    </tr>\n",
              "    <tr>\n",
              "      <th>2</th>\n",
              "      <td>dga</td>\n",
              "      <td>xxmamopyipbfpk</td>\n",
              "      <td>xxmamopyipbfpk.ru</td>\n",
              "      <td>cryptolocker</td>\n",
              "      <td>ru</td>\n",
              "    </tr>\n",
              "    <tr>\n",
              "      <th>3</th>\n",
              "      <td>dga</td>\n",
              "      <td>zfd5szpi18i85wj9uy13l69rg</td>\n",
              "      <td>zfd5szpi18i85wj9uy13l69rg.net</td>\n",
              "      <td>newgoz</td>\n",
              "      <td>net</td>\n",
              "    </tr>\n",
              "    <tr>\n",
              "      <th>4</th>\n",
              "      <td>dga</td>\n",
              "      <td>jpqftymiuver</td>\n",
              "      <td>jpqftymiuver.ru</td>\n",
              "      <td>cryptolocker</td>\n",
              "      <td>ru</td>\n",
              "    </tr>\n",
              "  </tbody>\n",
              "</table>\n",
              "</div>\n",
              "      <button class=\"colab-df-convert\" onclick=\"convertToInteractive('df-86a35e10-6cd3-4c90-b82b-bddf8dba69a1')\"\n",
              "              title=\"Convert this dataframe to an interactive table.\"\n",
              "              style=\"display:none;\">\n",
              "        \n",
              "  <svg xmlns=\"http://www.w3.org/2000/svg\" height=\"24px\"viewBox=\"0 0 24 24\"\n",
              "       width=\"24px\">\n",
              "    <path d=\"M0 0h24v24H0V0z\" fill=\"none\"/>\n",
              "    <path d=\"M18.56 5.44l.94 2.06.94-2.06 2.06-.94-2.06-.94-.94-2.06-.94 2.06-2.06.94zm-11 1L8.5 8.5l.94-2.06 2.06-.94-2.06-.94L8.5 2.5l-.94 2.06-2.06.94zm10 10l.94 2.06.94-2.06 2.06-.94-2.06-.94-.94-2.06-.94 2.06-2.06.94z\"/><path d=\"M17.41 7.96l-1.37-1.37c-.4-.4-.92-.59-1.43-.59-.52 0-1.04.2-1.43.59L10.3 9.45l-7.72 7.72c-.78.78-.78 2.05 0 2.83L4 21.41c.39.39.9.59 1.41.59.51 0 1.02-.2 1.41-.59l7.78-7.78 2.81-2.81c.8-.78.8-2.07 0-2.86zM5.41 20L4 18.59l7.72-7.72 1.47 1.35L5.41 20z\"/>\n",
              "  </svg>\n",
              "      </button>\n",
              "      \n",
              "  <style>\n",
              "    .colab-df-container {\n",
              "      display:flex;\n",
              "      flex-wrap:wrap;\n",
              "      gap: 12px;\n",
              "    }\n",
              "\n",
              "    .colab-df-convert {\n",
              "      background-color: #E8F0FE;\n",
              "      border: none;\n",
              "      border-radius: 50%;\n",
              "      cursor: pointer;\n",
              "      display: none;\n",
              "      fill: #1967D2;\n",
              "      height: 32px;\n",
              "      padding: 0 0 0 0;\n",
              "      width: 32px;\n",
              "    }\n",
              "\n",
              "    .colab-df-convert:hover {\n",
              "      background-color: #E2EBFA;\n",
              "      box-shadow: 0px 1px 2px rgba(60, 64, 67, 0.3), 0px 1px 3px 1px rgba(60, 64, 67, 0.15);\n",
              "      fill: #174EA6;\n",
              "    }\n",
              "\n",
              "    [theme=dark] .colab-df-convert {\n",
              "      background-color: #3B4455;\n",
              "      fill: #D2E3FC;\n",
              "    }\n",
              "\n",
              "    [theme=dark] .colab-df-convert:hover {\n",
              "      background-color: #434B5C;\n",
              "      box-shadow: 0px 1px 3px 1px rgba(0, 0, 0, 0.15);\n",
              "      filter: drop-shadow(0px 1px 2px rgba(0, 0, 0, 0.3));\n",
              "      fill: #FFFFFF;\n",
              "    }\n",
              "  </style>\n",
              "\n",
              "      <script>\n",
              "        const buttonEl =\n",
              "          document.querySelector('#df-86a35e10-6cd3-4c90-b82b-bddf8dba69a1 button.colab-df-convert');\n",
              "        buttonEl.style.display =\n",
              "          google.colab.kernel.accessAllowed ? 'block' : 'none';\n",
              "\n",
              "        async function convertToInteractive(key) {\n",
              "          const element = document.querySelector('#df-86a35e10-6cd3-4c90-b82b-bddf8dba69a1');\n",
              "          const dataTable =\n",
              "            await google.colab.kernel.invokeFunction('convertToInteractive',\n",
              "                                                     [key], {});\n",
              "          if (!dataTable) return;\n",
              "\n",
              "          const docLinkHtml = 'Like what you see? Visit the ' +\n",
              "            '<a target=\"_blank\" href=https://colab.research.google.com/notebooks/data_table.ipynb>data table notebook</a>'\n",
              "            + ' to learn more about interactive tables.';\n",
              "          element.innerHTML = '';\n",
              "          dataTable['output_type'] = 'display_data';\n",
              "          await google.colab.output.renderOutput(dataTable, element);\n",
              "          const docLink = document.createElement('div');\n",
              "          docLink.innerHTML = docLinkHtml;\n",
              "          element.appendChild(docLink);\n",
              "        }\n",
              "      </script>\n",
              "    </div>\n",
              "  </div>\n",
              "  "
            ]
          },
          "metadata": {},
          "execution_count": 231
        }
      ],
      "source": [
        "df.head()"
      ]
    },
    {
      "cell_type": "code",
      "execution_count": 232,
      "id": "5287ce8e",
      "metadata": {
        "colab": {
          "base_uri": "https://localhost:8080/",
          "height": 206
        },
        "id": "5287ce8e",
        "outputId": "91747633-81d0-4528-fdb5-2fd0642c8b04"
      },
      "outputs": [
        {
          "output_type": "execute_result",
          "data": {
            "text/plain": [
              "        isDGA     domain           host subclass  TLD\n",
              "159995  legit    manhunt    manhunt.net    alexa  net\n",
              "159996  legit     yupptv     yupptv.com    alexa  com\n",
              "159997  legit   bbcmundo   bbcmundo.com    legit  com\n",
              "159998  legit  kanogames  kanogames.com    legit  com\n",
              "159999  legit  roadrover   roadrover.cn    alexa   cn"
            ],
            "text/html": [
              "\n",
              "  <div id=\"df-86972539-76a4-44ac-bcee-694b482dc053\">\n",
              "    <div class=\"colab-df-container\">\n",
              "      <div>\n",
              "<style scoped>\n",
              "    .dataframe tbody tr th:only-of-type {\n",
              "        vertical-align: middle;\n",
              "    }\n",
              "\n",
              "    .dataframe tbody tr th {\n",
              "        vertical-align: top;\n",
              "    }\n",
              "\n",
              "    .dataframe thead th {\n",
              "        text-align: right;\n",
              "    }\n",
              "</style>\n",
              "<table border=\"1\" class=\"dataframe\">\n",
              "  <thead>\n",
              "    <tr style=\"text-align: right;\">\n",
              "      <th></th>\n",
              "      <th>isDGA</th>\n",
              "      <th>domain</th>\n",
              "      <th>host</th>\n",
              "      <th>subclass</th>\n",
              "      <th>TLD</th>\n",
              "    </tr>\n",
              "  </thead>\n",
              "  <tbody>\n",
              "    <tr>\n",
              "      <th>159995</th>\n",
              "      <td>legit</td>\n",
              "      <td>manhunt</td>\n",
              "      <td>manhunt.net</td>\n",
              "      <td>alexa</td>\n",
              "      <td>net</td>\n",
              "    </tr>\n",
              "    <tr>\n",
              "      <th>159996</th>\n",
              "      <td>legit</td>\n",
              "      <td>yupptv</td>\n",
              "      <td>yupptv.com</td>\n",
              "      <td>alexa</td>\n",
              "      <td>com</td>\n",
              "    </tr>\n",
              "    <tr>\n",
              "      <th>159997</th>\n",
              "      <td>legit</td>\n",
              "      <td>bbcmundo</td>\n",
              "      <td>bbcmundo.com</td>\n",
              "      <td>legit</td>\n",
              "      <td>com</td>\n",
              "    </tr>\n",
              "    <tr>\n",
              "      <th>159998</th>\n",
              "      <td>legit</td>\n",
              "      <td>kanogames</td>\n",
              "      <td>kanogames.com</td>\n",
              "      <td>legit</td>\n",
              "      <td>com</td>\n",
              "    </tr>\n",
              "    <tr>\n",
              "      <th>159999</th>\n",
              "      <td>legit</td>\n",
              "      <td>roadrover</td>\n",
              "      <td>roadrover.cn</td>\n",
              "      <td>alexa</td>\n",
              "      <td>cn</td>\n",
              "    </tr>\n",
              "  </tbody>\n",
              "</table>\n",
              "</div>\n",
              "      <button class=\"colab-df-convert\" onclick=\"convertToInteractive('df-86972539-76a4-44ac-bcee-694b482dc053')\"\n",
              "              title=\"Convert this dataframe to an interactive table.\"\n",
              "              style=\"display:none;\">\n",
              "        \n",
              "  <svg xmlns=\"http://www.w3.org/2000/svg\" height=\"24px\"viewBox=\"0 0 24 24\"\n",
              "       width=\"24px\">\n",
              "    <path d=\"M0 0h24v24H0V0z\" fill=\"none\"/>\n",
              "    <path d=\"M18.56 5.44l.94 2.06.94-2.06 2.06-.94-2.06-.94-.94-2.06-.94 2.06-2.06.94zm-11 1L8.5 8.5l.94-2.06 2.06-.94-2.06-.94L8.5 2.5l-.94 2.06-2.06.94zm10 10l.94 2.06.94-2.06 2.06-.94-2.06-.94-.94-2.06-.94 2.06-2.06.94z\"/><path d=\"M17.41 7.96l-1.37-1.37c-.4-.4-.92-.59-1.43-.59-.52 0-1.04.2-1.43.59L10.3 9.45l-7.72 7.72c-.78.78-.78 2.05 0 2.83L4 21.41c.39.39.9.59 1.41.59.51 0 1.02-.2 1.41-.59l7.78-7.78 2.81-2.81c.8-.78.8-2.07 0-2.86zM5.41 20L4 18.59l7.72-7.72 1.47 1.35L5.41 20z\"/>\n",
              "  </svg>\n",
              "      </button>\n",
              "      \n",
              "  <style>\n",
              "    .colab-df-container {\n",
              "      display:flex;\n",
              "      flex-wrap:wrap;\n",
              "      gap: 12px;\n",
              "    }\n",
              "\n",
              "    .colab-df-convert {\n",
              "      background-color: #E8F0FE;\n",
              "      border: none;\n",
              "      border-radius: 50%;\n",
              "      cursor: pointer;\n",
              "      display: none;\n",
              "      fill: #1967D2;\n",
              "      height: 32px;\n",
              "      padding: 0 0 0 0;\n",
              "      width: 32px;\n",
              "    }\n",
              "\n",
              "    .colab-df-convert:hover {\n",
              "      background-color: #E2EBFA;\n",
              "      box-shadow: 0px 1px 2px rgba(60, 64, 67, 0.3), 0px 1px 3px 1px rgba(60, 64, 67, 0.15);\n",
              "      fill: #174EA6;\n",
              "    }\n",
              "\n",
              "    [theme=dark] .colab-df-convert {\n",
              "      background-color: #3B4455;\n",
              "      fill: #D2E3FC;\n",
              "    }\n",
              "\n",
              "    [theme=dark] .colab-df-convert:hover {\n",
              "      background-color: #434B5C;\n",
              "      box-shadow: 0px 1px 3px 1px rgba(0, 0, 0, 0.15);\n",
              "      filter: drop-shadow(0px 1px 2px rgba(0, 0, 0, 0.3));\n",
              "      fill: #FFFFFF;\n",
              "    }\n",
              "  </style>\n",
              "\n",
              "      <script>\n",
              "        const buttonEl =\n",
              "          document.querySelector('#df-86972539-76a4-44ac-bcee-694b482dc053 button.colab-df-convert');\n",
              "        buttonEl.style.display =\n",
              "          google.colab.kernel.accessAllowed ? 'block' : 'none';\n",
              "\n",
              "        async function convertToInteractive(key) {\n",
              "          const element = document.querySelector('#df-86972539-76a4-44ac-bcee-694b482dc053');\n",
              "          const dataTable =\n",
              "            await google.colab.kernel.invokeFunction('convertToInteractive',\n",
              "                                                     [key], {});\n",
              "          if (!dataTable) return;\n",
              "\n",
              "          const docLinkHtml = 'Like what you see? Visit the ' +\n",
              "            '<a target=\"_blank\" href=https://colab.research.google.com/notebooks/data_table.ipynb>data table notebook</a>'\n",
              "            + ' to learn more about interactive tables.';\n",
              "          element.innerHTML = '';\n",
              "          dataTable['output_type'] = 'display_data';\n",
              "          await google.colab.output.renderOutput(dataTable, element);\n",
              "          const docLink = document.createElement('div');\n",
              "          docLink.innerHTML = docLinkHtml;\n",
              "          element.appendChild(docLink);\n",
              "        }\n",
              "      </script>\n",
              "    </div>\n",
              "  </div>\n",
              "  "
            ]
          },
          "metadata": {},
          "execution_count": 232
        }
      ],
      "source": [
        "df.tail()"
      ]
    },
    {
      "cell_type": "markdown",
      "id": "20409528",
      "metadata": {
        "id": "20409528"
      },
      "source": [
        "## Types of features"
      ]
    },
    {
      "cell_type": "markdown",
      "id": "44e49e1f",
      "metadata": {
        "id": "44e49e1f"
      },
      "source": [
        "### 1. Length of the domain name"
      ]
    },
    {
      "cell_type": "code",
      "execution_count": 233,
      "id": "e8ac562e",
      "metadata": {
        "id": "e8ac562e"
      },
      "outputs": [],
      "source": [
        "L = []\n",
        "def length():\n",
        "    for i in df.domain:\n",
        "        L.append(len(i)) "
      ]
    },
    {
      "cell_type": "code",
      "execution_count": 234,
      "id": "ec77805b",
      "metadata": {
        "id": "ec77805b"
      },
      "outputs": [],
      "source": [
        "df2 = pd.DataFrame()"
      ]
    },
    {
      "cell_type": "code",
      "execution_count": 235,
      "id": "71bfa281",
      "metadata": {
        "id": "71bfa281"
      },
      "outputs": [],
      "source": [
        "length()"
      ]
    },
    {
      "cell_type": "code",
      "execution_count": 236,
      "id": "5d8cf9be",
      "metadata": {
        "id": "5d8cf9be"
      },
      "outputs": [],
      "source": [
        "df2 ['length'] = L"
      ]
    },
    {
      "cell_type": "markdown",
      "id": "7632565d",
      "metadata": {
        "id": "7632565d"
      },
      "source": [
        "### Performing Feature Standardization for 'length of the domain name' feature"
      ]
    },
    {
      "cell_type": "code",
      "execution_count": 237,
      "id": "cb662fde",
      "metadata": {
        "id": "cb662fde"
      },
      "outputs": [],
      "source": [
        "df2['length'] = stats.zscore(df2['length'])"
      ]
    },
    {
      "cell_type": "markdown",
      "id": "333b87bd",
      "metadata": {
        "id": "333b87bd"
      },
      "source": [
        "### 2. Domain name with only digits "
      ]
    },
    {
      "cell_type": "code",
      "execution_count": 238,
      "id": "60e93723",
      "metadata": {
        "id": "60e93723"
      },
      "outputs": [],
      "source": [
        "Digit = []\n",
        "def Only_Digits(): \n",
        "    for number in df.domain:\n",
        "        num = \"\".join(re.findall(\"[0-9]+\",number))\n",
        "        if num.isnumeric():\n",
        "            Digit.append(1)\n",
        "        else:\n",
        "            Digit.append(0)"
      ]
    },
    {
      "cell_type": "code",
      "execution_count": 239,
      "id": "b2b0f8af",
      "metadata": {
        "id": "b2b0f8af"
      },
      "outputs": [],
      "source": [
        "Only_Digits()"
      ]
    },
    {
      "cell_type": "code",
      "execution_count": 240,
      "id": "c8cc3be6",
      "metadata": {
        "id": "c8cc3be6"
      },
      "outputs": [],
      "source": [
        "df2['Only_Digits'] = Digit"
      ]
    },
    {
      "cell_type": "markdown",
      "id": "5ba5dd79",
      "metadata": {
        "id": "5ba5dd79"
      },
      "source": [
        "### 3. Vowel to consonant ratio"
      ]
    },
    {
      "cell_type": "code",
      "execution_count": 241,
      "id": "cbfcb8cc",
      "metadata": {
        "id": "cbfcb8cc"
      },
      "outputs": [],
      "source": [
        "rat = []\n",
        "\n",
        "def countCharacterType(str):\n",
        "    vowels = 0\n",
        "    consonant = 0\n",
        "    specialChar = 0\n",
        "    digit = 0\n",
        "  \n",
        "    for i in range(0, len(str)): \n",
        "          \n",
        "        ch = str[i] \n",
        "  \n",
        "        if ( (ch >= 'a' and ch <= 'z') or \n",
        "             (ch >= 'A' and ch <= 'Z') ): \n",
        "  \n",
        "            ch = ch.lower()\n",
        "  \n",
        "            if (ch == 'a' or ch == 'e' or ch == 'i' \n",
        "                        or ch == 'o' or ch == 'u'):\n",
        "                vowels += 1\n",
        "            else:\n",
        "                consonant += 1\n",
        "          \n",
        "        elif (ch >= '0' and ch <= '9'):\n",
        "            digit += 1\n",
        "        else:\n",
        "            specialChar += 1\n",
        "    \n",
        "    try:\n",
        "        ratio = (vowels / (vowels + consonant)) * 100\n",
        "        \n",
        "    except:\n",
        "        if((vowels + consonant) <= 0) :\n",
        "            ratio = 0\n",
        "            \n",
        "    \n",
        "    # print(\"Vowels:\", vowels)\n",
        "    # print(\"Consonant:\", consonant) \n",
        "    # print(\"Digit:\", digit) \n",
        "    # print(\"Special Character:\", specialChar)\n",
        "    rat.append(ratio)"
      ]
    },
    {
      "cell_type": "code",
      "execution_count": 242,
      "id": "cb607218",
      "metadata": {
        "id": "cb607218"
      },
      "outputs": [],
      "source": [
        "for char_counter in df.domain:\n",
        "    str = char_counter\n",
        "    countCharacterType(str)"
      ]
    },
    {
      "cell_type": "code",
      "execution_count": 243,
      "id": "8f3514f7",
      "metadata": {
        "id": "8f3514f7"
      },
      "outputs": [],
      "source": [
        "df2['Vowel_to_Consonent_Ratio'] = rat"
      ]
    },
    {
      "cell_type": "code",
      "execution_count": 244,
      "id": "e278ed36",
      "metadata": {
        "colab": {
          "base_uri": "https://localhost:8080/",
          "height": 0
        },
        "id": "e278ed36",
        "outputId": "8d1f4705-1be1-4578-eb86-3c417a4cccb0"
      },
      "outputs": [
        {
          "output_type": "execute_result",
          "data": {
            "text/plain": [
              "     length  Only_Digits  Vowel_to_Consonent_Ratio\n",
              "0  1.891397            1                 17.647059\n",
              "1  0.080370            0                  0.000000\n",
              "2  0.080370            0                 21.428571\n",
              "3  1.740478            1                 20.000000\n",
              "4 -0.221468            0                 25.000000"
            ],
            "text/html": [
              "\n",
              "  <div id=\"df-7769b416-1764-4b4d-86fd-608ed8d2ab74\">\n",
              "    <div class=\"colab-df-container\">\n",
              "      <div>\n",
              "<style scoped>\n",
              "    .dataframe tbody tr th:only-of-type {\n",
              "        vertical-align: middle;\n",
              "    }\n",
              "\n",
              "    .dataframe tbody tr th {\n",
              "        vertical-align: top;\n",
              "    }\n",
              "\n",
              "    .dataframe thead th {\n",
              "        text-align: right;\n",
              "    }\n",
              "</style>\n",
              "<table border=\"1\" class=\"dataframe\">\n",
              "  <thead>\n",
              "    <tr style=\"text-align: right;\">\n",
              "      <th></th>\n",
              "      <th>length</th>\n",
              "      <th>Only_Digits</th>\n",
              "      <th>Vowel_to_Consonent_Ratio</th>\n",
              "    </tr>\n",
              "  </thead>\n",
              "  <tbody>\n",
              "    <tr>\n",
              "      <th>0</th>\n",
              "      <td>1.891397</td>\n",
              "      <td>1</td>\n",
              "      <td>17.647059</td>\n",
              "    </tr>\n",
              "    <tr>\n",
              "      <th>1</th>\n",
              "      <td>0.080370</td>\n",
              "      <td>0</td>\n",
              "      <td>0.000000</td>\n",
              "    </tr>\n",
              "    <tr>\n",
              "      <th>2</th>\n",
              "      <td>0.080370</td>\n",
              "      <td>0</td>\n",
              "      <td>21.428571</td>\n",
              "    </tr>\n",
              "    <tr>\n",
              "      <th>3</th>\n",
              "      <td>1.740478</td>\n",
              "      <td>1</td>\n",
              "      <td>20.000000</td>\n",
              "    </tr>\n",
              "    <tr>\n",
              "      <th>4</th>\n",
              "      <td>-0.221468</td>\n",
              "      <td>0</td>\n",
              "      <td>25.000000</td>\n",
              "    </tr>\n",
              "  </tbody>\n",
              "</table>\n",
              "</div>\n",
              "      <button class=\"colab-df-convert\" onclick=\"convertToInteractive('df-7769b416-1764-4b4d-86fd-608ed8d2ab74')\"\n",
              "              title=\"Convert this dataframe to an interactive table.\"\n",
              "              style=\"display:none;\">\n",
              "        \n",
              "  <svg xmlns=\"http://www.w3.org/2000/svg\" height=\"24px\"viewBox=\"0 0 24 24\"\n",
              "       width=\"24px\">\n",
              "    <path d=\"M0 0h24v24H0V0z\" fill=\"none\"/>\n",
              "    <path d=\"M18.56 5.44l.94 2.06.94-2.06 2.06-.94-2.06-.94-.94-2.06-.94 2.06-2.06.94zm-11 1L8.5 8.5l.94-2.06 2.06-.94-2.06-.94L8.5 2.5l-.94 2.06-2.06.94zm10 10l.94 2.06.94-2.06 2.06-.94-2.06-.94-.94-2.06-.94 2.06-2.06.94z\"/><path d=\"M17.41 7.96l-1.37-1.37c-.4-.4-.92-.59-1.43-.59-.52 0-1.04.2-1.43.59L10.3 9.45l-7.72 7.72c-.78.78-.78 2.05 0 2.83L4 21.41c.39.39.9.59 1.41.59.51 0 1.02-.2 1.41-.59l7.78-7.78 2.81-2.81c.8-.78.8-2.07 0-2.86zM5.41 20L4 18.59l7.72-7.72 1.47 1.35L5.41 20z\"/>\n",
              "  </svg>\n",
              "      </button>\n",
              "      \n",
              "  <style>\n",
              "    .colab-df-container {\n",
              "      display:flex;\n",
              "      flex-wrap:wrap;\n",
              "      gap: 12px;\n",
              "    }\n",
              "\n",
              "    .colab-df-convert {\n",
              "      background-color: #E8F0FE;\n",
              "      border: none;\n",
              "      border-radius: 50%;\n",
              "      cursor: pointer;\n",
              "      display: none;\n",
              "      fill: #1967D2;\n",
              "      height: 32px;\n",
              "      padding: 0 0 0 0;\n",
              "      width: 32px;\n",
              "    }\n",
              "\n",
              "    .colab-df-convert:hover {\n",
              "      background-color: #E2EBFA;\n",
              "      box-shadow: 0px 1px 2px rgba(60, 64, 67, 0.3), 0px 1px 3px 1px rgba(60, 64, 67, 0.15);\n",
              "      fill: #174EA6;\n",
              "    }\n",
              "\n",
              "    [theme=dark] .colab-df-convert {\n",
              "      background-color: #3B4455;\n",
              "      fill: #D2E3FC;\n",
              "    }\n",
              "\n",
              "    [theme=dark] .colab-df-convert:hover {\n",
              "      background-color: #434B5C;\n",
              "      box-shadow: 0px 1px 3px 1px rgba(0, 0, 0, 0.15);\n",
              "      filter: drop-shadow(0px 1px 2px rgba(0, 0, 0, 0.3));\n",
              "      fill: #FFFFFF;\n",
              "    }\n",
              "  </style>\n",
              "\n",
              "      <script>\n",
              "        const buttonEl =\n",
              "          document.querySelector('#df-7769b416-1764-4b4d-86fd-608ed8d2ab74 button.colab-df-convert');\n",
              "        buttonEl.style.display =\n",
              "          google.colab.kernel.accessAllowed ? 'block' : 'none';\n",
              "\n",
              "        async function convertToInteractive(key) {\n",
              "          const element = document.querySelector('#df-7769b416-1764-4b4d-86fd-608ed8d2ab74');\n",
              "          const dataTable =\n",
              "            await google.colab.kernel.invokeFunction('convertToInteractive',\n",
              "                                                     [key], {});\n",
              "          if (!dataTable) return;\n",
              "\n",
              "          const docLinkHtml = 'Like what you see? Visit the ' +\n",
              "            '<a target=\"_blank\" href=https://colab.research.google.com/notebooks/data_table.ipynb>data table notebook</a>'\n",
              "            + ' to learn more about interactive tables.';\n",
              "          element.innerHTML = '';\n",
              "          dataTable['output_type'] = 'display_data';\n",
              "          await google.colab.output.renderOutput(dataTable, element);\n",
              "          const docLink = document.createElement('div');\n",
              "          docLink.innerHTML = docLinkHtml;\n",
              "          element.appendChild(docLink);\n",
              "        }\n",
              "      </script>\n",
              "    </div>\n",
              "  </div>\n",
              "  "
            ]
          },
          "metadata": {},
          "execution_count": 244
        }
      ],
      "source": [
        "df2.head()"
      ]
    },
    {
      "cell_type": "markdown",
      "id": "be3cabcb",
      "metadata": {
        "id": "be3cabcb"
      },
      "source": [
        "## Performing Standardization for Vowel to Consonant Ratio Feature"
      ]
    },
    {
      "cell_type": "code",
      "execution_count": 245,
      "id": "328ee7b9",
      "metadata": {
        "id": "328ee7b9"
      },
      "outputs": [],
      "source": [
        "df2['Vowel_to_Consonent_Ratio'] = stats.zscore(df2['Vowel_to_Consonent_Ratio'])"
      ]
    },
    {
      "cell_type": "code",
      "execution_count": 246,
      "id": "53893618",
      "metadata": {
        "colab": {
          "base_uri": "https://localhost:8080/",
          "height": 206
        },
        "id": "53893618",
        "outputId": "e898eca7-24ad-4229-8b85-a24022aae291"
      },
      "outputs": [
        {
          "output_type": "execute_result",
          "data": {
            "text/plain": [
              "     length  Only_Digits  Vowel_to_Consonent_Ratio\n",
              "0  1.891397            1                 -0.824942\n",
              "1  0.080370            0                 -2.059821\n",
              "2  0.080370            0                 -0.560325\n",
              "3  1.740478            1                 -0.660291\n",
              "4 -0.221468            0                 -0.310408"
            ],
            "text/html": [
              "\n",
              "  <div id=\"df-f26ca35f-895f-4871-84cf-a9fc0c83e023\">\n",
              "    <div class=\"colab-df-container\">\n",
              "      <div>\n",
              "<style scoped>\n",
              "    .dataframe tbody tr th:only-of-type {\n",
              "        vertical-align: middle;\n",
              "    }\n",
              "\n",
              "    .dataframe tbody tr th {\n",
              "        vertical-align: top;\n",
              "    }\n",
              "\n",
              "    .dataframe thead th {\n",
              "        text-align: right;\n",
              "    }\n",
              "</style>\n",
              "<table border=\"1\" class=\"dataframe\">\n",
              "  <thead>\n",
              "    <tr style=\"text-align: right;\">\n",
              "      <th></th>\n",
              "      <th>length</th>\n",
              "      <th>Only_Digits</th>\n",
              "      <th>Vowel_to_Consonent_Ratio</th>\n",
              "    </tr>\n",
              "  </thead>\n",
              "  <tbody>\n",
              "    <tr>\n",
              "      <th>0</th>\n",
              "      <td>1.891397</td>\n",
              "      <td>1</td>\n",
              "      <td>-0.824942</td>\n",
              "    </tr>\n",
              "    <tr>\n",
              "      <th>1</th>\n",
              "      <td>0.080370</td>\n",
              "      <td>0</td>\n",
              "      <td>-2.059821</td>\n",
              "    </tr>\n",
              "    <tr>\n",
              "      <th>2</th>\n",
              "      <td>0.080370</td>\n",
              "      <td>0</td>\n",
              "      <td>-0.560325</td>\n",
              "    </tr>\n",
              "    <tr>\n",
              "      <th>3</th>\n",
              "      <td>1.740478</td>\n",
              "      <td>1</td>\n",
              "      <td>-0.660291</td>\n",
              "    </tr>\n",
              "    <tr>\n",
              "      <th>4</th>\n",
              "      <td>-0.221468</td>\n",
              "      <td>0</td>\n",
              "      <td>-0.310408</td>\n",
              "    </tr>\n",
              "  </tbody>\n",
              "</table>\n",
              "</div>\n",
              "      <button class=\"colab-df-convert\" onclick=\"convertToInteractive('df-f26ca35f-895f-4871-84cf-a9fc0c83e023')\"\n",
              "              title=\"Convert this dataframe to an interactive table.\"\n",
              "              style=\"display:none;\">\n",
              "        \n",
              "  <svg xmlns=\"http://www.w3.org/2000/svg\" height=\"24px\"viewBox=\"0 0 24 24\"\n",
              "       width=\"24px\">\n",
              "    <path d=\"M0 0h24v24H0V0z\" fill=\"none\"/>\n",
              "    <path d=\"M18.56 5.44l.94 2.06.94-2.06 2.06-.94-2.06-.94-.94-2.06-.94 2.06-2.06.94zm-11 1L8.5 8.5l.94-2.06 2.06-.94-2.06-.94L8.5 2.5l-.94 2.06-2.06.94zm10 10l.94 2.06.94-2.06 2.06-.94-2.06-.94-.94-2.06-.94 2.06-2.06.94z\"/><path d=\"M17.41 7.96l-1.37-1.37c-.4-.4-.92-.59-1.43-.59-.52 0-1.04.2-1.43.59L10.3 9.45l-7.72 7.72c-.78.78-.78 2.05 0 2.83L4 21.41c.39.39.9.59 1.41.59.51 0 1.02-.2 1.41-.59l7.78-7.78 2.81-2.81c.8-.78.8-2.07 0-2.86zM5.41 20L4 18.59l7.72-7.72 1.47 1.35L5.41 20z\"/>\n",
              "  </svg>\n",
              "      </button>\n",
              "      \n",
              "  <style>\n",
              "    .colab-df-container {\n",
              "      display:flex;\n",
              "      flex-wrap:wrap;\n",
              "      gap: 12px;\n",
              "    }\n",
              "\n",
              "    .colab-df-convert {\n",
              "      background-color: #E8F0FE;\n",
              "      border: none;\n",
              "      border-radius: 50%;\n",
              "      cursor: pointer;\n",
              "      display: none;\n",
              "      fill: #1967D2;\n",
              "      height: 32px;\n",
              "      padding: 0 0 0 0;\n",
              "      width: 32px;\n",
              "    }\n",
              "\n",
              "    .colab-df-convert:hover {\n",
              "      background-color: #E2EBFA;\n",
              "      box-shadow: 0px 1px 2px rgba(60, 64, 67, 0.3), 0px 1px 3px 1px rgba(60, 64, 67, 0.15);\n",
              "      fill: #174EA6;\n",
              "    }\n",
              "\n",
              "    [theme=dark] .colab-df-convert {\n",
              "      background-color: #3B4455;\n",
              "      fill: #D2E3FC;\n",
              "    }\n",
              "\n",
              "    [theme=dark] .colab-df-convert:hover {\n",
              "      background-color: #434B5C;\n",
              "      box-shadow: 0px 1px 3px 1px rgba(0, 0, 0, 0.15);\n",
              "      filter: drop-shadow(0px 1px 2px rgba(0, 0, 0, 0.3));\n",
              "      fill: #FFFFFF;\n",
              "    }\n",
              "  </style>\n",
              "\n",
              "      <script>\n",
              "        const buttonEl =\n",
              "          document.querySelector('#df-f26ca35f-895f-4871-84cf-a9fc0c83e023 button.colab-df-convert');\n",
              "        buttonEl.style.display =\n",
              "          google.colab.kernel.accessAllowed ? 'block' : 'none';\n",
              "\n",
              "        async function convertToInteractive(key) {\n",
              "          const element = document.querySelector('#df-f26ca35f-895f-4871-84cf-a9fc0c83e023');\n",
              "          const dataTable =\n",
              "            await google.colab.kernel.invokeFunction('convertToInteractive',\n",
              "                                                     [key], {});\n",
              "          if (!dataTable) return;\n",
              "\n",
              "          const docLinkHtml = 'Like what you see? Visit the ' +\n",
              "            '<a target=\"_blank\" href=https://colab.research.google.com/notebooks/data_table.ipynb>data table notebook</a>'\n",
              "            + ' to learn more about interactive tables.';\n",
              "          element.innerHTML = '';\n",
              "          dataTable['output_type'] = 'display_data';\n",
              "          await google.colab.output.renderOutput(dataTable, element);\n",
              "          const docLink = document.createElement('div');\n",
              "          docLink.innerHTML = docLinkHtml;\n",
              "          element.appendChild(docLink);\n",
              "        }\n",
              "      </script>\n",
              "    </div>\n",
              "  </div>\n",
              "  "
            ]
          },
          "metadata": {},
          "execution_count": 246
        }
      ],
      "source": [
        "df2.head()"
      ]
    },
    {
      "cell_type": "markdown",
      "id": "e654fa22",
      "metadata": {
        "id": "e654fa22"
      },
      "source": [
        "### 4.Only one character"
      ]
    },
    {
      "cell_type": "code",
      "execution_count": 247,
      "id": "c200a8d4",
      "metadata": {
        "id": "c200a8d4"
      },
      "outputs": [],
      "source": [
        "One = []\n",
        "def One_Char():\n",
        "    for ch in df.domain:\n",
        "        if ch.isalpha():\n",
        "            if len(ch)==1:\n",
        "                One.append(ord(ch))\n",
        "            else:\n",
        "                One.append(1)\n",
        "        else:\n",
        "            One.append(0)"
      ]
    },
    {
      "cell_type": "code",
      "execution_count": 248,
      "id": "c5d47337",
      "metadata": {
        "id": "c5d47337"
      },
      "outputs": [],
      "source": [
        "One_Char()"
      ]
    },
    {
      "cell_type": "code",
      "execution_count": 249,
      "id": "6888e236",
      "metadata": {
        "id": "6888e236"
      },
      "outputs": [],
      "source": [
        "df2['Only_One_Char'] = One"
      ]
    },
    {
      "cell_type": "code",
      "execution_count": 250,
      "id": "4ca0ddc9",
      "metadata": {
        "colab": {
          "base_uri": "https://localhost:8080/"
        },
        "id": "4ca0ddc9",
        "outputId": "6287301c-027a-4ae6-c900-0aeedfcbeeea"
      },
      "outputs": [
        {
          "output_type": "stream",
          "name": "stdout",
          "text": [
            "          length  Only_Digits  Vowel_to_Consonent_Ratio  Only_One_Char\n",
            "159993 -0.976062            0                 -0.060492              1\n",
            "159994 -1.126981            0                 -0.893546              1\n",
            "159995 -0.825143            0                 -0.310408              1\n",
            "159996 -0.674224            0                  1.050246              1\n",
            "159997 -0.674224            0                  1.050246              1\n"
          ]
        }
      ],
      "source": [
        "print(df2.tail())"
      ]
    },
    {
      "cell_type": "markdown",
      "id": "c4ad637a",
      "metadata": {
        "id": "c4ad637a"
      },
      "source": [
        "### 5. Number of digits in the domain name"
      ]
    },
    {
      "cell_type": "code",
      "execution_count": 251,
      "id": "d94608ae",
      "metadata": {
        "id": "d94608ae"
      },
      "outputs": [],
      "source": [
        "Num_digit = []\n",
        "def countDigit(str):\n",
        "    \n",
        "    isNum = 0\n",
        "    for i in range(0, len(str)):\n",
        "        \n",
        "        ch = str[i]\n",
        "        \n",
        "        if (ch >= '0' and ch <= '9'):\n",
        "            isNum += 1\n",
        "        else:\n",
        "            pass\n",
        "    Num_digit.append(isNum)"
      ]
    },
    {
      "cell_type": "code",
      "execution_count": 252,
      "id": "9a1dc90e",
      "metadata": {
        "id": "9a1dc90e"
      },
      "outputs": [],
      "source": [
        "for num_counter in df.domain:\n",
        "    str = num_counter\n",
        "    countDigit(str)"
      ]
    },
    {
      "cell_type": "code",
      "execution_count": 253,
      "id": "06d013b0",
      "metadata": {
        "id": "06d013b0"
      },
      "outputs": [],
      "source": [
        "df2[\"Number_Of_Digit\"] = Num_digit"
      ]
    },
    {
      "cell_type": "code",
      "execution_count": 254,
      "id": "57741084",
      "metadata": {
        "colab": {
          "base_uri": "https://localhost:8080/",
          "height": 0
        },
        "id": "57741084",
        "outputId": "89c383f9-c02d-497b-f834-68c25bf4ce24"
      },
      "outputs": [
        {
          "output_type": "execute_result",
          "data": {
            "text/plain": [
              "     length  Only_Digits  Vowel_to_Consonent_Ratio  Only_One_Char  \\\n",
              "0  1.891397            1                 -0.824942              0   \n",
              "1  0.080370            0                 -2.059821              1   \n",
              "2  0.080370            0                 -0.560325              1   \n",
              "3  1.740478            1                 -0.660291              0   \n",
              "4 -0.221468            0                 -0.310408              1   \n",
              "\n",
              "   Number_Of_Digit  \n",
              "0                9  \n",
              "1                0  \n",
              "2                0  \n",
              "3               10  \n",
              "4                0  "
            ],
            "text/html": [
              "\n",
              "  <div id=\"df-ed30e483-8409-48ef-bc66-103f375c40fe\">\n",
              "    <div class=\"colab-df-container\">\n",
              "      <div>\n",
              "<style scoped>\n",
              "    .dataframe tbody tr th:only-of-type {\n",
              "        vertical-align: middle;\n",
              "    }\n",
              "\n",
              "    .dataframe tbody tr th {\n",
              "        vertical-align: top;\n",
              "    }\n",
              "\n",
              "    .dataframe thead th {\n",
              "        text-align: right;\n",
              "    }\n",
              "</style>\n",
              "<table border=\"1\" class=\"dataframe\">\n",
              "  <thead>\n",
              "    <tr style=\"text-align: right;\">\n",
              "      <th></th>\n",
              "      <th>length</th>\n",
              "      <th>Only_Digits</th>\n",
              "      <th>Vowel_to_Consonent_Ratio</th>\n",
              "      <th>Only_One_Char</th>\n",
              "      <th>Number_Of_Digit</th>\n",
              "    </tr>\n",
              "  </thead>\n",
              "  <tbody>\n",
              "    <tr>\n",
              "      <th>0</th>\n",
              "      <td>1.891397</td>\n",
              "      <td>1</td>\n",
              "      <td>-0.824942</td>\n",
              "      <td>0</td>\n",
              "      <td>9</td>\n",
              "    </tr>\n",
              "    <tr>\n",
              "      <th>1</th>\n",
              "      <td>0.080370</td>\n",
              "      <td>0</td>\n",
              "      <td>-2.059821</td>\n",
              "      <td>1</td>\n",
              "      <td>0</td>\n",
              "    </tr>\n",
              "    <tr>\n",
              "      <th>2</th>\n",
              "      <td>0.080370</td>\n",
              "      <td>0</td>\n",
              "      <td>-0.560325</td>\n",
              "      <td>1</td>\n",
              "      <td>0</td>\n",
              "    </tr>\n",
              "    <tr>\n",
              "      <th>3</th>\n",
              "      <td>1.740478</td>\n",
              "      <td>1</td>\n",
              "      <td>-0.660291</td>\n",
              "      <td>0</td>\n",
              "      <td>10</td>\n",
              "    </tr>\n",
              "    <tr>\n",
              "      <th>4</th>\n",
              "      <td>-0.221468</td>\n",
              "      <td>0</td>\n",
              "      <td>-0.310408</td>\n",
              "      <td>1</td>\n",
              "      <td>0</td>\n",
              "    </tr>\n",
              "  </tbody>\n",
              "</table>\n",
              "</div>\n",
              "      <button class=\"colab-df-convert\" onclick=\"convertToInteractive('df-ed30e483-8409-48ef-bc66-103f375c40fe')\"\n",
              "              title=\"Convert this dataframe to an interactive table.\"\n",
              "              style=\"display:none;\">\n",
              "        \n",
              "  <svg xmlns=\"http://www.w3.org/2000/svg\" height=\"24px\"viewBox=\"0 0 24 24\"\n",
              "       width=\"24px\">\n",
              "    <path d=\"M0 0h24v24H0V0z\" fill=\"none\"/>\n",
              "    <path d=\"M18.56 5.44l.94 2.06.94-2.06 2.06-.94-2.06-.94-.94-2.06-.94 2.06-2.06.94zm-11 1L8.5 8.5l.94-2.06 2.06-.94-2.06-.94L8.5 2.5l-.94 2.06-2.06.94zm10 10l.94 2.06.94-2.06 2.06-.94-2.06-.94-.94-2.06-.94 2.06-2.06.94z\"/><path d=\"M17.41 7.96l-1.37-1.37c-.4-.4-.92-.59-1.43-.59-.52 0-1.04.2-1.43.59L10.3 9.45l-7.72 7.72c-.78.78-.78 2.05 0 2.83L4 21.41c.39.39.9.59 1.41.59.51 0 1.02-.2 1.41-.59l7.78-7.78 2.81-2.81c.8-.78.8-2.07 0-2.86zM5.41 20L4 18.59l7.72-7.72 1.47 1.35L5.41 20z\"/>\n",
              "  </svg>\n",
              "      </button>\n",
              "      \n",
              "  <style>\n",
              "    .colab-df-container {\n",
              "      display:flex;\n",
              "      flex-wrap:wrap;\n",
              "      gap: 12px;\n",
              "    }\n",
              "\n",
              "    .colab-df-convert {\n",
              "      background-color: #E8F0FE;\n",
              "      border: none;\n",
              "      border-radius: 50%;\n",
              "      cursor: pointer;\n",
              "      display: none;\n",
              "      fill: #1967D2;\n",
              "      height: 32px;\n",
              "      padding: 0 0 0 0;\n",
              "      width: 32px;\n",
              "    }\n",
              "\n",
              "    .colab-df-convert:hover {\n",
              "      background-color: #E2EBFA;\n",
              "      box-shadow: 0px 1px 2px rgba(60, 64, 67, 0.3), 0px 1px 3px 1px rgba(60, 64, 67, 0.15);\n",
              "      fill: #174EA6;\n",
              "    }\n",
              "\n",
              "    [theme=dark] .colab-df-convert {\n",
              "      background-color: #3B4455;\n",
              "      fill: #D2E3FC;\n",
              "    }\n",
              "\n",
              "    [theme=dark] .colab-df-convert:hover {\n",
              "      background-color: #434B5C;\n",
              "      box-shadow: 0px 1px 3px 1px rgba(0, 0, 0, 0.15);\n",
              "      filter: drop-shadow(0px 1px 2px rgba(0, 0, 0, 0.3));\n",
              "      fill: #FFFFFF;\n",
              "    }\n",
              "  </style>\n",
              "\n",
              "      <script>\n",
              "        const buttonEl =\n",
              "          document.querySelector('#df-ed30e483-8409-48ef-bc66-103f375c40fe button.colab-df-convert');\n",
              "        buttonEl.style.display =\n",
              "          google.colab.kernel.accessAllowed ? 'block' : 'none';\n",
              "\n",
              "        async function convertToInteractive(key) {\n",
              "          const element = document.querySelector('#df-ed30e483-8409-48ef-bc66-103f375c40fe');\n",
              "          const dataTable =\n",
              "            await google.colab.kernel.invokeFunction('convertToInteractive',\n",
              "                                                     [key], {});\n",
              "          if (!dataTable) return;\n",
              "\n",
              "          const docLinkHtml = 'Like what you see? Visit the ' +\n",
              "            '<a target=\"_blank\" href=https://colab.research.google.com/notebooks/data_table.ipynb>data table notebook</a>'\n",
              "            + ' to learn more about interactive tables.';\n",
              "          element.innerHTML = '';\n",
              "          dataTable['output_type'] = 'display_data';\n",
              "          await google.colab.output.renderOutput(dataTable, element);\n",
              "          const docLink = document.createElement('div');\n",
              "          docLink.innerHTML = docLinkHtml;\n",
              "          element.appendChild(docLink);\n",
              "        }\n",
              "      </script>\n",
              "    </div>\n",
              "  </div>\n",
              "  "
            ]
          },
          "metadata": {},
          "execution_count": 254
        }
      ],
      "source": [
        "df2.head()"
      ]
    },
    {
      "cell_type": "markdown",
      "id": "baca303a",
      "metadata": {
        "id": "baca303a"
      },
      "source": [
        "### Performing Standardization for 'number of digit' feature"
      ]
    },
    {
      "cell_type": "code",
      "execution_count": 255,
      "id": "e156ecf5",
      "metadata": {
        "id": "e156ecf5"
      },
      "outputs": [],
      "source": [
        "df2['Number_Of_Digit'] = stats.zscore(df2['Number_Of_Digit'])"
      ]
    },
    {
      "cell_type": "code",
      "execution_count": 256,
      "id": "94ed46f2",
      "metadata": {
        "colab": {
          "base_uri": "https://localhost:8080/",
          "height": 0
        },
        "id": "94ed46f2",
        "outputId": "9e85ec83-62fb-477f-c790-3f7212f0d146"
      },
      "outputs": [
        {
          "output_type": "execute_result",
          "data": {
            "text/plain": [
              "     length  Only_Digits  Vowel_to_Consonent_Ratio  Only_One_Char  \\\n",
              "0  1.891397            1                 -0.824942              0   \n",
              "1  0.080370            0                 -2.059821              1   \n",
              "2  0.080370            0                 -0.560325              1   \n",
              "3  1.740478            1                 -0.660291              0   \n",
              "4 -0.221468            0                 -0.310408              1   \n",
              "\n",
              "   Number_Of_Digit  \n",
              "0         2.169307  \n",
              "1        -0.362104  \n",
              "2        -0.362104  \n",
              "3         2.450575  \n",
              "4        -0.362104  "
            ],
            "text/html": [
              "\n",
              "  <div id=\"df-a0802575-a471-4db5-9dfa-f4a1920a82f7\">\n",
              "    <div class=\"colab-df-container\">\n",
              "      <div>\n",
              "<style scoped>\n",
              "    .dataframe tbody tr th:only-of-type {\n",
              "        vertical-align: middle;\n",
              "    }\n",
              "\n",
              "    .dataframe tbody tr th {\n",
              "        vertical-align: top;\n",
              "    }\n",
              "\n",
              "    .dataframe thead th {\n",
              "        text-align: right;\n",
              "    }\n",
              "</style>\n",
              "<table border=\"1\" class=\"dataframe\">\n",
              "  <thead>\n",
              "    <tr style=\"text-align: right;\">\n",
              "      <th></th>\n",
              "      <th>length</th>\n",
              "      <th>Only_Digits</th>\n",
              "      <th>Vowel_to_Consonent_Ratio</th>\n",
              "      <th>Only_One_Char</th>\n",
              "      <th>Number_Of_Digit</th>\n",
              "    </tr>\n",
              "  </thead>\n",
              "  <tbody>\n",
              "    <tr>\n",
              "      <th>0</th>\n",
              "      <td>1.891397</td>\n",
              "      <td>1</td>\n",
              "      <td>-0.824942</td>\n",
              "      <td>0</td>\n",
              "      <td>2.169307</td>\n",
              "    </tr>\n",
              "    <tr>\n",
              "      <th>1</th>\n",
              "      <td>0.080370</td>\n",
              "      <td>0</td>\n",
              "      <td>-2.059821</td>\n",
              "      <td>1</td>\n",
              "      <td>-0.362104</td>\n",
              "    </tr>\n",
              "    <tr>\n",
              "      <th>2</th>\n",
              "      <td>0.080370</td>\n",
              "      <td>0</td>\n",
              "      <td>-0.560325</td>\n",
              "      <td>1</td>\n",
              "      <td>-0.362104</td>\n",
              "    </tr>\n",
              "    <tr>\n",
              "      <th>3</th>\n",
              "      <td>1.740478</td>\n",
              "      <td>1</td>\n",
              "      <td>-0.660291</td>\n",
              "      <td>0</td>\n",
              "      <td>2.450575</td>\n",
              "    </tr>\n",
              "    <tr>\n",
              "      <th>4</th>\n",
              "      <td>-0.221468</td>\n",
              "      <td>0</td>\n",
              "      <td>-0.310408</td>\n",
              "      <td>1</td>\n",
              "      <td>-0.362104</td>\n",
              "    </tr>\n",
              "  </tbody>\n",
              "</table>\n",
              "</div>\n",
              "      <button class=\"colab-df-convert\" onclick=\"convertToInteractive('df-a0802575-a471-4db5-9dfa-f4a1920a82f7')\"\n",
              "              title=\"Convert this dataframe to an interactive table.\"\n",
              "              style=\"display:none;\">\n",
              "        \n",
              "  <svg xmlns=\"http://www.w3.org/2000/svg\" height=\"24px\"viewBox=\"0 0 24 24\"\n",
              "       width=\"24px\">\n",
              "    <path d=\"M0 0h24v24H0V0z\" fill=\"none\"/>\n",
              "    <path d=\"M18.56 5.44l.94 2.06.94-2.06 2.06-.94-2.06-.94-.94-2.06-.94 2.06-2.06.94zm-11 1L8.5 8.5l.94-2.06 2.06-.94-2.06-.94L8.5 2.5l-.94 2.06-2.06.94zm10 10l.94 2.06.94-2.06 2.06-.94-2.06-.94-.94-2.06-.94 2.06-2.06.94z\"/><path d=\"M17.41 7.96l-1.37-1.37c-.4-.4-.92-.59-1.43-.59-.52 0-1.04.2-1.43.59L10.3 9.45l-7.72 7.72c-.78.78-.78 2.05 0 2.83L4 21.41c.39.39.9.59 1.41.59.51 0 1.02-.2 1.41-.59l7.78-7.78 2.81-2.81c.8-.78.8-2.07 0-2.86zM5.41 20L4 18.59l7.72-7.72 1.47 1.35L5.41 20z\"/>\n",
              "  </svg>\n",
              "      </button>\n",
              "      \n",
              "  <style>\n",
              "    .colab-df-container {\n",
              "      display:flex;\n",
              "      flex-wrap:wrap;\n",
              "      gap: 12px;\n",
              "    }\n",
              "\n",
              "    .colab-df-convert {\n",
              "      background-color: #E8F0FE;\n",
              "      border: none;\n",
              "      border-radius: 50%;\n",
              "      cursor: pointer;\n",
              "      display: none;\n",
              "      fill: #1967D2;\n",
              "      height: 32px;\n",
              "      padding: 0 0 0 0;\n",
              "      width: 32px;\n",
              "    }\n",
              "\n",
              "    .colab-df-convert:hover {\n",
              "      background-color: #E2EBFA;\n",
              "      box-shadow: 0px 1px 2px rgba(60, 64, 67, 0.3), 0px 1px 3px 1px rgba(60, 64, 67, 0.15);\n",
              "      fill: #174EA6;\n",
              "    }\n",
              "\n",
              "    [theme=dark] .colab-df-convert {\n",
              "      background-color: #3B4455;\n",
              "      fill: #D2E3FC;\n",
              "    }\n",
              "\n",
              "    [theme=dark] .colab-df-convert:hover {\n",
              "      background-color: #434B5C;\n",
              "      box-shadow: 0px 1px 3px 1px rgba(0, 0, 0, 0.15);\n",
              "      filter: drop-shadow(0px 1px 2px rgba(0, 0, 0, 0.3));\n",
              "      fill: #FFFFFF;\n",
              "    }\n",
              "  </style>\n",
              "\n",
              "      <script>\n",
              "        const buttonEl =\n",
              "          document.querySelector('#df-a0802575-a471-4db5-9dfa-f4a1920a82f7 button.colab-df-convert');\n",
              "        buttonEl.style.display =\n",
              "          google.colab.kernel.accessAllowed ? 'block' : 'none';\n",
              "\n",
              "        async function convertToInteractive(key) {\n",
              "          const element = document.querySelector('#df-a0802575-a471-4db5-9dfa-f4a1920a82f7');\n",
              "          const dataTable =\n",
              "            await google.colab.kernel.invokeFunction('convertToInteractive',\n",
              "                                                     [key], {});\n",
              "          if (!dataTable) return;\n",
              "\n",
              "          const docLinkHtml = 'Like what you see? Visit the ' +\n",
              "            '<a target=\"_blank\" href=https://colab.research.google.com/notebooks/data_table.ipynb>data table notebook</a>'\n",
              "            + ' to learn more about interactive tables.';\n",
              "          element.innerHTML = '';\n",
              "          dataTable['output_type'] = 'display_data';\n",
              "          await google.colab.output.renderOutput(dataTable, element);\n",
              "          const docLink = document.createElement('div');\n",
              "          docLink.innerHTML = docLinkHtml;\n",
              "          element.appendChild(docLink);\n",
              "        }\n",
              "      </script>\n",
              "    </div>\n",
              "  </div>\n",
              "  "
            ]
          },
          "metadata": {},
          "execution_count": 256
        }
      ],
      "source": [
        "df2.head()"
      ]
    },
    {
      "cell_type": "markdown",
      "id": "f971d9ab",
      "metadata": {
        "id": "f971d9ab"
      },
      "source": [
        "### 6 . Maximum number of consicative vowels in a string"
      ]
    },
    {
      "cell_type": "code",
      "execution_count": 257,
      "id": "d9eb5907",
      "metadata": {
        "id": "d9eb5907"
      },
      "outputs": [],
      "source": [
        "vowel_count = []\n",
        "\n",
        "def max_vowels(st):\n",
        "    word = \"\".join(re.findall(\"[a-zA-Z]+\",st))\n",
        "    word.lower()\n",
        "    cmp = \"aeiou\"\n",
        "    m_val = 0\n",
        "    t_tal = 0\n",
        "    for i in range(len(st)):\n",
        "        if st[i] in cmp:\n",
        "            t_tal += 1\n",
        "        elif st[i] not in cmp:\n",
        "            if m_val < t_tal:\n",
        "                m_val = t_tal\n",
        "                t_tal = 0\n",
        "        if i == len(st) - 1 :\n",
        "            if m_val < t_tal:\n",
        "                m_val = t_tal\n",
        "    vowel_count.append(m_val)"
      ]
    },
    {
      "cell_type": "code",
      "execution_count": 258,
      "id": "7bde751a",
      "metadata": {
        "id": "7bde751a"
      },
      "outputs": [],
      "source": [
        "for vowel_counter in df.domain:\n",
        "    str = vowel_counter\n",
        "    max_vowels(str)"
      ]
    },
    {
      "cell_type": "code",
      "execution_count": 259,
      "id": "097f11eb",
      "metadata": {
        "id": "097f11eb"
      },
      "outputs": [],
      "source": [
        "df2[\"Consecutive_Vowel_Count\"] = vowel_count"
      ]
    },
    {
      "cell_type": "code",
      "execution_count": 260,
      "id": "4cb72b83",
      "metadata": {
        "colab": {
          "base_uri": "https://localhost:8080/",
          "height": 0
        },
        "id": "4cb72b83",
        "outputId": "97089119-c0cb-4876-92f4-5d10e7c204b0"
      },
      "outputs": [
        {
          "output_type": "execute_result",
          "data": {
            "text/plain": [
              "     length  Only_Digits  Vowel_to_Consonent_Ratio  Only_One_Char  \\\n",
              "0  1.891397            1                 -0.824942              0   \n",
              "1  0.080370            0                 -2.059821              1   \n",
              "2  0.080370            0                 -0.560325              1   \n",
              "3  1.740478            1                 -0.660291              0   \n",
              "4 -0.221468            0                 -0.310408              1   \n",
              "\n",
              "   Number_Of_Digit  Consecutive_Vowel_Count  \n",
              "0         2.169307                        2  \n",
              "1        -0.362104                        0  \n",
              "2        -0.362104                        2  \n",
              "3         2.450575                        2  \n",
              "4        -0.362104                        2  "
            ],
            "text/html": [
              "\n",
              "  <div id=\"df-a8730114-7379-48bc-bba2-5ae6d283f4c7\">\n",
              "    <div class=\"colab-df-container\">\n",
              "      <div>\n",
              "<style scoped>\n",
              "    .dataframe tbody tr th:only-of-type {\n",
              "        vertical-align: middle;\n",
              "    }\n",
              "\n",
              "    .dataframe tbody tr th {\n",
              "        vertical-align: top;\n",
              "    }\n",
              "\n",
              "    .dataframe thead th {\n",
              "        text-align: right;\n",
              "    }\n",
              "</style>\n",
              "<table border=\"1\" class=\"dataframe\">\n",
              "  <thead>\n",
              "    <tr style=\"text-align: right;\">\n",
              "      <th></th>\n",
              "      <th>length</th>\n",
              "      <th>Only_Digits</th>\n",
              "      <th>Vowel_to_Consonent_Ratio</th>\n",
              "      <th>Only_One_Char</th>\n",
              "      <th>Number_Of_Digit</th>\n",
              "      <th>Consecutive_Vowel_Count</th>\n",
              "    </tr>\n",
              "  </thead>\n",
              "  <tbody>\n",
              "    <tr>\n",
              "      <th>0</th>\n",
              "      <td>1.891397</td>\n",
              "      <td>1</td>\n",
              "      <td>-0.824942</td>\n",
              "      <td>0</td>\n",
              "      <td>2.169307</td>\n",
              "      <td>2</td>\n",
              "    </tr>\n",
              "    <tr>\n",
              "      <th>1</th>\n",
              "      <td>0.080370</td>\n",
              "      <td>0</td>\n",
              "      <td>-2.059821</td>\n",
              "      <td>1</td>\n",
              "      <td>-0.362104</td>\n",
              "      <td>0</td>\n",
              "    </tr>\n",
              "    <tr>\n",
              "      <th>2</th>\n",
              "      <td>0.080370</td>\n",
              "      <td>0</td>\n",
              "      <td>-0.560325</td>\n",
              "      <td>1</td>\n",
              "      <td>-0.362104</td>\n",
              "      <td>2</td>\n",
              "    </tr>\n",
              "    <tr>\n",
              "      <th>3</th>\n",
              "      <td>1.740478</td>\n",
              "      <td>1</td>\n",
              "      <td>-0.660291</td>\n",
              "      <td>0</td>\n",
              "      <td>2.450575</td>\n",
              "      <td>2</td>\n",
              "    </tr>\n",
              "    <tr>\n",
              "      <th>4</th>\n",
              "      <td>-0.221468</td>\n",
              "      <td>0</td>\n",
              "      <td>-0.310408</td>\n",
              "      <td>1</td>\n",
              "      <td>-0.362104</td>\n",
              "      <td>2</td>\n",
              "    </tr>\n",
              "  </tbody>\n",
              "</table>\n",
              "</div>\n",
              "      <button class=\"colab-df-convert\" onclick=\"convertToInteractive('df-a8730114-7379-48bc-bba2-5ae6d283f4c7')\"\n",
              "              title=\"Convert this dataframe to an interactive table.\"\n",
              "              style=\"display:none;\">\n",
              "        \n",
              "  <svg xmlns=\"http://www.w3.org/2000/svg\" height=\"24px\"viewBox=\"0 0 24 24\"\n",
              "       width=\"24px\">\n",
              "    <path d=\"M0 0h24v24H0V0z\" fill=\"none\"/>\n",
              "    <path d=\"M18.56 5.44l.94 2.06.94-2.06 2.06-.94-2.06-.94-.94-2.06-.94 2.06-2.06.94zm-11 1L8.5 8.5l.94-2.06 2.06-.94-2.06-.94L8.5 2.5l-.94 2.06-2.06.94zm10 10l.94 2.06.94-2.06 2.06-.94-2.06-.94-.94-2.06-.94 2.06-2.06.94z\"/><path d=\"M17.41 7.96l-1.37-1.37c-.4-.4-.92-.59-1.43-.59-.52 0-1.04.2-1.43.59L10.3 9.45l-7.72 7.72c-.78.78-.78 2.05 0 2.83L4 21.41c.39.39.9.59 1.41.59.51 0 1.02-.2 1.41-.59l7.78-7.78 2.81-2.81c.8-.78.8-2.07 0-2.86zM5.41 20L4 18.59l7.72-7.72 1.47 1.35L5.41 20z\"/>\n",
              "  </svg>\n",
              "      </button>\n",
              "      \n",
              "  <style>\n",
              "    .colab-df-container {\n",
              "      display:flex;\n",
              "      flex-wrap:wrap;\n",
              "      gap: 12px;\n",
              "    }\n",
              "\n",
              "    .colab-df-convert {\n",
              "      background-color: #E8F0FE;\n",
              "      border: none;\n",
              "      border-radius: 50%;\n",
              "      cursor: pointer;\n",
              "      display: none;\n",
              "      fill: #1967D2;\n",
              "      height: 32px;\n",
              "      padding: 0 0 0 0;\n",
              "      width: 32px;\n",
              "    }\n",
              "\n",
              "    .colab-df-convert:hover {\n",
              "      background-color: #E2EBFA;\n",
              "      box-shadow: 0px 1px 2px rgba(60, 64, 67, 0.3), 0px 1px 3px 1px rgba(60, 64, 67, 0.15);\n",
              "      fill: #174EA6;\n",
              "    }\n",
              "\n",
              "    [theme=dark] .colab-df-convert {\n",
              "      background-color: #3B4455;\n",
              "      fill: #D2E3FC;\n",
              "    }\n",
              "\n",
              "    [theme=dark] .colab-df-convert:hover {\n",
              "      background-color: #434B5C;\n",
              "      box-shadow: 0px 1px 3px 1px rgba(0, 0, 0, 0.15);\n",
              "      filter: drop-shadow(0px 1px 2px rgba(0, 0, 0, 0.3));\n",
              "      fill: #FFFFFF;\n",
              "    }\n",
              "  </style>\n",
              "\n",
              "      <script>\n",
              "        const buttonEl =\n",
              "          document.querySelector('#df-a8730114-7379-48bc-bba2-5ae6d283f4c7 button.colab-df-convert');\n",
              "        buttonEl.style.display =\n",
              "          google.colab.kernel.accessAllowed ? 'block' : 'none';\n",
              "\n",
              "        async function convertToInteractive(key) {\n",
              "          const element = document.querySelector('#df-a8730114-7379-48bc-bba2-5ae6d283f4c7');\n",
              "          const dataTable =\n",
              "            await google.colab.kernel.invokeFunction('convertToInteractive',\n",
              "                                                     [key], {});\n",
              "          if (!dataTable) return;\n",
              "\n",
              "          const docLinkHtml = 'Like what you see? Visit the ' +\n",
              "            '<a target=\"_blank\" href=https://colab.research.google.com/notebooks/data_table.ipynb>data table notebook</a>'\n",
              "            + ' to learn more about interactive tables.';\n",
              "          element.innerHTML = '';\n",
              "          dataTable['output_type'] = 'display_data';\n",
              "          await google.colab.output.renderOutput(dataTable, element);\n",
              "          const docLink = document.createElement('div');\n",
              "          docLink.innerHTML = docLinkHtml;\n",
              "          element.appendChild(docLink);\n",
              "        }\n",
              "      </script>\n",
              "    </div>\n",
              "  </div>\n",
              "  "
            ]
          },
          "metadata": {},
          "execution_count": 260
        }
      ],
      "source": [
        "df2.head()"
      ]
    },
    {
      "cell_type": "markdown",
      "id": "3292e993",
      "metadata": {
        "id": "3292e993"
      },
      "source": [
        "### Performing Standardization for 'Consecutive vowel count' feature"
      ]
    },
    {
      "cell_type": "code",
      "execution_count": 261,
      "id": "64027de0",
      "metadata": {
        "id": "64027de0"
      },
      "outputs": [],
      "source": [
        "df2['Consecutive_Vowel_Count'] = stats.zscore(df2['Consecutive_Vowel_Count'])"
      ]
    },
    {
      "cell_type": "code",
      "execution_count": 262,
      "id": "d86f82a9",
      "metadata": {
        "colab": {
          "base_uri": "https://localhost:8080/",
          "height": 0
        },
        "id": "d86f82a9",
        "outputId": "a68b94a2-51ce-4fe0-a62b-a70b53e7e38a"
      },
      "outputs": [
        {
          "output_type": "execute_result",
          "data": {
            "text/plain": [
              "     length  Only_Digits  Vowel_to_Consonent_Ratio  Only_One_Char  \\\n",
              "0  1.891397            1                 -0.824942              0   \n",
              "1  0.080370            0                 -2.059821              1   \n",
              "2  0.080370            0                 -0.560325              1   \n",
              "3  1.740478            1                 -0.660291              0   \n",
              "4 -0.221468            0                 -0.310408              1   \n",
              "\n",
              "   Number_Of_Digit  Consecutive_Vowel_Count  \n",
              "0         2.169307                 0.130032  \n",
              "1        -0.362104                -2.255574  \n",
              "2        -0.362104                 0.130032  \n",
              "3         2.450575                 0.130032  \n",
              "4        -0.362104                 0.130032  "
            ],
            "text/html": [
              "\n",
              "  <div id=\"df-6c85978f-d316-456f-b2a5-0403e69c27ea\">\n",
              "    <div class=\"colab-df-container\">\n",
              "      <div>\n",
              "<style scoped>\n",
              "    .dataframe tbody tr th:only-of-type {\n",
              "        vertical-align: middle;\n",
              "    }\n",
              "\n",
              "    .dataframe tbody tr th {\n",
              "        vertical-align: top;\n",
              "    }\n",
              "\n",
              "    .dataframe thead th {\n",
              "        text-align: right;\n",
              "    }\n",
              "</style>\n",
              "<table border=\"1\" class=\"dataframe\">\n",
              "  <thead>\n",
              "    <tr style=\"text-align: right;\">\n",
              "      <th></th>\n",
              "      <th>length</th>\n",
              "      <th>Only_Digits</th>\n",
              "      <th>Vowel_to_Consonent_Ratio</th>\n",
              "      <th>Only_One_Char</th>\n",
              "      <th>Number_Of_Digit</th>\n",
              "      <th>Consecutive_Vowel_Count</th>\n",
              "    </tr>\n",
              "  </thead>\n",
              "  <tbody>\n",
              "    <tr>\n",
              "      <th>0</th>\n",
              "      <td>1.891397</td>\n",
              "      <td>1</td>\n",
              "      <td>-0.824942</td>\n",
              "      <td>0</td>\n",
              "      <td>2.169307</td>\n",
              "      <td>0.130032</td>\n",
              "    </tr>\n",
              "    <tr>\n",
              "      <th>1</th>\n",
              "      <td>0.080370</td>\n",
              "      <td>0</td>\n",
              "      <td>-2.059821</td>\n",
              "      <td>1</td>\n",
              "      <td>-0.362104</td>\n",
              "      <td>-2.255574</td>\n",
              "    </tr>\n",
              "    <tr>\n",
              "      <th>2</th>\n",
              "      <td>0.080370</td>\n",
              "      <td>0</td>\n",
              "      <td>-0.560325</td>\n",
              "      <td>1</td>\n",
              "      <td>-0.362104</td>\n",
              "      <td>0.130032</td>\n",
              "    </tr>\n",
              "    <tr>\n",
              "      <th>3</th>\n",
              "      <td>1.740478</td>\n",
              "      <td>1</td>\n",
              "      <td>-0.660291</td>\n",
              "      <td>0</td>\n",
              "      <td>2.450575</td>\n",
              "      <td>0.130032</td>\n",
              "    </tr>\n",
              "    <tr>\n",
              "      <th>4</th>\n",
              "      <td>-0.221468</td>\n",
              "      <td>0</td>\n",
              "      <td>-0.310408</td>\n",
              "      <td>1</td>\n",
              "      <td>-0.362104</td>\n",
              "      <td>0.130032</td>\n",
              "    </tr>\n",
              "  </tbody>\n",
              "</table>\n",
              "</div>\n",
              "      <button class=\"colab-df-convert\" onclick=\"convertToInteractive('df-6c85978f-d316-456f-b2a5-0403e69c27ea')\"\n",
              "              title=\"Convert this dataframe to an interactive table.\"\n",
              "              style=\"display:none;\">\n",
              "        \n",
              "  <svg xmlns=\"http://www.w3.org/2000/svg\" height=\"24px\"viewBox=\"0 0 24 24\"\n",
              "       width=\"24px\">\n",
              "    <path d=\"M0 0h24v24H0V0z\" fill=\"none\"/>\n",
              "    <path d=\"M18.56 5.44l.94 2.06.94-2.06 2.06-.94-2.06-.94-.94-2.06-.94 2.06-2.06.94zm-11 1L8.5 8.5l.94-2.06 2.06-.94-2.06-.94L8.5 2.5l-.94 2.06-2.06.94zm10 10l.94 2.06.94-2.06 2.06-.94-2.06-.94-.94-2.06-.94 2.06-2.06.94z\"/><path d=\"M17.41 7.96l-1.37-1.37c-.4-.4-.92-.59-1.43-.59-.52 0-1.04.2-1.43.59L10.3 9.45l-7.72 7.72c-.78.78-.78 2.05 0 2.83L4 21.41c.39.39.9.59 1.41.59.51 0 1.02-.2 1.41-.59l7.78-7.78 2.81-2.81c.8-.78.8-2.07 0-2.86zM5.41 20L4 18.59l7.72-7.72 1.47 1.35L5.41 20z\"/>\n",
              "  </svg>\n",
              "      </button>\n",
              "      \n",
              "  <style>\n",
              "    .colab-df-container {\n",
              "      display:flex;\n",
              "      flex-wrap:wrap;\n",
              "      gap: 12px;\n",
              "    }\n",
              "\n",
              "    .colab-df-convert {\n",
              "      background-color: #E8F0FE;\n",
              "      border: none;\n",
              "      border-radius: 50%;\n",
              "      cursor: pointer;\n",
              "      display: none;\n",
              "      fill: #1967D2;\n",
              "      height: 32px;\n",
              "      padding: 0 0 0 0;\n",
              "      width: 32px;\n",
              "    }\n",
              "\n",
              "    .colab-df-convert:hover {\n",
              "      background-color: #E2EBFA;\n",
              "      box-shadow: 0px 1px 2px rgba(60, 64, 67, 0.3), 0px 1px 3px 1px rgba(60, 64, 67, 0.15);\n",
              "      fill: #174EA6;\n",
              "    }\n",
              "\n",
              "    [theme=dark] .colab-df-convert {\n",
              "      background-color: #3B4455;\n",
              "      fill: #D2E3FC;\n",
              "    }\n",
              "\n",
              "    [theme=dark] .colab-df-convert:hover {\n",
              "      background-color: #434B5C;\n",
              "      box-shadow: 0px 1px 3px 1px rgba(0, 0, 0, 0.15);\n",
              "      filter: drop-shadow(0px 1px 2px rgba(0, 0, 0, 0.3));\n",
              "      fill: #FFFFFF;\n",
              "    }\n",
              "  </style>\n",
              "\n",
              "      <script>\n",
              "        const buttonEl =\n",
              "          document.querySelector('#df-6c85978f-d316-456f-b2a5-0403e69c27ea button.colab-df-convert');\n",
              "        buttonEl.style.display =\n",
              "          google.colab.kernel.accessAllowed ? 'block' : 'none';\n",
              "\n",
              "        async function convertToInteractive(key) {\n",
              "          const element = document.querySelector('#df-6c85978f-d316-456f-b2a5-0403e69c27ea');\n",
              "          const dataTable =\n",
              "            await google.colab.kernel.invokeFunction('convertToInteractive',\n",
              "                                                     [key], {});\n",
              "          if (!dataTable) return;\n",
              "\n",
              "          const docLinkHtml = 'Like what you see? Visit the ' +\n",
              "            '<a target=\"_blank\" href=https://colab.research.google.com/notebooks/data_table.ipynb>data table notebook</a>'\n",
              "            + ' to learn more about interactive tables.';\n",
              "          element.innerHTML = '';\n",
              "          dataTable['output_type'] = 'display_data';\n",
              "          await google.colab.output.renderOutput(dataTable, element);\n",
              "          const docLink = document.createElement('div');\n",
              "          docLink.innerHTML = docLinkHtml;\n",
              "          element.appendChild(docLink);\n",
              "        }\n",
              "      </script>\n",
              "    </div>\n",
              "  </div>\n",
              "  "
            ]
          },
          "metadata": {},
          "execution_count": 262
        }
      ],
      "source": [
        "df2.head()"
      ]
    },
    {
      "cell_type": "markdown",
      "id": "4a838f40",
      "metadata": {
        "id": "4a838f40"
      },
      "source": [
        "### 7. Maximum number of consicative consonent in a string"
      ]
    },
    {
      "cell_type": "code",
      "execution_count": 263,
      "id": "7a53d616",
      "metadata": {
        "id": "7a53d616"
      },
      "outputs": [],
      "source": [
        "con = []\n",
        "def max_c(st):\n",
        "    word = \"\".join(re.findall(\"[a-zA-Z]+\",st))\n",
        "    word.lower()\n",
        "    cmp = \"bcdfghjklmnpqrstvwxyz\"\n",
        "    m_val = 0\n",
        "    t_tal = 0\n",
        "    for i in range(len(st)):\n",
        "        if st[i] in cmp:\n",
        "            t_tal += 1\n",
        "        elif st[i] not in cmp:\n",
        "            if m_val < t_tal:\n",
        "                m_val = t_tal\n",
        "                t_tal = 0\n",
        "        if i == len(st) - 1 :\n",
        "            if m_val < t_tal:\n",
        "                m_val = t_tal\n",
        "    con.append(m_val)"
      ]
    },
    {
      "cell_type": "code",
      "execution_count": 264,
      "id": "b2bf528d",
      "metadata": {
        "id": "b2bf528d"
      },
      "outputs": [],
      "source": [
        "for con_counter in df.domain:\n",
        "    str = con_counter\n",
        "    max_c(str)"
      ]
    },
    {
      "cell_type": "code",
      "execution_count": 265,
      "id": "b9e0f676",
      "metadata": {
        "id": "b9e0f676"
      },
      "outputs": [],
      "source": [
        "df2['Consicutive_Consonent'] = con"
      ]
    },
    {
      "cell_type": "code",
      "execution_count": 266,
      "id": "21f2227c",
      "metadata": {
        "colab": {
          "base_uri": "https://localhost:8080/",
          "height": 0
        },
        "id": "21f2227c",
        "outputId": "6528052f-3a77-45d1-b78e-8fc209db4c2f"
      },
      "outputs": [
        {
          "output_type": "execute_result",
          "data": {
            "text/plain": [
              "     length  Only_Digits  Vowel_to_Consonent_Ratio  Only_One_Char  \\\n",
              "0  1.891397            1                 -0.824942              0   \n",
              "1  0.080370            0                 -2.059821              1   \n",
              "2  0.080370            0                 -0.560325              1   \n",
              "3  1.740478            1                 -0.660291              0   \n",
              "4 -0.221468            0                 -0.310408              1   \n",
              "\n",
              "   Number_Of_Digit  Consecutive_Vowel_Count  Consicutive_Consonent  \n",
              "0         2.169307                 0.130032                      6  \n",
              "1        -0.362104                -2.255574                     14  \n",
              "2        -0.362104                 0.130032                      8  \n",
              "3         2.450575                 0.130032                      5  \n",
              "4        -0.362104                 0.130032                      7  "
            ],
            "text/html": [
              "\n",
              "  <div id=\"df-b31b962e-10c1-40b9-81cd-e4eb26fd6f5f\">\n",
              "    <div class=\"colab-df-container\">\n",
              "      <div>\n",
              "<style scoped>\n",
              "    .dataframe tbody tr th:only-of-type {\n",
              "        vertical-align: middle;\n",
              "    }\n",
              "\n",
              "    .dataframe tbody tr th {\n",
              "        vertical-align: top;\n",
              "    }\n",
              "\n",
              "    .dataframe thead th {\n",
              "        text-align: right;\n",
              "    }\n",
              "</style>\n",
              "<table border=\"1\" class=\"dataframe\">\n",
              "  <thead>\n",
              "    <tr style=\"text-align: right;\">\n",
              "      <th></th>\n",
              "      <th>length</th>\n",
              "      <th>Only_Digits</th>\n",
              "      <th>Vowel_to_Consonent_Ratio</th>\n",
              "      <th>Only_One_Char</th>\n",
              "      <th>Number_Of_Digit</th>\n",
              "      <th>Consecutive_Vowel_Count</th>\n",
              "      <th>Consicutive_Consonent</th>\n",
              "    </tr>\n",
              "  </thead>\n",
              "  <tbody>\n",
              "    <tr>\n",
              "      <th>0</th>\n",
              "      <td>1.891397</td>\n",
              "      <td>1</td>\n",
              "      <td>-0.824942</td>\n",
              "      <td>0</td>\n",
              "      <td>2.169307</td>\n",
              "      <td>0.130032</td>\n",
              "      <td>6</td>\n",
              "    </tr>\n",
              "    <tr>\n",
              "      <th>1</th>\n",
              "      <td>0.080370</td>\n",
              "      <td>0</td>\n",
              "      <td>-2.059821</td>\n",
              "      <td>1</td>\n",
              "      <td>-0.362104</td>\n",
              "      <td>-2.255574</td>\n",
              "      <td>14</td>\n",
              "    </tr>\n",
              "    <tr>\n",
              "      <th>2</th>\n",
              "      <td>0.080370</td>\n",
              "      <td>0</td>\n",
              "      <td>-0.560325</td>\n",
              "      <td>1</td>\n",
              "      <td>-0.362104</td>\n",
              "      <td>0.130032</td>\n",
              "      <td>8</td>\n",
              "    </tr>\n",
              "    <tr>\n",
              "      <th>3</th>\n",
              "      <td>1.740478</td>\n",
              "      <td>1</td>\n",
              "      <td>-0.660291</td>\n",
              "      <td>0</td>\n",
              "      <td>2.450575</td>\n",
              "      <td>0.130032</td>\n",
              "      <td>5</td>\n",
              "    </tr>\n",
              "    <tr>\n",
              "      <th>4</th>\n",
              "      <td>-0.221468</td>\n",
              "      <td>0</td>\n",
              "      <td>-0.310408</td>\n",
              "      <td>1</td>\n",
              "      <td>-0.362104</td>\n",
              "      <td>0.130032</td>\n",
              "      <td>7</td>\n",
              "    </tr>\n",
              "  </tbody>\n",
              "</table>\n",
              "</div>\n",
              "      <button class=\"colab-df-convert\" onclick=\"convertToInteractive('df-b31b962e-10c1-40b9-81cd-e4eb26fd6f5f')\"\n",
              "              title=\"Convert this dataframe to an interactive table.\"\n",
              "              style=\"display:none;\">\n",
              "        \n",
              "  <svg xmlns=\"http://www.w3.org/2000/svg\" height=\"24px\"viewBox=\"0 0 24 24\"\n",
              "       width=\"24px\">\n",
              "    <path d=\"M0 0h24v24H0V0z\" fill=\"none\"/>\n",
              "    <path d=\"M18.56 5.44l.94 2.06.94-2.06 2.06-.94-2.06-.94-.94-2.06-.94 2.06-2.06.94zm-11 1L8.5 8.5l.94-2.06 2.06-.94-2.06-.94L8.5 2.5l-.94 2.06-2.06.94zm10 10l.94 2.06.94-2.06 2.06-.94-2.06-.94-.94-2.06-.94 2.06-2.06.94z\"/><path d=\"M17.41 7.96l-1.37-1.37c-.4-.4-.92-.59-1.43-.59-.52 0-1.04.2-1.43.59L10.3 9.45l-7.72 7.72c-.78.78-.78 2.05 0 2.83L4 21.41c.39.39.9.59 1.41.59.51 0 1.02-.2 1.41-.59l7.78-7.78 2.81-2.81c.8-.78.8-2.07 0-2.86zM5.41 20L4 18.59l7.72-7.72 1.47 1.35L5.41 20z\"/>\n",
              "  </svg>\n",
              "      </button>\n",
              "      \n",
              "  <style>\n",
              "    .colab-df-container {\n",
              "      display:flex;\n",
              "      flex-wrap:wrap;\n",
              "      gap: 12px;\n",
              "    }\n",
              "\n",
              "    .colab-df-convert {\n",
              "      background-color: #E8F0FE;\n",
              "      border: none;\n",
              "      border-radius: 50%;\n",
              "      cursor: pointer;\n",
              "      display: none;\n",
              "      fill: #1967D2;\n",
              "      height: 32px;\n",
              "      padding: 0 0 0 0;\n",
              "      width: 32px;\n",
              "    }\n",
              "\n",
              "    .colab-df-convert:hover {\n",
              "      background-color: #E2EBFA;\n",
              "      box-shadow: 0px 1px 2px rgba(60, 64, 67, 0.3), 0px 1px 3px 1px rgba(60, 64, 67, 0.15);\n",
              "      fill: #174EA6;\n",
              "    }\n",
              "\n",
              "    [theme=dark] .colab-df-convert {\n",
              "      background-color: #3B4455;\n",
              "      fill: #D2E3FC;\n",
              "    }\n",
              "\n",
              "    [theme=dark] .colab-df-convert:hover {\n",
              "      background-color: #434B5C;\n",
              "      box-shadow: 0px 1px 3px 1px rgba(0, 0, 0, 0.15);\n",
              "      filter: drop-shadow(0px 1px 2px rgba(0, 0, 0, 0.3));\n",
              "      fill: #FFFFFF;\n",
              "    }\n",
              "  </style>\n",
              "\n",
              "      <script>\n",
              "        const buttonEl =\n",
              "          document.querySelector('#df-b31b962e-10c1-40b9-81cd-e4eb26fd6f5f button.colab-df-convert');\n",
              "        buttonEl.style.display =\n",
              "          google.colab.kernel.accessAllowed ? 'block' : 'none';\n",
              "\n",
              "        async function convertToInteractive(key) {\n",
              "          const element = document.querySelector('#df-b31b962e-10c1-40b9-81cd-e4eb26fd6f5f');\n",
              "          const dataTable =\n",
              "            await google.colab.kernel.invokeFunction('convertToInteractive',\n",
              "                                                     [key], {});\n",
              "          if (!dataTable) return;\n",
              "\n",
              "          const docLinkHtml = 'Like what you see? Visit the ' +\n",
              "            '<a target=\"_blank\" href=https://colab.research.google.com/notebooks/data_table.ipynb>data table notebook</a>'\n",
              "            + ' to learn more about interactive tables.';\n",
              "          element.innerHTML = '';\n",
              "          dataTable['output_type'] = 'display_data';\n",
              "          await google.colab.output.renderOutput(dataTable, element);\n",
              "          const docLink = document.createElement('div');\n",
              "          docLink.innerHTML = docLinkHtml;\n",
              "          element.appendChild(docLink);\n",
              "        }\n",
              "      </script>\n",
              "    </div>\n",
              "  </div>\n",
              "  "
            ]
          },
          "metadata": {},
          "execution_count": 266
        }
      ],
      "source": [
        "df2.head()"
      ]
    },
    {
      "cell_type": "markdown",
      "id": "f41d26a5",
      "metadata": {
        "id": "f41d26a5"
      },
      "source": [
        "### Performing standardization for 'consecutive consonent' feature"
      ]
    },
    {
      "cell_type": "code",
      "execution_count": 267,
      "id": "bff07a3d",
      "metadata": {
        "id": "bff07a3d"
      },
      "outputs": [],
      "source": [
        "df2['Consicutive_Consonent'] = stats.zscore(df2['Consicutive_Consonent'])"
      ]
    },
    {
      "cell_type": "code",
      "execution_count": 268,
      "id": "6cb46560",
      "metadata": {
        "colab": {
          "base_uri": "https://localhost:8080/",
          "height": 0
        },
        "id": "6cb46560",
        "outputId": "40fd9bb9-efe2-49bc-ab8a-303c1c0eb100"
      },
      "outputs": [
        {
          "output_type": "execute_result",
          "data": {
            "text/plain": [
              "     length  Only_Digits  Vowel_to_Consonent_Ratio  Only_One_Char  \\\n",
              "0  1.891397            1                 -0.824942              0   \n",
              "1  0.080370            0                 -2.059821              1   \n",
              "2  0.080370            0                 -0.560325              1   \n",
              "3  1.740478            1                 -0.660291              0   \n",
              "4 -0.221468            0                 -0.310408              1   \n",
              "\n",
              "   Number_Of_Digit  Consecutive_Vowel_Count  Consicutive_Consonent  \n",
              "0         2.169307                 0.130032               0.347654  \n",
              "1        -0.362104                -2.255574               3.042168  \n",
              "2        -0.362104                 0.130032               1.021282  \n",
              "3         2.450575                 0.130032               0.010839  \n",
              "4        -0.362104                 0.130032               0.684468  "
            ],
            "text/html": [
              "\n",
              "  <div id=\"df-909844ac-e658-4d43-b5fc-caeaf8660472\">\n",
              "    <div class=\"colab-df-container\">\n",
              "      <div>\n",
              "<style scoped>\n",
              "    .dataframe tbody tr th:only-of-type {\n",
              "        vertical-align: middle;\n",
              "    }\n",
              "\n",
              "    .dataframe tbody tr th {\n",
              "        vertical-align: top;\n",
              "    }\n",
              "\n",
              "    .dataframe thead th {\n",
              "        text-align: right;\n",
              "    }\n",
              "</style>\n",
              "<table border=\"1\" class=\"dataframe\">\n",
              "  <thead>\n",
              "    <tr style=\"text-align: right;\">\n",
              "      <th></th>\n",
              "      <th>length</th>\n",
              "      <th>Only_Digits</th>\n",
              "      <th>Vowel_to_Consonent_Ratio</th>\n",
              "      <th>Only_One_Char</th>\n",
              "      <th>Number_Of_Digit</th>\n",
              "      <th>Consecutive_Vowel_Count</th>\n",
              "      <th>Consicutive_Consonent</th>\n",
              "    </tr>\n",
              "  </thead>\n",
              "  <tbody>\n",
              "    <tr>\n",
              "      <th>0</th>\n",
              "      <td>1.891397</td>\n",
              "      <td>1</td>\n",
              "      <td>-0.824942</td>\n",
              "      <td>0</td>\n",
              "      <td>2.169307</td>\n",
              "      <td>0.130032</td>\n",
              "      <td>0.347654</td>\n",
              "    </tr>\n",
              "    <tr>\n",
              "      <th>1</th>\n",
              "      <td>0.080370</td>\n",
              "      <td>0</td>\n",
              "      <td>-2.059821</td>\n",
              "      <td>1</td>\n",
              "      <td>-0.362104</td>\n",
              "      <td>-2.255574</td>\n",
              "      <td>3.042168</td>\n",
              "    </tr>\n",
              "    <tr>\n",
              "      <th>2</th>\n",
              "      <td>0.080370</td>\n",
              "      <td>0</td>\n",
              "      <td>-0.560325</td>\n",
              "      <td>1</td>\n",
              "      <td>-0.362104</td>\n",
              "      <td>0.130032</td>\n",
              "      <td>1.021282</td>\n",
              "    </tr>\n",
              "    <tr>\n",
              "      <th>3</th>\n",
              "      <td>1.740478</td>\n",
              "      <td>1</td>\n",
              "      <td>-0.660291</td>\n",
              "      <td>0</td>\n",
              "      <td>2.450575</td>\n",
              "      <td>0.130032</td>\n",
              "      <td>0.010839</td>\n",
              "    </tr>\n",
              "    <tr>\n",
              "      <th>4</th>\n",
              "      <td>-0.221468</td>\n",
              "      <td>0</td>\n",
              "      <td>-0.310408</td>\n",
              "      <td>1</td>\n",
              "      <td>-0.362104</td>\n",
              "      <td>0.130032</td>\n",
              "      <td>0.684468</td>\n",
              "    </tr>\n",
              "  </tbody>\n",
              "</table>\n",
              "</div>\n",
              "      <button class=\"colab-df-convert\" onclick=\"convertToInteractive('df-909844ac-e658-4d43-b5fc-caeaf8660472')\"\n",
              "              title=\"Convert this dataframe to an interactive table.\"\n",
              "              style=\"display:none;\">\n",
              "        \n",
              "  <svg xmlns=\"http://www.w3.org/2000/svg\" height=\"24px\"viewBox=\"0 0 24 24\"\n",
              "       width=\"24px\">\n",
              "    <path d=\"M0 0h24v24H0V0z\" fill=\"none\"/>\n",
              "    <path d=\"M18.56 5.44l.94 2.06.94-2.06 2.06-.94-2.06-.94-.94-2.06-.94 2.06-2.06.94zm-11 1L8.5 8.5l.94-2.06 2.06-.94-2.06-.94L8.5 2.5l-.94 2.06-2.06.94zm10 10l.94 2.06.94-2.06 2.06-.94-2.06-.94-.94-2.06-.94 2.06-2.06.94z\"/><path d=\"M17.41 7.96l-1.37-1.37c-.4-.4-.92-.59-1.43-.59-.52 0-1.04.2-1.43.59L10.3 9.45l-7.72 7.72c-.78.78-.78 2.05 0 2.83L4 21.41c.39.39.9.59 1.41.59.51 0 1.02-.2 1.41-.59l7.78-7.78 2.81-2.81c.8-.78.8-2.07 0-2.86zM5.41 20L4 18.59l7.72-7.72 1.47 1.35L5.41 20z\"/>\n",
              "  </svg>\n",
              "      </button>\n",
              "      \n",
              "  <style>\n",
              "    .colab-df-container {\n",
              "      display:flex;\n",
              "      flex-wrap:wrap;\n",
              "      gap: 12px;\n",
              "    }\n",
              "\n",
              "    .colab-df-convert {\n",
              "      background-color: #E8F0FE;\n",
              "      border: none;\n",
              "      border-radius: 50%;\n",
              "      cursor: pointer;\n",
              "      display: none;\n",
              "      fill: #1967D2;\n",
              "      height: 32px;\n",
              "      padding: 0 0 0 0;\n",
              "      width: 32px;\n",
              "    }\n",
              "\n",
              "    .colab-df-convert:hover {\n",
              "      background-color: #E2EBFA;\n",
              "      box-shadow: 0px 1px 2px rgba(60, 64, 67, 0.3), 0px 1px 3px 1px rgba(60, 64, 67, 0.15);\n",
              "      fill: #174EA6;\n",
              "    }\n",
              "\n",
              "    [theme=dark] .colab-df-convert {\n",
              "      background-color: #3B4455;\n",
              "      fill: #D2E3FC;\n",
              "    }\n",
              "\n",
              "    [theme=dark] .colab-df-convert:hover {\n",
              "      background-color: #434B5C;\n",
              "      box-shadow: 0px 1px 3px 1px rgba(0, 0, 0, 0.15);\n",
              "      filter: drop-shadow(0px 1px 2px rgba(0, 0, 0, 0.3));\n",
              "      fill: #FFFFFF;\n",
              "    }\n",
              "  </style>\n",
              "\n",
              "      <script>\n",
              "        const buttonEl =\n",
              "          document.querySelector('#df-909844ac-e658-4d43-b5fc-caeaf8660472 button.colab-df-convert');\n",
              "        buttonEl.style.display =\n",
              "          google.colab.kernel.accessAllowed ? 'block' : 'none';\n",
              "\n",
              "        async function convertToInteractive(key) {\n",
              "          const element = document.querySelector('#df-909844ac-e658-4d43-b5fc-caeaf8660472');\n",
              "          const dataTable =\n",
              "            await google.colab.kernel.invokeFunction('convertToInteractive',\n",
              "                                                     [key], {});\n",
              "          if (!dataTable) return;\n",
              "\n",
              "          const docLinkHtml = 'Like what you see? Visit the ' +\n",
              "            '<a target=\"_blank\" href=https://colab.research.google.com/notebooks/data_table.ipynb>data table notebook</a>'\n",
              "            + ' to learn more about interactive tables.';\n",
              "          element.innerHTML = '';\n",
              "          dataTable['output_type'] = 'display_data';\n",
              "          await google.colab.output.renderOutput(dataTable, element);\n",
              "          const docLink = document.createElement('div');\n",
              "          docLink.innerHTML = docLinkHtml;\n",
              "          element.appendChild(docLink);\n",
              "        }\n",
              "      </script>\n",
              "    </div>\n",
              "  </div>\n",
              "  "
            ]
          },
          "metadata": {},
          "execution_count": 268
        }
      ],
      "source": [
        "df2.head()"
      ]
    },
    {
      "cell_type": "markdown",
      "id": "c876639d",
      "metadata": {
        "id": "c876639d"
      },
      "source": [
        "# ---------------------------------------"
      ]
    },
    {
      "cell_type": "markdown",
      "id": "f89ce361",
      "metadata": {
        "id": "f89ce361"
      },
      "source": [
        "# saving df2 to a csv file"
      ]
    },
    {
      "cell_type": "code",
      "execution_count": 269,
      "id": "1bfa7ebc",
      "metadata": {
        "id": "1bfa7ebc"
      },
      "outputs": [],
      "source": [
        "df2.to_csv('Deployment_model.csv', index=False)"
      ]
    },
    {
      "cell_type": "markdown",
      "id": "9819da08",
      "metadata": {
        "id": "9819da08"
      },
      "source": [
        "# -----------------------------------------------"
      ]
    },
    {
      "cell_type": "code",
      "execution_count": 270,
      "id": "24154915",
      "metadata": {
        "id": "24154915"
      },
      "outputs": [],
      "source": [
        "df['isDGA'].replace(['dga','legit'],[0,1],inplace=True)"
      ]
    },
    {
      "cell_type": "code",
      "execution_count": 271,
      "id": "2da2ec42",
      "metadata": {
        "colab": {
          "base_uri": "https://localhost:8080/"
        },
        "id": "2da2ec42",
        "outputId": "e47e7209-f482-4bef-be2f-e2306ebaff5f"
      },
      "outputs": [
        {
          "output_type": "execute_result",
          "data": {
            "text/plain": [
              "230"
            ]
          },
          "metadata": {},
          "execution_count": 271
        }
      ],
      "source": [
        "df.TLD.nunique()"
      ]
    },
    {
      "cell_type": "code",
      "execution_count": 272,
      "id": "1fe223f5",
      "metadata": {
        "colab": {
          "base_uri": "https://localhost:8080/",
          "height": 270
        },
        "id": "1fe223f5",
        "outputId": "1b3f9167-a392-470a-b8f8-b11641613bd4"
      },
      "outputs": [
        {
          "output_type": "execute_result",
          "data": {
            "text/plain": [
              "     length  Only_Digits  Vowel_to_Consonent_Ratio  Only_One_Char  \\\n",
              "0  1.891397            1                 -0.824942              0   \n",
              "1  0.080370            0                 -2.059821              1   \n",
              "2  0.080370            0                 -0.560325              1   \n",
              "3  1.740478            1                 -0.660291              0   \n",
              "4 -0.221468            0                 -0.310408              1   \n",
              "\n",
              "   Number_Of_Digit  Consecutive_Vowel_Count  Consicutive_Consonent  \n",
              "0         2.169307                 0.130032               0.347654  \n",
              "1        -0.362104                -2.255574               3.042168  \n",
              "2        -0.362104                 0.130032               1.021282  \n",
              "3         2.450575                 0.130032               0.010839  \n",
              "4        -0.362104                 0.130032               0.684468  "
            ],
            "text/html": [
              "\n",
              "  <div id=\"df-25201af3-2f5c-403d-a2ee-247e338d113f\">\n",
              "    <div class=\"colab-df-container\">\n",
              "      <div>\n",
              "<style scoped>\n",
              "    .dataframe tbody tr th:only-of-type {\n",
              "        vertical-align: middle;\n",
              "    }\n",
              "\n",
              "    .dataframe tbody tr th {\n",
              "        vertical-align: top;\n",
              "    }\n",
              "\n",
              "    .dataframe thead th {\n",
              "        text-align: right;\n",
              "    }\n",
              "</style>\n",
              "<table border=\"1\" class=\"dataframe\">\n",
              "  <thead>\n",
              "    <tr style=\"text-align: right;\">\n",
              "      <th></th>\n",
              "      <th>length</th>\n",
              "      <th>Only_Digits</th>\n",
              "      <th>Vowel_to_Consonent_Ratio</th>\n",
              "      <th>Only_One_Char</th>\n",
              "      <th>Number_Of_Digit</th>\n",
              "      <th>Consecutive_Vowel_Count</th>\n",
              "      <th>Consicutive_Consonent</th>\n",
              "    </tr>\n",
              "  </thead>\n",
              "  <tbody>\n",
              "    <tr>\n",
              "      <th>0</th>\n",
              "      <td>1.891397</td>\n",
              "      <td>1</td>\n",
              "      <td>-0.824942</td>\n",
              "      <td>0</td>\n",
              "      <td>2.169307</td>\n",
              "      <td>0.130032</td>\n",
              "      <td>0.347654</td>\n",
              "    </tr>\n",
              "    <tr>\n",
              "      <th>1</th>\n",
              "      <td>0.080370</td>\n",
              "      <td>0</td>\n",
              "      <td>-2.059821</td>\n",
              "      <td>1</td>\n",
              "      <td>-0.362104</td>\n",
              "      <td>-2.255574</td>\n",
              "      <td>3.042168</td>\n",
              "    </tr>\n",
              "    <tr>\n",
              "      <th>2</th>\n",
              "      <td>0.080370</td>\n",
              "      <td>0</td>\n",
              "      <td>-0.560325</td>\n",
              "      <td>1</td>\n",
              "      <td>-0.362104</td>\n",
              "      <td>0.130032</td>\n",
              "      <td>1.021282</td>\n",
              "    </tr>\n",
              "    <tr>\n",
              "      <th>3</th>\n",
              "      <td>1.740478</td>\n",
              "      <td>1</td>\n",
              "      <td>-0.660291</td>\n",
              "      <td>0</td>\n",
              "      <td>2.450575</td>\n",
              "      <td>0.130032</td>\n",
              "      <td>0.010839</td>\n",
              "    </tr>\n",
              "    <tr>\n",
              "      <th>4</th>\n",
              "      <td>-0.221468</td>\n",
              "      <td>0</td>\n",
              "      <td>-0.310408</td>\n",
              "      <td>1</td>\n",
              "      <td>-0.362104</td>\n",
              "      <td>0.130032</td>\n",
              "      <td>0.684468</td>\n",
              "    </tr>\n",
              "  </tbody>\n",
              "</table>\n",
              "</div>\n",
              "      <button class=\"colab-df-convert\" onclick=\"convertToInteractive('df-25201af3-2f5c-403d-a2ee-247e338d113f')\"\n",
              "              title=\"Convert this dataframe to an interactive table.\"\n",
              "              style=\"display:none;\">\n",
              "        \n",
              "  <svg xmlns=\"http://www.w3.org/2000/svg\" height=\"24px\"viewBox=\"0 0 24 24\"\n",
              "       width=\"24px\">\n",
              "    <path d=\"M0 0h24v24H0V0z\" fill=\"none\"/>\n",
              "    <path d=\"M18.56 5.44l.94 2.06.94-2.06 2.06-.94-2.06-.94-.94-2.06-.94 2.06-2.06.94zm-11 1L8.5 8.5l.94-2.06 2.06-.94-2.06-.94L8.5 2.5l-.94 2.06-2.06.94zm10 10l.94 2.06.94-2.06 2.06-.94-2.06-.94-.94-2.06-.94 2.06-2.06.94z\"/><path d=\"M17.41 7.96l-1.37-1.37c-.4-.4-.92-.59-1.43-.59-.52 0-1.04.2-1.43.59L10.3 9.45l-7.72 7.72c-.78.78-.78 2.05 0 2.83L4 21.41c.39.39.9.59 1.41.59.51 0 1.02-.2 1.41-.59l7.78-7.78 2.81-2.81c.8-.78.8-2.07 0-2.86zM5.41 20L4 18.59l7.72-7.72 1.47 1.35L5.41 20z\"/>\n",
              "  </svg>\n",
              "      </button>\n",
              "      \n",
              "  <style>\n",
              "    .colab-df-container {\n",
              "      display:flex;\n",
              "      flex-wrap:wrap;\n",
              "      gap: 12px;\n",
              "    }\n",
              "\n",
              "    .colab-df-convert {\n",
              "      background-color: #E8F0FE;\n",
              "      border: none;\n",
              "      border-radius: 50%;\n",
              "      cursor: pointer;\n",
              "      display: none;\n",
              "      fill: #1967D2;\n",
              "      height: 32px;\n",
              "      padding: 0 0 0 0;\n",
              "      width: 32px;\n",
              "    }\n",
              "\n",
              "    .colab-df-convert:hover {\n",
              "      background-color: #E2EBFA;\n",
              "      box-shadow: 0px 1px 2px rgba(60, 64, 67, 0.3), 0px 1px 3px 1px rgba(60, 64, 67, 0.15);\n",
              "      fill: #174EA6;\n",
              "    }\n",
              "\n",
              "    [theme=dark] .colab-df-convert {\n",
              "      background-color: #3B4455;\n",
              "      fill: #D2E3FC;\n",
              "    }\n",
              "\n",
              "    [theme=dark] .colab-df-convert:hover {\n",
              "      background-color: #434B5C;\n",
              "      box-shadow: 0px 1px 3px 1px rgba(0, 0, 0, 0.15);\n",
              "      filter: drop-shadow(0px 1px 2px rgba(0, 0, 0, 0.3));\n",
              "      fill: #FFFFFF;\n",
              "    }\n",
              "  </style>\n",
              "\n",
              "      <script>\n",
              "        const buttonEl =\n",
              "          document.querySelector('#df-25201af3-2f5c-403d-a2ee-247e338d113f button.colab-df-convert');\n",
              "        buttonEl.style.display =\n",
              "          google.colab.kernel.accessAllowed ? 'block' : 'none';\n",
              "\n",
              "        async function convertToInteractive(key) {\n",
              "          const element = document.querySelector('#df-25201af3-2f5c-403d-a2ee-247e338d113f');\n",
              "          const dataTable =\n",
              "            await google.colab.kernel.invokeFunction('convertToInteractive',\n",
              "                                                     [key], {});\n",
              "          if (!dataTable) return;\n",
              "\n",
              "          const docLinkHtml = 'Like what you see? Visit the ' +\n",
              "            '<a target=\"_blank\" href=https://colab.research.google.com/notebooks/data_table.ipynb>data table notebook</a>'\n",
              "            + ' to learn more about interactive tables.';\n",
              "          element.innerHTML = '';\n",
              "          dataTable['output_type'] = 'display_data';\n",
              "          await google.colab.output.renderOutput(dataTable, element);\n",
              "          const docLink = document.createElement('div');\n",
              "          docLink.innerHTML = docLinkHtml;\n",
              "          element.appendChild(docLink);\n",
              "        }\n",
              "      </script>\n",
              "    </div>\n",
              "  </div>\n",
              "  "
            ]
          },
          "metadata": {},
          "execution_count": 272
        }
      ],
      "source": [
        "df2.head()"
      ]
    },
    {
      "cell_type": "code",
      "execution_count": 273,
      "id": "723ffc47",
      "metadata": {
        "colab": {
          "base_uri": "https://localhost:8080/",
          "height": 455
        },
        "id": "723ffc47",
        "outputId": "2add5dd3-2b1c-44e6-827b-41e795d0363f"
      },
      "outputs": [
        {
          "output_type": "execute_result",
          "data": {
            "text/plain": [
              "array([[<matplotlib.axes._subplots.AxesSubplot object at 0x7fcf4d5e5fd0>,\n",
              "        <matplotlib.axes._subplots.AxesSubplot object at 0x7fcf5093dd10>,\n",
              "        <matplotlib.axes._subplots.AxesSubplot object at 0x7fcf50909250>],\n",
              "       [<matplotlib.axes._subplots.AxesSubplot object at 0x7fcf50965650>,\n",
              "        <matplotlib.axes._subplots.AxesSubplot object at 0x7fcf50968890>,\n",
              "        <matplotlib.axes._subplots.AxesSubplot object at 0x7fcf509b4290>],\n",
              "       [<matplotlib.axes._subplots.AxesSubplot object at 0x7fcf5098f350>,\n",
              "        <matplotlib.axes._subplots.AxesSubplot object at 0x7fcf509eb750>,\n",
              "        <matplotlib.axes._subplots.AxesSubplot object at 0x7fcf509eb6d0>]],\n",
              "      dtype=object)"
            ]
          },
          "metadata": {},
          "execution_count": 273
        },
        {
          "output_type": "display_data",
          "data": {
            "text/plain": [
              "<Figure size 432x288 with 9 Axes>"
            ],
            "image/png": "[encoded data removed]"
          },
          "metadata": {
            "needs_background": "light"
          }
        }
      ],
      "source": [
        "df2.hist()"
      ]
    },
    {
      "cell_type": "code",
      "execution_count": 274,
      "id": "3ff2a216",
      "metadata": {
        "colab": {
          "base_uri": "https://localhost:8080/"
        },
        "id": "3ff2a216",
        "outputId": "09eecb64-d25a-45d1-a5ca-eaaf7a10d6e1"
      },
      "outputs": [
        {
          "output_type": "execute_result",
          "data": {
            "text/plain": [
              "length                       38\n",
              "Only_Digits                   2\n",
              "Vowel_to_Consonent_Ratio    190\n",
              "Only_One_Char                25\n",
              "Number_Of_Digit              29\n",
              "Consecutive_Vowel_Count      10\n",
              "Consicutive_Consonent        29\n",
              "dtype: int64"
            ]
          },
          "metadata": {},
          "execution_count": 274
        }
      ],
      "source": [
        "df2.nunique()"
      ]
    },
    {
      "cell_type": "code",
      "execution_count": 275,
      "id": "56899e92",
      "metadata": {
        "colab": {
          "base_uri": "https://localhost:8080/",
          "height": 333
        },
        "id": "56899e92",
        "outputId": "fad5feea-69f1-47e1-f657-f1a874879872"
      },
      "outputs": [
        {
          "output_type": "execute_result",
          "data": {
            "text/plain": [
              "                            length  Only_Digits  Vowel_to_Consonent_Ratio  \\\n",
              "length                    1.000000     0.580862                 -0.326244   \n",
              "Only_Digits               0.580862     1.000000                 -0.193860   \n",
              "Vowel_to_Consonent_Ratio -0.326244    -0.193860                  1.000000   \n",
              "Only_One_Char            -0.172321    -0.261866                  0.027623   \n",
              "Number_Of_Digit           0.693033     0.827217                 -0.172460   \n",
              "Consecutive_Vowel_Count   0.239140    -0.072295                  0.620168   \n",
              "Consicutive_Consonent     0.518232     0.018670                 -0.677033   \n",
              "\n",
              "                          Only_One_Char  Number_Of_Digit  \\\n",
              "length                        -0.172321         0.693033   \n",
              "Only_Digits                   -0.261866         0.827217   \n",
              "Vowel_to_Consonent_Ratio       0.027623        -0.172460   \n",
              "Only_One_Char                  1.000000        -0.216620   \n",
              "Number_Of_Digit               -0.216620         1.000000   \n",
              "Consecutive_Vowel_Count       -0.012782        -0.026262   \n",
              "Consicutive_Consonent         -0.007986         0.034145   \n",
              "\n",
              "                          Consecutive_Vowel_Count  Consicutive_Consonent  \n",
              "length                                   0.239140               0.518232  \n",
              "Only_Digits                             -0.072295               0.018670  \n",
              "Vowel_to_Consonent_Ratio                 0.620168              -0.677033  \n",
              "Only_One_Char                           -0.012782              -0.007986  \n",
              "Number_Of_Digit                         -0.026262               0.034145  \n",
              "Consecutive_Vowel_Count                  1.000000              -0.185048  \n",
              "Consicutive_Consonent                   -0.185048               1.000000  "
            ],
            "text/html": [
              "\n",
              "  <div id=\"df-ca2d75ff-1689-4d2a-a963-f19c2cdb861b\">\n",
              "    <div class=\"colab-df-container\">\n",
              "      <div>\n",
              "<style scoped>\n",
              "    .dataframe tbody tr th:only-of-type {\n",
              "        vertical-align: middle;\n",
              "    }\n",
              "\n",
              "    .dataframe tbody tr th {\n",
              "        vertical-align: top;\n",
              "    }\n",
              "\n",
              "    .dataframe thead th {\n",
              "        text-align: right;\n",
              "    }\n",
              "</style>\n",
              "<table border=\"1\" class=\"dataframe\">\n",
              "  <thead>\n",
              "    <tr style=\"text-align: right;\">\n",
              "      <th></th>\n",
              "      <th>length</th>\n",
              "      <th>Only_Digits</th>\n",
              "      <th>Vowel_to_Consonent_Ratio</th>\n",
              "      <th>Only_One_Char</th>\n",
              "      <th>Number_Of_Digit</th>\n",
              "      <th>Consecutive_Vowel_Count</th>\n",
              "      <th>Consicutive_Consonent</th>\n",
              "    </tr>\n",
              "  </thead>\n",
              "  <tbody>\n",
              "    <tr>\n",
              "      <th>length</th>\n",
              "      <td>1.000000</td>\n",
              "      <td>0.580862</td>\n",
              "      <td>-0.326244</td>\n",
              "      <td>-0.172321</td>\n",
              "      <td>0.693033</td>\n",
              "      <td>0.239140</td>\n",
              "      <td>0.518232</td>\n",
              "    </tr>\n",
              "    <tr>\n",
              "      <th>Only_Digits</th>\n",
              "      <td>0.580862</td>\n",
              "      <td>1.000000</td>\n",
              "      <td>-0.193860</td>\n",
              "      <td>-0.261866</td>\n",
              "      <td>0.827217</td>\n",
              "      <td>-0.072295</td>\n",
              "      <td>0.018670</td>\n",
              "    </tr>\n",
              "    <tr>\n",
              "      <th>Vowel_to_Consonent_Ratio</th>\n",
              "      <td>-0.326244</td>\n",
              "      <td>-0.193860</td>\n",
              "      <td>1.000000</td>\n",
              "      <td>0.027623</td>\n",
              "      <td>-0.172460</td>\n",
              "      <td>0.620168</td>\n",
              "      <td>-0.677033</td>\n",
              "    </tr>\n",
              "    <tr>\n",
              "      <th>Only_One_Char</th>\n",
              "      <td>-0.172321</td>\n",
              "      <td>-0.261866</td>\n",
              "      <td>0.027623</td>\n",
              "      <td>1.000000</td>\n",
              "      <td>-0.216620</td>\n",
              "      <td>-0.012782</td>\n",
              "      <td>-0.007986</td>\n",
              "    </tr>\n",
              "    <tr>\n",
              "      <th>Number_Of_Digit</th>\n",
              "      <td>0.693033</td>\n",
              "      <td>0.827217</td>\n",
              "      <td>-0.172460</td>\n",
              "      <td>-0.216620</td>\n",
              "      <td>1.000000</td>\n",
              "      <td>-0.026262</td>\n",
              "      <td>0.034145</td>\n",
              "    </tr>\n",
              "    <tr>\n",
              "      <th>Consecutive_Vowel_Count</th>\n",
              "      <td>0.239140</td>\n",
              "      <td>-0.072295</td>\n",
              "      <td>0.620168</td>\n",
              "      <td>-0.012782</td>\n",
              "      <td>-0.026262</td>\n",
              "      <td>1.000000</td>\n",
              "      <td>-0.185048</td>\n",
              "    </tr>\n",
              "    <tr>\n",
              "      <th>Consicutive_Consonent</th>\n",
              "      <td>0.518232</td>\n",
              "      <td>0.018670</td>\n",
              "      <td>-0.677033</td>\n",
              "      <td>-0.007986</td>\n",
              "      <td>0.034145</td>\n",
              "      <td>-0.185048</td>\n",
              "      <td>1.000000</td>\n",
              "    </tr>\n",
              "  </tbody>\n",
              "</table>\n",
              "</div>\n",
              "      <button class=\"colab-df-convert\" onclick=\"convertToInteractive('df-ca2d75ff-1689-4d2a-a963-f19c2cdb861b')\"\n",
              "              title=\"Convert this dataframe to an interactive table.\"\n",
              "              style=\"display:none;\">\n",
              "        \n",
              "  <svg xmlns=\"http://www.w3.org/2000/svg\" height=\"24px\"viewBox=\"0 0 24 24\"\n",
              "       width=\"24px\">\n",
              "    <path d=\"M0 0h24v24H0V0z\" fill=\"none\"/>\n",
              "    <path d=\"M18.56 5.44l.94 2.06.94-2.06 2.06-.94-2.06-.94-.94-2.06-.94 2.06-2.06.94zm-11 1L8.5 8.5l.94-2.06 2.06-.94-2.06-.94L8.5 2.5l-.94 2.06-2.06.94zm10 10l.94 2.06.94-2.06 2.06-.94-2.06-.94-.94-2.06-.94 2.06-2.06.94z\"/><path d=\"M17.41 7.96l-1.37-1.37c-.4-.4-.92-.59-1.43-.59-.52 0-1.04.2-1.43.59L10.3 9.45l-7.72 7.72c-.78.78-.78 2.05 0 2.83L4 21.41c.39.39.9.59 1.41.59.51 0 1.02-.2 1.41-.59l7.78-7.78 2.81-2.81c.8-.78.8-2.07 0-2.86zM5.41 20L4 18.59l7.72-7.72 1.47 1.35L5.41 20z\"/>\n",
              "  </svg>\n",
              "      </button>\n",
              "      \n",
              "  <style>\n",
              "    .colab-df-container {\n",
              "      display:flex;\n",
              "      flex-wrap:wrap;\n",
              "      gap: 12px;\n",
              "    }\n",
              "\n",
              "    .colab-df-convert {\n",
              "      background-color: #E8F0FE;\n",
              "      border: none;\n",
              "      border-radius: 50%;\n",
              "      cursor: pointer;\n",
              "      display: none;\n",
              "      fill: #1967D2;\n",
              "      height: 32px;\n",
              "      padding: 0 0 0 0;\n",
              "      width: 32px;\n",
              "    }\n",
              "\n",
              "    .colab-df-convert:hover {\n",
              "      background-color: #E2EBFA;\n",
              "      box-shadow: 0px 1px 2px rgba(60, 64, 67, 0.3), 0px 1px 3px 1px rgba(60, 64, 67, 0.15);\n",
              "      fill: #174EA6;\n",
              "    }\n",
              "\n",
              "    [theme=dark] .colab-df-convert {\n",
              "      background-color: #3B4455;\n",
              "      fill: #D2E3FC;\n",
              "    }\n",
              "\n",
              "    [theme=dark] .colab-df-convert:hover {\n",
              "      background-color: #434B5C;\n",
              "      box-shadow: 0px 1px 3px 1px rgba(0, 0, 0, 0.15);\n",
              "      filter: drop-shadow(0px 1px 2px rgba(0, 0, 0, 0.3));\n",
              "      fill: #FFFFFF;\n",
              "    }\n",
              "  </style>\n",
              "\n",
              "      <script>\n",
              "        const buttonEl =\n",
              "          document.querySelector('#df-ca2d75ff-1689-4d2a-a963-f19c2cdb861b button.colab-df-convert');\n",
              "        buttonEl.style.display =\n",
              "          google.colab.kernel.accessAllowed ? 'block' : 'none';\n",
              "\n",
              "        async function convertToInteractive(key) {\n",
              "          const element = document.querySelector('#df-ca2d75ff-1689-4d2a-a963-f19c2cdb861b');\n",
              "          const dataTable =\n",
              "            await google.colab.kernel.invokeFunction('convertToInteractive',\n",
              "                                                     [key], {});\n",
              "          if (!dataTable) return;\n",
              "\n",
              "          const docLinkHtml = 'Like what you see? Visit the ' +\n",
              "            '<a target=\"_blank\" href=https://colab.research.google.com/notebooks/data_table.ipynb>data table notebook</a>'\n",
              "            + ' to learn more about interactive tables.';\n",
              "          element.innerHTML = '';\n",
              "          dataTable['output_type'] = 'display_data';\n",
              "          await google.colab.output.renderOutput(dataTable, element);\n",
              "          const docLink = document.createElement('div');\n",
              "          docLink.innerHTML = docLinkHtml;\n",
              "          element.appendChild(docLink);\n",
              "        }\n",
              "      </script>\n",
              "    </div>\n",
              "  </div>\n",
              "  "
            ]
          },
          "metadata": {},
          "execution_count": 275
        }
      ],
      "source": [
        "df2.corr()"
      ]
    },
    {
      "cell_type": "code",
      "execution_count": 276,
      "id": "3c0f39ae",
      "metadata": {
        "colab": {
          "base_uri": "https://localhost:8080/",
          "height": 289
        },
        "id": "3c0f39ae",
        "outputId": "b064e3cf-f58c-4580-d571-2ad571e686af"
      },
      "outputs": [
        {
          "output_type": "execute_result",
          "data": {
            "text/plain": [
              "<pandas.io.formats.style.Styler at 0x7fcf50ae4090>"
            ],
            "text/html": [
              "<style type=\"text/css\">\n",
              "#T_8ad58_row0_col0, #T_8ad58_row1_col1, #T_8ad58_row2_col2, #T_8ad58_row3_col3, #T_8ad58_row4_col4, #T_8ad58_row5_col5, #T_8ad58_row6_col6 {\n",
              "  background-color: #b40426;\n",
              "  color: #f1f1f1;\n",
              "}\n",
              "#T_8ad58_row0_col1 {\n",
              "  background-color: #f7b194;\n",
              "  color: #000000;\n",
              "}\n",
              "#T_8ad58_row0_col2, #T_8ad58_row1_col3, #T_8ad58_row2_col6, #T_8ad58_row3_col1, #T_8ad58_row4_col3, #T_8ad58_row5_col6, #T_8ad58_row6_col2 {\n",
              "  background-color: #3b4cc0;\n",
              "  color: #f1f1f1;\n",
              "}\n",
              "#T_8ad58_row0_col3 {\n",
              "  background-color: #5e7de7;\n",
              "  color: #f1f1f1;\n",
              "}\n",
              "#T_8ad58_row0_col4 {\n",
              "  background-color: #f29274;\n",
              "  color: #f1f1f1;\n",
              "}\n",
              "#T_8ad58_row0_col5 {\n",
              "  background-color: #c9d7f0;\n",
              "  color: #000000;\n",
              "}\n",
              "#T_8ad58_row0_col6 {\n",
              "  background-color: #f5c0a7;\n",
              "  color: #000000;\n",
              "}\n",
              "#T_8ad58_row1_col0 {\n",
              "  background-color: #f7b89c;\n",
              "  color: #000000;\n",
              "}\n",
              "#T_8ad58_row1_col2 {\n",
              "  background-color: #4a63d3;\n",
              "  color: #f1f1f1;\n",
              "}\n",
              "#T_8ad58_row1_col4 {\n",
              "  background-color: #e16751;\n",
              "  color: #f1f1f1;\n",
              "}\n",
              "#T_8ad58_row1_col5 {\n",
              "  background-color: #6a8bef;\n",
              "  color: #f1f1f1;\n",
              "}\n",
              "#T_8ad58_row1_col6 {\n",
              "  background-color: #82a6fb;\n",
              "  color: #f1f1f1;\n",
              "}\n",
              "#T_8ad58_row2_col0 {\n",
              "  background-color: #7ea1fa;\n",
              "  color: #f1f1f1;\n",
              "}\n",
              "#T_8ad58_row2_col1 {\n",
              "  background-color: #9abbff;\n",
              "  color: #000000;\n",
              "}\n",
              "#T_8ad58_row2_col3 {\n",
              "  background-color: #c6d6f1;\n",
              "  color: #000000;\n",
              "}\n",
              "#T_8ad58_row2_col4 {\n",
              "  background-color: #9fbfff;\n",
              "  color: #000000;\n",
              "}\n",
              "#T_8ad58_row2_col5 {\n",
              "  background-color: #f18f71;\n",
              "  color: #f1f1f1;\n",
              "}\n",
              "#T_8ad58_row3_col0 {\n",
              "  background-color: #506bda;\n",
              "  color: #f1f1f1;\n",
              "}\n",
              "#T_8ad58_row3_col2 {\n",
              "  background-color: #85a8fc;\n",
              "  color: #f1f1f1;\n",
              "}\n",
              "#T_8ad58_row3_col4, #T_8ad58_row4_col2 {\n",
              "  background-color: #455cce;\n",
              "  color: #f1f1f1;\n",
              "}\n",
              "#T_8ad58_row3_col5 {\n",
              "  background-color: #7a9df8;\n",
              "  color: #f1f1f1;\n",
              "}\n",
              "#T_8ad58_row3_col6 {\n",
              "  background-color: #7b9ff9;\n",
              "  color: #f1f1f1;\n",
              "}\n",
              "#T_8ad58_row4_col0 {\n",
              "  background-color: #f49a7b;\n",
              "  color: #000000;\n",
              "}\n",
              "#T_8ad58_row4_col1 {\n",
              "  background-color: #e26952;\n",
              "  color: #f1f1f1;\n",
              "}\n",
              "#T_8ad58_row4_col5 {\n",
              "  background-color: #6c8ff1;\n",
              "  color: #f1f1f1;\n",
              "}\n",
              "#T_8ad58_row4_col6 {\n",
              "  background-color: #7da0f9;\n",
              "  color: #f1f1f1;\n",
              "}\n",
              "#T_8ad58_row5_col0 {\n",
              "  background-color: #b2ccfb;\n",
              "  color: #000000;\n",
              "}\n",
              "#T_8ad58_row5_col1 {\n",
              "  background-color: #5875e1;\n",
              "  color: #f1f1f1;\n",
              "}\n",
              "#T_8ad58_row5_col2 {\n",
              "  background-color: #f7b497;\n",
              "  color: #000000;\n",
              "}\n",
              "#T_8ad58_row5_col3 {\n",
              "  background-color: #688aef;\n",
              "  color: #f1f1f1;\n",
              "}\n",
              "#T_8ad58_row5_col4 {\n",
              "  background-color: #6485ec;\n",
              "  color: #f1f1f1;\n",
              "}\n",
              "#T_8ad58_row6_col0 {\n",
              "  background-color: #f7a889;\n",
              "  color: #000000;\n",
              "}\n",
              "#T_8ad58_row6_col1 {\n",
              "  background-color: #c5d6f2;\n",
              "  color: #000000;\n",
              "}\n",
              "#T_8ad58_row6_col3 {\n",
              "  background-color: #c0d4f5;\n",
              "  color: #000000;\n",
              "}\n",
              "#T_8ad58_row6_col4 {\n",
              "  background-color: #c7d7f0;\n",
              "  color: #000000;\n",
              "}\n",
              "#T_8ad58_row6_col5 {\n",
              "  background-color: #9dbdff;\n",
              "  color: #000000;\n",
              "}\n",
              "</style>\n",
              "<table id=\"T_8ad58_\" class=\"dataframe\">\n",
              "  <thead>\n",
              "    <tr>\n",
              "      <th class=\"blank level0\" >&nbsp;</th>\n",
              "      <th class=\"col_heading level0 col0\" >length</th>\n",
              "      <th class=\"col_heading level0 col1\" >Only_Digits</th>\n",
              "      <th class=\"col_heading level0 col2\" >Vowel_to_Consonent_Ratio</th>\n",
              "      <th class=\"col_heading level0 col3\" >Only_One_Char</th>\n",
              "      <th class=\"col_heading level0 col4\" >Number_Of_Digit</th>\n",
              "      <th class=\"col_heading level0 col5\" >Consecutive_Vowel_Count</th>\n",
              "      <th class=\"col_heading level0 col6\" >Consicutive_Consonent</th>\n",
              "    </tr>\n",
              "  </thead>\n",
              "  <tbody>\n",
              "    <tr>\n",
              "      <th id=\"T_8ad58_level0_row0\" class=\"row_heading level0 row0\" >length</th>\n",
              "      <td id=\"T_8ad58_row0_col0\" class=\"data row0 col0\" >1.0</td>\n",
              "      <td id=\"T_8ad58_row0_col1\" class=\"data row0 col1\" >0.581</td>\n",
              "      <td id=\"T_8ad58_row0_col2\" class=\"data row0 col2\" >-0.326</td>\n",
              "      <td id=\"T_8ad58_row0_col3\" class=\"data row0 col3\" >-0.172</td>\n",
              "      <td id=\"T_8ad58_row0_col4\" class=\"data row0 col4\" >0.693</td>\n",
              "      <td id=\"T_8ad58_row0_col5\" class=\"data row0 col5\" >0.239</td>\n",
              "      <td id=\"T_8ad58_row0_col6\" class=\"data row0 col6\" >0.518</td>\n",
              "    </tr>\n",
              "    <tr>\n",
              "      <th id=\"T_8ad58_level0_row1\" class=\"row_heading level0 row1\" >Only_Digits</th>\n",
              "      <td id=\"T_8ad58_row1_col0\" class=\"data row1 col0\" >0.581</td>\n",
              "      <td id=\"T_8ad58_row1_col1\" class=\"data row1 col1\" >1.0</td>\n",
              "      <td id=\"T_8ad58_row1_col2\" class=\"data row1 col2\" >-0.194</td>\n",
              "      <td id=\"T_8ad58_row1_col3\" class=\"data row1 col3\" >-0.262</td>\n",
              "      <td id=\"T_8ad58_row1_col4\" class=\"data row1 col4\" >0.827</td>\n",
              "      <td id=\"T_8ad58_row1_col5\" class=\"data row1 col5\" >-0.0723</td>\n",
              "      <td id=\"T_8ad58_row1_col6\" class=\"data row1 col6\" >0.0187</td>\n",
              "    </tr>\n",
              "    <tr>\n",
              "      <th id=\"T_8ad58_level0_row2\" class=\"row_heading level0 row2\" >Vowel_to_Consonent_Ratio</th>\n",
              "      <td id=\"T_8ad58_row2_col0\" class=\"data row2 col0\" >-0.326</td>\n",
              "      <td id=\"T_8ad58_row2_col1\" class=\"data row2 col1\" >-0.194</td>\n",
              "      <td id=\"T_8ad58_row2_col2\" class=\"data row2 col2\" >1.0</td>\n",
              "      <td id=\"T_8ad58_row2_col3\" class=\"data row2 col3\" >0.0276</td>\n",
              "      <td id=\"T_8ad58_row2_col4\" class=\"data row2 col4\" >-0.172</td>\n",
              "      <td id=\"T_8ad58_row2_col5\" class=\"data row2 col5\" >0.62</td>\n",
              "      <td id=\"T_8ad58_row2_col6\" class=\"data row2 col6\" >-0.677</td>\n",
              "    </tr>\n",
              "    <tr>\n",
              "      <th id=\"T_8ad58_level0_row3\" class=\"row_heading level0 row3\" >Only_One_Char</th>\n",
              "      <td id=\"T_8ad58_row3_col0\" class=\"data row3 col0\" >-0.172</td>\n",
              "      <td id=\"T_8ad58_row3_col1\" class=\"data row3 col1\" >-0.262</td>\n",
              "      <td id=\"T_8ad58_row3_col2\" class=\"data row3 col2\" >0.0276</td>\n",
              "      <td id=\"T_8ad58_row3_col3\" class=\"data row3 col3\" >1.0</td>\n",
              "      <td id=\"T_8ad58_row3_col4\" class=\"data row3 col4\" >-0.217</td>\n",
              "      <td id=\"T_8ad58_row3_col5\" class=\"data row3 col5\" >-0.0128</td>\n",
              "      <td id=\"T_8ad58_row3_col6\" class=\"data row3 col6\" >-0.00799</td>\n",
              "    </tr>\n",
              "    <tr>\n",
              "      <th id=\"T_8ad58_level0_row4\" class=\"row_heading level0 row4\" >Number_Of_Digit</th>\n",
              "      <td id=\"T_8ad58_row4_col0\" class=\"data row4 col0\" >0.693</td>\n",
              "      <td id=\"T_8ad58_row4_col1\" class=\"data row4 col1\" >0.827</td>\n",
              "      <td id=\"T_8ad58_row4_col2\" class=\"data row4 col2\" >-0.172</td>\n",
              "      <td id=\"T_8ad58_row4_col3\" class=\"data row4 col3\" >-0.217</td>\n",
              "      <td id=\"T_8ad58_row4_col4\" class=\"data row4 col4\" >1.0</td>\n",
              "      <td id=\"T_8ad58_row4_col5\" class=\"data row4 col5\" >-0.0263</td>\n",
              "      <td id=\"T_8ad58_row4_col6\" class=\"data row4 col6\" >0.0341</td>\n",
              "    </tr>\n",
              "    <tr>\n",
              "      <th id=\"T_8ad58_level0_row5\" class=\"row_heading level0 row5\" >Consecutive_Vowel_Count</th>\n",
              "      <td id=\"T_8ad58_row5_col0\" class=\"data row5 col0\" >0.239</td>\n",
              "      <td id=\"T_8ad58_row5_col1\" class=\"data row5 col1\" >-0.0723</td>\n",
              "      <td id=\"T_8ad58_row5_col2\" class=\"data row5 col2\" >0.62</td>\n",
              "      <td id=\"T_8ad58_row5_col3\" class=\"data row5 col3\" >-0.0128</td>\n",
              "      <td id=\"T_8ad58_row5_col4\" class=\"data row5 col4\" >-0.0263</td>\n",
              "      <td id=\"T_8ad58_row5_col5\" class=\"data row5 col5\" >1.0</td>\n",
              "      <td id=\"T_8ad58_row5_col6\" class=\"data row5 col6\" >-0.185</td>\n",
              "    </tr>\n",
              "    <tr>\n",
              "      <th id=\"T_8ad58_level0_row6\" class=\"row_heading level0 row6\" >Consicutive_Consonent</th>\n",
              "      <td id=\"T_8ad58_row6_col0\" class=\"data row6 col0\" >0.518</td>\n",
              "      <td id=\"T_8ad58_row6_col1\" class=\"data row6 col1\" >0.0187</td>\n",
              "      <td id=\"T_8ad58_row6_col2\" class=\"data row6 col2\" >-0.677</td>\n",
              "      <td id=\"T_8ad58_row6_col3\" class=\"data row6 col3\" >-0.00799</td>\n",
              "      <td id=\"T_8ad58_row6_col4\" class=\"data row6 col4\" >0.0341</td>\n",
              "      <td id=\"T_8ad58_row6_col5\" class=\"data row6 col5\" >-0.185</td>\n",
              "      <td id=\"T_8ad58_row6_col6\" class=\"data row6 col6\" >1.0</td>\n",
              "    </tr>\n",
              "  </tbody>\n",
              "</table>\n"
            ]
          },
          "metadata": {},
          "execution_count": 276
        }
      ],
      "source": [
        "df2.corr().style.format(\"{:.3}\").background_gradient(cmap=plt.get_cmap('coolwarm'),axis =1)"
      ]
    },
    {
      "cell_type": "code",
      "execution_count": 277,
      "id": "805a1957",
      "metadata": {
        "id": "805a1957"
      },
      "outputs": [],
      "source": [
        "X = df2\n",
        "y = df.isDGA"
      ]
    },
    {
      "cell_type": "code",
      "execution_count": 278,
      "id": "fed07df1",
      "metadata": {
        "id": "fed07df1"
      },
      "outputs": [],
      "source": [
        "X_train,X_test,y_train,y_test = train_test_split(X,y,test_size=0.2,random_state=42)"
      ]
    },
    {
      "cell_type": "code",
      "execution_count": 278,
      "id": "9e27d6e0-2472-4a4c-b756-bf4746dc9286",
      "metadata": {
        "id": "9e27d6e0-2472-4a4c-b756-bf4746dc9286"
      },
      "outputs": [],
      "source": []
    },
    {
      "cell_type": "markdown",
      "id": "oxbKPPfyBwXW",
      "metadata": {
        "id": "oxbKPPfyBwXW"
      },
      "source": [
        "### Catboost"
      ]
    },
    {
      "cell_type": "code",
      "execution_count": 287,
      "id": "DGEGpXr09MHQ",
      "metadata": {
        "id": "DGEGpXr09MHQ"
      },
      "outputs": [],
      "source": [
        "model = CatBoostClassifier(task_type='GPU',iterations=1000,random_state = 2021,eval_metric=\"Logloss\")"
      ]
    },
    {
      "cell_type": "code",
      "execution_count": 288,
      "id": "lq9lyQdi9MKa",
      "metadata": {
        "colab": {
          "base_uri": "https://localhost:8080/",
          "height": 1000,
          "referenced_widgets": [
            "30ff628fdf274e299446f72123e72841"
          ]
        },
        "id": "lq9lyQdi9MKa",
        "outputId": "20d69fb1-1005-4cd6-ed42-bf0b4cbfd43f"
      },
      "outputs": [
        {
          "output_type": "display_data",
          "data": {
            "text/plain": [
              "MetricVisualizer(layout=Layout(align_self='stretch', height='500px'))"
            ],
            "application/vnd.jupyter.widget-view+json": {
              "version_major": 2,
              "version_minor": 0,
              "model_id": "30ff628fdf274e299446f72123e72841"
            }
          },
          "metadata": {}
        },
        {
          "output_type": "stream",
          "name": "stdout",
          "text": [
            "Learning rate set to 0.047142\n",
            "0:\tlearn: 0.6253191\ttest: 0.6255147\tbest: 0.6255147 (0)\ttotal: 10.8ms\tremaining: 10.8s\n",
            "1:\tlearn: 0.5723669\ttest: 0.5727615\tbest: 0.5727615 (1)\ttotal: 20.6ms\tremaining: 10.3s\n",
            "2:\tlearn: 0.5321262\ttest: 0.5325848\tbest: 0.5325848 (2)\ttotal: 30.4ms\tremaining: 10.1s\n",
            "3:\tlearn: 0.4974619\ttest: 0.4980339\tbest: 0.4980339 (3)\ttotal: 40.3ms\tremaining: 10s\n",
            "4:\tlearn: 0.4690590\ttest: 0.4696973\tbest: 0.4696973 (4)\ttotal: 50.3ms\tremaining: 10s\n",
            "5:\tlearn: 0.4383632\ttest: 0.4390187\tbest: 0.4390187 (5)\ttotal: 60.2ms\tremaining: 9.98s\n",
            "6:\tlearn: 0.4170601\ttest: 0.4177311\tbest: 0.4177311 (6)\ttotal: 70.4ms\tremaining: 9.99s\n",
            "7:\tlearn: 0.3932693\ttest: 0.3938931\tbest: 0.3938931 (7)\ttotal: 80.5ms\tremaining: 9.98s\n",
            "8:\tlearn: 0.3781355\ttest: 0.3787532\tbest: 0.3787532 (8)\ttotal: 91.4ms\tremaining: 10.1s\n",
            "9:\tlearn: 0.3654236\ttest: 0.3660725\tbest: 0.3660725 (9)\ttotal: 101ms\tremaining: 10s\n",
            "10:\tlearn: 0.3541701\ttest: 0.3547591\tbest: 0.3547591 (10)\ttotal: 112ms\tremaining: 10s\n",
            "11:\tlearn: 0.3440785\ttest: 0.3445328\tbest: 0.3445328 (11)\ttotal: 129ms\tremaining: 10.6s\n",
            "12:\tlearn: 0.3370330\ttest: 0.3373381\tbest: 0.3373381 (12)\ttotal: 139ms\tremaining: 10.5s\n",
            "13:\tlearn: 0.3285798\ttest: 0.3288442\tbest: 0.3288442 (13)\ttotal: 148ms\tremaining: 10.5s\n",
            "14:\tlearn: 0.3220710\ttest: 0.3222302\tbest: 0.3222302 (14)\ttotal: 159ms\tremaining: 10.4s\n",
            "15:\tlearn: 0.3150943\ttest: 0.3151269\tbest: 0.3151269 (15)\ttotal: 168ms\tremaining: 10.3s\n",
            "16:\tlearn: 0.3104014\ttest: 0.3103201\tbest: 0.3103201 (16)\ttotal: 178ms\tremaining: 10.3s\n",
            "17:\tlearn: 0.3028979\ttest: 0.3028078\tbest: 0.3028078 (17)\ttotal: 193ms\tremaining: 10.5s\n",
            "18:\tlearn: 0.2982656\ttest: 0.2980930\tbest: 0.2980930 (18)\ttotal: 203ms\tremaining: 10.5s\n",
            "19:\tlearn: 0.2944631\ttest: 0.2942600\tbest: 0.2942600 (19)\ttotal: 213ms\tremaining: 10.4s\n",
            "20:\tlearn: 0.2907218\ttest: 0.2904760\tbest: 0.2904760 (20)\ttotal: 223ms\tremaining: 10.4s\n",
            "21:\tlearn: 0.2880548\ttest: 0.2877450\tbest: 0.2877450 (21)\ttotal: 236ms\tremaining: 10.5s\n",
            "22:\tlearn: 0.2853413\ttest: 0.2849694\tbest: 0.2849694 (22)\ttotal: 246ms\tremaining: 10.5s\n",
            "23:\tlearn: 0.2831246\ttest: 0.2826821\tbest: 0.2826821 (23)\ttotal: 256ms\tremaining: 10.4s\n",
            "24:\tlearn: 0.2799596\ttest: 0.2794919\tbest: 0.2794919 (24)\ttotal: 266ms\tremaining: 10.4s\n",
            "25:\tlearn: 0.2775987\ttest: 0.2770851\tbest: 0.2770851 (25)\ttotal: 275ms\tremaining: 10.3s\n",
            "26:\tlearn: 0.2757844\ttest: 0.2752519\tbest: 0.2752519 (26)\ttotal: 283ms\tremaining: 10.2s\n",
            "27:\tlearn: 0.2740421\ttest: 0.2734739\tbest: 0.2734739 (27)\ttotal: 292ms\tremaining: 10.1s\n",
            "28:\tlearn: 0.2721541\ttest: 0.2714883\tbest: 0.2714883 (28)\ttotal: 301ms\tremaining: 10.1s\n",
            "29:\tlearn: 0.2709907\ttest: 0.2702852\tbest: 0.2702852 (29)\ttotal: 310ms\tremaining: 10s\n",
            "30:\tlearn: 0.2683138\ttest: 0.2676021\tbest: 0.2676021 (30)\ttotal: 319ms\tremaining: 9.96s\n",
            "31:\tlearn: 0.2668005\ttest: 0.2660440\tbest: 0.2660440 (31)\ttotal: 327ms\tremaining: 9.9s\n",
            "32:\tlearn: 0.2648042\ttest: 0.2640403\tbest: 0.2640403 (32)\ttotal: 336ms\tremaining: 9.86s\n",
            "33:\tlearn: 0.2634839\ttest: 0.2626973\tbest: 0.2626973 (33)\ttotal: 345ms\tremaining: 9.8s\n",
            "34:\tlearn: 0.2627372\ttest: 0.2619407\tbest: 0.2619407 (34)\ttotal: 355ms\tremaining: 9.79s\n",
            "35:\tlearn: 0.2619449\ttest: 0.2611217\tbest: 0.2611217 (35)\ttotal: 364ms\tremaining: 9.75s\n",
            "36:\tlearn: 0.2611011\ttest: 0.2602539\tbest: 0.2602539 (36)\ttotal: 373ms\tremaining: 9.71s\n",
            "37:\tlearn: 0.2600558\ttest: 0.2592054\tbest: 0.2592054 (37)\ttotal: 382ms\tremaining: 9.68s\n",
            "38:\tlearn: 0.2592288\ttest: 0.2583191\tbest: 0.2583191 (38)\ttotal: 396ms\tremaining: 9.75s\n",
            "39:\tlearn: 0.2585120\ttest: 0.2575568\tbest: 0.2575568 (39)\ttotal: 404ms\tremaining: 9.71s\n",
            "40:\tlearn: 0.2579388\ttest: 0.2569722\tbest: 0.2569722 (40)\ttotal: 413ms\tremaining: 9.67s\n",
            "41:\tlearn: 0.2573265\ttest: 0.2563277\tbest: 0.2563277 (41)\ttotal: 422ms\tremaining: 9.63s\n",
            "42:\tlearn: 0.2565382\ttest: 0.2555167\tbest: 0.2555167 (42)\ttotal: 431ms\tremaining: 9.59s\n",
            "43:\tlearn: 0.2559627\ttest: 0.2548861\tbest: 0.2548861 (43)\ttotal: 440ms\tremaining: 9.56s\n",
            "44:\tlearn: 0.2555071\ttest: 0.2544097\tbest: 0.2544097 (44)\ttotal: 449ms\tremaining: 9.52s\n",
            "45:\tlearn: 0.2549597\ttest: 0.2538859\tbest: 0.2538859 (45)\ttotal: 457ms\tremaining: 9.48s\n",
            "46:\tlearn: 0.2545075\ttest: 0.2534279\tbest: 0.2534279 (46)\ttotal: 465ms\tremaining: 9.43s\n",
            "47:\tlearn: 0.2541239\ttest: 0.2530548\tbest: 0.2530548 (47)\ttotal: 473ms\tremaining: 9.38s\n",
            "48:\tlearn: 0.2536324\ttest: 0.2525330\tbest: 0.2525330 (48)\ttotal: 481ms\tremaining: 9.34s\n",
            "49:\tlearn: 0.2531531\ttest: 0.2520212\tbest: 0.2520212 (49)\ttotal: 489ms\tremaining: 9.29s\n",
            "50:\tlearn: 0.2527100\ttest: 0.2515557\tbest: 0.2515557 (50)\ttotal: 497ms\tremaining: 9.25s\n",
            "51:\tlearn: 0.2522968\ttest: 0.2511076\tbest: 0.2511076 (51)\ttotal: 505ms\tremaining: 9.21s\n",
            "52:\tlearn: 0.2516119\ttest: 0.2503734\tbest: 0.2503734 (52)\ttotal: 513ms\tremaining: 9.17s\n",
            "53:\tlearn: 0.2512799\ttest: 0.2500541\tbest: 0.2500541 (53)\ttotal: 522ms\tremaining: 9.14s\n",
            "54:\tlearn: 0.2506941\ttest: 0.2494276\tbest: 0.2494276 (54)\ttotal: 529ms\tremaining: 9.1s\n",
            "55:\tlearn: 0.2502762\ttest: 0.2489924\tbest: 0.2489924 (55)\ttotal: 538ms\tremaining: 9.06s\n",
            "56:\tlearn: 0.2499728\ttest: 0.2486679\tbest: 0.2486679 (56)\ttotal: 546ms\tremaining: 9.03s\n",
            "57:\tlearn: 0.2496451\ttest: 0.2483307\tbest: 0.2483307 (57)\ttotal: 554ms\tremaining: 8.99s\n",
            "58:\tlearn: 0.2489353\ttest: 0.2475967\tbest: 0.2475967 (58)\ttotal: 562ms\tremaining: 8.96s\n",
            "59:\tlearn: 0.2486891\ttest: 0.2473292\tbest: 0.2473292 (59)\ttotal: 570ms\tremaining: 8.93s\n",
            "60:\tlearn: 0.2483248\ttest: 0.2469442\tbest: 0.2469442 (60)\ttotal: 578ms\tremaining: 8.9s\n",
            "61:\tlearn: 0.2481414\ttest: 0.2467650\tbest: 0.2467650 (61)\ttotal: 586ms\tremaining: 8.86s\n",
            "62:\tlearn: 0.2479452\ttest: 0.2465465\tbest: 0.2465465 (62)\ttotal: 598ms\tremaining: 8.89s\n",
            "63:\tlearn: 0.2477639\ttest: 0.2463488\tbest: 0.2463488 (63)\ttotal: 606ms\tremaining: 8.86s\n",
            "64:\tlearn: 0.2474751\ttest: 0.2460606\tbest: 0.2460606 (64)\ttotal: 614ms\tremaining: 8.83s\n",
            "65:\tlearn: 0.2467972\ttest: 0.2453987\tbest: 0.2453987 (65)\ttotal: 624ms\tremaining: 8.84s\n",
            "66:\tlearn: 0.2466341\ttest: 0.2452194\tbest: 0.2452194 (66)\ttotal: 632ms\tremaining: 8.81s\n",
            "67:\tlearn: 0.2463727\ttest: 0.2449209\tbest: 0.2449209 (67)\ttotal: 640ms\tremaining: 8.78s\n",
            "68:\tlearn: 0.2461187\ttest: 0.2446650\tbest: 0.2446650 (68)\ttotal: 649ms\tremaining: 8.75s\n",
            "69:\tlearn: 0.2459188\ttest: 0.2444450\tbest: 0.2444450 (69)\ttotal: 656ms\tremaining: 8.72s\n",
            "70:\tlearn: 0.2457539\ttest: 0.2442612\tbest: 0.2442612 (70)\ttotal: 664ms\tremaining: 8.69s\n",
            "71:\tlearn: 0.2453222\ttest: 0.2438605\tbest: 0.2438605 (71)\ttotal: 671ms\tremaining: 8.65s\n",
            "72:\tlearn: 0.2451210\ttest: 0.2436494\tbest: 0.2436494 (72)\ttotal: 679ms\tremaining: 8.62s\n",
            "73:\tlearn: 0.2448237\ttest: 0.2433678\tbest: 0.2433678 (73)\ttotal: 687ms\tremaining: 8.6s\n",
            "74:\tlearn: 0.2444709\ttest: 0.2430434\tbest: 0.2430434 (74)\ttotal: 695ms\tremaining: 8.57s\n",
            "75:\tlearn: 0.2443124\ttest: 0.2428913\tbest: 0.2428913 (75)\ttotal: 702ms\tremaining: 8.54s\n",
            "76:\tlearn: 0.2439918\ttest: 0.2425837\tbest: 0.2425837 (76)\ttotal: 710ms\tremaining: 8.51s\n",
            "77:\tlearn: 0.2438048\ttest: 0.2423844\tbest: 0.2423844 (77)\ttotal: 718ms\tremaining: 8.48s\n",
            "78:\tlearn: 0.2433010\ttest: 0.2418959\tbest: 0.2418959 (78)\ttotal: 725ms\tremaining: 8.46s\n",
            "79:\tlearn: 0.2431673\ttest: 0.2417577\tbest: 0.2417577 (79)\ttotal: 733ms\tremaining: 8.43s\n",
            "80:\tlearn: 0.2430188\ttest: 0.2416010\tbest: 0.2416010 (80)\ttotal: 741ms\tremaining: 8.4s\n",
            "81:\tlearn: 0.2429399\ttest: 0.2414971\tbest: 0.2414971 (81)\ttotal: 748ms\tremaining: 8.38s\n",
            "82:\tlearn: 0.2428427\ttest: 0.2413959\tbest: 0.2413959 (82)\ttotal: 756ms\tremaining: 8.35s\n",
            "83:\tlearn: 0.2426684\ttest: 0.2412022\tbest: 0.2412022 (83)\ttotal: 763ms\tremaining: 8.32s\n",
            "84:\tlearn: 0.2425844\ttest: 0.2411155\tbest: 0.2411155 (84)\ttotal: 771ms\tremaining: 8.3s\n",
            "85:\tlearn: 0.2424527\ttest: 0.2409840\tbest: 0.2409840 (85)\ttotal: 779ms\tremaining: 8.28s\n",
            "86:\tlearn: 0.2423337\ttest: 0.2408612\tbest: 0.2408612 (86)\ttotal: 786ms\tremaining: 8.25s\n",
            "87:\tlearn: 0.2422058\ttest: 0.2407304\tbest: 0.2407304 (87)\ttotal: 798ms\tremaining: 8.27s\n",
            "88:\tlearn: 0.2420474\ttest: 0.2405858\tbest: 0.2405858 (88)\ttotal: 809ms\tremaining: 8.28s\n",
            "89:\tlearn: 0.2417779\ttest: 0.2403231\tbest: 0.2403231 (89)\ttotal: 817ms\tremaining: 8.26s\n",
            "90:\tlearn: 0.2415477\ttest: 0.2400952\tbest: 0.2400952 (90)\ttotal: 824ms\tremaining: 8.23s\n",
            "91:\tlearn: 0.2414665\ttest: 0.2400096\tbest: 0.2400096 (91)\ttotal: 845ms\tremaining: 8.34s\n",
            "92:\tlearn: 0.2413296\ttest: 0.2398559\tbest: 0.2398559 (92)\ttotal: 852ms\tremaining: 8.31s\n",
            "93:\tlearn: 0.2411749\ttest: 0.2397006\tbest: 0.2397006 (93)\ttotal: 859ms\tremaining: 8.28s\n",
            "94:\tlearn: 0.2410727\ttest: 0.2395801\tbest: 0.2395801 (94)\ttotal: 875ms\tremaining: 8.34s\n",
            "95:\tlearn: 0.2409539\ttest: 0.2394604\tbest: 0.2394604 (95)\ttotal: 893ms\tremaining: 8.41s\n",
            "96:\tlearn: 0.2408427\ttest: 0.2393229\tbest: 0.2393229 (96)\ttotal: 900ms\tremaining: 8.38s\n",
            "97:\tlearn: 0.2406899\ttest: 0.2391900\tbest: 0.2391900 (97)\ttotal: 908ms\tremaining: 8.35s\n",
            "98:\tlearn: 0.2406476\ttest: 0.2391398\tbest: 0.2391398 (98)\ttotal: 915ms\tremaining: 8.33s\n",
            "99:\tlearn: 0.2405241\ttest: 0.2390309\tbest: 0.2390309 (99)\ttotal: 922ms\tremaining: 8.3s\n",
            "100:\tlearn: 0.2404512\ttest: 0.2389507\tbest: 0.2389507 (100)\ttotal: 930ms\tremaining: 8.28s\n",
            "101:\tlearn: 0.2403654\ttest: 0.2388567\tbest: 0.2388567 (101)\ttotal: 937ms\tremaining: 8.25s\n",
            "102:\tlearn: 0.2401287\ttest: 0.2386151\tbest: 0.2386151 (102)\ttotal: 945ms\tremaining: 8.23s\n",
            "103:\tlearn: 0.2400468\ttest: 0.2385422\tbest: 0.2385422 (103)\ttotal: 952ms\tremaining: 8.2s\n",
            "104:\tlearn: 0.2399572\ttest: 0.2384656\tbest: 0.2384656 (104)\ttotal: 960ms\tremaining: 8.18s\n",
            "105:\tlearn: 0.2398899\ttest: 0.2384092\tbest: 0.2384092 (105)\ttotal: 967ms\tremaining: 8.15s\n",
            "106:\tlearn: 0.2397590\ttest: 0.2382880\tbest: 0.2382880 (106)\ttotal: 974ms\tremaining: 8.13s\n",
            "107:\tlearn: 0.2396550\ttest: 0.2381843\tbest: 0.2381843 (107)\ttotal: 982ms\tremaining: 8.11s\n",
            "108:\tlearn: 0.2396081\ttest: 0.2381337\tbest: 0.2381337 (108)\ttotal: 989ms\tremaining: 8.09s\n",
            "109:\tlearn: 0.2394641\ttest: 0.2380093\tbest: 0.2380093 (109)\ttotal: 1s\tremaining: 8.1s\n",
            "110:\tlearn: 0.2393941\ttest: 0.2379391\tbest: 0.2379391 (110)\ttotal: 1.01s\tremaining: 8.08s\n",
            "111:\tlearn: 0.2393336\ttest: 0.2378941\tbest: 0.2378941 (111)\ttotal: 1.02s\tremaining: 8.06s\n",
            "112:\tlearn: 0.2392889\ttest: 0.2378537\tbest: 0.2378537 (112)\ttotal: 1.03s\tremaining: 8.06s\n",
            "113:\tlearn: 0.2391789\ttest: 0.2377350\tbest: 0.2377350 (113)\ttotal: 1.03s\tremaining: 8.05s\n",
            "114:\tlearn: 0.2391117\ttest: 0.2376708\tbest: 0.2376708 (114)\ttotal: 1.04s\tremaining: 8.03s\n",
            "115:\tlearn: 0.2390301\ttest: 0.2376024\tbest: 0.2376024 (115)\ttotal: 1.05s\tremaining: 8.01s\n",
            "116:\tlearn: 0.2389821\ttest: 0.2375479\tbest: 0.2375479 (116)\ttotal: 1.06s\tremaining: 7.99s\n",
            "117:\tlearn: 0.2389063\ttest: 0.2374995\tbest: 0.2374995 (117)\ttotal: 1.06s\tremaining: 7.97s\n",
            "118:\tlearn: 0.2388235\ttest: 0.2374393\tbest: 0.2374393 (118)\ttotal: 1.07s\tremaining: 7.94s\n",
            "119:\tlearn: 0.2387593\ttest: 0.2373740\tbest: 0.2373740 (119)\ttotal: 1.08s\tremaining: 7.92s\n",
            "120:\tlearn: 0.2386908\ttest: 0.2373126\tbest: 0.2373126 (120)\ttotal: 1.09s\tremaining: 7.9s\n",
            "121:\tlearn: 0.2385506\ttest: 0.2371792\tbest: 0.2371792 (121)\ttotal: 1.09s\tremaining: 7.88s\n",
            "122:\tlearn: 0.2384137\ttest: 0.2370370\tbest: 0.2370370 (122)\ttotal: 1.1s\tremaining: 7.86s\n",
            "123:\tlearn: 0.2383418\ttest: 0.2369694\tbest: 0.2369694 (123)\ttotal: 1.11s\tremaining: 7.84s\n",
            "124:\tlearn: 0.2382950\ttest: 0.2369226\tbest: 0.2369226 (124)\ttotal: 1.12s\tremaining: 7.82s\n",
            "125:\tlearn: 0.2382185\ttest: 0.2368763\tbest: 0.2368763 (125)\ttotal: 1.13s\tremaining: 7.8s\n",
            "126:\tlearn: 0.2381550\ttest: 0.2368240\tbest: 0.2368240 (126)\ttotal: 1.13s\tremaining: 7.79s\n",
            "127:\tlearn: 0.2380391\ttest: 0.2366972\tbest: 0.2366972 (127)\ttotal: 1.14s\tremaining: 7.76s\n",
            "128:\tlearn: 0.2379771\ttest: 0.2366529\tbest: 0.2366529 (128)\ttotal: 1.15s\tremaining: 7.75s\n",
            "129:\tlearn: 0.2377512\ttest: 0.2364184\tbest: 0.2364184 (129)\ttotal: 1.15s\tremaining: 7.73s\n",
            "130:\tlearn: 0.2376611\ttest: 0.2363445\tbest: 0.2363445 (130)\ttotal: 1.16s\tremaining: 7.71s\n",
            "131:\tlearn: 0.2374890\ttest: 0.2361596\tbest: 0.2361596 (131)\ttotal: 1.17s\tremaining: 7.69s\n",
            "132:\tlearn: 0.2374634\ttest: 0.2361434\tbest: 0.2361434 (132)\ttotal: 1.18s\tremaining: 7.67s\n",
            "133:\tlearn: 0.2373920\ttest: 0.2360834\tbest: 0.2360834 (133)\ttotal: 1.18s\tremaining: 7.65s\n",
            "134:\tlearn: 0.2373326\ttest: 0.2360341\tbest: 0.2360341 (134)\ttotal: 1.2s\tremaining: 7.67s\n",
            "135:\tlearn: 0.2372770\ttest: 0.2359702\tbest: 0.2359702 (135)\ttotal: 1.2s\tremaining: 7.65s\n",
            "136:\tlearn: 0.2372476\ttest: 0.2359377\tbest: 0.2359377 (136)\ttotal: 1.21s\tremaining: 7.63s\n",
            "137:\tlearn: 0.2371521\ttest: 0.2358494\tbest: 0.2358494 (137)\ttotal: 1.22s\tremaining: 7.62s\n",
            "138:\tlearn: 0.2370905\ttest: 0.2357878\tbest: 0.2357878 (138)\ttotal: 1.23s\tremaining: 7.6s\n",
            "139:\tlearn: 0.2370707\ttest: 0.2357674\tbest: 0.2357674 (139)\ttotal: 1.23s\tremaining: 7.58s\n",
            "140:\tlearn: 0.2370248\ttest: 0.2357377\tbest: 0.2357377 (140)\ttotal: 1.24s\tremaining: 7.56s\n",
            "141:\tlearn: 0.2368803\ttest: 0.2355860\tbest: 0.2355860 (141)\ttotal: 1.25s\tremaining: 7.54s\n",
            "142:\tlearn: 0.2368495\ttest: 0.2355621\tbest: 0.2355621 (142)\ttotal: 1.26s\tremaining: 7.53s\n",
            "143:\tlearn: 0.2367564\ttest: 0.2354752\tbest: 0.2354752 (143)\ttotal: 1.26s\tremaining: 7.51s\n",
            "144:\tlearn: 0.2367069\ttest: 0.2354212\tbest: 0.2354212 (144)\ttotal: 1.27s\tremaining: 7.49s\n",
            "145:\tlearn: 0.2366880\ttest: 0.2354003\tbest: 0.2354003 (145)\ttotal: 1.28s\tremaining: 7.48s\n",
            "146:\tlearn: 0.2365944\ttest: 0.2353262\tbest: 0.2353262 (146)\ttotal: 1.28s\tremaining: 7.46s\n",
            "147:\tlearn: 0.2365574\ttest: 0.2352870\tbest: 0.2352870 (147)\ttotal: 1.29s\tremaining: 7.44s\n",
            "148:\tlearn: 0.2364858\ttest: 0.2352206\tbest: 0.2352206 (148)\ttotal: 1.3s\tremaining: 7.43s\n",
            "149:\tlearn: 0.2364482\ttest: 0.2351957\tbest: 0.2351957 (149)\ttotal: 1.31s\tremaining: 7.42s\n",
            "150:\tlearn: 0.2364072\ttest: 0.2351652\tbest: 0.2351652 (150)\ttotal: 1.32s\tremaining: 7.4s\n",
            "151:\tlearn: 0.2363547\ttest: 0.2351158\tbest: 0.2351158 (151)\ttotal: 1.32s\tremaining: 7.38s\n",
            "152:\tlearn: 0.2362908\ttest: 0.2350434\tbest: 0.2350434 (152)\ttotal: 1.33s\tremaining: 7.37s\n",
            "153:\tlearn: 0.2362686\ttest: 0.2350216\tbest: 0.2350216 (153)\ttotal: 1.34s\tremaining: 7.35s\n",
            "154:\tlearn: 0.2362090\ttest: 0.2349769\tbest: 0.2349769 (154)\ttotal: 1.34s\tremaining: 7.33s\n",
            "155:\tlearn: 0.2361734\ttest: 0.2349552\tbest: 0.2349552 (155)\ttotal: 1.35s\tremaining: 7.32s\n",
            "156:\tlearn: 0.2361384\ttest: 0.2349115\tbest: 0.2349115 (156)\ttotal: 1.36s\tremaining: 7.3s\n",
            "157:\tlearn: 0.2360937\ttest: 0.2348689\tbest: 0.2348689 (157)\ttotal: 1.37s\tremaining: 7.29s\n",
            "158:\tlearn: 0.2360558\ttest: 0.2348452\tbest: 0.2348452 (158)\ttotal: 1.37s\tremaining: 7.27s\n",
            "159:\tlearn: 0.2359326\ttest: 0.2347368\tbest: 0.2347368 (159)\ttotal: 1.38s\tremaining: 7.25s\n",
            "160:\tlearn: 0.2358212\ttest: 0.2346158\tbest: 0.2346158 (160)\ttotal: 1.39s\tremaining: 7.26s\n",
            "161:\tlearn: 0.2358034\ttest: 0.2346038\tbest: 0.2346038 (161)\ttotal: 1.4s\tremaining: 7.25s\n",
            "162:\tlearn: 0.2357329\ttest: 0.2345436\tbest: 0.2345436 (162)\ttotal: 1.41s\tremaining: 7.24s\n",
            "163:\tlearn: 0.2356957\ttest: 0.2345018\tbest: 0.2345018 (163)\ttotal: 1.42s\tremaining: 7.23s\n",
            "164:\tlearn: 0.2356536\ttest: 0.2344762\tbest: 0.2344762 (164)\ttotal: 1.43s\tremaining: 7.21s\n",
            "165:\tlearn: 0.2355781\ttest: 0.2343930\tbest: 0.2343930 (165)\ttotal: 1.43s\tremaining: 7.2s\n",
            "166:\tlearn: 0.2355477\ttest: 0.2343631\tbest: 0.2343631 (166)\ttotal: 1.44s\tremaining: 7.18s\n",
            "167:\tlearn: 0.2355135\ttest: 0.2343338\tbest: 0.2343338 (167)\ttotal: 1.45s\tremaining: 7.16s\n",
            "168:\tlearn: 0.2354732\ttest: 0.2342894\tbest: 0.2342894 (168)\ttotal: 1.45s\tremaining: 7.15s\n",
            "169:\tlearn: 0.2354724\ttest: 0.2342897\tbest: 0.2342894 (168)\ttotal: 1.46s\tremaining: 7.12s\n",
            "170:\tlearn: 0.2354440\ttest: 0.2342742\tbest: 0.2342742 (170)\ttotal: 1.47s\tremaining: 7.11s\n",
            "171:\tlearn: 0.2353908\ttest: 0.2342130\tbest: 0.2342130 (171)\ttotal: 1.47s\tremaining: 7.09s\n",
            "172:\tlearn: 0.2353600\ttest: 0.2341879\tbest: 0.2341879 (172)\ttotal: 1.48s\tremaining: 7.08s\n",
            "173:\tlearn: 0.2353413\ttest: 0.2341738\tbest: 0.2341738 (173)\ttotal: 1.49s\tremaining: 7.05s\n",
            "174:\tlearn: 0.2353113\ttest: 0.2341369\tbest: 0.2341369 (174)\ttotal: 1.49s\tremaining: 7.04s\n",
            "175:\tlearn: 0.2352780\ttest: 0.2341109\tbest: 0.2341109 (175)\ttotal: 1.5s\tremaining: 7.02s\n",
            "176:\tlearn: 0.2352434\ttest: 0.2340756\tbest: 0.2340756 (176)\ttotal: 1.51s\tremaining: 7.01s\n",
            "177:\tlearn: 0.2352211\ttest: 0.2340540\tbest: 0.2340540 (177)\ttotal: 1.51s\tremaining: 7s\n",
            "178:\tlearn: 0.2351782\ttest: 0.2340143\tbest: 0.2340143 (178)\ttotal: 1.52s\tremaining: 6.98s\n",
            "179:\tlearn: 0.2351768\ttest: 0.2340134\tbest: 0.2340134 (179)\ttotal: 1.53s\tremaining: 6.97s\n",
            "180:\tlearn: 0.2351490\ttest: 0.2339779\tbest: 0.2339779 (180)\ttotal: 1.54s\tremaining: 6.96s\n",
            "181:\tlearn: 0.2351200\ttest: 0.2339463\tbest: 0.2339463 (181)\ttotal: 1.54s\tremaining: 6.94s\n",
            "182:\tlearn: 0.2350911\ttest: 0.2339177\tbest: 0.2339177 (182)\ttotal: 1.55s\tremaining: 6.93s\n",
            "183:\tlearn: 0.2350681\ttest: 0.2338978\tbest: 0.2338978 (183)\ttotal: 1.56s\tremaining: 6.91s\n",
            "184:\tlearn: 0.2350674\ttest: 0.2338979\tbest: 0.2338978 (183)\ttotal: 1.56s\tremaining: 6.89s\n",
            "185:\tlearn: 0.2350344\ttest: 0.2338562\tbest: 0.2338562 (185)\ttotal: 1.57s\tremaining: 6.88s\n",
            "186:\tlearn: 0.2349320\ttest: 0.2337567\tbest: 0.2337567 (186)\ttotal: 1.58s\tremaining: 6.86s\n",
            "187:\tlearn: 0.2349116\ttest: 0.2337407\tbest: 0.2337407 (187)\ttotal: 1.59s\tremaining: 6.88s\n",
            "188:\tlearn: 0.2349024\ttest: 0.2337297\tbest: 0.2337297 (188)\ttotal: 1.6s\tremaining: 6.86s\n",
            "189:\tlearn: 0.2348987\ttest: 0.2337277\tbest: 0.2337277 (189)\ttotal: 1.61s\tremaining: 6.85s\n",
            "190:\tlearn: 0.2348137\ttest: 0.2336440\tbest: 0.2336440 (190)\ttotal: 1.61s\tremaining: 6.83s\n",
            "191:\tlearn: 0.2347959\ttest: 0.2336226\tbest: 0.2336226 (191)\ttotal: 1.62s\tremaining: 6.82s\n",
            "192:\tlearn: 0.2347619\ttest: 0.2335964\tbest: 0.2335964 (192)\ttotal: 1.63s\tremaining: 6.81s\n",
            "193:\tlearn: 0.2347166\ttest: 0.2335631\tbest: 0.2335631 (193)\ttotal: 1.64s\tremaining: 6.79s\n",
            "194:\tlearn: 0.2347077\ttest: 0.2335520\tbest: 0.2335520 (194)\ttotal: 1.64s\tremaining: 6.78s\n",
            "195:\tlearn: 0.2346758\ttest: 0.2335149\tbest: 0.2335149 (195)\ttotal: 1.65s\tremaining: 6.77s\n",
            "196:\tlearn: 0.2346397\ttest: 0.2334778\tbest: 0.2334778 (196)\ttotal: 1.66s\tremaining: 6.75s\n",
            "197:\tlearn: 0.2345939\ttest: 0.2334281\tbest: 0.2334281 (197)\ttotal: 1.66s\tremaining: 6.74s\n",
            "198:\tlearn: 0.2345686\ttest: 0.2334028\tbest: 0.2334028 (198)\ttotal: 1.67s\tremaining: 6.73s\n",
            "199:\tlearn: 0.2345426\ttest: 0.2333780\tbest: 0.2333780 (199)\ttotal: 1.68s\tremaining: 6.71s\n",
            "200:\tlearn: 0.2345236\ttest: 0.2333707\tbest: 0.2333707 (200)\ttotal: 1.69s\tremaining: 6.7s\n",
            "201:\tlearn: 0.2345076\ttest: 0.2333499\tbest: 0.2333499 (201)\ttotal: 1.69s\tremaining: 6.69s\n",
            "202:\tlearn: 0.2344863\ttest: 0.2333341\tbest: 0.2333341 (202)\ttotal: 1.7s\tremaining: 6.67s\n",
            "203:\tlearn: 0.2344614\ttest: 0.2333128\tbest: 0.2333128 (203)\ttotal: 1.71s\tremaining: 6.66s\n",
            "204:\tlearn: 0.2344501\ttest: 0.2333057\tbest: 0.2333057 (204)\ttotal: 1.71s\tremaining: 6.65s\n",
            "205:\tlearn: 0.2344279\ttest: 0.2332901\tbest: 0.2332901 (205)\ttotal: 1.72s\tremaining: 6.64s\n",
            "206:\tlearn: 0.2343938\ttest: 0.2332617\tbest: 0.2332617 (206)\ttotal: 1.73s\tremaining: 6.62s\n",
            "207:\tlearn: 0.2343472\ttest: 0.2332286\tbest: 0.2332286 (207)\ttotal: 1.74s\tremaining: 6.61s\n",
            "208:\tlearn: 0.2343065\ttest: 0.2331892\tbest: 0.2331892 (208)\ttotal: 1.74s\tremaining: 6.6s\n",
            "209:\tlearn: 0.2342833\ttest: 0.2331666\tbest: 0.2331666 (209)\ttotal: 1.75s\tremaining: 6.59s\n",
            "210:\tlearn: 0.2342589\ttest: 0.2331406\tbest: 0.2331406 (210)\ttotal: 1.76s\tremaining: 6.58s\n",
            "211:\tlearn: 0.2342473\ttest: 0.2331350\tbest: 0.2331350 (211)\ttotal: 1.77s\tremaining: 6.57s\n",
            "212:\tlearn: 0.2341380\ttest: 0.2330165\tbest: 0.2330165 (212)\ttotal: 1.77s\tremaining: 6.55s\n",
            "213:\tlearn: 0.2341014\ttest: 0.2329845\tbest: 0.2329845 (213)\ttotal: 1.78s\tremaining: 6.54s\n",
            "214:\tlearn: 0.2340780\ttest: 0.2329699\tbest: 0.2329699 (214)\ttotal: 1.8s\tremaining: 6.59s\n",
            "215:\tlearn: 0.2340641\ttest: 0.2329656\tbest: 0.2329656 (215)\ttotal: 1.83s\tremaining: 6.64s\n",
            "216:\tlearn: 0.2340260\ttest: 0.2329195\tbest: 0.2329195 (216)\ttotal: 1.85s\tremaining: 6.66s\n",
            "217:\tlearn: 0.2340018\ttest: 0.2328840\tbest: 0.2328840 (217)\ttotal: 1.86s\tremaining: 6.67s\n",
            "218:\tlearn: 0.2339813\ttest: 0.2328646\tbest: 0.2328646 (218)\ttotal: 1.86s\tremaining: 6.65s\n",
            "219:\tlearn: 0.2339408\ttest: 0.2328310\tbest: 0.2328310 (219)\ttotal: 1.87s\tremaining: 6.64s\n",
            "220:\tlearn: 0.2339188\ttest: 0.2328037\tbest: 0.2328037 (220)\ttotal: 1.88s\tremaining: 6.63s\n",
            "221:\tlearn: 0.2339062\ttest: 0.2327979\tbest: 0.2327979 (221)\ttotal: 1.89s\tremaining: 6.62s\n",
            "222:\tlearn: 0.2338830\ttest: 0.2327801\tbest: 0.2327801 (222)\ttotal: 1.89s\tremaining: 6.6s\n",
            "223:\tlearn: 0.2338664\ttest: 0.2327691\tbest: 0.2327691 (223)\ttotal: 1.9s\tremaining: 6.59s\n",
            "224:\tlearn: 0.2338537\ttest: 0.2327618\tbest: 0.2327618 (224)\ttotal: 1.91s\tremaining: 6.58s\n",
            "225:\tlearn: 0.2338286\ttest: 0.2327426\tbest: 0.2327426 (225)\ttotal: 1.92s\tremaining: 6.57s\n",
            "226:\tlearn: 0.2338064\ttest: 0.2327155\tbest: 0.2327155 (226)\ttotal: 1.93s\tremaining: 6.56s\n",
            "227:\tlearn: 0.2337823\ttest: 0.2326937\tbest: 0.2326937 (227)\ttotal: 1.93s\tremaining: 6.54s\n",
            "228:\tlearn: 0.2337598\ttest: 0.2326760\tbest: 0.2326760 (228)\ttotal: 1.94s\tremaining: 6.53s\n",
            "229:\tlearn: 0.2337406\ttest: 0.2326585\tbest: 0.2326585 (229)\ttotal: 1.95s\tremaining: 6.53s\n",
            "230:\tlearn: 0.2337287\ttest: 0.2326563\tbest: 0.2326563 (230)\ttotal: 1.96s\tremaining: 6.52s\n",
            "231:\tlearn: 0.2337201\ttest: 0.2326535\tbest: 0.2326535 (231)\ttotal: 1.97s\tremaining: 6.5s\n",
            "232:\tlearn: 0.2337109\ttest: 0.2326438\tbest: 0.2326438 (232)\ttotal: 1.97s\tremaining: 6.49s\n",
            "233:\tlearn: 0.2336994\ttest: 0.2326355\tbest: 0.2326355 (233)\ttotal: 1.98s\tremaining: 6.48s\n",
            "234:\tlearn: 0.2336821\ttest: 0.2326268\tbest: 0.2326268 (234)\ttotal: 1.99s\tremaining: 6.47s\n",
            "235:\tlearn: 0.2336670\ttest: 0.2326130\tbest: 0.2326130 (235)\ttotal: 2s\tremaining: 6.46s\n",
            "236:\tlearn: 0.2336097\ttest: 0.2325639\tbest: 0.2325639 (236)\ttotal: 2.01s\tremaining: 6.46s\n",
            "237:\tlearn: 0.2335736\ttest: 0.2325301\tbest: 0.2325301 (237)\ttotal: 2.02s\tremaining: 6.45s\n",
            "238:\tlearn: 0.2335571\ttest: 0.2325176\tbest: 0.2325176 (238)\ttotal: 2.02s\tremaining: 6.44s\n",
            "239:\tlearn: 0.2335275\ttest: 0.2324919\tbest: 0.2324919 (239)\ttotal: 2.03s\tremaining: 6.43s\n",
            "240:\tlearn: 0.2335200\ttest: 0.2324854\tbest: 0.2324854 (240)\ttotal: 2.04s\tremaining: 6.41s\n",
            "241:\tlearn: 0.2335073\ttest: 0.2324765\tbest: 0.2324765 (241)\ttotal: 2.04s\tremaining: 6.4s\n",
            "242:\tlearn: 0.2334918\ttest: 0.2324738\tbest: 0.2324738 (242)\ttotal: 2.05s\tremaining: 6.39s\n",
            "243:\tlearn: 0.2334815\ttest: 0.2324632\tbest: 0.2324632 (243)\ttotal: 2.06s\tremaining: 6.38s\n",
            "244:\tlearn: 0.2334586\ttest: 0.2324369\tbest: 0.2324369 (244)\ttotal: 2.06s\tremaining: 6.37s\n",
            "245:\tlearn: 0.2334557\ttest: 0.2324357\tbest: 0.2324357 (245)\ttotal: 2.07s\tremaining: 6.35s\n",
            "246:\tlearn: 0.2334302\ttest: 0.2324173\tbest: 0.2324173 (246)\ttotal: 2.09s\tremaining: 6.36s\n",
            "247:\tlearn: 0.2334180\ttest: 0.2324057\tbest: 0.2324057 (247)\ttotal: 2.09s\tremaining: 6.35s\n",
            "248:\tlearn: 0.2333975\ttest: 0.2323849\tbest: 0.2323849 (248)\ttotal: 2.1s\tremaining: 6.34s\n",
            "249:\tlearn: 0.2333797\ttest: 0.2323627\tbest: 0.2323627 (249)\ttotal: 2.11s\tremaining: 6.33s\n",
            "250:\tlearn: 0.2333604\ttest: 0.2323549\tbest: 0.2323549 (250)\ttotal: 2.12s\tremaining: 6.31s\n",
            "251:\tlearn: 0.2333378\ttest: 0.2323333\tbest: 0.2323333 (251)\ttotal: 2.12s\tremaining: 6.3s\n",
            "252:\tlearn: 0.2333279\ttest: 0.2323331\tbest: 0.2323331 (252)\ttotal: 2.13s\tremaining: 6.29s\n",
            "253:\tlearn: 0.2332894\ttest: 0.2322996\tbest: 0.2322996 (253)\ttotal: 2.14s\tremaining: 6.28s\n",
            "254:\tlearn: 0.2332765\ttest: 0.2322863\tbest: 0.2322863 (254)\ttotal: 2.15s\tremaining: 6.27s\n",
            "255:\tlearn: 0.2332684\ttest: 0.2322754\tbest: 0.2322754 (255)\ttotal: 2.15s\tremaining: 6.26s\n",
            "256:\tlearn: 0.2332460\ttest: 0.2322493\tbest: 0.2322493 (256)\ttotal: 2.16s\tremaining: 6.24s\n",
            "257:\tlearn: 0.2332240\ttest: 0.2322348\tbest: 0.2322348 (257)\ttotal: 2.17s\tremaining: 6.23s\n",
            "258:\tlearn: 0.2332024\ttest: 0.2322222\tbest: 0.2322222 (258)\ttotal: 2.17s\tremaining: 6.22s\n",
            "259:\tlearn: 0.2331845\ttest: 0.2322080\tbest: 0.2322080 (259)\ttotal: 2.18s\tremaining: 6.21s\n",
            "260:\tlearn: 0.2331726\ttest: 0.2321962\tbest: 0.2321962 (260)\ttotal: 2.19s\tremaining: 6.2s\n",
            "261:\tlearn: 0.2331644\ttest: 0.2321910\tbest: 0.2321910 (261)\ttotal: 2.19s\tremaining: 6.18s\n",
            "262:\tlearn: 0.2331490\ttest: 0.2321740\tbest: 0.2321740 (262)\ttotal: 2.21s\tremaining: 6.19s\n",
            "263:\tlearn: 0.2331307\ttest: 0.2321625\tbest: 0.2321625 (263)\ttotal: 2.21s\tremaining: 6.17s\n",
            "264:\tlearn: 0.2331053\ttest: 0.2321382\tbest: 0.2321382 (264)\ttotal: 2.22s\tremaining: 6.16s\n",
            "265:\tlearn: 0.2330905\ttest: 0.2321209\tbest: 0.2321209 (265)\ttotal: 2.23s\tremaining: 6.15s\n",
            "266:\tlearn: 0.2330631\ttest: 0.2320869\tbest: 0.2320869 (266)\ttotal: 2.24s\tremaining: 6.14s\n",
            "267:\tlearn: 0.2330431\ttest: 0.2320704\tbest: 0.2320704 (267)\ttotal: 2.24s\tremaining: 6.13s\n",
            "268:\tlearn: 0.2330303\ttest: 0.2320589\tbest: 0.2320589 (268)\ttotal: 2.25s\tremaining: 6.12s\n",
            "269:\tlearn: 0.2330081\ttest: 0.2320385\tbest: 0.2320385 (269)\ttotal: 2.26s\tremaining: 6.11s\n",
            "270:\tlearn: 0.2329912\ttest: 0.2320230\tbest: 0.2320230 (270)\ttotal: 2.27s\tremaining: 6.1s\n",
            "271:\tlearn: 0.2329680\ttest: 0.2320036\tbest: 0.2320036 (271)\ttotal: 2.27s\tremaining: 6.09s\n",
            "272:\tlearn: 0.2329591\ttest: 0.2319948\tbest: 0.2319948 (272)\ttotal: 2.28s\tremaining: 6.08s\n",
            "273:\tlearn: 0.2329509\ttest: 0.2319902\tbest: 0.2319902 (273)\ttotal: 2.29s\tremaining: 6.06s\n",
            "274:\tlearn: 0.2329203\ttest: 0.2319646\tbest: 0.2319646 (274)\ttotal: 2.3s\tremaining: 6.05s\n",
            "275:\tlearn: 0.2329023\ttest: 0.2319512\tbest: 0.2319512 (275)\ttotal: 2.31s\tremaining: 6.05s\n",
            "276:\tlearn: 0.2328761\ttest: 0.2319312\tbest: 0.2319312 (276)\ttotal: 2.31s\tremaining: 6.04s\n",
            "277:\tlearn: 0.2328335\ttest: 0.2318857\tbest: 0.2318857 (277)\ttotal: 2.32s\tremaining: 6.03s\n",
            "278:\tlearn: 0.2327957\ttest: 0.2318452\tbest: 0.2318452 (278)\ttotal: 2.33s\tremaining: 6.01s\n",
            "279:\tlearn: 0.2327703\ttest: 0.2318230\tbest: 0.2318230 (279)\ttotal: 2.33s\tremaining: 6s\n",
            "280:\tlearn: 0.2327425\ttest: 0.2317934\tbest: 0.2317934 (280)\ttotal: 2.34s\tremaining: 5.99s\n",
            "281:\tlearn: 0.2327321\ttest: 0.2317883\tbest: 0.2317883 (281)\ttotal: 2.35s\tremaining: 5.98s\n",
            "282:\tlearn: 0.2327091\ttest: 0.2317753\tbest: 0.2317753 (282)\ttotal: 2.36s\tremaining: 5.97s\n",
            "283:\tlearn: 0.2326951\ttest: 0.2317666\tbest: 0.2317666 (283)\ttotal: 2.36s\tremaining: 5.96s\n",
            "284:\tlearn: 0.2326748\ttest: 0.2317472\tbest: 0.2317472 (284)\ttotal: 2.37s\tremaining: 5.95s\n",
            "285:\tlearn: 0.2326545\ttest: 0.2317296\tbest: 0.2317296 (285)\ttotal: 2.38s\tremaining: 5.94s\n",
            "286:\tlearn: 0.2326486\ttest: 0.2317300\tbest: 0.2317296 (285)\ttotal: 2.38s\tremaining: 5.93s\n",
            "287:\tlearn: 0.2326366\ttest: 0.2317174\tbest: 0.2317174 (287)\ttotal: 2.39s\tremaining: 5.92s\n",
            "288:\tlearn: 0.2326184\ttest: 0.2317187\tbest: 0.2317174 (287)\ttotal: 2.4s\tremaining: 5.92s\n",
            "289:\tlearn: 0.2326012\ttest: 0.2317084\tbest: 0.2317084 (289)\ttotal: 2.41s\tremaining: 5.91s\n",
            "290:\tlearn: 0.2325791\ttest: 0.2317006\tbest: 0.2317006 (290)\ttotal: 2.42s\tremaining: 5.9s\n",
            "291:\tlearn: 0.2325602\ttest: 0.2316896\tbest: 0.2316896 (291)\ttotal: 2.43s\tremaining: 5.88s\n",
            "292:\tlearn: 0.2325419\ttest: 0.2316718\tbest: 0.2316718 (292)\ttotal: 2.43s\tremaining: 5.87s\n",
            "293:\tlearn: 0.2325231\ttest: 0.2316661\tbest: 0.2316661 (293)\ttotal: 2.44s\tremaining: 5.86s\n",
            "294:\tlearn: 0.2325084\ttest: 0.2316514\tbest: 0.2316514 (294)\ttotal: 2.45s\tremaining: 5.85s\n",
            "295:\tlearn: 0.2324889\ttest: 0.2316398\tbest: 0.2316398 (295)\ttotal: 2.46s\tremaining: 5.84s\n",
            "296:\tlearn: 0.2324706\ttest: 0.2316141\tbest: 0.2316141 (296)\ttotal: 2.46s\tremaining: 5.83s\n",
            "297:\tlearn: 0.2324566\ttest: 0.2316056\tbest: 0.2316056 (297)\ttotal: 2.47s\tremaining: 5.82s\n",
            "298:\tlearn: 0.2324398\ttest: 0.2315866\tbest: 0.2315866 (298)\ttotal: 2.48s\tremaining: 5.81s\n",
            "299:\tlearn: 0.2324323\ttest: 0.2315792\tbest: 0.2315792 (299)\ttotal: 2.48s\tremaining: 5.8s\n",
            "300:\tlearn: 0.2324179\ttest: 0.2315620\tbest: 0.2315620 (300)\ttotal: 2.49s\tremaining: 5.79s\n",
            "301:\tlearn: 0.2324046\ttest: 0.2315481\tbest: 0.2315481 (301)\ttotal: 2.5s\tremaining: 5.78s\n",
            "302:\tlearn: 0.2323916\ttest: 0.2315377\tbest: 0.2315377 (302)\ttotal: 2.51s\tremaining: 5.76s\n",
            "303:\tlearn: 0.2323681\ttest: 0.2315168\tbest: 0.2315168 (303)\ttotal: 2.52s\tremaining: 5.76s\n",
            "304:\tlearn: 0.2323640\ttest: 0.2315134\tbest: 0.2315134 (304)\ttotal: 2.52s\tremaining: 5.75s\n",
            "305:\tlearn: 0.2323507\ttest: 0.2314944\tbest: 0.2314944 (305)\ttotal: 2.53s\tremaining: 5.74s\n",
            "306:\tlearn: 0.2323413\ttest: 0.2314921\tbest: 0.2314921 (306)\ttotal: 2.54s\tremaining: 5.73s\n",
            "307:\tlearn: 0.2323317\ttest: 0.2314912\tbest: 0.2314912 (307)\ttotal: 2.54s\tremaining: 5.72s\n",
            "308:\tlearn: 0.2323194\ttest: 0.2314740\tbest: 0.2314740 (308)\ttotal: 2.56s\tremaining: 5.72s\n",
            "309:\tlearn: 0.2323098\ttest: 0.2314746\tbest: 0.2314740 (308)\ttotal: 2.56s\tremaining: 5.71s\n",
            "310:\tlearn: 0.2322942\ttest: 0.2314702\tbest: 0.2314702 (310)\ttotal: 2.57s\tremaining: 5.7s\n",
            "311:\tlearn: 0.2322848\ttest: 0.2314550\tbest: 0.2314550 (311)\ttotal: 2.58s\tremaining: 5.69s\n",
            "312:\tlearn: 0.2322696\ttest: 0.2314393\tbest: 0.2314393 (312)\ttotal: 2.58s\tremaining: 5.67s\n",
            "313:\tlearn: 0.2322569\ttest: 0.2314206\tbest: 0.2314206 (313)\ttotal: 2.59s\tremaining: 5.67s\n",
            "314:\tlearn: 0.2322317\ttest: 0.2314090\tbest: 0.2314090 (314)\ttotal: 2.6s\tremaining: 5.67s\n",
            "315:\tlearn: 0.2322193\ttest: 0.2313900\tbest: 0.2313900 (315)\ttotal: 2.61s\tremaining: 5.65s\n",
            "316:\tlearn: 0.2322035\ttest: 0.2313788\tbest: 0.2313788 (316)\ttotal: 2.62s\tremaining: 5.64s\n",
            "317:\tlearn: 0.2321910\ttest: 0.2313638\tbest: 0.2313638 (317)\ttotal: 2.63s\tremaining: 5.63s\n",
            "318:\tlearn: 0.2321822\ttest: 0.2313567\tbest: 0.2313567 (318)\ttotal: 2.63s\tremaining: 5.62s\n",
            "319:\tlearn: 0.2321718\ttest: 0.2313592\tbest: 0.2313567 (318)\ttotal: 2.64s\tremaining: 5.61s\n",
            "320:\tlearn: 0.2321609\ttest: 0.2313504\tbest: 0.2313504 (320)\ttotal: 2.65s\tremaining: 5.6s\n",
            "321:\tlearn: 0.2321521\ttest: 0.2313435\tbest: 0.2313435 (321)\ttotal: 2.65s\tremaining: 5.59s\n",
            "322:\tlearn: 0.2321379\ttest: 0.2313387\tbest: 0.2313387 (322)\ttotal: 2.66s\tremaining: 5.58s\n",
            "323:\tlearn: 0.2321267\ttest: 0.2313338\tbest: 0.2313338 (323)\ttotal: 2.67s\tremaining: 5.57s\n",
            "324:\tlearn: 0.2321107\ttest: 0.2313267\tbest: 0.2313267 (324)\ttotal: 2.67s\tremaining: 5.56s\n",
            "325:\tlearn: 0.2320977\ttest: 0.2313170\tbest: 0.2313170 (325)\ttotal: 2.68s\tremaining: 5.55s\n",
            "326:\tlearn: 0.2320868\ttest: 0.2313060\tbest: 0.2313060 (326)\ttotal: 2.69s\tremaining: 5.54s\n",
            "327:\tlearn: 0.2320656\ttest: 0.2312877\tbest: 0.2312877 (327)\ttotal: 2.7s\tremaining: 5.53s\n",
            "328:\tlearn: 0.2320573\ttest: 0.2312731\tbest: 0.2312731 (328)\ttotal: 2.7s\tremaining: 5.51s\n",
            "329:\tlearn: 0.2320475\ttest: 0.2312748\tbest: 0.2312731 (328)\ttotal: 2.71s\tremaining: 5.5s\n",
            "330:\tlearn: 0.2320396\ttest: 0.2312689\tbest: 0.2312689 (330)\ttotal: 2.72s\tremaining: 5.49s\n",
            "331:\tlearn: 0.2320321\ttest: 0.2312638\tbest: 0.2312638 (331)\ttotal: 2.73s\tremaining: 5.48s\n",
            "332:\tlearn: 0.2320232\ttest: 0.2312590\tbest: 0.2312590 (332)\ttotal: 2.73s\tremaining: 5.47s\n",
            "333:\tlearn: 0.2320152\ttest: 0.2312519\tbest: 0.2312519 (333)\ttotal: 2.74s\tremaining: 5.46s\n",
            "334:\tlearn: 0.2320019\ttest: 0.2312410\tbest: 0.2312410 (334)\ttotal: 2.75s\tremaining: 5.46s\n",
            "335:\tlearn: 0.2319901\ttest: 0.2312348\tbest: 0.2312348 (335)\ttotal: 2.77s\tremaining: 5.47s\n",
            "336:\tlearn: 0.2319789\ttest: 0.2312260\tbest: 0.2312260 (336)\ttotal: 2.79s\tremaining: 5.5s\n",
            "337:\tlearn: 0.2319703\ttest: 0.2312215\tbest: 0.2312215 (337)\ttotal: 2.82s\tremaining: 5.52s\n",
            "338:\tlearn: 0.2319629\ttest: 0.2312132\tbest: 0.2312132 (338)\ttotal: 2.82s\tremaining: 5.5s\n",
            "339:\tlearn: 0.2319531\ttest: 0.2312115\tbest: 0.2312115 (339)\ttotal: 2.83s\tremaining: 5.5s\n",
            "340:\tlearn: 0.2319428\ttest: 0.2312077\tbest: 0.2312077 (340)\ttotal: 2.84s\tremaining: 5.48s\n",
            "341:\tlearn: 0.2319152\ttest: 0.2311858\tbest: 0.2311858 (341)\ttotal: 2.85s\tremaining: 5.47s\n",
            "342:\tlearn: 0.2319071\ttest: 0.2311800\tbest: 0.2311800 (342)\ttotal: 2.85s\tremaining: 5.46s\n",
            "343:\tlearn: 0.2318871\ttest: 0.2311609\tbest: 0.2311609 (343)\ttotal: 2.86s\tremaining: 5.45s\n",
            "344:\tlearn: 0.2318684\ttest: 0.2311420\tbest: 0.2311420 (344)\ttotal: 2.87s\tremaining: 5.44s\n",
            "345:\tlearn: 0.2318575\ttest: 0.2311377\tbest: 0.2311377 (345)\ttotal: 2.87s\tremaining: 5.43s\n",
            "346:\tlearn: 0.2318435\ttest: 0.2311240\tbest: 0.2311240 (346)\ttotal: 2.88s\tremaining: 5.42s\n",
            "347:\tlearn: 0.2318332\ttest: 0.2311172\tbest: 0.2311172 (347)\ttotal: 2.89s\tremaining: 5.41s\n",
            "348:\tlearn: 0.2318228\ttest: 0.2311087\tbest: 0.2311087 (348)\ttotal: 2.89s\tremaining: 5.4s\n",
            "349:\tlearn: 0.2318004\ttest: 0.2310851\tbest: 0.2310851 (349)\ttotal: 2.9s\tremaining: 5.39s\n",
            "350:\tlearn: 0.2317869\ttest: 0.2310732\tbest: 0.2310732 (350)\ttotal: 2.91s\tremaining: 5.38s\n",
            "351:\tlearn: 0.2317795\ttest: 0.2310632\tbest: 0.2310632 (351)\ttotal: 2.92s\tremaining: 5.37s\n",
            "352:\tlearn: 0.2317704\ttest: 0.2310559\tbest: 0.2310559 (352)\ttotal: 2.92s\tremaining: 5.36s\n",
            "353:\tlearn: 0.2317604\ttest: 0.2310508\tbest: 0.2310508 (353)\ttotal: 2.93s\tremaining: 5.35s\n",
            "354:\tlearn: 0.2317523\ttest: 0.2310426\tbest: 0.2310426 (354)\ttotal: 2.94s\tremaining: 5.34s\n",
            "355:\tlearn: 0.2317449\ttest: 0.2310372\tbest: 0.2310372 (355)\ttotal: 2.94s\tremaining: 5.33s\n",
            "356:\tlearn: 0.2317324\ttest: 0.2310269\tbest: 0.2310269 (356)\ttotal: 2.95s\tremaining: 5.32s\n",
            "357:\tlearn: 0.2317275\ttest: 0.2310291\tbest: 0.2310269 (356)\ttotal: 2.96s\tremaining: 5.31s\n",
            "358:\tlearn: 0.2317184\ttest: 0.2310221\tbest: 0.2310221 (358)\ttotal: 2.97s\tremaining: 5.3s\n",
            "359:\tlearn: 0.2317123\ttest: 0.2310170\tbest: 0.2310170 (359)\ttotal: 2.98s\tremaining: 5.3s\n",
            "360:\tlearn: 0.2317035\ttest: 0.2310110\tbest: 0.2310110 (360)\ttotal: 2.99s\tremaining: 5.3s\n",
            "361:\tlearn: 0.2316982\ttest: 0.2310038\tbest: 0.2310038 (361)\ttotal: 3s\tremaining: 5.29s\n",
            "362:\tlearn: 0.2316880\ttest: 0.2309991\tbest: 0.2309991 (362)\ttotal: 3.01s\tremaining: 5.28s\n",
            "363:\tlearn: 0.2316809\ttest: 0.2309985\tbest: 0.2309985 (363)\ttotal: 3.02s\tremaining: 5.27s\n",
            "364:\tlearn: 0.2316725\ttest: 0.2309910\tbest: 0.2309910 (364)\ttotal: 3.02s\tremaining: 5.26s\n",
            "365:\tlearn: 0.2316685\ttest: 0.2309868\tbest: 0.2309868 (365)\ttotal: 3.03s\tremaining: 5.25s\n",
            "366:\tlearn: 0.2316588\ttest: 0.2309805\tbest: 0.2309805 (366)\ttotal: 3.04s\tremaining: 5.24s\n",
            "367:\tlearn: 0.2316482\ttest: 0.2309679\tbest: 0.2309679 (367)\ttotal: 3.04s\tremaining: 5.23s\n",
            "368:\tlearn: 0.2316391\ttest: 0.2309645\tbest: 0.2309645 (368)\ttotal: 3.05s\tremaining: 5.22s\n",
            "369:\tlearn: 0.2316294\ttest: 0.2309626\tbest: 0.2309626 (369)\ttotal: 3.06s\tremaining: 5.21s\n",
            "370:\tlearn: 0.2316151\ttest: 0.2309481\tbest: 0.2309481 (370)\ttotal: 3.07s\tremaining: 5.2s\n",
            "371:\tlearn: 0.2316055\ttest: 0.2309451\tbest: 0.2309451 (371)\ttotal: 3.07s\tremaining: 5.19s\n",
            "372:\tlearn: 0.2316008\ttest: 0.2309360\tbest: 0.2309360 (372)\ttotal: 3.08s\tremaining: 5.18s\n",
            "373:\tlearn: 0.2315928\ttest: 0.2309314\tbest: 0.2309314 (373)\ttotal: 3.09s\tremaining: 5.17s\n",
            "374:\tlearn: 0.2315886\ttest: 0.2309274\tbest: 0.2309274 (374)\ttotal: 3.1s\tremaining: 5.16s\n",
            "375:\tlearn: 0.2315796\ttest: 0.2309211\tbest: 0.2309211 (375)\ttotal: 3.1s\tremaining: 5.15s\n",
            "376:\tlearn: 0.2315732\ttest: 0.2309233\tbest: 0.2309211 (375)\ttotal: 3.11s\tremaining: 5.14s\n",
            "377:\tlearn: 0.2315618\ttest: 0.2309173\tbest: 0.2309173 (377)\ttotal: 3.12s\tremaining: 5.14s\n",
            "378:\tlearn: 0.2315562\ttest: 0.2309110\tbest: 0.2309110 (378)\ttotal: 3.13s\tremaining: 5.13s\n",
            "379:\tlearn: 0.2315490\ttest: 0.2309000\tbest: 0.2309000 (379)\ttotal: 3.13s\tremaining: 5.12s\n",
            "380:\tlearn: 0.2315435\ttest: 0.2308989\tbest: 0.2308989 (380)\ttotal: 3.14s\tremaining: 5.11s\n",
            "381:\tlearn: 0.2315265\ttest: 0.2308772\tbest: 0.2308772 (381)\ttotal: 3.15s\tremaining: 5.1s\n",
            "382:\tlearn: 0.2315173\ttest: 0.2308754\tbest: 0.2308754 (382)\ttotal: 3.16s\tremaining: 5.09s\n",
            "383:\tlearn: 0.2315140\ttest: 0.2308690\tbest: 0.2308690 (383)\ttotal: 3.16s\tremaining: 5.08s\n",
            "384:\tlearn: 0.2315069\ttest: 0.2308658\tbest: 0.2308658 (384)\ttotal: 3.17s\tremaining: 5.07s\n",
            "385:\tlearn: 0.2315012\ttest: 0.2308647\tbest: 0.2308647 (385)\ttotal: 3.18s\tremaining: 5.06s\n",
            "386:\tlearn: 0.2314918\ttest: 0.2308613\tbest: 0.2308613 (386)\ttotal: 3.19s\tremaining: 5.06s\n",
            "387:\tlearn: 0.2314793\ttest: 0.2308526\tbest: 0.2308526 (387)\ttotal: 3.2s\tremaining: 5.05s\n",
            "388:\tlearn: 0.2314714\ttest: 0.2308425\tbest: 0.2308425 (388)\ttotal: 3.21s\tremaining: 5.04s\n",
            "389:\tlearn: 0.2314621\ttest: 0.2308423\tbest: 0.2308423 (389)\ttotal: 3.21s\tremaining: 5.03s\n",
            "390:\tlearn: 0.2314535\ttest: 0.2308385\tbest: 0.2308385 (390)\ttotal: 3.22s\tremaining: 5.02s\n",
            "391:\tlearn: 0.2314451\ttest: 0.2308318\tbest: 0.2308318 (391)\ttotal: 3.23s\tremaining: 5.01s\n",
            "392:\tlearn: 0.2314394\ttest: 0.2308297\tbest: 0.2308297 (392)\ttotal: 3.23s\tremaining: 5s\n",
            "393:\tlearn: 0.2314362\ttest: 0.2308270\tbest: 0.2308270 (393)\ttotal: 3.24s\tremaining: 4.99s\n",
            "394:\tlearn: 0.2314313\ttest: 0.2308218\tbest: 0.2308218 (394)\ttotal: 3.25s\tremaining: 4.98s\n",
            "395:\tlearn: 0.2314249\ttest: 0.2308187\tbest: 0.2308187 (395)\ttotal: 3.26s\tremaining: 4.97s\n",
            "396:\tlearn: 0.2314196\ttest: 0.2308171\tbest: 0.2308171 (396)\ttotal: 3.26s\tremaining: 4.96s\n",
            "397:\tlearn: 0.2314124\ttest: 0.2308111\tbest: 0.2308111 (397)\ttotal: 3.27s\tremaining: 4.95s\n",
            "398:\tlearn: 0.2314031\ttest: 0.2307995\tbest: 0.2307995 (398)\ttotal: 3.28s\tremaining: 4.94s\n",
            "399:\tlearn: 0.2313975\ttest: 0.2307974\tbest: 0.2307974 (399)\ttotal: 3.28s\tremaining: 4.93s\n",
            "400:\tlearn: 0.2313933\ttest: 0.2307975\tbest: 0.2307974 (399)\ttotal: 3.29s\tremaining: 4.92s\n",
            "401:\tlearn: 0.2313869\ttest: 0.2307984\tbest: 0.2307974 (399)\ttotal: 3.3s\tremaining: 4.91s\n",
            "402:\tlearn: 0.2313778\ttest: 0.2307910\tbest: 0.2307910 (402)\ttotal: 3.31s\tremaining: 4.9s\n",
            "403:\tlearn: 0.2313548\ttest: 0.2307796\tbest: 0.2307796 (403)\ttotal: 3.31s\tremaining: 4.89s\n",
            "404:\tlearn: 0.2313499\ttest: 0.2307784\tbest: 0.2307784 (404)\ttotal: 3.32s\tremaining: 4.88s\n",
            "405:\tlearn: 0.2313414\ttest: 0.2307709\tbest: 0.2307709 (405)\ttotal: 3.33s\tremaining: 4.87s\n",
            "406:\tlearn: 0.2313359\ttest: 0.2307650\tbest: 0.2307650 (406)\ttotal: 3.33s\tremaining: 4.86s\n",
            "407:\tlearn: 0.2313071\ttest: 0.2307392\tbest: 0.2307392 (407)\ttotal: 3.34s\tremaining: 4.85s\n",
            "408:\tlearn: 0.2313025\ttest: 0.2307360\tbest: 0.2307360 (408)\ttotal: 3.35s\tremaining: 4.84s\n",
            "409:\tlearn: 0.2312973\ttest: 0.2307327\tbest: 0.2307327 (409)\ttotal: 3.35s\tremaining: 4.83s\n",
            "410:\tlearn: 0.2312859\ttest: 0.2307212\tbest: 0.2307212 (410)\ttotal: 3.36s\tremaining: 4.82s\n",
            "411:\tlearn: 0.2312812\ttest: 0.2307238\tbest: 0.2307212 (410)\ttotal: 3.37s\tremaining: 4.81s\n",
            "412:\tlearn: 0.2312731\ttest: 0.2307164\tbest: 0.2307164 (412)\ttotal: 3.38s\tremaining: 4.8s\n",
            "413:\tlearn: 0.2312692\ttest: 0.2307148\tbest: 0.2307148 (413)\ttotal: 3.39s\tremaining: 4.8s\n",
            "414:\tlearn: 0.2312607\ttest: 0.2307110\tbest: 0.2307110 (414)\ttotal: 3.4s\tremaining: 4.79s\n",
            "415:\tlearn: 0.2312281\ttest: 0.2306711\tbest: 0.2306711 (415)\ttotal: 3.4s\tremaining: 4.78s\n",
            "416:\tlearn: 0.2312221\ttest: 0.2306694\tbest: 0.2306694 (416)\ttotal: 3.41s\tremaining: 4.77s\n",
            "417:\tlearn: 0.2312168\ttest: 0.2306644\tbest: 0.2306644 (417)\ttotal: 3.42s\tremaining: 4.76s\n",
            "418:\tlearn: 0.2312115\ttest: 0.2306572\tbest: 0.2306572 (418)\ttotal: 3.43s\tremaining: 4.75s\n",
            "419:\tlearn: 0.2312062\ttest: 0.2306463\tbest: 0.2306463 (419)\ttotal: 3.43s\tremaining: 4.74s\n",
            "420:\tlearn: 0.2311999\ttest: 0.2306440\tbest: 0.2306440 (420)\ttotal: 3.44s\tremaining: 4.73s\n",
            "421:\tlearn: 0.2311941\ttest: 0.2306420\tbest: 0.2306420 (421)\ttotal: 3.45s\tremaining: 4.72s\n",
            "422:\tlearn: 0.2311893\ttest: 0.2306382\tbest: 0.2306382 (422)\ttotal: 3.45s\tremaining: 4.71s\n",
            "423:\tlearn: 0.2311766\ttest: 0.2306227\tbest: 0.2306227 (423)\ttotal: 3.46s\tremaining: 4.7s\n",
            "424:\tlearn: 0.2311561\ttest: 0.2306176\tbest: 0.2306176 (424)\ttotal: 3.47s\tremaining: 4.69s\n",
            "425:\tlearn: 0.2311499\ttest: 0.2306109\tbest: 0.2306109 (425)\ttotal: 3.48s\tremaining: 4.68s\n",
            "426:\tlearn: 0.2311444\ttest: 0.2306087\tbest: 0.2306087 (426)\ttotal: 3.48s\tremaining: 4.67s\n",
            "427:\tlearn: 0.2311373\ttest: 0.2306079\tbest: 0.2306079 (427)\ttotal: 3.49s\tremaining: 4.66s\n",
            "428:\tlearn: 0.2311337\ttest: 0.2306025\tbest: 0.2306025 (428)\ttotal: 3.5s\tremaining: 4.66s\n",
            "429:\tlearn: 0.2311222\ttest: 0.2305908\tbest: 0.2305908 (429)\ttotal: 3.5s\tremaining: 4.65s\n",
            "430:\tlearn: 0.2311106\ttest: 0.2305783\tbest: 0.2305783 (430)\ttotal: 3.51s\tremaining: 4.64s\n",
            "431:\tlearn: 0.2311075\ttest: 0.2305770\tbest: 0.2305770 (431)\ttotal: 3.52s\tremaining: 4.63s\n",
            "432:\tlearn: 0.2311035\ttest: 0.2305764\tbest: 0.2305764 (432)\ttotal: 3.53s\tremaining: 4.62s\n",
            "433:\tlearn: 0.2310993\ttest: 0.2305709\tbest: 0.2305709 (433)\ttotal: 3.53s\tremaining: 4.61s\n",
            "434:\tlearn: 0.2310713\ttest: 0.2305464\tbest: 0.2305464 (434)\ttotal: 3.54s\tremaining: 4.61s\n",
            "435:\tlearn: 0.2310636\ttest: 0.2305424\tbest: 0.2305424 (435)\ttotal: 3.55s\tremaining: 4.59s\n",
            "436:\tlearn: 0.2310545\ttest: 0.2305316\tbest: 0.2305316 (436)\ttotal: 3.56s\tremaining: 4.59s\n",
            "437:\tlearn: 0.2310478\ttest: 0.2305290\tbest: 0.2305290 (437)\ttotal: 3.57s\tremaining: 4.58s\n",
            "438:\tlearn: 0.2310417\ttest: 0.2305248\tbest: 0.2305248 (438)\ttotal: 3.57s\tremaining: 4.57s\n",
            "439:\tlearn: 0.2310366\ttest: 0.2305251\tbest: 0.2305248 (438)\ttotal: 3.59s\tremaining: 4.56s\n",
            "440:\tlearn: 0.2310313\ttest: 0.2305196\tbest: 0.2305196 (440)\ttotal: 3.59s\tremaining: 4.55s\n",
            "441:\tlearn: 0.2310278\ttest: 0.2305134\tbest: 0.2305134 (441)\ttotal: 3.6s\tremaining: 4.54s\n",
            "442:\tlearn: 0.2310226\ttest: 0.2305111\tbest: 0.2305111 (442)\ttotal: 3.61s\tremaining: 4.54s\n",
            "443:\tlearn: 0.2310148\ttest: 0.2305091\tbest: 0.2305091 (443)\ttotal: 3.62s\tremaining: 4.53s\n",
            "444:\tlearn: 0.2310023\ttest: 0.2304960\tbest: 0.2304960 (444)\ttotal: 3.62s\tremaining: 4.52s\n",
            "445:\tlearn: 0.2309988\ttest: 0.2304937\tbest: 0.2304937 (445)\ttotal: 3.63s\tremaining: 4.51s\n",
            "446:\tlearn: 0.2309952\ttest: 0.2304925\tbest: 0.2304925 (446)\ttotal: 3.64s\tremaining: 4.5s\n",
            "447:\tlearn: 0.2309886\ttest: 0.2304924\tbest: 0.2304924 (447)\ttotal: 3.64s\tremaining: 4.49s\n",
            "448:\tlearn: 0.2309839\ttest: 0.2304921\tbest: 0.2304921 (448)\ttotal: 3.65s\tremaining: 4.48s\n",
            "449:\tlearn: 0.2309808\ttest: 0.2304933\tbest: 0.2304921 (448)\ttotal: 3.66s\tremaining: 4.47s\n",
            "450:\tlearn: 0.2309759\ttest: 0.2304893\tbest: 0.2304893 (450)\ttotal: 3.67s\tremaining: 4.46s\n",
            "451:\tlearn: 0.2309665\ttest: 0.2304859\tbest: 0.2304859 (451)\ttotal: 3.68s\tremaining: 4.46s\n",
            "452:\tlearn: 0.2309625\ttest: 0.2304791\tbest: 0.2304791 (452)\ttotal: 3.68s\tremaining: 4.45s\n",
            "453:\tlearn: 0.2309560\ttest: 0.2304735\tbest: 0.2304735 (453)\ttotal: 3.69s\tremaining: 4.44s\n",
            "454:\tlearn: 0.2309532\ttest: 0.2304718\tbest: 0.2304718 (454)\ttotal: 3.7s\tremaining: 4.43s\n",
            "455:\tlearn: 0.2309506\ttest: 0.2304702\tbest: 0.2304702 (455)\ttotal: 3.7s\tremaining: 4.42s\n",
            "456:\tlearn: 0.2309453\ttest: 0.2304680\tbest: 0.2304680 (456)\ttotal: 3.71s\tremaining: 4.41s\n",
            "457:\tlearn: 0.2309383\ttest: 0.2304718\tbest: 0.2304680 (456)\ttotal: 3.72s\tremaining: 4.4s\n",
            "458:\tlearn: 0.2309343\ttest: 0.2304655\tbest: 0.2304655 (458)\ttotal: 3.73s\tremaining: 4.39s\n",
            "459:\tlearn: 0.2309296\ttest: 0.2304635\tbest: 0.2304635 (459)\ttotal: 3.75s\tremaining: 4.4s\n",
            "460:\tlearn: 0.2309266\ttest: 0.2304617\tbest: 0.2304617 (460)\ttotal: 3.75s\tremaining: 4.39s\n",
            "461:\tlearn: 0.2309247\ttest: 0.2304621\tbest: 0.2304617 (460)\ttotal: 3.78s\tremaining: 4.4s\n",
            "462:\tlearn: 0.2309137\ttest: 0.2304600\tbest: 0.2304600 (462)\ttotal: 3.79s\tremaining: 4.4s\n",
            "463:\tlearn: 0.2309081\ttest: 0.2304612\tbest: 0.2304600 (462)\ttotal: 3.8s\tremaining: 4.39s\n",
            "464:\tlearn: 0.2309028\ttest: 0.2304566\tbest: 0.2304566 (464)\ttotal: 3.81s\tremaining: 4.38s\n",
            "465:\tlearn: 0.2308965\ttest: 0.2304501\tbest: 0.2304501 (465)\ttotal: 3.82s\tremaining: 4.37s\n",
            "466:\tlearn: 0.2308932\ttest: 0.2304495\tbest: 0.2304495 (466)\ttotal: 3.82s\tremaining: 4.36s\n",
            "467:\tlearn: 0.2308890\ttest: 0.2304433\tbest: 0.2304433 (467)\ttotal: 3.83s\tremaining: 4.35s\n",
            "468:\tlearn: 0.2308828\ttest: 0.2304389\tbest: 0.2304389 (468)\ttotal: 3.84s\tremaining: 4.34s\n",
            "469:\tlearn: 0.2308721\ttest: 0.2304256\tbest: 0.2304256 (469)\ttotal: 3.84s\tremaining: 4.33s\n",
            "470:\tlearn: 0.2308659\ttest: 0.2304261\tbest: 0.2304256 (469)\ttotal: 3.85s\tremaining: 4.33s\n",
            "471:\tlearn: 0.2308613\ttest: 0.2304217\tbest: 0.2304217 (471)\ttotal: 3.86s\tremaining: 4.32s\n",
            "472:\tlearn: 0.2308525\ttest: 0.2304088\tbest: 0.2304088 (472)\ttotal: 3.87s\tremaining: 4.31s\n",
            "473:\tlearn: 0.2308497\ttest: 0.2304066\tbest: 0.2304066 (473)\ttotal: 3.87s\tremaining: 4.3s\n",
            "474:\tlearn: 0.2308439\ttest: 0.2304038\tbest: 0.2304038 (474)\ttotal: 3.88s\tremaining: 4.29s\n",
            "475:\tlearn: 0.2308385\ttest: 0.2303970\tbest: 0.2303970 (475)\ttotal: 3.89s\tremaining: 4.28s\n",
            "476:\tlearn: 0.2308355\ttest: 0.2303969\tbest: 0.2303969 (476)\ttotal: 3.9s\tremaining: 4.27s\n",
            "477:\tlearn: 0.2308326\ttest: 0.2303963\tbest: 0.2303963 (477)\ttotal: 3.9s\tremaining: 4.26s\n",
            "478:\tlearn: 0.2308293\ttest: 0.2303923\tbest: 0.2303923 (478)\ttotal: 3.91s\tremaining: 4.25s\n",
            "479:\tlearn: 0.2308174\ttest: 0.2303805\tbest: 0.2303805 (479)\ttotal: 3.92s\tremaining: 4.24s\n",
            "480:\tlearn: 0.2308095\ttest: 0.2303713\tbest: 0.2303713 (480)\ttotal: 3.92s\tremaining: 4.24s\n",
            "481:\tlearn: 0.2308064\ttest: 0.2303703\tbest: 0.2303703 (481)\ttotal: 3.93s\tremaining: 4.23s\n",
            "482:\tlearn: 0.2308007\ttest: 0.2303659\tbest: 0.2303659 (482)\ttotal: 3.94s\tremaining: 4.22s\n",
            "483:\tlearn: 0.2307979\ttest: 0.2303641\tbest: 0.2303641 (483)\ttotal: 3.95s\tremaining: 4.21s\n",
            "484:\tlearn: 0.2307907\ttest: 0.2303656\tbest: 0.2303641 (483)\ttotal: 3.96s\tremaining: 4.2s\n",
            "485:\tlearn: 0.2307896\ttest: 0.2303655\tbest: 0.2303641 (483)\ttotal: 3.96s\tremaining: 4.19s\n",
            "486:\tlearn: 0.2307852\ttest: 0.2303607\tbest: 0.2303607 (486)\ttotal: 3.97s\tremaining: 4.18s\n",
            "487:\tlearn: 0.2307778\ttest: 0.2303577\tbest: 0.2303577 (487)\ttotal: 3.98s\tremaining: 4.18s\n",
            "488:\tlearn: 0.2307709\ttest: 0.2303537\tbest: 0.2303537 (488)\ttotal: 3.99s\tremaining: 4.17s\n",
            "489:\tlearn: 0.2307684\ttest: 0.2303509\tbest: 0.2303509 (489)\ttotal: 4s\tremaining: 4.16s\n",
            "490:\tlearn: 0.2307658\ttest: 0.2303463\tbest: 0.2303463 (490)\ttotal: 4s\tremaining: 4.15s\n",
            "491:\tlearn: 0.2307626\ttest: 0.2303434\tbest: 0.2303434 (491)\ttotal: 4.02s\tremaining: 4.15s\n",
            "492:\tlearn: 0.2307595\ttest: 0.2303376\tbest: 0.2303376 (492)\ttotal: 4.03s\tremaining: 4.14s\n",
            "493:\tlearn: 0.2307546\ttest: 0.2303367\tbest: 0.2303367 (493)\ttotal: 4.04s\tremaining: 4.13s\n",
            "494:\tlearn: 0.2307509\ttest: 0.2303315\tbest: 0.2303315 (494)\ttotal: 4.04s\tremaining: 4.12s\n",
            "495:\tlearn: 0.2307474\ttest: 0.2303316\tbest: 0.2303315 (494)\ttotal: 4.05s\tremaining: 4.12s\n",
            "496:\tlearn: 0.2307382\ttest: 0.2303198\tbest: 0.2303198 (496)\ttotal: 4.06s\tremaining: 4.11s\n",
            "497:\tlearn: 0.2307333\ttest: 0.2303203\tbest: 0.2303198 (496)\ttotal: 4.06s\tremaining: 4.1s\n",
            "498:\tlearn: 0.2307304\ttest: 0.2303208\tbest: 0.2303198 (496)\ttotal: 4.07s\tremaining: 4.09s\n",
            "499:\tlearn: 0.2307266\ttest: 0.2303189\tbest: 0.2303189 (499)\ttotal: 4.08s\tremaining: 4.08s\n",
            "500:\tlearn: 0.2307150\ttest: 0.2303175\tbest: 0.2303175 (500)\ttotal: 4.08s\tremaining: 4.07s\n",
            "501:\tlearn: 0.2307117\ttest: 0.2303108\tbest: 0.2303108 (501)\ttotal: 4.09s\tremaining: 4.06s\n",
            "502:\tlearn: 0.2307091\ttest: 0.2303118\tbest: 0.2303108 (501)\ttotal: 4.1s\tremaining: 4.05s\n",
            "503:\tlearn: 0.2307047\ttest: 0.2303111\tbest: 0.2303108 (501)\ttotal: 4.11s\tremaining: 4.04s\n",
            "504:\tlearn: 0.2307003\ttest: 0.2303087\tbest: 0.2303087 (504)\ttotal: 4.11s\tremaining: 4.03s\n",
            "505:\tlearn: 0.2306975\ttest: 0.2303071\tbest: 0.2303071 (505)\ttotal: 4.12s\tremaining: 4.02s\n",
            "506:\tlearn: 0.2306941\ttest: 0.2303062\tbest: 0.2303062 (506)\ttotal: 4.13s\tremaining: 4.01s\n",
            "507:\tlearn: 0.2306883\ttest: 0.2303049\tbest: 0.2303049 (507)\ttotal: 4.14s\tremaining: 4.01s\n",
            "508:\tlearn: 0.2306827\ttest: 0.2303075\tbest: 0.2303049 (507)\ttotal: 4.15s\tremaining: 4s\n",
            "509:\tlearn: 0.2306785\ttest: 0.2303061\tbest: 0.2303049 (507)\ttotal: 4.15s\tremaining: 3.99s\n",
            "510:\tlearn: 0.2306724\ttest: 0.2303072\tbest: 0.2303049 (507)\ttotal: 4.16s\tremaining: 3.98s\n",
            "511:\tlearn: 0.2306668\ttest: 0.2302990\tbest: 0.2302990 (511)\ttotal: 4.17s\tremaining: 3.97s\n",
            "512:\tlearn: 0.2306633\ttest: 0.2302923\tbest: 0.2302923 (512)\ttotal: 4.18s\tremaining: 3.97s\n",
            "513:\tlearn: 0.2306580\ttest: 0.2302879\tbest: 0.2302879 (513)\ttotal: 4.19s\tremaining: 3.96s\n",
            "514:\tlearn: 0.2306550\ttest: 0.2302867\tbest: 0.2302867 (514)\ttotal: 4.2s\tremaining: 3.95s\n",
            "515:\tlearn: 0.2306428\ttest: 0.2302783\tbest: 0.2302783 (515)\ttotal: 4.2s\tremaining: 3.94s\n",
            "516:\tlearn: 0.2306372\ttest: 0.2302750\tbest: 0.2302750 (516)\ttotal: 4.21s\tremaining: 3.93s\n",
            "517:\tlearn: 0.2306312\ttest: 0.2302751\tbest: 0.2302750 (516)\ttotal: 4.22s\tremaining: 3.93s\n",
            "518:\tlearn: 0.2306259\ttest: 0.2302761\tbest: 0.2302750 (516)\ttotal: 4.23s\tremaining: 3.92s\n",
            "519:\tlearn: 0.2306234\ttest: 0.2302703\tbest: 0.2302703 (519)\ttotal: 4.24s\tremaining: 3.91s\n",
            "520:\tlearn: 0.2306126\ttest: 0.2302583\tbest: 0.2302583 (520)\ttotal: 4.24s\tremaining: 3.9s\n",
            "521:\tlearn: 0.2306062\ttest: 0.2302582\tbest: 0.2302582 (521)\ttotal: 4.25s\tremaining: 3.89s\n",
            "522:\tlearn: 0.2306032\ttest: 0.2302589\tbest: 0.2302582 (521)\ttotal: 4.26s\tremaining: 3.88s\n",
            "523:\tlearn: 0.2306024\ttest: 0.2302592\tbest: 0.2302582 (521)\ttotal: 4.26s\tremaining: 3.87s\n",
            "524:\tlearn: 0.2305985\ttest: 0.2302603\tbest: 0.2302582 (521)\ttotal: 4.27s\tremaining: 3.87s\n",
            "525:\tlearn: 0.2305968\ttest: 0.2302607\tbest: 0.2302582 (521)\ttotal: 4.28s\tremaining: 3.86s\n",
            "526:\tlearn: 0.2305902\ttest: 0.2302628\tbest: 0.2302582 (521)\ttotal: 4.29s\tremaining: 3.85s\n",
            "527:\tlearn: 0.2305866\ttest: 0.2302608\tbest: 0.2302582 (521)\ttotal: 4.29s\tremaining: 3.84s\n",
            "528:\tlearn: 0.2305847\ttest: 0.2302621\tbest: 0.2302582 (521)\ttotal: 4.3s\tremaining: 3.83s\n",
            "529:\tlearn: 0.2305783\ttest: 0.2302629\tbest: 0.2302582 (521)\ttotal: 4.31s\tremaining: 3.82s\n",
            "530:\tlearn: 0.2305768\ttest: 0.2302615\tbest: 0.2302582 (521)\ttotal: 4.32s\tremaining: 3.81s\n",
            "531:\tlearn: 0.2305659\ttest: 0.2302608\tbest: 0.2302582 (521)\ttotal: 4.32s\tremaining: 3.8s\n",
            "532:\tlearn: 0.2305633\ttest: 0.2302640\tbest: 0.2302582 (521)\ttotal: 4.33s\tremaining: 3.79s\n",
            "533:\tlearn: 0.2305569\ttest: 0.2302599\tbest: 0.2302582 (521)\ttotal: 4.34s\tremaining: 3.78s\n",
            "534:\tlearn: 0.2305490\ttest: 0.2302516\tbest: 0.2302516 (534)\ttotal: 4.34s\tremaining: 3.77s\n",
            "535:\tlearn: 0.2305440\ttest: 0.2302498\tbest: 0.2302498 (535)\ttotal: 4.35s\tremaining: 3.77s\n",
            "536:\tlearn: 0.2305426\ttest: 0.2302486\tbest: 0.2302486 (536)\ttotal: 4.36s\tremaining: 3.76s\n",
            "537:\tlearn: 0.2305392\ttest: 0.2302486\tbest: 0.2302486 (537)\ttotal: 4.36s\tremaining: 3.75s\n",
            "538:\tlearn: 0.2305356\ttest: 0.2302476\tbest: 0.2302476 (538)\ttotal: 4.37s\tremaining: 3.74s\n",
            "539:\tlearn: 0.2305322\ttest: 0.2302476\tbest: 0.2302476 (538)\ttotal: 4.38s\tremaining: 3.73s\n",
            "540:\tlearn: 0.2305263\ttest: 0.2302453\tbest: 0.2302453 (540)\ttotal: 4.39s\tremaining: 3.72s\n",
            "541:\tlearn: 0.2305234\ttest: 0.2302432\tbest: 0.2302432 (541)\ttotal: 4.4s\tremaining: 3.71s\n",
            "542:\tlearn: 0.2305208\ttest: 0.2302434\tbest: 0.2302432 (541)\ttotal: 4.4s\tremaining: 3.71s\n",
            "543:\tlearn: 0.2305183\ttest: 0.2302408\tbest: 0.2302408 (543)\ttotal: 4.41s\tremaining: 3.7s\n",
            "544:\tlearn: 0.2305151\ttest: 0.2302380\tbest: 0.2302380 (544)\ttotal: 4.42s\tremaining: 3.69s\n",
            "545:\tlearn: 0.2305115\ttest: 0.2302373\tbest: 0.2302373 (545)\ttotal: 4.42s\tremaining: 3.68s\n",
            "546:\tlearn: 0.2305092\ttest: 0.2302335\tbest: 0.2302335 (546)\ttotal: 4.43s\tremaining: 3.67s\n",
            "547:\tlearn: 0.2305059\ttest: 0.2302305\tbest: 0.2302305 (547)\ttotal: 4.44s\tremaining: 3.66s\n",
            "548:\tlearn: 0.2305005\ttest: 0.2302243\tbest: 0.2302243 (548)\ttotal: 4.45s\tremaining: 3.65s\n",
            "549:\tlearn: 0.2304980\ttest: 0.2302246\tbest: 0.2302243 (548)\ttotal: 4.45s\tremaining: 3.64s\n",
            "550:\tlearn: 0.2304823\ttest: 0.2302203\tbest: 0.2302203 (550)\ttotal: 4.46s\tremaining: 3.63s\n",
            "551:\tlearn: 0.2304793\ttest: 0.2302221\tbest: 0.2302203 (550)\ttotal: 4.47s\tremaining: 3.63s\n",
            "552:\tlearn: 0.2304757\ttest: 0.2302250\tbest: 0.2302203 (550)\ttotal: 4.48s\tremaining: 3.62s\n",
            "553:\tlearn: 0.2304715\ttest: 0.2302258\tbest: 0.2302203 (550)\ttotal: 4.48s\tremaining: 3.61s\n",
            "554:\tlearn: 0.2304605\ttest: 0.2302182\tbest: 0.2302182 (554)\ttotal: 4.49s\tremaining: 3.6s\n",
            "555:\tlearn: 0.2304574\ttest: 0.2302192\tbest: 0.2302182 (554)\ttotal: 4.5s\tremaining: 3.59s\n",
            "556:\tlearn: 0.2304537\ttest: 0.2302207\tbest: 0.2302182 (554)\ttotal: 4.5s\tremaining: 3.58s\n",
            "557:\tlearn: 0.2304502\ttest: 0.2302212\tbest: 0.2302182 (554)\ttotal: 4.51s\tremaining: 3.57s\n",
            "558:\tlearn: 0.2304480\ttest: 0.2302248\tbest: 0.2302182 (554)\ttotal: 4.52s\tremaining: 3.56s\n",
            "559:\tlearn: 0.2304454\ttest: 0.2302251\tbest: 0.2302182 (554)\ttotal: 4.53s\tremaining: 3.56s\n",
            "560:\tlearn: 0.2304420\ttest: 0.2302234\tbest: 0.2302182 (554)\ttotal: 4.53s\tremaining: 3.55s\n",
            "561:\tlearn: 0.2304405\ttest: 0.2302238\tbest: 0.2302182 (554)\ttotal: 4.54s\tremaining: 3.54s\n",
            "562:\tlearn: 0.2304360\ttest: 0.2302205\tbest: 0.2302182 (554)\ttotal: 4.55s\tremaining: 3.53s\n",
            "563:\tlearn: 0.2304324\ttest: 0.2302166\tbest: 0.2302166 (563)\ttotal: 4.55s\tremaining: 3.52s\n",
            "564:\tlearn: 0.2304306\ttest: 0.2302150\tbest: 0.2302150 (564)\ttotal: 4.57s\tremaining: 3.52s\n",
            "565:\tlearn: 0.2304291\ttest: 0.2302160\tbest: 0.2302150 (564)\ttotal: 4.58s\tremaining: 3.51s\n",
            "566:\tlearn: 0.2304274\ttest: 0.2302128\tbest: 0.2302128 (566)\ttotal: 4.58s\tremaining: 3.5s\n",
            "567:\tlearn: 0.2304260\ttest: 0.2302130\tbest: 0.2302128 (566)\ttotal: 4.59s\tremaining: 3.49s\n",
            "568:\tlearn: 0.2304230\ttest: 0.2302104\tbest: 0.2302104 (568)\ttotal: 4.6s\tremaining: 3.48s\n",
            "569:\tlearn: 0.2304211\ttest: 0.2302062\tbest: 0.2302062 (569)\ttotal: 4.6s\tremaining: 3.47s\n",
            "570:\tlearn: 0.2304191\ttest: 0.2302064\tbest: 0.2302062 (569)\ttotal: 4.61s\tremaining: 3.46s\n",
            "571:\tlearn: 0.2304124\ttest: 0.2302040\tbest: 0.2302040 (571)\ttotal: 4.62s\tremaining: 3.46s\n",
            "572:\tlearn: 0.2304097\ttest: 0.2301994\tbest: 0.2301994 (572)\ttotal: 4.63s\tremaining: 3.45s\n",
            "573:\tlearn: 0.2304083\ttest: 0.2302003\tbest: 0.2301994 (572)\ttotal: 4.63s\tremaining: 3.44s\n",
            "574:\tlearn: 0.2304041\ttest: 0.2301967\tbest: 0.2301967 (574)\ttotal: 4.64s\tremaining: 3.43s\n",
            "575:\tlearn: 0.2303999\ttest: 0.2301888\tbest: 0.2301888 (575)\ttotal: 4.65s\tremaining: 3.42s\n",
            "576:\tlearn: 0.2303963\ttest: 0.2301904\tbest: 0.2301888 (575)\ttotal: 4.66s\tremaining: 3.41s\n",
            "577:\tlearn: 0.2303954\ttest: 0.2301898\tbest: 0.2301888 (575)\ttotal: 4.66s\tremaining: 3.4s\n",
            "578:\tlearn: 0.2303900\ttest: 0.2301949\tbest: 0.2301888 (575)\ttotal: 4.67s\tremaining: 3.4s\n",
            "579:\tlearn: 0.2303877\ttest: 0.2301976\tbest: 0.2301888 (575)\ttotal: 4.68s\tremaining: 3.39s\n",
            "580:\tlearn: 0.2303841\ttest: 0.2301967\tbest: 0.2301888 (575)\ttotal: 4.68s\tremaining: 3.38s\n",
            "581:\tlearn: 0.2303808\ttest: 0.2301979\tbest: 0.2301888 (575)\ttotal: 4.7s\tremaining: 3.37s\n",
            "582:\tlearn: 0.2303731\ttest: 0.2301899\tbest: 0.2301888 (575)\ttotal: 4.7s\tremaining: 3.37s\n",
            "583:\tlearn: 0.2303704\ttest: 0.2301911\tbest: 0.2301888 (575)\ttotal: 4.71s\tremaining: 3.36s\n",
            "584:\tlearn: 0.2303681\ttest: 0.2301918\tbest: 0.2301888 (575)\ttotal: 4.72s\tremaining: 3.35s\n",
            "585:\tlearn: 0.2303667\ttest: 0.2301910\tbest: 0.2301888 (575)\ttotal: 4.74s\tremaining: 3.35s\n",
            "586:\tlearn: 0.2303653\ttest: 0.2301884\tbest: 0.2301884 (586)\ttotal: 4.75s\tremaining: 3.35s\n",
            "587:\tlearn: 0.2303637\ttest: 0.2301859\tbest: 0.2301859 (587)\ttotal: 4.76s\tremaining: 3.34s\n",
            "588:\tlearn: 0.2303623\ttest: 0.2301830\tbest: 0.2301830 (588)\ttotal: 4.77s\tremaining: 3.33s\n",
            "589:\tlearn: 0.2303613\ttest: 0.2301820\tbest: 0.2301820 (589)\ttotal: 4.78s\tremaining: 3.32s\n",
            "590:\tlearn: 0.2303594\ttest: 0.2301831\tbest: 0.2301820 (589)\ttotal: 4.81s\tremaining: 3.33s\n",
            "591:\tlearn: 0.2303565\ttest: 0.2301798\tbest: 0.2301798 (591)\ttotal: 4.82s\tremaining: 3.32s\n",
            "592:\tlearn: 0.2303544\ttest: 0.2301781\tbest: 0.2301781 (592)\ttotal: 4.82s\tremaining: 3.31s\n",
            "593:\tlearn: 0.2303457\ttest: 0.2301760\tbest: 0.2301760 (593)\ttotal: 4.83s\tremaining: 3.3s\n",
            "594:\tlearn: 0.2303349\ttest: 0.2301640\tbest: 0.2301640 (594)\ttotal: 4.84s\tremaining: 3.29s\n",
            "595:\tlearn: 0.2303214\ttest: 0.2301652\tbest: 0.2301640 (594)\ttotal: 4.84s\tremaining: 3.28s\n",
            "596:\tlearn: 0.2303205\ttest: 0.2301634\tbest: 0.2301634 (596)\ttotal: 4.85s\tremaining: 3.28s\n",
            "597:\tlearn: 0.2303186\ttest: 0.2301619\tbest: 0.2301619 (597)\ttotal: 4.86s\tremaining: 3.27s\n",
            "598:\tlearn: 0.2303173\ttest: 0.2301604\tbest: 0.2301604 (598)\ttotal: 4.87s\tremaining: 3.26s\n",
            "599:\tlearn: 0.2303130\ttest: 0.2301606\tbest: 0.2301604 (598)\ttotal: 4.88s\tremaining: 3.25s\n",
            "600:\tlearn: 0.2303089\ttest: 0.2301572\tbest: 0.2301572 (600)\ttotal: 4.88s\tremaining: 3.24s\n",
            "601:\tlearn: 0.2303036\ttest: 0.2301554\tbest: 0.2301554 (601)\ttotal: 4.89s\tremaining: 3.23s\n",
            "602:\tlearn: 0.2302995\ttest: 0.2301564\tbest: 0.2301554 (601)\ttotal: 4.9s\tremaining: 3.22s\n",
            "603:\tlearn: 0.2302959\ttest: 0.2301538\tbest: 0.2301538 (603)\ttotal: 4.9s\tremaining: 3.21s\n",
            "604:\tlearn: 0.2302947\ttest: 0.2301525\tbest: 0.2301525 (604)\ttotal: 4.91s\tremaining: 3.21s\n",
            "605:\tlearn: 0.2302809\ttest: 0.2301516\tbest: 0.2301516 (605)\ttotal: 4.92s\tremaining: 3.2s\n",
            "606:\tlearn: 0.2302775\ttest: 0.2301484\tbest: 0.2301484 (606)\ttotal: 4.92s\tremaining: 3.19s\n",
            "607:\tlearn: 0.2302669\ttest: 0.2301434\tbest: 0.2301434 (607)\ttotal: 4.93s\tremaining: 3.18s\n",
            "608:\tlearn: 0.2302665\ttest: 0.2301434\tbest: 0.2301434 (608)\ttotal: 4.95s\tremaining: 3.17s\n",
            "609:\tlearn: 0.2302626\ttest: 0.2301417\tbest: 0.2301417 (609)\ttotal: 4.95s\tremaining: 3.17s\n",
            "610:\tlearn: 0.2302591\ttest: 0.2301424\tbest: 0.2301417 (609)\ttotal: 4.96s\tremaining: 3.16s\n",
            "611:\tlearn: 0.2302456\ttest: 0.2301422\tbest: 0.2301417 (609)\ttotal: 4.97s\tremaining: 3.15s\n",
            "612:\tlearn: 0.2302339\ttest: 0.2301436\tbest: 0.2301417 (609)\ttotal: 4.97s\tremaining: 3.14s\n",
            "613:\tlearn: 0.2302245\ttest: 0.2301343\tbest: 0.2301343 (613)\ttotal: 4.98s\tremaining: 3.13s\n",
            "614:\tlearn: 0.2302229\ttest: 0.2301325\tbest: 0.2301325 (614)\ttotal: 4.99s\tremaining: 3.12s\n",
            "615:\tlearn: 0.2302213\ttest: 0.2301297\tbest: 0.2301297 (615)\ttotal: 5s\tremaining: 3.11s\n",
            "616:\tlearn: 0.2302193\ttest: 0.2301294\tbest: 0.2301294 (616)\ttotal: 5s\tremaining: 3.1s\n",
            "617:\tlearn: 0.2302165\ttest: 0.2301284\tbest: 0.2301284 (617)\ttotal: 5.01s\tremaining: 3.1s\n",
            "618:\tlearn: 0.2302091\ttest: 0.2301280\tbest: 0.2301280 (618)\ttotal: 5.02s\tremaining: 3.09s\n",
            "619:\tlearn: 0.2302067\ttest: 0.2301286\tbest: 0.2301280 (618)\ttotal: 5.02s\tremaining: 3.08s\n",
            "620:\tlearn: 0.2302050\ttest: 0.2301278\tbest: 0.2301278 (620)\ttotal: 5.03s\tremaining: 3.07s\n",
            "621:\tlearn: 0.2301923\ttest: 0.2301231\tbest: 0.2301231 (621)\ttotal: 5.04s\tremaining: 3.06s\n",
            "622:\tlearn: 0.2301868\ttest: 0.2301249\tbest: 0.2301231 (621)\ttotal: 5.04s\tremaining: 3.05s\n",
            "623:\tlearn: 0.2301856\ttest: 0.2301254\tbest: 0.2301231 (621)\ttotal: 5.05s\tremaining: 3.04s\n",
            "624:\tlearn: 0.2301822\ttest: 0.2301248\tbest: 0.2301231 (621)\ttotal: 5.06s\tremaining: 3.04s\n",
            "625:\tlearn: 0.2301753\ttest: 0.2301243\tbest: 0.2301231 (621)\ttotal: 5.07s\tremaining: 3.03s\n",
            "626:\tlearn: 0.2301736\ttest: 0.2301225\tbest: 0.2301225 (626)\ttotal: 5.07s\tremaining: 3.02s\n",
            "627:\tlearn: 0.2301711\ttest: 0.2301203\tbest: 0.2301203 (627)\ttotal: 5.08s\tremaining: 3.01s\n",
            "628:\tlearn: 0.2301694\ttest: 0.2301173\tbest: 0.2301173 (628)\ttotal: 5.09s\tremaining: 3s\n",
            "629:\tlearn: 0.2301645\ttest: 0.2301150\tbest: 0.2301150 (629)\ttotal: 5.1s\tremaining: 3s\n",
            "630:\tlearn: 0.2301638\ttest: 0.2301141\tbest: 0.2301141 (630)\ttotal: 5.11s\tremaining: 2.99s\n",
            "631:\tlearn: 0.2301626\ttest: 0.2301155\tbest: 0.2301141 (630)\ttotal: 5.12s\tremaining: 2.98s\n",
            "632:\tlearn: 0.2301618\ttest: 0.2301120\tbest: 0.2301120 (632)\ttotal: 5.12s\tremaining: 2.97s\n",
            "633:\tlearn: 0.2301597\ttest: 0.2301098\tbest: 0.2301098 (633)\ttotal: 5.13s\tremaining: 2.96s\n",
            "634:\tlearn: 0.2301561\ttest: 0.2301029\tbest: 0.2301029 (634)\ttotal: 5.14s\tremaining: 2.96s\n",
            "635:\tlearn: 0.2301529\ttest: 0.2300995\tbest: 0.2300995 (635)\ttotal: 5.15s\tremaining: 2.95s\n",
            "636:\tlearn: 0.2301450\ttest: 0.2300921\tbest: 0.2300921 (636)\ttotal: 5.16s\tremaining: 2.94s\n",
            "637:\tlearn: 0.2301437\ttest: 0.2300903\tbest: 0.2300903 (637)\ttotal: 5.17s\tremaining: 2.93s\n",
            "638:\tlearn: 0.2301420\ttest: 0.2300916\tbest: 0.2300903 (637)\ttotal: 5.17s\tremaining: 2.92s\n",
            "639:\tlearn: 0.2301407\ttest: 0.2300900\tbest: 0.2300900 (639)\ttotal: 5.18s\tremaining: 2.91s\n",
            "640:\tlearn: 0.2301381\ttest: 0.2300889\tbest: 0.2300889 (640)\ttotal: 5.19s\tremaining: 2.9s\n",
            "641:\tlearn: 0.2301369\ttest: 0.2300882\tbest: 0.2300882 (641)\ttotal: 5.19s\tremaining: 2.9s\n",
            "642:\tlearn: 0.2301351\ttest: 0.2300884\tbest: 0.2300882 (641)\ttotal: 5.2s\tremaining: 2.89s\n",
            "643:\tlearn: 0.2301330\ttest: 0.2300905\tbest: 0.2300882 (641)\ttotal: 5.21s\tremaining: 2.88s\n",
            "644:\tlearn: 0.2301290\ttest: 0.2300895\tbest: 0.2300882 (641)\ttotal: 5.21s\tremaining: 2.87s\n",
            "645:\tlearn: 0.2301276\ttest: 0.2300890\tbest: 0.2300882 (641)\ttotal: 5.22s\tremaining: 2.86s\n",
            "646:\tlearn: 0.2301253\ttest: 0.2300869\tbest: 0.2300869 (646)\ttotal: 5.23s\tremaining: 2.85s\n",
            "647:\tlearn: 0.2301224\ttest: 0.2300849\tbest: 0.2300849 (647)\ttotal: 5.24s\tremaining: 2.85s\n",
            "648:\tlearn: 0.2301210\ttest: 0.2300870\tbest: 0.2300849 (647)\ttotal: 5.25s\tremaining: 2.84s\n",
            "649:\tlearn: 0.2301112\ttest: 0.2300895\tbest: 0.2300849 (647)\ttotal: 5.25s\tremaining: 2.83s\n",
            "650:\tlearn: 0.2301078\ttest: 0.2300890\tbest: 0.2300849 (647)\ttotal: 5.26s\tremaining: 2.82s\n",
            "651:\tlearn: 0.2301065\ttest: 0.2300890\tbest: 0.2300849 (647)\ttotal: 5.27s\tremaining: 2.81s\n",
            "652:\tlearn: 0.2301028\ttest: 0.2300858\tbest: 0.2300849 (647)\ttotal: 5.28s\tremaining: 2.8s\n",
            "653:\tlearn: 0.2301015\ttest: 0.2300863\tbest: 0.2300849 (647)\ttotal: 5.28s\tremaining: 2.79s\n",
            "654:\tlearn: 0.2300949\ttest: 0.2300886\tbest: 0.2300849 (647)\ttotal: 5.29s\tremaining: 2.79s\n",
            "655:\tlearn: 0.2300909\ttest: 0.2300848\tbest: 0.2300848 (655)\ttotal: 5.3s\tremaining: 2.78s\n",
            "656:\tlearn: 0.2300896\ttest: 0.2300854\tbest: 0.2300848 (655)\ttotal: 5.3s\tremaining: 2.77s\n",
            "657:\tlearn: 0.2300888\ttest: 0.2300853\tbest: 0.2300848 (655)\ttotal: 5.31s\tremaining: 2.76s\n",
            "658:\tlearn: 0.2300869\ttest: 0.2300850\tbest: 0.2300848 (655)\ttotal: 5.32s\tremaining: 2.75s\n",
            "659:\tlearn: 0.2300853\ttest: 0.2300851\tbest: 0.2300848 (655)\ttotal: 5.33s\tremaining: 2.74s\n",
            "660:\tlearn: 0.2300833\ttest: 0.2300827\tbest: 0.2300827 (660)\ttotal: 5.33s\tremaining: 2.73s\n",
            "661:\tlearn: 0.2300810\ttest: 0.2300828\tbest: 0.2300827 (660)\ttotal: 5.35s\tremaining: 2.73s\n",
            "662:\tlearn: 0.2300771\ttest: 0.2300789\tbest: 0.2300789 (662)\ttotal: 5.36s\tremaining: 2.72s\n",
            "663:\tlearn: 0.2300737\ttest: 0.2300782\tbest: 0.2300782 (663)\ttotal: 5.36s\tremaining: 2.71s\n",
            "664:\tlearn: 0.2300719\ttest: 0.2300794\tbest: 0.2300782 (663)\ttotal: 5.37s\tremaining: 2.7s\n",
            "665:\tlearn: 0.2300705\ttest: 0.2300764\tbest: 0.2300764 (665)\ttotal: 5.38s\tremaining: 2.7s\n",
            "666:\tlearn: 0.2300689\ttest: 0.2300757\tbest: 0.2300757 (666)\ttotal: 5.38s\tremaining: 2.69s\n",
            "667:\tlearn: 0.2300650\ttest: 0.2300751\tbest: 0.2300751 (667)\ttotal: 5.39s\tremaining: 2.68s\n",
            "668:\tlearn: 0.2300620\ttest: 0.2300744\tbest: 0.2300744 (668)\ttotal: 5.4s\tremaining: 2.67s\n",
            "669:\tlearn: 0.2300592\ttest: 0.2300729\tbest: 0.2300729 (669)\ttotal: 5.4s\tremaining: 2.66s\n",
            "670:\tlearn: 0.2300538\ttest: 0.2300665\tbest: 0.2300665 (670)\ttotal: 5.41s\tremaining: 2.65s\n",
            "671:\tlearn: 0.2300523\ttest: 0.2300648\tbest: 0.2300648 (671)\ttotal: 5.42s\tremaining: 2.65s\n",
            "672:\tlearn: 0.2300513\ttest: 0.2300622\tbest: 0.2300622 (672)\ttotal: 5.43s\tremaining: 2.64s\n",
            "673:\tlearn: 0.2300496\ttest: 0.2300642\tbest: 0.2300622 (672)\ttotal: 5.43s\tremaining: 2.63s\n",
            "674:\tlearn: 0.2300424\ttest: 0.2300548\tbest: 0.2300548 (674)\ttotal: 5.44s\tremaining: 2.62s\n",
            "675:\tlearn: 0.2300404\ttest: 0.2300528\tbest: 0.2300528 (675)\ttotal: 5.45s\tremaining: 2.61s\n",
            "676:\tlearn: 0.2300360\ttest: 0.2300531\tbest: 0.2300528 (675)\ttotal: 5.46s\tremaining: 2.6s\n",
            "677:\tlearn: 0.2300347\ttest: 0.2300517\tbest: 0.2300517 (677)\ttotal: 5.46s\tremaining: 2.59s\n",
            "678:\tlearn: 0.2300310\ttest: 0.2300519\tbest: 0.2300517 (677)\ttotal: 5.47s\tremaining: 2.58s\n",
            "679:\tlearn: 0.2300296\ttest: 0.2300520\tbest: 0.2300517 (677)\ttotal: 5.47s\tremaining: 2.58s\n",
            "680:\tlearn: 0.2300281\ttest: 0.2300532\tbest: 0.2300517 (677)\ttotal: 5.48s\tremaining: 2.57s\n",
            "681:\tlearn: 0.2300268\ttest: 0.2300521\tbest: 0.2300517 (677)\ttotal: 5.49s\tremaining: 2.56s\n",
            "682:\tlearn: 0.2300210\ttest: 0.2300520\tbest: 0.2300517 (677)\ttotal: 5.5s\tremaining: 2.55s\n",
            "683:\tlearn: 0.2300182\ttest: 0.2300507\tbest: 0.2300507 (683)\ttotal: 5.5s\tremaining: 2.54s\n",
            "684:\tlearn: 0.2300164\ttest: 0.2300497\tbest: 0.2300497 (684)\ttotal: 5.51s\tremaining: 2.53s\n",
            "685:\tlearn: 0.2300144\ttest: 0.2300483\tbest: 0.2300483 (685)\ttotal: 5.52s\tremaining: 2.53s\n",
            "686:\tlearn: 0.2300130\ttest: 0.2300475\tbest: 0.2300475 (686)\ttotal: 5.54s\tremaining: 2.52s\n",
            "687:\tlearn: 0.2300122\ttest: 0.2300463\tbest: 0.2300463 (687)\ttotal: 5.54s\tremaining: 2.51s\n",
            "688:\tlearn: 0.2300114\ttest: 0.2300451\tbest: 0.2300451 (688)\ttotal: 5.55s\tremaining: 2.51s\n",
            "689:\tlearn: 0.2300099\ttest: 0.2300421\tbest: 0.2300421 (689)\ttotal: 5.56s\tremaining: 2.5s\n",
            "690:\tlearn: 0.2300062\ttest: 0.2300386\tbest: 0.2300386 (690)\ttotal: 5.57s\tremaining: 2.49s\n",
            "691:\tlearn: 0.2300050\ttest: 0.2300406\tbest: 0.2300386 (690)\ttotal: 5.57s\tremaining: 2.48s\n",
            "692:\tlearn: 0.2300015\ttest: 0.2300400\tbest: 0.2300386 (690)\ttotal: 5.58s\tremaining: 2.47s\n",
            "693:\tlearn: 0.2299990\ttest: 0.2300392\tbest: 0.2300386 (690)\ttotal: 5.59s\tremaining: 2.46s\n",
            "694:\tlearn: 0.2299980\ttest: 0.2300380\tbest: 0.2300380 (694)\ttotal: 5.59s\tremaining: 2.46s\n",
            "695:\tlearn: 0.2299930\ttest: 0.2300371\tbest: 0.2300371 (695)\ttotal: 5.6s\tremaining: 2.45s\n",
            "696:\tlearn: 0.2299909\ttest: 0.2300411\tbest: 0.2300371 (695)\ttotal: 5.61s\tremaining: 2.44s\n",
            "697:\tlearn: 0.2299880\ttest: 0.2300387\tbest: 0.2300371 (695)\ttotal: 5.62s\tremaining: 2.43s\n",
            "698:\tlearn: 0.2299874\ttest: 0.2300385\tbest: 0.2300371 (695)\ttotal: 5.62s\tremaining: 2.42s\n",
            "699:\tlearn: 0.2299860\ttest: 0.2300381\tbest: 0.2300371 (695)\ttotal: 5.63s\tremaining: 2.41s\n",
            "700:\tlearn: 0.2299843\ttest: 0.2300392\tbest: 0.2300371 (695)\ttotal: 5.64s\tremaining: 2.4s\n",
            "701:\tlearn: 0.2299834\ttest: 0.2300404\tbest: 0.2300371 (695)\ttotal: 5.64s\tremaining: 2.4s\n",
            "702:\tlearn: 0.2299784\ttest: 0.2300338\tbest: 0.2300338 (702)\ttotal: 5.65s\tremaining: 2.39s\n",
            "703:\tlearn: 0.2299770\ttest: 0.2300347\tbest: 0.2300338 (702)\ttotal: 5.66s\tremaining: 2.38s\n",
            "704:\tlearn: 0.2299764\ttest: 0.2300320\tbest: 0.2300320 (704)\ttotal: 5.67s\tremaining: 2.37s\n",
            "705:\tlearn: 0.2299762\ttest: 0.2300320\tbest: 0.2300320 (705)\ttotal: 5.68s\tremaining: 2.36s\n",
            "706:\tlearn: 0.2299686\ttest: 0.2300242\tbest: 0.2300242 (706)\ttotal: 5.69s\tremaining: 2.36s\n",
            "707:\tlearn: 0.2299672\ttest: 0.2300222\tbest: 0.2300222 (707)\ttotal: 5.71s\tremaining: 2.35s\n",
            "708:\tlearn: 0.2299667\ttest: 0.2300218\tbest: 0.2300218 (708)\ttotal: 5.71s\tremaining: 2.35s\n",
            "709:\tlearn: 0.2299630\ttest: 0.2300190\tbest: 0.2300190 (709)\ttotal: 5.72s\tremaining: 2.34s\n",
            "710:\tlearn: 0.2299623\ttest: 0.2300178\tbest: 0.2300178 (710)\ttotal: 5.73s\tremaining: 2.33s\n",
            "711:\tlearn: 0.2299615\ttest: 0.2300185\tbest: 0.2300178 (710)\ttotal: 5.75s\tremaining: 2.33s\n",
            "712:\tlearn: 0.2299514\ttest: 0.2300102\tbest: 0.2300102 (712)\ttotal: 5.76s\tremaining: 2.32s\n",
            "713:\tlearn: 0.2299483\ttest: 0.2300102\tbest: 0.2300102 (713)\ttotal: 5.77s\tremaining: 2.31s\n",
            "714:\tlearn: 0.2299450\ttest: 0.2300139\tbest: 0.2300102 (713)\ttotal: 5.77s\tremaining: 2.3s\n",
            "715:\tlearn: 0.2299407\ttest: 0.2300118\tbest: 0.2300102 (713)\ttotal: 5.78s\tremaining: 2.29s\n",
            "716:\tlearn: 0.2299345\ttest: 0.2300117\tbest: 0.2300102 (713)\ttotal: 5.81s\tremaining: 2.29s\n",
            "717:\tlearn: 0.2299330\ttest: 0.2300110\tbest: 0.2300102 (713)\ttotal: 5.82s\tremaining: 2.29s\n",
            "718:\tlearn: 0.2299322\ttest: 0.2300105\tbest: 0.2300102 (713)\ttotal: 5.83s\tremaining: 2.28s\n",
            "719:\tlearn: 0.2299314\ttest: 0.2300104\tbest: 0.2300102 (713)\ttotal: 5.83s\tremaining: 2.27s\n",
            "720:\tlearn: 0.2299299\ttest: 0.2300104\tbest: 0.2300102 (713)\ttotal: 5.84s\tremaining: 2.26s\n",
            "721:\tlearn: 0.2299293\ttest: 0.2300105\tbest: 0.2300102 (713)\ttotal: 5.85s\tremaining: 2.25s\n",
            "722:\tlearn: 0.2299283\ttest: 0.2300103\tbest: 0.2300102 (713)\ttotal: 5.86s\tremaining: 2.24s\n",
            "723:\tlearn: 0.2299263\ttest: 0.2300120\tbest: 0.2300102 (713)\ttotal: 5.86s\tremaining: 2.23s\n",
            "724:\tlearn: 0.2299250\ttest: 0.2300097\tbest: 0.2300097 (724)\ttotal: 5.87s\tremaining: 2.23s\n",
            "725:\tlearn: 0.2299215\ttest: 0.2300080\tbest: 0.2300080 (725)\ttotal: 5.88s\tremaining: 2.22s\n",
            "726:\tlearn: 0.2299211\ttest: 0.2300082\tbest: 0.2300080 (725)\ttotal: 5.88s\tremaining: 2.21s\n",
            "727:\tlearn: 0.2299200\ttest: 0.2300078\tbest: 0.2300078 (727)\ttotal: 5.89s\tremaining: 2.2s\n",
            "728:\tlearn: 0.2299193\ttest: 0.2300079\tbest: 0.2300078 (727)\ttotal: 5.9s\tremaining: 2.19s\n",
            "729:\tlearn: 0.2299181\ttest: 0.2300080\tbest: 0.2300078 (727)\ttotal: 5.91s\tremaining: 2.19s\n",
            "730:\tlearn: 0.2299153\ttest: 0.2300047\tbest: 0.2300047 (730)\ttotal: 5.92s\tremaining: 2.18s\n",
            "731:\tlearn: 0.2299141\ttest: 0.2300039\tbest: 0.2300039 (731)\ttotal: 5.93s\tremaining: 2.17s\n",
            "732:\tlearn: 0.2299136\ttest: 0.2300041\tbest: 0.2300039 (731)\ttotal: 5.93s\tremaining: 2.16s\n",
            "733:\tlearn: 0.2299115\ttest: 0.2300057\tbest: 0.2300039 (731)\ttotal: 5.94s\tremaining: 2.15s\n",
            "734:\tlearn: 0.2299083\ttest: 0.2300037\tbest: 0.2300037 (734)\ttotal: 5.95s\tremaining: 2.14s\n",
            "735:\tlearn: 0.2299063\ttest: 0.2300009\tbest: 0.2300009 (735)\ttotal: 5.96s\tremaining: 2.14s\n",
            "736:\tlearn: 0.2299052\ttest: 0.2300018\tbest: 0.2300009 (735)\ttotal: 5.96s\tremaining: 2.13s\n",
            "737:\tlearn: 0.2299021\ttest: 0.2299979\tbest: 0.2299979 (737)\ttotal: 5.97s\tremaining: 2.12s\n",
            "738:\tlearn: 0.2299010\ttest: 0.2300008\tbest: 0.2299979 (737)\ttotal: 5.98s\tremaining: 2.11s\n",
            "739:\tlearn: 0.2299000\ttest: 0.2299999\tbest: 0.2299979 (737)\ttotal: 5.98s\tremaining: 2.1s\n",
            "740:\tlearn: 0.2298991\ttest: 0.2299985\tbest: 0.2299979 (737)\ttotal: 5.99s\tremaining: 2.09s\n",
            "741:\tlearn: 0.2298975\ttest: 0.2299961\tbest: 0.2299961 (741)\ttotal: 6s\tremaining: 2.09s\n",
            "742:\tlearn: 0.2298970\ttest: 0.2299957\tbest: 0.2299957 (742)\ttotal: 6.01s\tremaining: 2.08s\n",
            "743:\tlearn: 0.2298946\ttest: 0.2299956\tbest: 0.2299956 (743)\ttotal: 6.01s\tremaining: 2.07s\n",
            "744:\tlearn: 0.2298925\ttest: 0.2299944\tbest: 0.2299944 (744)\ttotal: 6.02s\tremaining: 2.06s\n",
            "745:\tlearn: 0.2298919\ttest: 0.2299912\tbest: 0.2299912 (745)\ttotal: 6.03s\tremaining: 2.05s\n",
            "746:\tlearn: 0.2298884\ttest: 0.2299899\tbest: 0.2299899 (746)\ttotal: 6.03s\tremaining: 2.04s\n",
            "747:\tlearn: 0.2298850\ttest: 0.2299834\tbest: 0.2299834 (747)\ttotal: 6.04s\tremaining: 2.04s\n",
            "748:\tlearn: 0.2298834\ttest: 0.2299841\tbest: 0.2299834 (747)\ttotal: 6.05s\tremaining: 2.03s\n",
            "749:\tlearn: 0.2298817\ttest: 0.2299794\tbest: 0.2299794 (749)\ttotal: 6.05s\tremaining: 2.02s\n",
            "750:\tlearn: 0.2298804\ttest: 0.2299813\tbest: 0.2299794 (749)\ttotal: 6.06s\tremaining: 2.01s\n",
            "751:\tlearn: 0.2298773\ttest: 0.2299829\tbest: 0.2299794 (749)\ttotal: 6.07s\tremaining: 2s\n",
            "752:\tlearn: 0.2298723\ttest: 0.2299817\tbest: 0.2299794 (749)\ttotal: 6.08s\tremaining: 1.99s\n",
            "753:\tlearn: 0.2298712\ttest: 0.2299802\tbest: 0.2299794 (749)\ttotal: 6.08s\tremaining: 1.98s\n",
            "754:\tlearn: 0.2298702\ttest: 0.2299784\tbest: 0.2299784 (754)\ttotal: 6.09s\tremaining: 1.98s\n",
            "755:\tlearn: 0.2298688\ttest: 0.2299772\tbest: 0.2299772 (755)\ttotal: 6.1s\tremaining: 1.97s\n",
            "756:\tlearn: 0.2298680\ttest: 0.2299773\tbest: 0.2299772 (755)\ttotal: 6.1s\tremaining: 1.96s\n",
            "757:\tlearn: 0.2298672\ttest: 0.2299757\tbest: 0.2299757 (757)\ttotal: 6.11s\tremaining: 1.95s\n",
            "758:\tlearn: 0.2298654\ttest: 0.2299755\tbest: 0.2299755 (758)\ttotal: 6.12s\tremaining: 1.94s\n",
            "759:\tlearn: 0.2298644\ttest: 0.2299768\tbest: 0.2299755 (758)\ttotal: 6.13s\tremaining: 1.94s\n",
            "760:\tlearn: 0.2298625\ttest: 0.2299778\tbest: 0.2299755 (758)\ttotal: 6.14s\tremaining: 1.93s\n",
            "761:\tlearn: 0.2298613\ttest: 0.2299765\tbest: 0.2299755 (758)\ttotal: 6.14s\tremaining: 1.92s\n",
            "762:\tlearn: 0.2298585\ttest: 0.2299722\tbest: 0.2299722 (762)\ttotal: 6.15s\tremaining: 1.91s\n",
            "763:\tlearn: 0.2298572\ttest: 0.2299734\tbest: 0.2299722 (762)\ttotal: 6.17s\tremaining: 1.9s\n",
            "764:\tlearn: 0.2298567\ttest: 0.2299715\tbest: 0.2299715 (764)\ttotal: 6.17s\tremaining: 1.9s\n",
            "765:\tlearn: 0.2298524\ttest: 0.2299700\tbest: 0.2299700 (765)\ttotal: 6.18s\tremaining: 1.89s\n",
            "766:\tlearn: 0.2298512\ttest: 0.2299684\tbest: 0.2299684 (766)\ttotal: 6.19s\tremaining: 1.88s\n",
            "767:\tlearn: 0.2298474\ttest: 0.2299631\tbest: 0.2299631 (767)\ttotal: 6.19s\tremaining: 1.87s\n",
            "768:\tlearn: 0.2298461\ttest: 0.2299645\tbest: 0.2299631 (767)\ttotal: 6.2s\tremaining: 1.86s\n",
            "769:\tlearn: 0.2298451\ttest: 0.2299637\tbest: 0.2299631 (767)\ttotal: 6.21s\tremaining: 1.85s\n",
            "770:\tlearn: 0.2298436\ttest: 0.2299622\tbest: 0.2299622 (770)\ttotal: 6.21s\tremaining: 1.84s\n",
            "771:\tlearn: 0.2298354\ttest: 0.2299663\tbest: 0.2299622 (770)\ttotal: 6.22s\tremaining: 1.84s\n",
            "772:\tlearn: 0.2298344\ttest: 0.2299676\tbest: 0.2299622 (770)\ttotal: 6.23s\tremaining: 1.83s\n",
            "773:\tlearn: 0.2298342\ttest: 0.2299689\tbest: 0.2299622 (770)\ttotal: 6.24s\tremaining: 1.82s\n",
            "774:\tlearn: 0.2298296\ttest: 0.2299594\tbest: 0.2299594 (774)\ttotal: 6.24s\tremaining: 1.81s\n",
            "775:\tlearn: 0.2298286\ttest: 0.2299578\tbest: 0.2299578 (775)\ttotal: 6.25s\tremaining: 1.8s\n",
            "776:\tlearn: 0.2298214\ttest: 0.2299540\tbest: 0.2299540 (776)\ttotal: 6.26s\tremaining: 1.79s\n",
            "777:\tlearn: 0.2298190\ttest: 0.2299524\tbest: 0.2299524 (777)\ttotal: 6.26s\tremaining: 1.79s\n",
            "778:\tlearn: 0.2298087\ttest: 0.2299437\tbest: 0.2299437 (778)\ttotal: 6.27s\tremaining: 1.78s\n",
            "779:\tlearn: 0.2298047\ttest: 0.2299369\tbest: 0.2299369 (779)\ttotal: 6.28s\tremaining: 1.77s\n",
            "780:\tlearn: 0.2298044\ttest: 0.2299364\tbest: 0.2299364 (780)\ttotal: 6.28s\tremaining: 1.76s\n",
            "781:\tlearn: 0.2298038\ttest: 0.2299372\tbest: 0.2299364 (780)\ttotal: 6.29s\tremaining: 1.75s\n",
            "782:\tlearn: 0.2298015\ttest: 0.2299377\tbest: 0.2299364 (780)\ttotal: 6.3s\tremaining: 1.75s\n",
            "783:\tlearn: 0.2297985\ttest: 0.2299415\tbest: 0.2299364 (780)\ttotal: 6.3s\tremaining: 1.74s\n",
            "784:\tlearn: 0.2297978\ttest: 0.2299414\tbest: 0.2299364 (780)\ttotal: 6.31s\tremaining: 1.73s\n",
            "785:\tlearn: 0.2297911\ttest: 0.2299392\tbest: 0.2299364 (780)\ttotal: 6.33s\tremaining: 1.72s\n",
            "786:\tlearn: 0.2297902\ttest: 0.2299395\tbest: 0.2299364 (780)\ttotal: 6.33s\tremaining: 1.71s\n",
            "787:\tlearn: 0.2297890\ttest: 0.2299397\tbest: 0.2299364 (780)\ttotal: 6.34s\tremaining: 1.71s\n",
            "788:\tlearn: 0.2297841\ttest: 0.2299402\tbest: 0.2299364 (780)\ttotal: 6.35s\tremaining: 1.7s\n",
            "789:\tlearn: 0.2297821\ttest: 0.2299376\tbest: 0.2299364 (780)\ttotal: 6.36s\tremaining: 1.69s\n",
            "790:\tlearn: 0.2297806\ttest: 0.2299385\tbest: 0.2299364 (780)\ttotal: 6.36s\tremaining: 1.68s\n",
            "791:\tlearn: 0.2297779\ttest: 0.2299401\tbest: 0.2299364 (780)\ttotal: 6.37s\tremaining: 1.67s\n",
            "792:\tlearn: 0.2297760\ttest: 0.2299389\tbest: 0.2299364 (780)\ttotal: 6.38s\tremaining: 1.66s\n",
            "793:\tlearn: 0.2297741\ttest: 0.2299394\tbest: 0.2299364 (780)\ttotal: 6.38s\tremaining: 1.66s\n",
            "794:\tlearn: 0.2297716\ttest: 0.2299374\tbest: 0.2299364 (780)\ttotal: 6.39s\tremaining: 1.65s\n",
            "795:\tlearn: 0.2297713\ttest: 0.2299359\tbest: 0.2299359 (795)\ttotal: 6.4s\tremaining: 1.64s\n",
            "796:\tlearn: 0.2297703\ttest: 0.2299366\tbest: 0.2299359 (795)\ttotal: 6.4s\tremaining: 1.63s\n",
            "797:\tlearn: 0.2297681\ttest: 0.2299349\tbest: 0.2299349 (797)\ttotal: 6.41s\tremaining: 1.62s\n",
            "798:\tlearn: 0.2297659\ttest: 0.2299401\tbest: 0.2299349 (797)\ttotal: 6.42s\tremaining: 1.61s\n",
            "799:\tlearn: 0.2297657\ttest: 0.2299402\tbest: 0.2299349 (797)\ttotal: 6.42s\tremaining: 1.61s\n",
            "800:\tlearn: 0.2297615\ttest: 0.2299388\tbest: 0.2299349 (797)\ttotal: 6.43s\tremaining: 1.6s\n",
            "801:\tlearn: 0.2297575\ttest: 0.2299356\tbest: 0.2299349 (797)\ttotal: 6.44s\tremaining: 1.59s\n",
            "802:\tlearn: 0.2297534\ttest: 0.2299342\tbest: 0.2299342 (802)\ttotal: 6.45s\tremaining: 1.58s\n",
            "803:\tlearn: 0.2297531\ttest: 0.2299343\tbest: 0.2299342 (802)\ttotal: 6.45s\tremaining: 1.57s\n",
            "804:\tlearn: 0.2297506\ttest: 0.2299330\tbest: 0.2299330 (804)\ttotal: 6.46s\tremaining: 1.56s\n",
            "805:\tlearn: 0.2297485\ttest: 0.2299336\tbest: 0.2299330 (804)\ttotal: 6.47s\tremaining: 1.56s\n",
            "806:\tlearn: 0.2297475\ttest: 0.2299352\tbest: 0.2299330 (804)\ttotal: 6.47s\tremaining: 1.55s\n",
            "807:\tlearn: 0.2297424\ttest: 0.2299373\tbest: 0.2299330 (804)\ttotal: 6.48s\tremaining: 1.54s\n",
            "808:\tlearn: 0.2297418\ttest: 0.2299373\tbest: 0.2299330 (804)\ttotal: 6.49s\tremaining: 1.53s\n",
            "809:\tlearn: 0.2297409\ttest: 0.2299381\tbest: 0.2299330 (804)\ttotal: 6.5s\tremaining: 1.52s\n",
            "810:\tlearn: 0.2297398\ttest: 0.2299356\tbest: 0.2299330 (804)\ttotal: 6.51s\tremaining: 1.52s\n",
            "811:\tlearn: 0.2297385\ttest: 0.2299342\tbest: 0.2299330 (804)\ttotal: 6.51s\tremaining: 1.51s\n",
            "812:\tlearn: 0.2297375\ttest: 0.2299344\tbest: 0.2299330 (804)\ttotal: 6.53s\tremaining: 1.5s\n",
            "813:\tlearn: 0.2297370\ttest: 0.2299341\tbest: 0.2299330 (804)\ttotal: 6.53s\tremaining: 1.49s\n",
            "814:\tlearn: 0.2297352\ttest: 0.2299293\tbest: 0.2299293 (814)\ttotal: 6.54s\tremaining: 1.48s\n",
            "815:\tlearn: 0.2297311\ttest: 0.2299324\tbest: 0.2299293 (814)\ttotal: 6.55s\tremaining: 1.48s\n",
            "816:\tlearn: 0.2297308\ttest: 0.2299325\tbest: 0.2299293 (814)\ttotal: 6.55s\tremaining: 1.47s\n",
            "817:\tlearn: 0.2297300\ttest: 0.2299307\tbest: 0.2299293 (814)\ttotal: 6.56s\tremaining: 1.46s\n",
            "818:\tlearn: 0.2297292\ttest: 0.2299295\tbest: 0.2299293 (814)\ttotal: 6.57s\tremaining: 1.45s\n",
            "819:\tlearn: 0.2297276\ttest: 0.2299274\tbest: 0.2299274 (819)\ttotal: 6.58s\tremaining: 1.44s\n",
            "820:\tlearn: 0.2297273\ttest: 0.2299257\tbest: 0.2299257 (820)\ttotal: 6.58s\tremaining: 1.44s\n",
            "821:\tlearn: 0.2297262\ttest: 0.2299268\tbest: 0.2299257 (820)\ttotal: 6.59s\tremaining: 1.43s\n",
            "822:\tlearn: 0.2297239\ttest: 0.2299225\tbest: 0.2299225 (822)\ttotal: 6.6s\tremaining: 1.42s\n",
            "823:\tlearn: 0.2297205\ttest: 0.2299244\tbest: 0.2299225 (822)\ttotal: 6.61s\tremaining: 1.41s\n",
            "824:\tlearn: 0.2297191\ttest: 0.2299241\tbest: 0.2299225 (822)\ttotal: 6.61s\tremaining: 1.4s\n",
            "825:\tlearn: 0.2297183\ttest: 0.2299251\tbest: 0.2299225 (822)\ttotal: 6.62s\tremaining: 1.39s\n",
            "826:\tlearn: 0.2297169\ttest: 0.2299234\tbest: 0.2299225 (822)\ttotal: 6.63s\tremaining: 1.39s\n",
            "827:\tlearn: 0.2297159\ttest: 0.2299248\tbest: 0.2299225 (822)\ttotal: 6.64s\tremaining: 1.38s\n",
            "828:\tlearn: 0.2297149\ttest: 0.2299239\tbest: 0.2299225 (822)\ttotal: 6.66s\tremaining: 1.37s\n",
            "829:\tlearn: 0.2297114\ttest: 0.2299232\tbest: 0.2299225 (822)\ttotal: 6.67s\tremaining: 1.36s\n",
            "830:\tlearn: 0.2297107\ttest: 0.2299233\tbest: 0.2299225 (822)\ttotal: 6.67s\tremaining: 1.36s\n",
            "831:\tlearn: 0.2297098\ttest: 0.2299248\tbest: 0.2299225 (822)\ttotal: 6.68s\tremaining: 1.35s\n",
            "832:\tlearn: 0.2297089\ttest: 0.2299255\tbest: 0.2299225 (822)\ttotal: 6.69s\tremaining: 1.34s\n",
            "833:\tlearn: 0.2297076\ttest: 0.2299262\tbest: 0.2299225 (822)\ttotal: 6.7s\tremaining: 1.33s\n",
            "834:\tlearn: 0.2297058\ttest: 0.2299281\tbest: 0.2299225 (822)\ttotal: 6.7s\tremaining: 1.32s\n",
            "835:\tlearn: 0.2296995\ttest: 0.2299315\tbest: 0.2299225 (822)\ttotal: 6.72s\tremaining: 1.32s\n",
            "836:\tlearn: 0.2296976\ttest: 0.2299312\tbest: 0.2299225 (822)\ttotal: 6.73s\tremaining: 1.31s\n",
            "837:\tlearn: 0.2296966\ttest: 0.2299310\tbest: 0.2299225 (822)\ttotal: 6.74s\tremaining: 1.3s\n",
            "838:\tlearn: 0.2296949\ttest: 0.2299305\tbest: 0.2299225 (822)\ttotal: 6.76s\tremaining: 1.3s\n",
            "839:\tlearn: 0.2296929\ttest: 0.2299299\tbest: 0.2299225 (822)\ttotal: 6.77s\tremaining: 1.29s\n",
            "840:\tlearn: 0.2296911\ttest: 0.2299269\tbest: 0.2299225 (822)\ttotal: 6.78s\tremaining: 1.28s\n",
            "841:\tlearn: 0.2296851\ttest: 0.2299329\tbest: 0.2299225 (822)\ttotal: 6.78s\tremaining: 1.27s\n",
            "842:\tlearn: 0.2296822\ttest: 0.2299316\tbest: 0.2299225 (822)\ttotal: 6.8s\tremaining: 1.26s\n",
            "843:\tlearn: 0.2296804\ttest: 0.2299341\tbest: 0.2299225 (822)\ttotal: 6.82s\tremaining: 1.26s\n",
            "844:\tlearn: 0.2296789\ttest: 0.2299312\tbest: 0.2299225 (822)\ttotal: 6.83s\tremaining: 1.25s\n",
            "845:\tlearn: 0.2296784\ttest: 0.2299316\tbest: 0.2299225 (822)\ttotal: 6.84s\tremaining: 1.25s\n",
            "846:\tlearn: 0.2296752\ttest: 0.2299381\tbest: 0.2299225 (822)\ttotal: 6.86s\tremaining: 1.24s\n",
            "847:\tlearn: 0.2296727\ttest: 0.2299395\tbest: 0.2299225 (822)\ttotal: 6.87s\tremaining: 1.23s\n",
            "848:\tlearn: 0.2296721\ttest: 0.2299407\tbest: 0.2299225 (822)\ttotal: 6.87s\tremaining: 1.22s\n",
            "849:\tlearn: 0.2296669\ttest: 0.2299402\tbest: 0.2299225 (822)\ttotal: 6.88s\tremaining: 1.21s\n",
            "850:\tlearn: 0.2296665\ttest: 0.2299393\tbest: 0.2299225 (822)\ttotal: 6.89s\tremaining: 1.21s\n",
            "851:\tlearn: 0.2296663\ttest: 0.2299390\tbest: 0.2299225 (822)\ttotal: 6.9s\tremaining: 1.2s\n",
            "852:\tlearn: 0.2296645\ttest: 0.2299380\tbest: 0.2299225 (822)\ttotal: 6.9s\tremaining: 1.19s\n",
            "853:\tlearn: 0.2296599\ttest: 0.2299332\tbest: 0.2299225 (822)\ttotal: 6.92s\tremaining: 1.18s\n",
            "854:\tlearn: 0.2296580\ttest: 0.2299333\tbest: 0.2299225 (822)\ttotal: 6.92s\tremaining: 1.17s\n",
            "855:\tlearn: 0.2296559\ttest: 0.2299348\tbest: 0.2299225 (822)\ttotal: 6.93s\tremaining: 1.17s\n",
            "856:\tlearn: 0.2296544\ttest: 0.2299368\tbest: 0.2299225 (822)\ttotal: 6.94s\tremaining: 1.16s\n",
            "857:\tlearn: 0.2296515\ttest: 0.2299369\tbest: 0.2299225 (822)\ttotal: 6.95s\tremaining: 1.15s\n",
            "858:\tlearn: 0.2296484\ttest: 0.2299366\tbest: 0.2299225 (822)\ttotal: 6.96s\tremaining: 1.14s\n",
            "859:\tlearn: 0.2296480\ttest: 0.2299372\tbest: 0.2299225 (822)\ttotal: 6.97s\tremaining: 1.14s\n",
            "860:\tlearn: 0.2296451\ttest: 0.2299350\tbest: 0.2299225 (822)\ttotal: 6.98s\tremaining: 1.13s\n",
            "861:\tlearn: 0.2296438\ttest: 0.2299342\tbest: 0.2299225 (822)\ttotal: 6.99s\tremaining: 1.12s\n",
            "862:\tlearn: 0.2296432\ttest: 0.2299326\tbest: 0.2299225 (822)\ttotal: 6.99s\tremaining: 1.11s\n",
            "863:\tlearn: 0.2296424\ttest: 0.2299327\tbest: 0.2299225 (822)\ttotal: 7s\tremaining: 1.1s\n",
            "864:\tlearn: 0.2296392\ttest: 0.2299286\tbest: 0.2299225 (822)\ttotal: 7.01s\tremaining: 1.09s\n",
            "865:\tlearn: 0.2296353\ttest: 0.2299266\tbest: 0.2299225 (822)\ttotal: 7.02s\tremaining: 1.08s\n",
            "866:\tlearn: 0.2296345\ttest: 0.2299279\tbest: 0.2299225 (822)\ttotal: 7.03s\tremaining: 1.08s\n",
            "867:\tlearn: 0.2296329\ttest: 0.2299276\tbest: 0.2299225 (822)\ttotal: 7.03s\tremaining: 1.07s\n",
            "868:\tlearn: 0.2296326\ttest: 0.2299272\tbest: 0.2299225 (822)\ttotal: 7.04s\tremaining: 1.06s\n",
            "869:\tlearn: 0.2296315\ttest: 0.2299287\tbest: 0.2299225 (822)\ttotal: 7.05s\tremaining: 1.05s\n",
            "870:\tlearn: 0.2296279\ttest: 0.2299303\tbest: 0.2299225 (822)\ttotal: 7.06s\tremaining: 1.04s\n",
            "871:\tlearn: 0.2296219\ttest: 0.2299307\tbest: 0.2299225 (822)\ttotal: 7.06s\tremaining: 1.04s\n",
            "872:\tlearn: 0.2296210\ttest: 0.2299320\tbest: 0.2299225 (822)\ttotal: 7.07s\tremaining: 1.03s\n",
            "873:\tlearn: 0.2296201\ttest: 0.2299333\tbest: 0.2299225 (822)\ttotal: 7.08s\tremaining: 1.02s\n",
            "874:\tlearn: 0.2296192\ttest: 0.2299330\tbest: 0.2299225 (822)\ttotal: 7.09s\tremaining: 1.01s\n",
            "875:\tlearn: 0.2296184\ttest: 0.2299320\tbest: 0.2299225 (822)\ttotal: 7.09s\tremaining: 1s\n",
            "876:\tlearn: 0.2296170\ttest: 0.2299319\tbest: 0.2299225 (822)\ttotal: 7.1s\tremaining: 996ms\n",
            "877:\tlearn: 0.2296159\ttest: 0.2299286\tbest: 0.2299225 (822)\ttotal: 7.11s\tremaining: 988ms\n",
            "878:\tlearn: 0.2296140\ttest: 0.2299259\tbest: 0.2299225 (822)\ttotal: 7.12s\tremaining: 981ms\n",
            "879:\tlearn: 0.2296129\ttest: 0.2299284\tbest: 0.2299225 (822)\ttotal: 7.13s\tremaining: 972ms\n",
            "880:\tlearn: 0.2296118\ttest: 0.2299314\tbest: 0.2299225 (822)\ttotal: 7.14s\tremaining: 964ms\n",
            "881:\tlearn: 0.2296069\ttest: 0.2299259\tbest: 0.2299225 (822)\ttotal: 7.14s\tremaining: 956ms\n",
            "882:\tlearn: 0.2296024\ttest: 0.2299305\tbest: 0.2299225 (822)\ttotal: 7.15s\tremaining: 948ms\n",
            "883:\tlearn: 0.2296011\ttest: 0.2299292\tbest: 0.2299225 (822)\ttotal: 7.16s\tremaining: 939ms\n",
            "884:\tlearn: 0.2295997\ttest: 0.2299288\tbest: 0.2299225 (822)\ttotal: 7.17s\tremaining: 931ms\n",
            "885:\tlearn: 0.2295983\ttest: 0.2299315\tbest: 0.2299225 (822)\ttotal: 7.17s\tremaining: 923ms\n",
            "886:\tlearn: 0.2295969\ttest: 0.2299316\tbest: 0.2299225 (822)\ttotal: 7.18s\tremaining: 915ms\n",
            "887:\tlearn: 0.2295960\ttest: 0.2299300\tbest: 0.2299225 (822)\ttotal: 7.19s\tremaining: 907ms\n",
            "888:\tlearn: 0.2295945\ttest: 0.2299270\tbest: 0.2299225 (822)\ttotal: 7.19s\tremaining: 898ms\n",
            "889:\tlearn: 0.2295932\ttest: 0.2299252\tbest: 0.2299225 (822)\ttotal: 7.2s\tremaining: 890ms\n",
            "890:\tlearn: 0.2295905\ttest: 0.2299270\tbest: 0.2299225 (822)\ttotal: 7.21s\tremaining: 882ms\n",
            "891:\tlearn: 0.2295896\ttest: 0.2299275\tbest: 0.2299225 (822)\ttotal: 7.21s\tremaining: 874ms\n",
            "892:\tlearn: 0.2295869\ttest: 0.2299265\tbest: 0.2299225 (822)\ttotal: 7.22s\tremaining: 865ms\n",
            "893:\tlearn: 0.2295853\ttest: 0.2299278\tbest: 0.2299225 (822)\ttotal: 7.23s\tremaining: 857ms\n",
            "894:\tlearn: 0.2295841\ttest: 0.2299280\tbest: 0.2299225 (822)\ttotal: 7.24s\tremaining: 849ms\n",
            "895:\tlearn: 0.2295820\ttest: 0.2299306\tbest: 0.2299225 (822)\ttotal: 7.24s\tremaining: 841ms\n",
            "896:\tlearn: 0.2295805\ttest: 0.2299328\tbest: 0.2299225 (822)\ttotal: 7.25s\tremaining: 833ms\n",
            "897:\tlearn: 0.2295795\ttest: 0.2299319\tbest: 0.2299225 (822)\ttotal: 7.26s\tremaining: 824ms\n",
            "898:\tlearn: 0.2295777\ttest: 0.2299303\tbest: 0.2299225 (822)\ttotal: 7.26s\tremaining: 816ms\n",
            "899:\tlearn: 0.2295774\ttest: 0.2299310\tbest: 0.2299225 (822)\ttotal: 7.27s\tremaining: 808ms\n",
            "900:\tlearn: 0.2295763\ttest: 0.2299325\tbest: 0.2299225 (822)\ttotal: 7.28s\tremaining: 800ms\n",
            "901:\tlearn: 0.2295706\ttest: 0.2299326\tbest: 0.2299225 (822)\ttotal: 7.28s\tremaining: 791ms\n",
            "902:\tlearn: 0.2295694\ttest: 0.2299324\tbest: 0.2299225 (822)\ttotal: 7.29s\tremaining: 783ms\n",
            "903:\tlearn: 0.2295687\ttest: 0.2299314\tbest: 0.2299225 (822)\ttotal: 7.3s\tremaining: 775ms\n",
            "904:\tlearn: 0.2295680\ttest: 0.2299324\tbest: 0.2299225 (822)\ttotal: 7.31s\tremaining: 767ms\n",
            "905:\tlearn: 0.2295670\ttest: 0.2299319\tbest: 0.2299225 (822)\ttotal: 7.32s\tremaining: 759ms\n",
            "906:\tlearn: 0.2295662\ttest: 0.2299306\tbest: 0.2299225 (822)\ttotal: 7.32s\tremaining: 751ms\n",
            "907:\tlearn: 0.2295657\ttest: 0.2299324\tbest: 0.2299225 (822)\ttotal: 7.33s\tremaining: 743ms\n",
            "908:\tlearn: 0.2295649\ttest: 0.2299316\tbest: 0.2299225 (822)\ttotal: 7.34s\tremaining: 735ms\n",
            "909:\tlearn: 0.2295632\ttest: 0.2299319\tbest: 0.2299225 (822)\ttotal: 7.34s\tremaining: 726ms\n",
            "910:\tlearn: 0.2295624\ttest: 0.2299317\tbest: 0.2299225 (822)\ttotal: 7.35s\tremaining: 718ms\n",
            "911:\tlearn: 0.2295616\ttest: 0.2299322\tbest: 0.2299225 (822)\ttotal: 7.36s\tremaining: 710ms\n",
            "912:\tlearn: 0.2295595\ttest: 0.2299323\tbest: 0.2299225 (822)\ttotal: 7.37s\tremaining: 702ms\n",
            "913:\tlearn: 0.2295581\ttest: 0.2299323\tbest: 0.2299225 (822)\ttotal: 7.37s\tremaining: 694ms\n",
            "914:\tlearn: 0.2295547\ttest: 0.2299292\tbest: 0.2299225 (822)\ttotal: 7.38s\tremaining: 686ms\n",
            "915:\tlearn: 0.2295527\ttest: 0.2299294\tbest: 0.2299225 (822)\ttotal: 7.39s\tremaining: 677ms\n",
            "916:\tlearn: 0.2295450\ttest: 0.2299231\tbest: 0.2299225 (822)\ttotal: 7.39s\tremaining: 669ms\n",
            "917:\tlearn: 0.2295435\ttest: 0.2299236\tbest: 0.2299225 (822)\ttotal: 7.4s\tremaining: 661ms\n",
            "918:\tlearn: 0.2295427\ttest: 0.2299229\tbest: 0.2299225 (822)\ttotal: 7.41s\tremaining: 653ms\n",
            "919:\tlearn: 0.2295416\ttest: 0.2299232\tbest: 0.2299225 (822)\ttotal: 7.42s\tremaining: 645ms\n",
            "920:\tlearn: 0.2295376\ttest: 0.2299250\tbest: 0.2299225 (822)\ttotal: 7.42s\tremaining: 637ms\n",
            "921:\tlearn: 0.2295359\ttest: 0.2299248\tbest: 0.2299225 (822)\ttotal: 7.43s\tremaining: 629ms\n",
            "922:\tlearn: 0.2295354\ttest: 0.2299244\tbest: 0.2299225 (822)\ttotal: 7.44s\tremaining: 621ms\n",
            "923:\tlearn: 0.2295342\ttest: 0.2299237\tbest: 0.2299225 (822)\ttotal: 7.45s\tremaining: 612ms\n",
            "924:\tlearn: 0.2295338\ttest: 0.2299241\tbest: 0.2299225 (822)\ttotal: 7.45s\tremaining: 604ms\n",
            "925:\tlearn: 0.2295333\ttest: 0.2299236\tbest: 0.2299225 (822)\ttotal: 7.46s\tremaining: 596ms\n",
            "926:\tlearn: 0.2295324\ttest: 0.2299232\tbest: 0.2299225 (822)\ttotal: 7.47s\tremaining: 588ms\n",
            "927:\tlearn: 0.2295320\ttest: 0.2299239\tbest: 0.2299225 (822)\ttotal: 7.47s\tremaining: 580ms\n",
            "928:\tlearn: 0.2295289\ttest: 0.2299208\tbest: 0.2299208 (928)\ttotal: 7.48s\tremaining: 572ms\n",
            "929:\tlearn: 0.2295276\ttest: 0.2299209\tbest: 0.2299208 (928)\ttotal: 7.49s\tremaining: 564ms\n",
            "930:\tlearn: 0.2295274\ttest: 0.2299191\tbest: 0.2299191 (930)\ttotal: 7.5s\tremaining: 556ms\n",
            "931:\tlearn: 0.2295258\ttest: 0.2299180\tbest: 0.2299180 (931)\ttotal: 7.51s\tremaining: 548ms\n",
            "932:\tlearn: 0.2295245\ttest: 0.2299192\tbest: 0.2299180 (931)\ttotal: 7.51s\tremaining: 540ms\n",
            "933:\tlearn: 0.2295237\ttest: 0.2299187\tbest: 0.2299180 (931)\ttotal: 7.52s\tremaining: 531ms\n",
            "934:\tlearn: 0.2295231\ttest: 0.2299170\tbest: 0.2299170 (934)\ttotal: 7.53s\tremaining: 523ms\n",
            "935:\tlearn: 0.2295224\ttest: 0.2299153\tbest: 0.2299153 (935)\ttotal: 7.53s\tremaining: 515ms\n",
            "936:\tlearn: 0.2295211\ttest: 0.2299157\tbest: 0.2299153 (935)\ttotal: 7.54s\tremaining: 507ms\n",
            "937:\tlearn: 0.2295202\ttest: 0.2299149\tbest: 0.2299149 (937)\ttotal: 7.55s\tremaining: 499ms\n",
            "938:\tlearn: 0.2295194\ttest: 0.2299170\tbest: 0.2299149 (937)\ttotal: 7.56s\tremaining: 491ms\n",
            "939:\tlearn: 0.2295177\ttest: 0.2299156\tbest: 0.2299149 (937)\ttotal: 7.56s\tremaining: 483ms\n",
            "940:\tlearn: 0.2295162\ttest: 0.2299173\tbest: 0.2299149 (937)\ttotal: 7.57s\tremaining: 475ms\n",
            "941:\tlearn: 0.2295120\ttest: 0.2299178\tbest: 0.2299149 (937)\ttotal: 7.58s\tremaining: 467ms\n",
            "942:\tlearn: 0.2295113\ttest: 0.2299165\tbest: 0.2299149 (937)\ttotal: 7.59s\tremaining: 459ms\n",
            "943:\tlearn: 0.2295110\ttest: 0.2299172\tbest: 0.2299149 (937)\ttotal: 7.61s\tremaining: 451ms\n",
            "944:\tlearn: 0.2295107\ttest: 0.2299180\tbest: 0.2299149 (937)\ttotal: 7.62s\tremaining: 444ms\n",
            "945:\tlearn: 0.2295101\ttest: 0.2299170\tbest: 0.2299149 (937)\ttotal: 7.63s\tremaining: 435ms\n",
            "946:\tlearn: 0.2295098\ttest: 0.2299187\tbest: 0.2299149 (937)\ttotal: 7.64s\tremaining: 427ms\n",
            "947:\tlearn: 0.2295047\ttest: 0.2299184\tbest: 0.2299149 (937)\ttotal: 7.64s\tremaining: 419ms\n",
            "948:\tlearn: 0.2295032\ttest: 0.2299184\tbest: 0.2299149 (937)\ttotal: 7.65s\tremaining: 411ms\n",
            "949:\tlearn: 0.2295009\ttest: 0.2299161\tbest: 0.2299149 (937)\ttotal: 7.66s\tremaining: 403ms\n",
            "950:\tlearn: 0.2295003\ttest: 0.2299167\tbest: 0.2299149 (937)\ttotal: 7.67s\tremaining: 395ms\n",
            "951:\tlearn: 0.2295000\ttest: 0.2299164\tbest: 0.2299149 (937)\ttotal: 7.67s\tremaining: 387ms\n",
            "952:\tlearn: 0.2294986\ttest: 0.2299191\tbest: 0.2299149 (937)\ttotal: 7.68s\tremaining: 379ms\n",
            "953:\tlearn: 0.2294979\ttest: 0.2299179\tbest: 0.2299149 (937)\ttotal: 7.69s\tremaining: 371ms\n",
            "954:\tlearn: 0.2294966\ttest: 0.2299176\tbest: 0.2299149 (937)\ttotal: 7.7s\tremaining: 363ms\n",
            "955:\tlearn: 0.2294955\ttest: 0.2299158\tbest: 0.2299149 (937)\ttotal: 7.71s\tremaining: 355ms\n",
            "956:\tlearn: 0.2294946\ttest: 0.2299156\tbest: 0.2299149 (937)\ttotal: 7.72s\tremaining: 347ms\n",
            "957:\tlearn: 0.2294926\ttest: 0.2299148\tbest: 0.2299148 (957)\ttotal: 7.72s\tremaining: 339ms\n",
            "958:\tlearn: 0.2294924\ttest: 0.2299145\tbest: 0.2299145 (958)\ttotal: 7.73s\tremaining: 331ms\n",
            "959:\tlearn: 0.2294907\ttest: 0.2299135\tbest: 0.2299135 (959)\ttotal: 7.74s\tremaining: 322ms\n",
            "960:\tlearn: 0.2294903\ttest: 0.2299134\tbest: 0.2299134 (960)\ttotal: 7.75s\tremaining: 314ms\n",
            "961:\tlearn: 0.2294893\ttest: 0.2299156\tbest: 0.2299134 (960)\ttotal: 7.76s\tremaining: 307ms\n",
            "962:\tlearn: 0.2294877\ttest: 0.2299163\tbest: 0.2299134 (960)\ttotal: 7.77s\tremaining: 299ms\n",
            "963:\tlearn: 0.2294872\ttest: 0.2299169\tbest: 0.2299134 (960)\ttotal: 7.78s\tremaining: 291ms\n",
            "964:\tlearn: 0.2294866\ttest: 0.2299177\tbest: 0.2299134 (960)\ttotal: 7.79s\tremaining: 282ms\n",
            "965:\tlearn: 0.2294819\ttest: 0.2299150\tbest: 0.2299134 (960)\ttotal: 7.8s\tremaining: 274ms\n",
            "966:\tlearn: 0.2294796\ttest: 0.2299174\tbest: 0.2299134 (960)\ttotal: 7.8s\tremaining: 266ms\n",
            "967:\tlearn: 0.2294791\ttest: 0.2299189\tbest: 0.2299134 (960)\ttotal: 7.81s\tremaining: 258ms\n",
            "968:\tlearn: 0.2294781\ttest: 0.2299193\tbest: 0.2299134 (960)\ttotal: 7.82s\tremaining: 250ms\n",
            "969:\tlearn: 0.2294759\ttest: 0.2299220\tbest: 0.2299134 (960)\ttotal: 7.84s\tremaining: 243ms\n",
            "970:\tlearn: 0.2294756\ttest: 0.2299218\tbest: 0.2299134 (960)\ttotal: 7.85s\tremaining: 235ms\n",
            "971:\tlearn: 0.2294730\ttest: 0.2299185\tbest: 0.2299134 (960)\ttotal: 7.87s\tremaining: 227ms\n",
            "972:\tlearn: 0.2294717\ttest: 0.2299168\tbest: 0.2299134 (960)\ttotal: 7.88s\tremaining: 219ms\n",
            "973:\tlearn: 0.2294691\ttest: 0.2299182\tbest: 0.2299134 (960)\ttotal: 7.89s\tremaining: 211ms\n",
            "974:\tlearn: 0.2294684\ttest: 0.2299204\tbest: 0.2299134 (960)\ttotal: 7.89s\tremaining: 202ms\n",
            "975:\tlearn: 0.2294680\ttest: 0.2299187\tbest: 0.2299134 (960)\ttotal: 7.9s\tremaining: 194ms\n",
            "976:\tlearn: 0.2294677\ttest: 0.2299187\tbest: 0.2299134 (960)\ttotal: 7.91s\tremaining: 186ms\n",
            "977:\tlearn: 0.2294676\ttest: 0.2299188\tbest: 0.2299134 (960)\ttotal: 7.91s\tremaining: 178ms\n",
            "978:\tlearn: 0.2294673\ttest: 0.2299197\tbest: 0.2299134 (960)\ttotal: 7.92s\tremaining: 170ms\n",
            "979:\tlearn: 0.2294671\ttest: 0.2299188\tbest: 0.2299134 (960)\ttotal: 7.93s\tremaining: 162ms\n",
            "980:\tlearn: 0.2294668\ttest: 0.2299194\tbest: 0.2299134 (960)\ttotal: 7.94s\tremaining: 154ms\n",
            "981:\tlearn: 0.2294663\ttest: 0.2299190\tbest: 0.2299134 (960)\ttotal: 7.94s\tremaining: 146ms\n",
            "982:\tlearn: 0.2294637\ttest: 0.2299177\tbest: 0.2299134 (960)\ttotal: 7.95s\tremaining: 138ms\n",
            "983:\tlearn: 0.2294577\ttest: 0.2299137\tbest: 0.2299134 (960)\ttotal: 7.96s\tremaining: 129ms\n",
            "984:\tlearn: 0.2294568\ttest: 0.2299125\tbest: 0.2299125 (984)\ttotal: 7.96s\tremaining: 121ms\n",
            "985:\tlearn: 0.2294554\ttest: 0.2299124\tbest: 0.2299124 (985)\ttotal: 7.97s\tremaining: 113ms\n",
            "986:\tlearn: 0.2294533\ttest: 0.2299121\tbest: 0.2299121 (986)\ttotal: 7.98s\tremaining: 105ms\n",
            "987:\tlearn: 0.2294530\ttest: 0.2299124\tbest: 0.2299121 (986)\ttotal: 7.99s\tremaining: 97ms\n",
            "988:\tlearn: 0.2294452\ttest: 0.2299105\tbest: 0.2299105 (988)\ttotal: 7.99s\tremaining: 88.9ms\n",
            "989:\tlearn: 0.2294451\ttest: 0.2299102\tbest: 0.2299102 (989)\ttotal: 8s\tremaining: 80.8ms\n",
            "990:\tlearn: 0.2294449\ttest: 0.2299103\tbest: 0.2299102 (989)\ttotal: 8.01s\tremaining: 72.7ms\n",
            "991:\tlearn: 0.2294438\ttest: 0.2299113\tbest: 0.2299102 (989)\ttotal: 8.02s\tremaining: 64.6ms\n",
            "992:\tlearn: 0.2294429\ttest: 0.2299120\tbest: 0.2299102 (989)\ttotal: 8.02s\tremaining: 56.6ms\n",
            "993:\tlearn: 0.2294418\ttest: 0.2299125\tbest: 0.2299102 (989)\ttotal: 8.03s\tremaining: 48.5ms\n",
            "994:\tlearn: 0.2294403\ttest: 0.2299139\tbest: 0.2299102 (989)\ttotal: 8.04s\tremaining: 40.4ms\n",
            "995:\tlearn: 0.2294362\ttest: 0.2299121\tbest: 0.2299102 (989)\ttotal: 8.04s\tremaining: 32.3ms\n",
            "996:\tlearn: 0.2294357\ttest: 0.2299118\tbest: 0.2299102 (989)\ttotal: 8.05s\tremaining: 24.2ms\n",
            "997:\tlearn: 0.2294329\ttest: 0.2299108\tbest: 0.2299102 (989)\ttotal: 8.06s\tremaining: 16.1ms\n",
            "998:\tlearn: 0.2294269\ttest: 0.2299078\tbest: 0.2299078 (998)\ttotal: 8.07s\tremaining: 8.08ms\n",
            "999:\tlearn: 0.2294263\ttest: 0.2299052\tbest: 0.2299052 (999)\ttotal: 8.08s\tremaining: 0us\n",
            "bestTest = 0.2299051666\n",
            "bestIteration = 999\n"
          ]
        },
        {
          "output_type": "execute_result",
          "data": {
            "text/plain": [
              "<catboost.core.CatBoostClassifier at 0x7fcf508e1390>"
            ]
          },
          "metadata": {},
          "execution_count": 288
        }
      ],
      "source": [
        "model.fit(X_train,y_train,plot=True,eval_set=(X_test,y_test))"
      ]
    },
    {
      "cell_type": "code",
      "execution_count": 289,
      "id": "bOfyWhl39MNY",
      "metadata": {
        "id": "bOfyWhl39MNY"
      },
      "outputs": [],
      "source": [
        "y_pred = model.predict(X_test)"
      ]
    },
    {
      "cell_type": "code",
      "execution_count": 290,
      "id": "jHuRXjQZ9MQf",
      "metadata": {
        "colab": {
          "base_uri": "https://localhost:8080/"
        },
        "id": "jHuRXjQZ9MQf",
        "outputId": "a1871260-590a-4372-b68d-fbe143d2f331"
      },
      "outputs": [
        {
          "output_type": "execute_result",
          "data": {
            "text/plain": [
              "0.9035095434954703"
            ]
          },
          "metadata": {},
          "execution_count": 290
        }
      ],
      "source": [
        "f1_score(y_test,y_pred)"
      ]
    },
    {
      "cell_type": "code",
      "execution_count": 291,
      "id": "lb2sAnfY9MTK",
      "metadata": {
        "colab": {
          "base_uri": "https://localhost:8080/"
        },
        "id": "lb2sAnfY9MTK",
        "outputId": "8c15ee50-efc8-41d5-e9f2-b41d49955f6b"
      },
      "outputs": [
        {
          "output_type": "execute_result",
          "data": {
            "text/plain": [
              "0.89715625"
            ]
          },
          "metadata": {},
          "execution_count": 291
        }
      ],
      "source": [
        "accuracy_score(y_test,y_pred)"
      ]
    },
    {
      "cell_type": "code",
      "execution_count": 292,
      "id": "e7dad048-0604-4728-b555-3c3cef4f9ff6",
      "metadata": {
        "colab": {
          "base_uri": "https://localhost:8080/"
        },
        "id": "e7dad048-0604-4728-b555-3c3cef4f9ff6",
        "outputId": "4c03201e-b234-418b-ccbe-7e595301fead"
      },
      "outputs": [
        {
          "output_type": "stream",
          "name": "stdout",
          "text": [
            "              precision    recall  f1-score   support\n",
            "\n",
            "           0       0.95      0.84      0.89     15877\n",
            "           1       0.86      0.96      0.90     16123\n",
            "\n",
            "    accuracy                           0.90     32000\n",
            "   macro avg       0.90      0.90      0.90     32000\n",
            "weighted avg       0.90      0.90      0.90     32000\n",
            "\n"
          ]
        }
      ],
      "source": [
        "print(classification_report(y_test,y_pred))"
      ]
    },
    {
      "cell_type": "code",
      "execution_count": 293,
      "id": "9b0fb313-f80c-42f3-8ee3-3da737ffe78b",
      "metadata": {
        "colab": {
          "base_uri": "https://localhost:8080/"
        },
        "id": "9b0fb313-f80c-42f3-8ee3-3da737ffe78b",
        "outputId": "71fa75d5-4813-4e4b-e096-95f5caea5736"
      },
      "outputs": [
        {
          "output_type": "stream",
          "name": "stdout",
          "text": [
            "Confusion matrix\n",
            " [[13301  2576]\n",
            " [  715 15408]]\n"
          ]
        }
      ],
      "source": [
        "conf_matrix = confusion_matrix(y_test, y_pred)\n",
        "print('Confusion matrix\\n', conf_matrix)"
      ]
    },
    {
      "cell_type": "code",
      "execution_count": 294,
      "id": "670e184f-3c64-4c7b-a86d-38818e9e84ac",
      "metadata": {
        "colab": {
          "base_uri": "https://localhost:8080/",
          "height": 282
        },
        "id": "670e184f-3c64-4c7b-a86d-38818e9e84ac",
        "outputId": "d94c12d4-f32e-4bb7-d724-67595a337dc6"
      },
      "outputs": [
        {
          "output_type": "execute_result",
          "data": {
            "text/plain": [
              "<matplotlib.axes._subplots.AxesSubplot at 0x7fcf50b92690>"
            ]
          },
          "metadata": {},
          "execution_count": 294
        },
        {
          "output_type": "display_data",
          "data": {
            "text/plain": [
              "<Figure size 432x288 with 2 Axes>"
            ],
            "image/png": "[encoded data removed]"
          },
          "metadata": {
            "needs_background": "light"
          }
        }
      ],
      "source": [
        "Cm = pd.DataFrame(data=conf_matrix, columns=['Actual Positive:1', 'Actual Negative:0'], \n",
        "                                 index=['Predict Positive:1', 'Predict Negative:0'])\n",
        "\n",
        "sns.heatmap(Cm, annot=True, fmt='d', cmap='YlGnBu')"
      ]
    },
    {
      "cell_type": "code",
      "source": [
        "joblib.dump(model,\"Catboost.joblib\")"
      ],
      "metadata": {
        "colab": {
          "base_uri": "https://localhost:8080/"
        },
        "id": "U91Zx_1Dg6x8",
        "outputId": "da4538df-1d79-461e-b711-b483cc3db1d7"
      },
      "id": "U91Zx_1Dg6x8",
      "execution_count": 297,
      "outputs": [
        {
          "output_type": "execute_result",
          "data": {
            "text/plain": [
              "['Catboost.joblib']"
            ]
          },
          "metadata": {},
          "execution_count": 297
        }
      ]
    },
    {
      "cell_type": "code",
      "source": [
        "j = joblib.load(\"Catboost.joblib\")"
      ],
      "metadata": {
        "id": "TqySRseFhHjB"
      },
      "id": "TqySRseFhHjB",
      "execution_count": 296,
      "outputs": []
    },
    {
      "cell_type": "code",
      "source": [],
      "metadata": {
        "id": "M6ZQFsfjhSp5"
      },
      "id": "M6ZQFsfjhSp5",
      "execution_count": null,
      "outputs": []
    }
  ],
  "metadata": {
    "accelerator": "GPU",
    "colab": {
      "provenance": []
    },
    "kernelspec": {
      "display_name": "Python 3 (ipykernel)",
      "language": "python",
      "name": "python3"
    },
    "language_info": {
      "codemirror_mode": {
        "name": "ipython",
        "version": 3
      },
      "file_extension": ".py",
      "mimetype": "text/x-python",
      "name": "python",
      "nbconvert_exporter": "python",
      "pygments_lexer": "ipython3",
      "version": "3.10.2"
    },
    "widgets": {
      "application/vnd.jupyter.widget-state+json": {
        "30ff628fdf274e299446f72123e72841": {
          "model_module": "catboost-widget",
          "model_name": "CatboostWidgetModel",
          "model_module_version": "^1.0.0",
          "state": {
            "_dom_classes": [],
            "_model_module": "catboost-widget",
            "_model_module_version": "^1.0.0",
            "_model_name": "CatboostWidgetModel",
            "_view_count": null,
            "_view_module": "catboost-widget",
            "_view_module_version": "^1.0.0",
            "_view_name": "CatboostWidgetView",
            "data": {
              "catboost_info": {
                "path": "catboost_info",
                "name": "catboost_info",
                "content": {
                  "passed_iterations": 999,
                  "total_iterations": 1000,
                  "data": {
                    "iterations": [
                      {
                        "learn": [
                          0.6253190968
                        ],
                        "iteration": 0,
                        "passed_time": 0.01077194521,
                        "remaining_time": 10.76117327,
                        "test": [
                          0.6255147095
                        ]
                      },
                      {
                        "learn": [
                          0.5723669144
                        ],
                        "iteration": 1,
                        "passed_time": 0.02060635339,
                        "remaining_time": 10.28257034,
                        "test": [
                          0.5727614746
                        ]
                      },
                      {
                        "learn": [
                          0.5321261734
                        ],
                        "iteration": 2,
                        "passed_time": 0.03044303774,
                        "remaining_time": 10.11723621,
                        "test": [
                          0.5325848389
                        ]
                      },
                      {
                        "learn": [
                          0.4974618744
                        ],
                        "iteration": 3,
                        "passed_time": 0.04031668726,
                        "remaining_time": 10.03885513,
                        "test": [
                          0.4980338745
                        ]
                      },
                      {
                        "learn": [
                          0.4690589953
                        ],
                        "iteration": 4,
                        "passed_time": 0.05030678155,
                        "remaining_time": 10.01104953,
                        "test": [
                          0.4696972961
                        ]
                      },
                      {
                        "learn": [
                          0.4383631727
                        ],
                        "iteration": 5,
                        "passed_time": 0.06024255504,
                        "remaining_time": 9.980183284,
                        "test": [
                          0.4390186768
                        ]
                      },
                      {
                        "learn": [
                          0.4170601054
                        ],
                        "iteration": 6,
                        "passed_time": 0.07042719808,
                        "remaining_time": 9.9906011,
                        "test": [
                          0.4177311096
                        ]
                      },
                      {
                        "learn": [
                          0.3932692674
                        ],
                        "iteration": 7,
                        "passed_time": 0.08047336883,
                        "remaining_time": 9.978697735,
                        "test": [
                          0.3938931274
                        ]
                      },
                      {
                        "learn": [
                          0.378135486
                        ],
                        "iteration": 8,
                        "passed_time": 0.09135128261,
                        "remaining_time": 10.05879123,
                        "test": [
                          0.3787531738
                        ]
                      },
                      {
                        "learn": [
                          0.3654236175
                        ],
                        "iteration": 9,
                        "passed_time": 0.1014821467,
                        "remaining_time": 10.04673253,
                        "test": [
                          0.3660725098
                        ]
                      },
                      {
                        "learn": [
                          0.3541701457
                        ],
                        "iteration": 10,
                        "passed_time": 0.1117417739,
                        "remaining_time": 10.04660131,
                        "test": [
                          0.3547590637
                        ]
                      },
                      {
                        "learn": [
                          0.3440784658
                        ],
                        "iteration": 11,
                        "passed_time": 0.1285805821,
                        "remaining_time": 10.58646793,
                        "test": [
                          0.3445328369
                        ]
                      },
                      {
                        "learn": [
                          0.3370330371
                        ],
                        "iteration": 12,
                        "passed_time": 0.1385401497,
                        "remaining_time": 10.51839444,
                        "test": [
                          0.3373381042
                        ]
                      },
                      {
                        "learn": [
                          0.3285797801
                        ],
                        "iteration": 13,
                        "passed_time": 0.1484912413,
                        "remaining_time": 10.458026,
                        "test": [
                          0.3288442383
                        ]
                      },
                      {
                        "learn": [
                          0.3220709503
                        ],
                        "iteration": 14,
                        "passed_time": 0.1585536494,
                        "remaining_time": 10.41168964,
                        "test": [
                          0.3222302246
                        ]
                      },
                      {
                        "learn": [
                          0.3150943093
                        ],
                        "iteration": 15,
                        "passed_time": 0.1682881852,
                        "remaining_time": 10.34972339,
                        "test": [
                          0.3151268616
                        ]
                      },
                      {
                        "learn": [
                          0.3104013649
                        ],
                        "iteration": 16,
                        "passed_time": 0.1782896158,
                        "remaining_time": 10.30933484,
                        "test": [
                          0.3103200989
                        ]
                      },
                      {
                        "learn": [
                          0.3028979213
                        ],
                        "iteration": 17,
                        "passed_time": 0.1926380078,
                        "remaining_time": 10.50947353,
                        "test": [
                          0.3028078003
                        ]
                      },
                      {
                        "learn": [
                          0.2982656467
                        ],
                        "iteration": 18,
                        "passed_time": 0.2026812595,
                        "remaining_time": 10.46475345,
                        "test": [
                          0.2980930481
                        ]
                      },
                      {
                        "learn": [
                          0.2944631276
                        ],
                        "iteration": 19,
                        "passed_time": 0.2128867277,
                        "remaining_time": 10.43144966,
                        "test": [
                          0.2942600403
                        ]
                      },
                      {
                        "learn": [
                          0.2907217666
                        ],
                        "iteration": 20,
                        "passed_time": 0.2228712168,
                        "remaining_time": 10.39004387,
                        "test": [
                          0.2904760437
                        ]
                      },
                      {
                        "learn": [
                          0.2880547633
                        ],
                        "iteration": 21,
                        "passed_time": 0.2364823753,
                        "remaining_time": 10.5127165,
                        "test": [
                          0.2877449646
                        ]
                      },
                      {
                        "learn": [
                          0.285341281
                        ],
                        "iteration": 22,
                        "passed_time": 0.2464189711,
                        "remaining_time": 10.46744934,
                        "test": [
                          0.2849693909
                        ]
                      },
                      {
                        "learn": [
                          0.2831246326
                        ],
                        "iteration": 23,
                        "passed_time": 0.2564273484,
                        "remaining_time": 10.4280455,
                        "test": [
                          0.2826821289
                        ]
                      },
                      {
                        "learn": [
                          0.2799596051
                        ],
                        "iteration": 24,
                        "passed_time": 0.2657305132,
                        "remaining_time": 10.36349001,
                        "test": [
                          0.2794918823
                        ]
                      },
                      {
                        "learn": [
                          0.2775986978
                        ],
                        "iteration": 25,
                        "passed_time": 0.2745934304,
                        "remaining_time": 10.28669235,
                        "test": [
                          0.2770850525
                        ]
                      },
                      {
                        "learn": [
                          0.2757843689
                        ],
                        "iteration": 26,
                        "passed_time": 0.2834523817,
                        "remaining_time": 10.21478398,
                        "test": [
                          0.2752518616
                        ]
                      },
                      {
                        "learn": [
                          0.2740421237
                        ],
                        "iteration": 27,
                        "passed_time": 0.2921306686,
                        "remaining_time": 10.1411075,
                        "test": [
                          0.273473877
                        ]
                      },
                      {
                        "learn": [
                          0.2721541242
                        ],
                        "iteration": 28,
                        "passed_time": 0.3009943123,
                        "remaining_time": 10.0781199,
                        "test": [
                          0.2714883423
                        ]
                      },
                      {
                        "learn": [
                          0.2709906539
                        ],
                        "iteration": 29,
                        "passed_time": 0.3099210942,
                        "remaining_time": 10.02078204,
                        "test": [
                          0.2702852478
                        ]
                      },
                      {
                        "learn": [
                          0.2683138238
                        ],
                        "iteration": 30,
                        "passed_time": 0.3185814494,
                        "remaining_time": 9.9582395,
                        "test": [
                          0.2676021118
                        ]
                      },
                      {
                        "learn": [
                          0.266800525
                        ],
                        "iteration": 31,
                        "passed_time": 0.3274587092,
                        "remaining_time": 9.905625954,
                        "test": [
                          0.2660439758
                        ]
                      },
                      {
                        "learn": [
                          0.2648042474
                        ],
                        "iteration": 32,
                        "passed_time": 0.3363299965,
                        "remaining_time": 9.85548808,
                        "test": [
                          0.2640402527
                        ]
                      },
                      {
                        "learn": [
                          0.2634839143
                        ],
                        "iteration": 33,
                        "passed_time": 0.3450451859,
                        "remaining_time": 9.803342633,
                        "test": [
                          0.2626973267
                        ]
                      },
                      {
                        "learn": [
                          0.2627371985
                        ],
                        "iteration": 34,
                        "passed_time": 0.3552771657,
                        "remaining_time": 9.795498998,
                        "test": [
                          0.2619407043
                        ]
                      },
                      {
                        "learn": [
                          0.2619449193
                        ],
                        "iteration": 35,
                        "passed_time": 0.3642567459,
                        "remaining_time": 9.753986197,
                        "test": [
                          0.2611217041
                        ]
                      },
                      {
                        "learn": [
                          0.2611011256
                        ],
                        "iteration": 36,
                        "passed_time": 0.3730126299,
                        "remaining_time": 9.708409801,
                        "test": [
                          0.2602539063
                        ]
                      },
                      {
                        "learn": [
                          0.2600557601
                        ],
                        "iteration": 37,
                        "passed_time": 0.382199299,
                        "remaining_time": 9.67567699,
                        "test": [
                          0.2592054443
                        ]
                      },
                      {
                        "learn": [
                          0.2592287819
                        ],
                        "iteration": 38,
                        "passed_time": 0.3956968589,
                        "remaining_time": 9.750376447,
                        "test": [
                          0.2583191223
                        ]
                      },
                      {
                        "learn": [
                          0.2585120043
                        ],
                        "iteration": 39,
                        "passed_time": 0.4044653826,
                        "remaining_time": 9.707169182,
                        "test": [
                          0.2575568237
                        ]
                      },
                      {
                        "learn": [
                          0.2579388447
                        ],
                        "iteration": 40,
                        "passed_time": 0.4132783932,
                        "remaining_time": 9.666682415,
                        "test": [
                          0.256972168
                        ]
                      },
                      {
                        "learn": [
                          0.2573264695
                        ],
                        "iteration": 41,
                        "passed_time": 0.4220559592,
                        "remaining_time": 9.62689545,
                        "test": [
                          0.2563276672
                        ]
                      },
                      {
                        "learn": [
                          0.2565382186
                        ],
                        "iteration": 42,
                        "passed_time": 0.4308693376,
                        "remaining_time": 9.589347815,
                        "test": [
                          0.2555166931
                        ]
                      },
                      {
                        "learn": [
                          0.2559626939
                        ],
                        "iteration": 43,
                        "passed_time": 0.4398345761,
                        "remaining_time": 9.55640579,
                        "test": [
                          0.2548860626
                        ]
                      },
                      {
                        "learn": [
                          0.2555071204
                        ],
                        "iteration": 44,
                        "passed_time": 0.4487343631,
                        "remaining_time": 9.523140372,
                        "test": [
                          0.254409668
                        ]
                      },
                      {
                        "learn": [
                          0.2549597027
                        ],
                        "iteration": 45,
                        "passed_time": 0.457135969,
                        "remaining_time": 9.480602488,
                        "test": [
                          0.2538858643
                        ]
                      },
                      {
                        "learn": [
                          0.2545074557
                        ],
                        "iteration": 46,
                        "passed_time": 0.4651685556,
                        "remaining_time": 9.432034756,
                        "test": [
                          0.2534279175
                        ]
                      },
                      {
                        "learn": [
                          0.254123859
                        ],
                        "iteration": 47,
                        "passed_time": 0.4731617577,
                        "remaining_time": 9.384374862,
                        "test": [
                          0.2530548401
                        ]
                      },
                      {
                        "learn": [
                          0.253632442
                        ],
                        "iteration": 48,
                        "passed_time": 0.4811663948,
                        "remaining_time": 9.338555948,
                        "test": [
                          0.2525329742
                        ]
                      },
                      {
                        "learn": [
                          0.2531531102
                        ],
                        "iteration": 49,
                        "passed_time": 0.4891627909,
                        "remaining_time": 9.294093027,
                        "test": [
                          0.2520212097
                        ]
                      },
                      {
                        "learn": [
                          0.2527100338
                        ],
                        "iteration": 50,
                        "passed_time": 0.4972008905,
                        "remaining_time": 9.251836177,
                        "test": [
                          0.2515556793
                        ]
                      },
                      {
                        "learn": [
                          0.2522967736
                        ],
                        "iteration": 51,
                        "passed_time": 0.505287546,
                        "remaining_time": 9.211780647,
                        "test": [
                          0.2511076202
                        ]
                      },
                      {
                        "learn": [
                          0.2516118569
                        ],
                        "iteration": 52,
                        "passed_time": 0.5133548312,
                        "remaining_time": 9.172585381,
                        "test": [
                          0.2503733521
                        ]
                      },
                      {
                        "learn": [
                          0.2512799425
                        ],
                        "iteration": 53,
                        "passed_time": 0.5215083995,
                        "remaining_time": 9.136054555,
                        "test": [
                          0.2500541382
                        ]
                      },
                      {
                        "learn": [
                          0.2506941332
                        ],
                        "iteration": 54,
                        "passed_time": 0.5294701703,
                        "remaining_time": 9.097260198,
                        "test": [
                          0.2494276276
                        ]
                      },
                      {
                        "learn": [
                          0.2502762189
                        ],
                        "iteration": 55,
                        "passed_time": 0.5376152044,
                        "remaining_time": 9.062656303,
                        "test": [
                          0.2489923706
                        ]
                      },
                      {
                        "learn": [
                          0.2499728084
                        ],
                        "iteration": 56,
                        "passed_time": 0.545669729,
                        "remaining_time": 9.027483412,
                        "test": [
                          0.248667923
                        ]
                      },
                      {
                        "learn": [
                          0.2496450598
                        ],
                        "iteration": 57,
                        "passed_time": 0.5536793426,
                        "remaining_time": 8.992516219,
                        "test": [
                          0.248330658
                        ]
                      },
                      {
                        "learn": [
                          0.2489353471
                        ],
                        "iteration": 58,
                        "passed_time": 0.5616810929,
                        "remaining_time": 8.958337431,
                        "test": [
                          0.2475966949
                        ]
                      },
                      {
                        "learn": [
                          0.2486890512
                        ],
                        "iteration": 59,
                        "passed_time": 0.5698430663,
                        "remaining_time": 8.927541372,
                        "test": [
                          0.2473292236
                        ]
                      },
                      {
                        "learn": [
                          0.2483247571
                        ],
                        "iteration": 60,
                        "passed_time": 0.577936885,
                        "remaining_time": 8.896438279,
                        "test": [
                          0.2469441681
                        ]
                      },
                      {
                        "learn": [
                          0.2481413589
                        ],
                        "iteration": 61,
                        "passed_time": 0.5858723863,
                        "remaining_time": 8.863682232,
                        "test": [
                          0.2467649536
                        ]
                      },
                      {
                        "learn": [
                          0.2479452499
                        ],
                        "iteration": 62,
                        "passed_time": 0.5980455424,
                        "remaining_time": 8.894740845,
                        "test": [
                          0.2465465088
                        ]
                      },
                      {
                        "learn": [
                          0.2477639116
                        ],
                        "iteration": 63,
                        "passed_time": 0.6060039519,
                        "remaining_time": 8.862807796,
                        "test": [
                          0.2463488464
                        ]
                      },
                      {
                        "learn": [
                          0.2474751192
                        ],
                        "iteration": 64,
                        "passed_time": 0.6140092858,
                        "remaining_time": 8.83228742,
                        "test": [
                          0.2460605774
                        ]
                      },
                      {
                        "learn": [
                          0.2467972369
                        ],
                        "iteration": 65,
                        "passed_time": 0.6244413615,
                        "remaining_time": 8.836791388,
                        "test": [
                          0.2453987274
                        ]
                      },
                      {
                        "learn": [
                          0.2466340569
                        ],
                        "iteration": 66,
                        "passed_time": 0.6323939748,
                        "remaining_time": 8.806322067,
                        "test": [
                          0.2452194061
                        ]
                      },
                      {
                        "learn": [
                          0.2463727155
                        ],
                        "iteration": 67,
                        "passed_time": 0.6404651509,
                        "remaining_time": 8.778140009,
                        "test": [
                          0.2449209137
                        ]
                      },
                      {
                        "learn": [
                          0.2461187443
                        ],
                        "iteration": 68,
                        "passed_time": 0.6485045047,
                        "remaining_time": 8.750111505,
                        "test": [
                          0.2446649933
                        ]
                      },
                      {
                        "learn": [
                          0.2459187747
                        ],
                        "iteration": 69,
                        "passed_time": 0.6561376735,
                        "remaining_time": 8.717257662,
                        "test": [
                          0.2444449921
                        ]
                      },
                      {
                        "learn": [
                          0.2457538704
                        ],
                        "iteration": 70,
                        "passed_time": 0.6637710487,
                        "remaining_time": 8.685116962,
                        "test": [
                          0.2442611847
                        ]
                      },
                      {
                        "learn": [
                          0.2453222231
                        ],
                        "iteration": 71,
                        "passed_time": 0.6714822397,
                        "remaining_time": 8.654659979,
                        "test": [
                          0.2438605499
                        ]
                      },
                      {
                        "learn": [
                          0.2451210023
                        ],
                        "iteration": 72,
                        "passed_time": 0.6790600049,
                        "remaining_time": 8.623131843,
                        "test": [
                          0.243649353
                        ]
                      },
                      {
                        "learn": [
                          0.2448236801
                        ],
                        "iteration": 73,
                        "passed_time": 0.6868619341,
                        "remaining_time": 8.595056094,
                        "test": [
                          0.2433678131
                        ]
                      },
                      {
                        "learn": [
                          0.2444709372
                        ],
                        "iteration": 74,
                        "passed_time": 0.694546943,
                        "remaining_time": 8.566078964,
                        "test": [
                          0.2430433807
                        ]
                      },
                      {
                        "learn": [
                          0.2443124111
                        ],
                        "iteration": 75,
                        "passed_time": 0.7020716084,
                        "remaining_time": 8.535712713,
                        "test": [
                          0.2428913116
                        ]
                      },
                      {
                        "learn": [
                          0.2439918495
                        ],
                        "iteration": 76,
                        "passed_time": 0.7100405082,
                        "remaining_time": 8.511264793,
                        "test": [
                          0.2425837402
                        ]
                      },
                      {
                        "learn": [
                          0.2438048348
                        ],
                        "iteration": 77,
                        "passed_time": 0.7177900227,
                        "remaining_time": 8.484646166,
                        "test": [
                          0.2423843994
                        ]
                      },
                      {
                        "learn": [
                          0.2433009512
                        ],
                        "iteration": 78,
                        "passed_time": 0.7253472446,
                        "remaining_time": 8.456263446,
                        "test": [
                          0.241895874
                        ]
                      },
                      {
                        "learn": [
                          0.2431672974
                        ],
                        "iteration": 79,
                        "passed_time": 0.7329293853,
                        "remaining_time": 8.428687931,
                        "test": [
                          0.2417576599
                        ]
                      },
                      {
                        "learn": [
                          0.243018766
                        ],
                        "iteration": 80,
                        "passed_time": 0.7406656478,
                        "remaining_time": 8.403354695,
                        "test": [
                          0.2416009979
                        ]
                      },
                      {
                        "learn": [
                          0.2429399379
                        ],
                        "iteration": 81,
                        "passed_time": 0.7481669669,
                        "remaining_time": 8.375820434,
                        "test": [
                          0.2414971313
                        ]
                      },
                      {
                        "learn": [
                          0.2428427379
                        ],
                        "iteration": 82,
                        "passed_time": 0.7557806944,
                        "remaining_time": 8.350010805,
                        "test": [
                          0.2413959045
                        ]
                      },
                      {
                        "learn": [
                          0.2426683883
                        ],
                        "iteration": 83,
                        "passed_time": 0.7634677899,
                        "remaining_time": 8.325434471,
                        "test": [
                          0.2412022095
                        ]
                      },
                      {
                        "learn": [
                          0.2425844331
                        ],
                        "iteration": 84,
                        "passed_time": 0.7710584343,
                        "remaining_time": 8.300217263,
                        "test": [
                          0.241115509
                        ]
                      },
                      {
                        "learn": [
                          0.2424527172
                        ],
                        "iteration": 85,
                        "passed_time": 0.778747585,
                        "remaining_time": 8.276456892,
                        "test": [
                          0.2409840088
                        ]
                      },
                      {
                        "learn": [
                          0.242333712
                        ],
                        "iteration": 86,
                        "passed_time": 0.7863492493,
                        "remaining_time": 8.25214787,
                        "test": [
                          0.2408612213
                        ]
                      },
                      {
                        "learn": [
                          0.2422057803
                        ],
                        "iteration": 87,
                        "passed_time": 0.7983090277,
                        "remaining_time": 8.273384469,
                        "test": [
                          0.2407303619
                        ]
                      },
                      {
                        "learn": [
                          0.2420474221
                        ],
                        "iteration": 88,
                        "passed_time": 0.8093513158,
                        "remaining_time": 8.284483694,
                        "test": [
                          0.2405857849
                        ]
                      },
                      {
                        "learn": [
                          0.2417779477
                        ],
                        "iteration": 89,
                        "passed_time": 0.8168531768,
                        "remaining_time": 8.259293232,
                        "test": [
                          0.2403230743
                        ]
                      },
                      {
                        "learn": [
                          0.2415476585
                        ],
                        "iteration": 90,
                        "passed_time": 0.8243286325,
                        "remaining_time": 8.234227769,
                        "test": [
                          0.2400951996
                        ]
                      },
                      {
                        "learn": [
                          0.2414665415
                        ],
                        "iteration": 91,
                        "passed_time": 0.8445542339,
                        "remaining_time": 8.335383091,
                        "test": [
                          0.240009613
                        ]
                      },
                      {
                        "learn": [
                          0.2413295612
                        ],
                        "iteration": 92,
                        "passed_time": 0.8519176689,
                        "remaining_time": 8.308487373,
                        "test": [
                          0.2398559265
                        ]
                      },
                      {
                        "learn": [
                          0.2411749262
                        ],
                        "iteration": 93,
                        "passed_time": 0.8593953608,
                        "remaining_time": 8.283108477,
                        "test": [
                          0.239700592
                        ]
                      },
                      {
                        "learn": [
                          0.2410727212
                        ],
                        "iteration": 94,
                        "passed_time": 0.8750385373,
                        "remaining_time": 8.335893434,
                        "test": [
                          0.2395800629
                        ]
                      },
                      {
                        "learn": [
                          0.2409538992
                        ],
                        "iteration": 95,
                        "passed_time": 0.8929518847,
                        "remaining_time": 8.408630248,
                        "test": [
                          0.2394604492
                        ]
                      },
                      {
                        "learn": [
                          0.2408427219
                        ],
                        "iteration": 96,
                        "passed_time": 0.9004255215,
                        "remaining_time": 8.382311814,
                        "test": [
                          0.2393228607
                        ]
                      },
                      {
                        "learn": [
                          0.2406899027
                        ],
                        "iteration": 97,
                        "passed_time": 0.90773951,
                        "remaining_time": 8.354908551,
                        "test": [
                          0.2391900024
                        ]
                      },
                      {
                        "learn": [
                          0.2406476047
                        ],
                        "iteration": 98,
                        "passed_time": 0.9150225662,
                        "remaining_time": 8.327629618,
                        "test": [
                          0.2391397705
                        ]
                      },
                      {
                        "learn": [
                          0.2405240982
                        ],
                        "iteration": 99,
                        "passed_time": 0.9223178816,
                        "remaining_time": 8.300860935,
                        "test": [
                          0.2390309448
                        ]
                      },
                      {
                        "learn": [
                          0.2404511753
                        ],
                        "iteration": 100,
                        "passed_time": 0.9299328556,
                        "remaining_time": 8.277323141,
                        "test": [
                          0.2389506531
                        ]
                      },
                      {
                        "learn": [
                          0.240365389
                        ],
                        "iteration": 101,
                        "passed_time": 0.937224612,
                        "remaining_time": 8.251251976,
                        "test": [
                          0.2388566742
                        ]
                      },
                      {
                        "learn": [
                          0.2401287368
                        ],
                        "iteration": 102,
                        "passed_time": 0.9448383045,
                        "remaining_time": 8.228349118,
                        "test": [
                          0.2386151276
                        ]
                      },
                      {
                        "learn": [
                          0.2400468263
                        ],
                        "iteration": 103,
                        "passed_time": 0.9522865011,
                        "remaining_time": 8.204314471,
                        "test": [
                          0.2385422058
                        ]
                      },
                      {
                        "learn": [
                          0.2399572253
                        ],
                        "iteration": 104,
                        "passed_time": 0.9597012048,
                        "remaining_time": 8.180310269,
                        "test": [
                          0.2384655609
                        ]
                      },
                      {
                        "learn": [
                          0.2398899482
                        ],
                        "iteration": 105,
                        "passed_time": 0.9669970216,
                        "remaining_time": 8.15561639,
                        "test": [
                          0.2384092255
                        ]
                      },
                      {
                        "learn": [
                          0.2397589647
                        ],
                        "iteration": 106,
                        "passed_time": 0.9743356484,
                        "remaining_time": 8.13160499,
                        "test": [
                          0.2382879791
                        ]
                      },
                      {
                        "learn": [
                          0.2396549897
                        ],
                        "iteration": 107,
                        "passed_time": 0.981786453,
                        "remaining_time": 8.108828853,
                        "test": [
                          0.2381843262
                        ]
                      },
                      {
                        "learn": [
                          0.239608114
                        ],
                        "iteration": 108,
                        "passed_time": 0.9891495485,
                        "remaining_time": 8.085616951,
                        "test": [
                          0.2381336517
                        ]
                      },
                      {
                        "learn": [
                          0.239464084
                        ],
                        "iteration": 109,
                        "passed_time": 1.001253599,
                        "remaining_time": 8.101051845,
                        "test": [
                          0.2380092773
                        ]
                      },
                      {
                        "learn": [
                          0.2393940756
                        ],
                        "iteration": 110,
                        "passed_time": 1.00889666,
                        "remaining_time": 8.080262441,
                        "test": [
                          0.2379390869
                        ]
                      },
                      {
                        "learn": [
                          0.2393336193
                        ],
                        "iteration": 111,
                        "passed_time": 1.016452014,
                        "remaining_time": 8.059012398,
                        "test": [
                          0.2378940582
                        ]
                      },
                      {
                        "learn": [
                          0.2392888799
                        ],
                        "iteration": 112,
                        "passed_time": 1.026753687,
                        "remaining_time": 8.059562128,
                        "test": [
                          0.2378536835
                        ]
                      },
                      {
                        "learn": [
                          0.2391788776
                        ],
                        "iteration": 113,
                        "passed_time": 1.03595389,
                        "remaining_time": 8.051360934,
                        "test": [
                          0.2377349854
                        ]
                      },
                      {
                        "learn": [
                          0.2391117226
                        ],
                        "iteration": 114,
                        "passed_time": 1.043472902,
                        "remaining_time": 8.030204503,
                        "test": [
                          0.2376708374
                        ]
                      },
                      {
                        "learn": [
                          0.2390301326
                        ],
                        "iteration": 115,
                        "passed_time": 1.051098957,
                        "remaining_time": 8.01009895,
                        "test": [
                          0.2376024475
                        ]
                      },
                      {
                        "learn": [
                          0.2389820666
                        ],
                        "iteration": 116,
                        "passed_time": 1.058449266,
                        "remaining_time": 7.988125659,
                        "test": [
                          0.2375478973
                        ]
                      },
                      {
                        "learn": [
                          0.2389062598
                        ],
                        "iteration": 117,
                        "passed_time": 1.065821249,
                        "remaining_time": 7.966562215,
                        "test": [
                          0.2374994507
                        ]
                      },
                      {
                        "learn": [
                          0.2388234643
                        ],
                        "iteration": 118,
                        "passed_time": 1.07314252,
                        "remaining_time": 7.944861852,
                        "test": [
                          0.2374393005
                        ]
                      },
                      {
                        "learn": [
                          0.2387593458
                        ],
                        "iteration": 119,
                        "passed_time": 1.080503617,
                        "remaining_time": 7.923693194,
                        "test": [
                          0.2373739624
                        ]
                      },
                      {
                        "learn": [
                          0.2386908328
                        ],
                        "iteration": 120,
                        "passed_time": 1.088098199,
                        "remaining_time": 7.904448897,
                        "test": [
                          0.2373125916
                        ]
                      },
                      {
                        "learn": [
                          0.2385506481
                        ],
                        "iteration": 121,
                        "passed_time": 1.095493485,
                        "remaining_time": 7.88396131,
                        "test": [
                          0.2371792145
                        ]
                      },
                      {
                        "learn": [
                          0.2384136831
                        ],
                        "iteration": 122,
                        "passed_time": 1.102794508,
                        "remaining_time": 7.863014502,
                        "test": [
                          0.2370370331
                        ]
                      },
                      {
                        "learn": [
                          0.2383418283
                        ],
                        "iteration": 123,
                        "passed_time": 1.110331559,
                        "remaining_time": 7.843955209,
                        "test": [
                          0.2369694214
                        ]
                      },
                      {
                        "learn": [
                          0.2382949831
                        ],
                        "iteration": 124,
                        "passed_time": 1.117662257,
                        "remaining_time": 7.823635798,
                        "test": [
                          0.2369226074
                        ]
                      },
                      {
                        "learn": [
                          0.2382185049
                        ],
                        "iteration": 125,
                        "passed_time": 1.125070642,
                        "remaining_time": 7.804061438,
                        "test": [
                          0.2368762665
                        ]
                      },
                      {
                        "learn": [
                          0.2381550273
                        ],
                        "iteration": 126,
                        "passed_time": 1.132593165,
                        "remaining_time": 7.785463249,
                        "test": [
                          0.2368239594
                        ]
                      },
                      {
                        "learn": [
                          0.2380391045
                        ],
                        "iteration": 127,
                        "passed_time": 1.139944495,
                        "remaining_time": 7.765871869,
                        "test": [
                          0.2366971741
                        ]
                      },
                      {
                        "learn": [
                          0.2379770765
                        ],
                        "iteration": 128,
                        "passed_time": 1.147438974,
                        "remaining_time": 7.747436792,
                        "test": [
                          0.2366528931
                        ]
                      },
                      {
                        "learn": [
                          0.2377511972
                        ],
                        "iteration": 129,
                        "passed_time": 1.154762763,
                        "remaining_time": 7.728027724,
                        "test": [
                          0.2364183807
                        ]
                      },
                      {
                        "learn": [
                          0.2376610773
                        ],
                        "iteration": 130,
                        "passed_time": 1.162086425,
                        "remaining_time": 7.708802317,
                        "test": [
                          0.2363445129
                        ]
                      },
                      {
                        "learn": [
                          0.2374889708
                        ],
                        "iteration": 131,
                        "passed_time": 1.169601407,
                        "remaining_time": 7.691015315,
                        "test": [
                          0.2361596069
                        ]
                      },
                      {
                        "learn": [
                          0.2374633509
                        ],
                        "iteration": 132,
                        "passed_time": 1.177094733,
                        "remaining_time": 7.673241607,
                        "test": [
                          0.2361434021
                        ]
                      },
                      {
                        "learn": [
                          0.2373919844
                        ],
                        "iteration": 133,
                        "passed_time": 1.184427917,
                        "remaining_time": 7.654586389,
                        "test": [
                          0.2360834045
                        ]
                      },
                      {
                        "learn": [
                          0.237332581
                        ],
                        "iteration": 134,
                        "passed_time": 1.196938848,
                        "remaining_time": 7.66927484,
                        "test": [
                          0.2360341034
                        ]
                      },
                      {
                        "learn": [
                          0.2372769771
                        ],
                        "iteration": 135,
                        "passed_time": 1.204259193,
                        "remaining_time": 7.650587812,
                        "test": [
                          0.2359701843
                        ]
                      },
                      {
                        "learn": [
                          0.2372476035
                        ],
                        "iteration": 136,
                        "passed_time": 1.211592696,
                        "remaining_time": 7.632149608,
                        "test": [
                          0.2359376831
                        ]
                      },
                      {
                        "learn": [
                          0.2371521277
                        ],
                        "iteration": 137,
                        "passed_time": 1.219304543,
                        "remaining_time": 7.616235626,
                        "test": [
                          0.2358494415
                        ]
                      },
                      {
                        "learn": [
                          0.2370905423
                        ],
                        "iteration": 138,
                        "passed_time": 1.226542269,
                        "remaining_time": 7.597502832,
                        "test": [
                          0.2357877502
                        ]
                      },
                      {
                        "learn": [
                          0.2370707208
                        ],
                        "iteration": 139,
                        "passed_time": 1.233777634,
                        "remaining_time": 7.578919754,
                        "test": [
                          0.2357674408
                        ]
                      },
                      {
                        "learn": [
                          0.2370247606
                        ],
                        "iteration": 140,
                        "passed_time": 1.241037763,
                        "remaining_time": 7.560648499,
                        "test": [
                          0.2357377472
                        ]
                      },
                      {
                        "learn": [
                          0.2368803187
                        ],
                        "iteration": 141,
                        "passed_time": 1.248720278,
                        "remaining_time": 7.545084499,
                        "test": [
                          0.2355860291
                        ]
                      },
                      {
                        "learn": [
                          0.2368494802
                        ],
                        "iteration": 142,
                        "passed_time": 1.256056284,
                        "remaining_time": 7.527554096,
                        "test": [
                          0.2355621185
                        ]
                      },
                      {
                        "learn": [
                          0.2367564459
                        ],
                        "iteration": 143,
                        "passed_time": 1.263389891,
                        "remaining_time": 7.510151018,
                        "test": [
                          0.2354752045
                        ]
                      },
                      {
                        "learn": [
                          0.2367068541
                        ],
                        "iteration": 144,
                        "passed_time": 1.271074219,
                        "remaining_time": 7.494954879,
                        "test": [
                          0.2354211578
                        ]
                      },
                      {
                        "learn": [
                          0.2366879939
                        ],
                        "iteration": 145,
                        "passed_time": 1.278560457,
                        "remaining_time": 7.478702948,
                        "test": [
                          0.2354003448
                        ]
                      },
                      {
                        "learn": [
                          0.2365943645
                        ],
                        "iteration": 146,
                        "passed_time": 1.285854926,
                        "remaining_time": 7.461457494,
                        "test": [
                          0.2353261719
                        ]
                      },
                      {
                        "learn": [
                          0.2365573614
                        ],
                        "iteration": 147,
                        "passed_time": 1.293158163,
                        "remaining_time": 7.444396991,
                        "test": [
                          0.2352870331
                        ]
                      },
                      {
                        "learn": [
                          0.236485766
                        ],
                        "iteration": 148,
                        "passed_time": 1.301687434,
                        "remaining_time": 7.434469843,
                        "test": [
                          0.2352205811
                        ]
                      },
                      {
                        "learn": [
                          0.2364482135
                        ],
                        "iteration": 149,
                        "passed_time": 1.3088777,
                        "remaining_time": 7.416973633,
                        "test": [
                          0.2351956787
                        ]
                      },
                      {
                        "learn": [
                          0.236407182
                        ],
                        "iteration": 150,
                        "passed_time": 1.31635656,
                        "remaining_time": 7.401236553,
                        "test": [
                          0.2351652069
                        ]
                      },
                      {
                        "learn": [
                          0.2363547215
                        ],
                        "iteration": 151,
                        "passed_time": 1.323645168,
                        "remaining_time": 7.384546729,
                        "test": [
                          0.2351158295
                        ]
                      },
                      {
                        "learn": [
                          0.2362908014
                        ],
                        "iteration": 152,
                        "passed_time": 1.330828433,
                        "remaining_time": 7.36739662,
                        "test": [
                          0.2350434113
                        ]
                      },
                      {
                        "learn": [
                          0.2362685995
                        ],
                        "iteration": 153,
                        "passed_time": 1.338116415,
                        "remaining_time": 7.350951215,
                        "test": [
                          0.2350215759
                        ]
                      },
                      {
                        "learn": [
                          0.2362089825
                        ],
                        "iteration": 154,
                        "passed_time": 1.345516982,
                        "remaining_time": 7.335237738,
                        "test": [
                          0.2349768677
                        ]
                      },
                      {
                        "learn": [
                          0.2361733679
                        ],
                        "iteration": 155,
                        "passed_time": 1.352728847,
                        "remaining_time": 7.318609918,
                        "test": [
                          0.2349551544
                        ]
                      },
                      {
                        "learn": [
                          0.2361383637
                        ],
                        "iteration": 156,
                        "passed_time": 1.360018628,
                        "remaining_time": 7.302520401,
                        "test": [
                          0.234911499
                        ]
                      },
                      {
                        "learn": [
                          0.2360937158
                        ],
                        "iteration": 157,
                        "passed_time": 1.367280259,
                        "remaining_time": 7.286392264,
                        "test": [
                          0.2348689423
                        ]
                      },
                      {
                        "learn": [
                          0.2360558124
                        ],
                        "iteration": 158,
                        "passed_time": 1.374533947,
                        "remaining_time": 7.270333646,
                        "test": [
                          0.2348452301
                        ]
                      },
                      {
                        "learn": [
                          0.2359325652
                        ],
                        "iteration": 159,
                        "passed_time": 1.381868166,
                        "remaining_time": 7.254807871,
                        "test": [
                          0.2347367706
                        ]
                      },
                      {
                        "learn": [
                          0.2358212048
                        ],
                        "iteration": 160,
                        "passed_time": 1.394003554,
                        "remaining_time": 7.264403616,
                        "test": [
                          0.2346157684
                        ]
                      },
                      {
                        "learn": [
                          0.2358033823
                        ],
                        "iteration": 161,
                        "passed_time": 1.401495222,
                        "remaining_time": 7.24970985,
                        "test": [
                          0.234603775
                        ]
                      },
                      {
                        "learn": [
                          0.2357329161
                        ],
                        "iteration": 162,
                        "passed_time": 1.409010259,
                        "remaining_time": 7.235224457,
                        "test": [
                          0.2345435944
                        ]
                      },
                      {
                        "learn": [
                          0.2356957299
                        ],
                        "iteration": 163,
                        "passed_time": 1.418098425,
                        "remaining_time": 7.228843193,
                        "test": [
                          0.2345018463
                        ]
                      },
                      {
                        "learn": [
                          0.2356536302
                        ],
                        "iteration": 164,
                        "passed_time": 1.425294897,
                        "remaining_time": 7.212855994,
                        "test": [
                          0.2344761963
                        ]
                      },
                      {
                        "learn": [
                          0.235578098
                        ],
                        "iteration": 165,
                        "passed_time": 1.432395959,
                        "remaining_time": 7.196495361,
                        "test": [
                          0.2343930359
                        ]
                      },
                      {
                        "learn": [
                          0.2355476563
                        ],
                        "iteration": 166,
                        "passed_time": 1.4396172,
                        "remaining_time": 7.180845076,
                        "test": [
                          0.2343630524
                        ]
                      },
                      {
                        "learn": [
                          0.2355135218
                        ],
                        "iteration": 167,
                        "passed_time": 1.4467029,
                        "remaining_time": 7.164623884,
                        "test": [
                          0.2343338013
                        ]
                      },
                      {
                        "learn": [
                          0.2354732227
                        ],
                        "iteration": 168,
                        "passed_time": 1.453913094,
                        "remaining_time": 7.149122964,
                        "test": [
                          0.2342894135
                        ]
                      },
                      {
                        "learn": [
                          0.2354723835
                        ],
                        "iteration": 169,
                        "passed_time": 1.458906756,
                        "remaining_time": 7.122897689,
                        "test": [
                          0.2342896576
                        ]
                      },
                      {
                        "learn": [
                          0.2354440169
                        ],
                        "iteration": 170,
                        "passed_time": 1.466253428,
                        "remaining_time": 7.108328024,
                        "test": [
                          0.234274231
                        ]
                      },
                      {
                        "learn": [
                          0.2353908392
                        ],
                        "iteration": 171,
                        "passed_time": 1.473383005,
                        "remaining_time": 7.092797257,
                        "test": [
                          0.2342130432
                        ]
                      },
                      {
                        "learn": [
                          0.2353599855
                        ],
                        "iteration": 172,
                        "passed_time": 1.480519915,
                        "remaining_time": 7.077398668,
                        "test": [
                          0.234187912
                        ]
                      },
                      {
                        "learn": [
                          0.2353412627
                        ],
                        "iteration": 173,
                        "passed_time": 1.48604158,
                        "remaining_time": 7.054427269,
                        "test": [
                          0.2341737671
                        ]
                      },
                      {
                        "learn": [
                          0.2353113397
                        ],
                        "iteration": 174,
                        "passed_time": 1.493220058,
                        "remaining_time": 7.039465988,
                        "test": [
                          0.2341368561
                        ]
                      },
                      {
                        "learn": [
                          0.2352780292
                        ],
                        "iteration": 175,
                        "passed_time": 1.500417803,
                        "remaining_time": 7.024683351,
                        "test": [
                          0.2341109161
                        ]
                      },
                      {
                        "learn": [
                          0.2352434218
                        ],
                        "iteration": 176,
                        "passed_time": 1.507582629,
                        "remaining_time": 7.009833356,
                        "test": [
                          0.2340755768
                        ]
                      },
                      {
                        "learn": [
                          0.2352211131
                        ],
                        "iteration": 177,
                        "passed_time": 1.515576282,
                        "remaining_time": 6.998897214,
                        "test": [
                          0.2340540009
                        ]
                      },
                      {
                        "learn": [
                          0.2351782047
                        ],
                        "iteration": 178,
                        "passed_time": 1.522786053,
                        "remaining_time": 6.984398603,
                        "test": [
                          0.2340142975
                        ]
                      },
                      {
                        "learn": [
                          0.2351767703
                        ],
                        "iteration": 179,
                        "passed_time": 1.529865416,
                        "remaining_time": 6.969386894,
                        "test": [
                          0.2340133667
                        ]
                      },
                      {
                        "learn": [
                          0.2351490447
                        ],
                        "iteration": 180,
                        "passed_time": 1.53724085,
                        "remaining_time": 6.95580252,
                        "test": [
                          0.23397789
                        ]
                      },
                      {
                        "learn": [
                          0.2351200373
                        ],
                        "iteration": 181,
                        "passed_time": 1.544376481,
                        "remaining_time": 6.941208582,
                        "test": [
                          0.2339463043
                        ]
                      },
                      {
                        "learn": [
                          0.2350911062
                        ],
                        "iteration": 182,
                        "passed_time": 1.551645596,
                        "remaining_time": 6.927292086,
                        "test": [
                          0.2339177094
                        ]
                      },
                      {
                        "learn": [
                          0.2350680955
                        ],
                        "iteration": 183,
                        "passed_time": 1.558885762,
                        "remaining_time": 6.913319466,
                        "test": [
                          0.2338977661
                        ]
                      },
                      {
                        "learn": [
                          0.2350673631
                        ],
                        "iteration": 184,
                        "passed_time": 1.563783479,
                        "remaining_time": 6.88910019,
                        "test": [
                          0.2338979492
                        ]
                      },
                      {
                        "learn": [
                          0.2350343884
                        ],
                        "iteration": 185,
                        "passed_time": 1.57105194,
                        "remaining_time": 6.875463869,
                        "test": [
                          0.2338561554
                        ]
                      },
                      {
                        "learn": [
                          0.2349320308
                        ],
                        "iteration": 186,
                        "passed_time": 1.578729202,
                        "remaining_time": 6.863672948,
                        "test": [
                          0.2337567291
                        ]
                      },
                      {
                        "learn": [
                          0.2349116142
                        ],
                        "iteration": 187,
                        "passed_time": 1.592383033,
                        "remaining_time": 6.877739484,
                        "test": [
                          0.2337406616
                        ]
                      },
                      {
                        "learn": [
                          0.2349024435
                        ],
                        "iteration": 188,
                        "passed_time": 1.599461576,
                        "remaining_time": 6.863298087,
                        "test": [
                          0.2337297363
                        ]
                      },
                      {
                        "learn": [
                          0.2348986898
                        ],
                        "iteration": 189,
                        "passed_time": 1.606634388,
                        "remaining_time": 6.849336074,
                        "test": [
                          0.2337276764
                        ]
                      },
                      {
                        "learn": [
                          0.234813697
                        ],
                        "iteration": 190,
                        "passed_time": 1.61383849,
                        "remaining_time": 6.835577687,
                        "test": [
                          0.233644043
                        ]
                      },
                      {
                        "learn": [
                          0.2347958592
                        ],
                        "iteration": 191,
                        "passed_time": 1.62093251,
                        "remaining_time": 6.821424314,
                        "test": [
                          0.2336226349
                        ]
                      },
                      {
                        "learn": [
                          0.2347618621
                        ],
                        "iteration": 192,
                        "passed_time": 1.628159375,
                        "remaining_time": 6.807899565,
                        "test": [
                          0.2335963593
                        ]
                      },
                      {
                        "learn": [
                          0.2347166191
                        ],
                        "iteration": 193,
                        "passed_time": 1.635255709,
                        "remaining_time": 6.79389743,
                        "test": [
                          0.2335630646
                        ]
                      },
                      {
                        "learn": [
                          0.2347077231
                        ],
                        "iteration": 194,
                        "passed_time": 1.642436591,
                        "remaining_time": 6.780315156,
                        "test": [
                          0.2335519714
                        ]
                      },
                      {
                        "learn": [
                          0.2346757859
                        ],
                        "iteration": 195,
                        "passed_time": 1.649677133,
                        "remaining_time": 6.767042935,
                        "test": [
                          0.2335149078
                        ]
                      },
                      {
                        "learn": [
                          0.2346396678
                        ],
                        "iteration": 196,
                        "passed_time": 1.656741731,
                        "remaining_time": 6.753114773,
                        "test": [
                          0.2334778137
                        ]
                      },
                      {
                        "learn": [
                          0.2345938755
                        ],
                        "iteration": 197,
                        "passed_time": 1.664216739,
                        "remaining_time": 6.740918307,
                        "test": [
                          0.2334280853
                        ]
                      },
                      {
                        "learn": [
                          0.2345685608
                        ],
                        "iteration": 198,
                        "passed_time": 1.67138607,
                        "remaining_time": 6.727538903,
                        "test": [
                          0.2334028015
                        ]
                      },
                      {
                        "learn": [
                          0.2345426204
                        ],
                        "iteration": 199,
                        "passed_time": 1.678523592,
                        "remaining_time": 6.714094369,
                        "test": [
                          0.2333779755
                        ]
                      },
                      {
                        "learn": [
                          0.2345236077
                        ],
                        "iteration": 200,
                        "passed_time": 1.685665972,
                        "remaining_time": 6.7007319,
                        "test": [
                          0.233370697
                        ]
                      },
                      {
                        "learn": [
                          0.2345076009
                        ],
                        "iteration": 201,
                        "passed_time": 1.692851713,
                        "remaining_time": 6.687602313,
                        "test": [
                          0.2333498993
                        ]
                      },
                      {
                        "learn": [
                          0.2344862993
                        ],
                        "iteration": 202,
                        "passed_time": 1.700151728,
                        "remaining_time": 6.674979938,
                        "test": [
                          0.2333341217
                        ]
                      },
                      {
                        "learn": [
                          0.2344613966
                        ],
                        "iteration": 203,
                        "passed_time": 1.707321576,
                        "remaining_time": 6.661901834,
                        "test": [
                          0.2333127594
                        ]
                      },
                      {
                        "learn": [
                          0.2344501355
                        ],
                        "iteration": 204,
                        "passed_time": 1.714438397,
                        "remaining_time": 6.648675736,
                        "test": [
                          0.2333057098
                        ]
                      },
                      {
                        "learn": [
                          0.2344279336
                        ],
                        "iteration": 205,
                        "passed_time": 1.721815388,
                        "remaining_time": 6.636511738,
                        "test": [
                          0.2332901001
                        ]
                      },
                      {
                        "learn": [
                          0.2343938144
                        ],
                        "iteration": 206,
                        "passed_time": 1.72916476,
                        "remaining_time": 6.624288187,
                        "test": [
                          0.2332617188
                        ]
                      },
                      {
                        "learn": [
                          0.2343472133
                        ],
                        "iteration": 207,
                        "passed_time": 1.736387914,
                        "remaining_time": 6.611630903,
                        "test": [
                          0.2332285919
                        ]
                      },
                      {
                        "learn": [
                          0.2343064564
                        ],
                        "iteration": 208,
                        "passed_time": 1.744405954,
                        "remaining_time": 6.602034019,
                        "test": [
                          0.2331892242
                        ]
                      },
                      {
                        "learn": [
                          0.234283339
                        ],
                        "iteration": 209,
                        "passed_time": 1.751617141,
                        "remaining_time": 6.589416865,
                        "test": [
                          0.2331665649
                        ]
                      },
                      {
                        "learn": [
                          0.2342589246
                        ],
                        "iteration": 210,
                        "passed_time": 1.758937428,
                        "remaining_time": 6.577258914,
                        "test": [
                          0.233140625
                        ]
                      },
                      {
                        "learn": [
                          0.2342472972
                        ],
                        "iteration": 211,
                        "passed_time": 1.766308387,
                        "remaining_time": 6.565334946,
                        "test": [
                          0.2331350403
                        ]
                      },
                      {
                        "learn": [
                          0.234137951
                        ],
                        "iteration": 212,
                        "passed_time": 1.773622192,
                        "remaining_time": 6.553242558,
                        "test": [
                          0.23301651
                        ]
                      },
                      {
                        "learn": [
                          0.2341014209
                        ],
                        "iteration": 213,
                        "passed_time": 1.780960599,
                        "remaining_time": 6.541285192,
                        "test": [
                          0.2329844971
                        ]
                      },
                      {
                        "learn": [
                          0.2340780441
                        ],
                        "iteration": 214,
                        "passed_time": 1.804969759,
                        "remaining_time": 6.590238423,
                        "test": [
                          0.2329698639
                        ]
                      },
                      {
                        "learn": [
                          0.2340641126
                        ],
                        "iteration": 215,
                        "passed_time": 1.828513608,
                        "remaining_time": 6.636827171,
                        "test": [
                          0.2329656067
                        ]
                      },
                      {
                        "learn": [
                          0.2340260108
                        ],
                        "iteration": 216,
                        "passed_time": 1.846311565,
                        "remaining_time": 6.662036662,
                        "test": [
                          0.2329194794
                        ]
                      },
                      {
                        "learn": [
                          0.2340017642
                        ],
                        "iteration": 217,
                        "passed_time": 1.85868265,
                        "remaining_time": 6.667384552,
                        "test": [
                          0.2328840179
                        ]
                      },
                      {
                        "learn": [
                          0.2339813018
                        ],
                        "iteration": 218,
                        "passed_time": 1.865706137,
                        "remaining_time": 6.653499969,
                        "test": [
                          0.2328646088
                        ]
                      },
                      {
                        "learn": [
                          0.2339407739
                        ],
                        "iteration": 219,
                        "passed_time": 1.872911232,
                        "remaining_time": 6.640321642,
                        "test": [
                          0.2328310089
                        ]
                      },
                      {
                        "learn": [
                          0.2339187551
                        ],
                        "iteration": 220,
                        "passed_time": 1.880279647,
                        "remaining_time": 6.627773053,
                        "test": [
                          0.2328037109
                        ]
                      },
                      {
                        "learn": [
                          0.2339061664
                        ],
                        "iteration": 221,
                        "passed_time": 1.887578916,
                        "remaining_time": 6.615028814,
                        "test": [
                          0.2327979126
                        ]
                      },
                      {
                        "learn": [
                          0.2338829727
                        ],
                        "iteration": 222,
                        "passed_time": 1.894995854,
                        "remaining_time": 6.602743402,
                        "test": [
                          0.2327801208
                        ]
                      },
                      {
                        "learn": [
                          0.2338664471
                        ],
                        "iteration": 223,
                        "passed_time": 1.902733037,
                        "remaining_time": 6.591610879,
                        "test": [
                          0.2327690582
                        ]
                      },
                      {
                        "learn": [
                          0.2338537364
                        ],
                        "iteration": 224,
                        "passed_time": 1.910493553,
                        "remaining_time": 6.580588905,
                        "test": [
                          0.232761795
                        ]
                      },
                      {
                        "learn": [
                          0.2338286353
                        ],
                        "iteration": 225,
                        "passed_time": 1.918254657,
                        "remaining_time": 6.569597808,
                        "test": [
                          0.2327426147
                        ]
                      },
                      {
                        "learn": [
                          0.2338064029
                        ],
                        "iteration": 226,
                        "passed_time": 1.925507357,
                        "remaining_time": 6.556903909,
                        "test": [
                          0.2327154694
                        ]
                      },
                      {
                        "learn": [
                          0.2337822936
                        ],
                        "iteration": 227,
                        "passed_time": 1.932754306,
                        "remaining_time": 6.544238264,
                        "test": [
                          0.2326937256
                        ]
                      },
                      {
                        "learn": [
                          0.233759756
                        ],
                        "iteration": 228,
                        "passed_time": 1.939978787,
                        "remaining_time": 6.5315443,
                        "test": [
                          0.2326760101
                        ]
                      },
                      {
                        "learn": [
                          0.2337406059
                        ],
                        "iteration": 229,
                        "passed_time": 1.950635809,
                        "remaining_time": 6.530389448,
                        "test": [
                          0.2326585083
                        ]
                      },
                      {
                        "learn": [
                          0.2337286581
                        ],
                        "iteration": 230,
                        "passed_time": 1.957921665,
                        "remaining_time": 6.5179297,
                        "test": [
                          0.2326562805
                        ]
                      },
                      {
                        "learn": [
                          0.2337201283
                        ],
                        "iteration": 231,
                        "passed_time": 1.965257005,
                        "remaining_time": 6.505678361,
                        "test": [
                          0.2326534729
                        ]
                      },
                      {
                        "learn": [
                          0.2337109271
                        ],
                        "iteration": 232,
                        "passed_time": 1.972560582,
                        "remaining_time": 6.493364663,
                        "test": [
                          0.2326437531
                        ]
                      },
                      {
                        "learn": [
                          0.2336994371
                        ],
                        "iteration": 233,
                        "passed_time": 1.980740462,
                        "remaining_time": 6.483962366,
                        "test": [
                          0.2326354523
                        ]
                      },
                      {
                        "learn": [
                          0.233682057
                        ],
                        "iteration": 234,
                        "passed_time": 1.988879356,
                        "remaining_time": 6.474437054,
                        "test": [
                          0.23262677
                        ]
                      },
                      {
                        "learn": [
                          0.2336670116
                        ],
                        "iteration": 235,
                        "passed_time": 1.996156062,
                        "remaining_time": 6.462132338,
                        "test": [
                          0.2326130219
                        ]
                      },
                      {
                        "learn": [
                          0.2336097293
                        ],
                        "iteration": 236,
                        "passed_time": 2.008194399,
                        "remaining_time": 6.465199689,
                        "test": [
                          0.2325639343
                        ]
                      },
                      {
                        "learn": [
                          0.2335735806
                        ],
                        "iteration": 237,
                        "passed_time": 2.015269559,
                        "remaining_time": 6.452249596,
                        "test": [
                          0.2325301208
                        ]
                      },
                      {
                        "learn": [
                          0.2335571466
                        ],
                        "iteration": 238,
                        "passed_time": 2.0223823,
                        "remaining_time": 6.439468327,
                        "test": [
                          0.2325175781
                        ]
                      },
                      {
                        "learn": [
                          0.2335275289
                        ],
                        "iteration": 239,
                        "passed_time": 2.029453732,
                        "remaining_time": 6.426603486,
                        "test": [
                          0.2324918823
                        ]
                      },
                      {
                        "learn": [
                          0.2335199909
                        ],
                        "iteration": 240,
                        "passed_time": 2.036536207,
                        "remaining_time": 6.413821498,
                        "test": [
                          0.2324853973
                        ]
                      },
                      {
                        "learn": [
                          0.2335072649
                        ],
                        "iteration": 241,
                        "passed_time": 2.043705144,
                        "remaining_time": 6.401357435,
                        "test": [
                          0.2324765472
                        ]
                      },
                      {
                        "learn": [
                          0.233491777
                        ],
                        "iteration": 242,
                        "passed_time": 2.05105398,
                        "remaining_time": 6.389497378,
                        "test": [
                          0.2324737854
                        ]
                      },
                      {
                        "learn": [
                          0.2334815382
                        ],
                        "iteration": 243,
                        "passed_time": 2.058300383,
                        "remaining_time": 6.377356925,
                        "test": [
                          0.2324631653
                        ]
                      },
                      {
                        "learn": [
                          0.2334585886
                        ],
                        "iteration": 244,
                        "passed_time": 2.065667461,
                        "remaining_time": 6.365628297,
                        "test": [
                          0.2324369354
                        ]
                      },
                      {
                        "learn": [
                          0.2334557351
                        ],
                        "iteration": 245,
                        "passed_time": 2.072906978,
                        "remaining_time": 6.353544151,
                        "test": [
                          0.2324356995
                        ]
                      },
                      {
                        "learn": [
                          0.2334301763
                        ],
                        "iteration": 246,
                        "passed_time": 2.087013705,
                        "remaining_time": 6.362434492,
                        "test": [
                          0.2324172974
                        ]
                      },
                      {
                        "learn": [
                          0.2334179843
                        ],
                        "iteration": 247,
                        "passed_time": 2.094239066,
                        "remaining_time": 6.350273296,
                        "test": [
                          0.2324057007
                        ]
                      },
                      {
                        "learn": [
                          0.2333974762
                        ],
                        "iteration": 248,
                        "passed_time": 2.101480688,
                        "remaining_time": 6.33820079,
                        "test": [
                          0.2323848877
                        ]
                      },
                      {
                        "learn": [
                          0.2333796842
                        ],
                        "iteration": 249,
                        "passed_time": 2.10872016,
                        "remaining_time": 6.32616048,
                        "test": [
                          0.2323627014
                        ]
                      },
                      {
                        "learn": [
                          0.2333604425
                        ],
                        "iteration": 250,
                        "passed_time": 2.115995962,
                        "remaining_time": 6.314266834,
                        "test": [
                          0.2323549347
                        ]
                      },
                      {
                        "learn": [
                          0.2333377676
                        ],
                        "iteration": 251,
                        "passed_time": 2.123305937,
                        "remaining_time": 6.302511272,
                        "test": [
                          0.2323333435
                        ]
                      },
                      {
                        "learn": [
                          0.2333279103
                        ],
                        "iteration": 252,
                        "passed_time": 2.131329126,
                        "remaining_time": 6.292896668,
                        "test": [
                          0.2323330688
                        ]
                      },
                      {
                        "learn": [
                          0.2332893812
                        ],
                        "iteration": 253,
                        "passed_time": 2.138511452,
                        "remaining_time": 6.280824974,
                        "test": [
                          0.2322995758
                        ]
                      },
                      {
                        "learn": [
                          0.2332764721
                        ],
                        "iteration": 254,
                        "passed_time": 2.145576737,
                        "remaining_time": 6.268449683,
                        "test": [
                          0.2322862549
                        ]
                      },
                      {
                        "learn": [
                          0.2332684306
                        ],
                        "iteration": 255,
                        "passed_time": 2.15285149,
                        "remaining_time": 6.256724643,
                        "test": [
                          0.2322754211
                        ]
                      },
                      {
                        "learn": [
                          0.233245954
                        ],
                        "iteration": 256,
                        "passed_time": 2.160068822,
                        "remaining_time": 6.24486823,
                        "test": [
                          0.2322492981
                        ]
                      },
                      {
                        "learn": [
                          0.2332239505
                        ],
                        "iteration": 257,
                        "passed_time": 2.167270273,
                        "remaining_time": 6.233002102,
                        "test": [
                          0.2322348328
                        ]
                      },
                      {
                        "learn": [
                          0.23320242
                        ],
                        "iteration": 258,
                        "passed_time": 2.174404223,
                        "remaining_time": 6.220978876,
                        "test": [
                          0.2322221527
                        ]
                      },
                      {
                        "learn": [
                          0.2331845059
                        ],
                        "iteration": 259,
                        "passed_time": 2.181456889,
                        "remaining_time": 6.208761915,
                        "test": [
                          0.2322080231
                        ]
                      },
                      {
                        "learn": [
                          0.2331726497
                        ],
                        "iteration": 260,
                        "passed_time": 2.188586175,
                        "remaining_time": 6.196801468,
                        "test": [
                          0.2321962433
                        ]
                      },
                      {
                        "learn": [
                          0.2331644403
                        ],
                        "iteration": 261,
                        "passed_time": 2.195720259,
                        "remaining_time": 6.184891415,
                        "test": [
                          0.232190979
                        ]
                      },
                      {
                        "learn": [
                          0.233149044
                        ],
                        "iteration": 262,
                        "passed_time": 2.207565741,
                        "remaining_time": 6.186220345,
                        "test": [
                          0.2321739807
                        ]
                      },
                      {
                        "learn": [
                          0.2331307026
                        ],
                        "iteration": 263,
                        "passed_time": 2.215113504,
                        "remaining_time": 6.175467951,
                        "test": [
                          0.2321625061
                        ]
                      },
                      {
                        "learn": [
                          0.2331053116
                        ],
                        "iteration": 264,
                        "passed_time": 2.22228292,
                        "remaining_time": 6.163690364,
                        "test": [
                          0.2321382141
                        ]
                      },
                      {
                        "learn": [
                          0.2330904798
                        ],
                        "iteration": 265,
                        "passed_time": 2.229549059,
                        "remaining_time": 6.152214321,
                        "test": [
                          0.2321208649
                        ]
                      },
                      {
                        "learn": [
                          0.2330630899
                        ],
                        "iteration": 266,
                        "passed_time": 2.236623558,
                        "remaining_time": 6.140243701,
                        "test": [
                          0.2320869141
                        ]
                      },
                      {
                        "learn": [
                          0.2330430853
                        ],
                        "iteration": 267,
                        "passed_time": 2.243846696,
                        "remaining_time": 6.128715603,
                        "test": [
                          0.2320704346
                        ]
                      },
                      {
                        "learn": [
                          0.2330303135
                        ],
                        "iteration": 268,
                        "passed_time": 2.252348463,
                        "remaining_time": 6.12069415,
                        "test": [
                          0.2320589447
                        ]
                      },
                      {
                        "learn": [
                          0.2330081421
                        ],
                        "iteration": 269,
                        "passed_time": 2.259740923,
                        "remaining_time": 6.109669902,
                        "test": [
                          0.2320384979
                        ]
                      },
                      {
                        "learn": [
                          0.2329911893
                        ],
                        "iteration": 270,
                        "passed_time": 2.267038096,
                        "remaining_time": 6.098416132,
                        "test": [
                          0.2320230103
                        ]
                      },
                      {
                        "learn": [
                          0.2329679803
                        ],
                        "iteration": 271,
                        "passed_time": 2.274257187,
                        "remaining_time": 6.08698247,
                        "test": [
                          0.2320035553
                        ]
                      },
                      {
                        "learn": [
                          0.2329591148
                        ],
                        "iteration": 272,
                        "passed_time": 2.2814827,
                        "remaining_time": 6.075596787,
                        "test": [
                          0.231994751
                        ]
                      },
                      {
                        "learn": [
                          0.232950936
                        ],
                        "iteration": 273,
                        "passed_time": 2.288778285,
                        "remaining_time": 6.064427134,
                        "test": [
                          0.2319902344
                        ]
                      },
                      {
                        "learn": [
                          0.2329203417
                        ],
                        "iteration": 274,
                        "passed_time": 2.296117999,
                        "remaining_time": 6.053401996,
                        "test": [
                          0.2319645996
                        ]
                      },
                      {
                        "learn": [
                          0.2329023055
                        ],
                        "iteration": 275,
                        "passed_time": 2.305110127,
                        "remaining_time": 6.046738158,
                        "test": [
                          0.2319511719
                        ]
                      },
                      {
                        "learn": [
                          0.23287606
                        ],
                        "iteration": 276,
                        "passed_time": 2.313278528,
                        "remaining_time": 6.037907492,
                        "test": [
                          0.2319312286
                        ]
                      },
                      {
                        "learn": [
                          0.2328335025
                        ],
                        "iteration": 277,
                        "passed_time": 2.320413509,
                        "remaining_time": 6.026397673,
                        "test": [
                          0.2318857117
                        ]
                      },
                      {
                        "learn": [
                          0.2327956601
                        ],
                        "iteration": 278,
                        "passed_time": 2.327735452,
                        "remaining_time": 6.01540237,
                        "test": [
                          0.2318452454
                        ]
                      },
                      {
                        "learn": [
                          0.2327702539
                        ],
                        "iteration": 279,
                        "passed_time": 2.334961043,
                        "remaining_time": 6.00418554,
                        "test": [
                          0.2318229828
                        ]
                      },
                      {
                        "learn": [
                          0.2327424672
                        ],
                        "iteration": 280,
                        "passed_time": 2.342426326,
                        "remaining_time": 5.993610422,
                        "test": [
                          0.231793396
                        ]
                      },
                      {
                        "learn": [
                          0.232732091
                        ],
                        "iteration": 281,
                        "passed_time": 2.349527246,
                        "remaining_time": 5.982129656,
                        "test": [
                          0.2317883148
                        ]
                      },
                      {
                        "learn": [
                          0.2327090804
                        ],
                        "iteration": 282,
                        "passed_time": 2.357677233,
                        "remaining_time": 5.973337724,
                        "test": [
                          0.2317752838
                        ]
                      },
                      {
                        "learn": [
                          0.2326950879
                        ],
                        "iteration": 283,
                        "passed_time": 2.364862614,
                        "remaining_time": 5.962118421,
                        "test": [
                          0.2317666016
                        ]
                      },
                      {
                        "learn": [
                          0.2326748239
                        ],
                        "iteration": 284,
                        "passed_time": 2.371867354,
                        "remaining_time": 5.950474239,
                        "test": [
                          0.2317472229
                        ]
                      },
                      {
                        "learn": [
                          0.2326544989
                        ],
                        "iteration": 285,
                        "passed_time": 2.378707661,
                        "remaining_time": 5.938451992,
                        "test": [
                          0.2317296295
                        ]
                      },
                      {
                        "learn": [
                          0.2326486089
                        ],
                        "iteration": 286,
                        "passed_time": 2.385882598,
                        "remaining_time": 5.927297186,
                        "test": [
                          0.2317299805
                        ]
                      },
                      {
                        "learn": [
                          0.2326366
                        ],
                        "iteration": 287,
                        "passed_time": 2.392979592,
                        "remaining_time": 5.915977324,
                        "test": [
                          0.2317174072
                        ]
                      },
                      {
                        "learn": [
                          0.2326183655
                        ],
                        "iteration": 288,
                        "passed_time": 2.405499691,
                        "remaining_time": 5.918028651,
                        "test": [
                          0.2317187347
                        ]
                      },
                      {
                        "learn": [
                          0.2326012296
                        ],
                        "iteration": 289,
                        "passed_time": 2.412841216,
                        "remaining_time": 5.907300908,
                        "test": [
                          0.231708374
                        ]
                      },
                      {
                        "learn": [
                          0.2325790888
                        ],
                        "iteration": 290,
                        "passed_time": 2.420250306,
                        "remaining_time": 5.896761054,
                        "test": [
                          0.231700592
                        ]
                      },
                      {
                        "learn": [
                          0.2325602286
                        ],
                        "iteration": 291,
                        "passed_time": 2.427530657,
                        "remaining_time": 5.885930497,
                        "test": [
                          0.231689621
                        ]
                      },
                      {
                        "learn": [
                          0.232541872
                        ],
                        "iteration": 292,
                        "passed_time": 2.434726378,
                        "remaining_time": 5.874919964,
                        "test": [
                          0.2316717987
                        ]
                      },
                      {
                        "learn": [
                          0.2325231034
                        ],
                        "iteration": 293,
                        "passed_time": 2.44194085,
                        "remaining_time": 5.86398041,
                        "test": [
                          0.2316660767
                        ]
                      },
                      {
                        "learn": [
                          0.2325083632
                        ],
                        "iteration": 294,
                        "passed_time": 2.449107534,
                        "remaining_time": 5.852951904,
                        "test": [
                          0.2316513977
                        ]
                      },
                      {
                        "learn": [
                          0.2324888621
                        ],
                        "iteration": 295,
                        "passed_time": 2.456277149,
                        "remaining_time": 5.841956462,
                        "test": [
                          0.2316397705
                        ]
                      },
                      {
                        "learn": [
                          0.2324705666
                        ],
                        "iteration": 296,
                        "passed_time": 2.463414384,
                        "remaining_time": 5.83091014,
                        "test": [
                          0.2316140747
                        ]
                      },
                      {
                        "learn": [
                          0.2324565893
                        ],
                        "iteration": 297,
                        "passed_time": 2.470874364,
                        "remaining_time": 5.820650348,
                        "test": [
                          0.2316056366
                        ]
                      },
                      {
                        "learn": [
                          0.2324398044
                        ],
                        "iteration": 298,
                        "passed_time": 2.478007494,
                        "remaining_time": 5.809642988,
                        "test": [
                          0.2315865936
                        ]
                      },
                      {
                        "learn": [
                          0.2324323274
                        ],
                        "iteration": 299,
                        "passed_time": 2.485112998,
                        "remaining_time": 5.798596995,
                        "test": [
                          0.2315791779
                        ]
                      },
                      {
                        "learn": [
                          0.2324178619
                        ],
                        "iteration": 300,
                        "passed_time": 2.492168243,
                        "remaining_time": 5.787460472,
                        "test": [
                          0.2315620422
                        ]
                      },
                      {
                        "learn": [
                          0.2324046323
                        ],
                        "iteration": 301,
                        "passed_time": 2.499298011,
                        "remaining_time": 5.776523219,
                        "test": [
                          0.2315481262
                        ]
                      },
                      {
                        "learn": [
                          0.2323915858
                        ],
                        "iteration": 302,
                        "passed_time": 2.506436972,
                        "remaining_time": 5.765632244,
                        "test": [
                          0.2315377045
                        ]
                      },
                      {
                        "learn": [
                          0.2323681174
                        ],
                        "iteration": 303,
                        "passed_time": 2.516796874,
                        "remaining_time": 5.762140211,
                        "test": [
                          0.2315168152
                        ]
                      },
                      {
                        "learn": [
                          0.2323640433
                        ],
                        "iteration": 304,
                        "passed_time": 2.523812648,
                        "remaining_time": 5.75098292,
                        "test": [
                          0.2315133667
                        ]
                      },
                      {
                        "learn": [
                          0.2323506916
                        ],
                        "iteration": 305,
                        "passed_time": 2.530930679,
                        "remaining_time": 5.740084613,
                        "test": [
                          0.2314943848
                        ]
                      },
                      {
                        "learn": [
                          0.2323413073
                        ],
                        "iteration": 306,
                        "passed_time": 2.538000992,
                        "remaining_time": 5.729103218,
                        "test": [
                          0.2314921265
                        ]
                      },
                      {
                        "learn": [
                          0.2323316941
                        ],
                        "iteration": 307,
                        "passed_time": 2.545081444,
                        "remaining_time": 5.718169997,
                        "test": [
                          0.2314911957
                        ]
                      },
                      {
                        "learn": [
                          0.2323194106
                        ],
                        "iteration": 308,
                        "passed_time": 2.556966847,
                        "remaining_time": 5.718006769,
                        "test": [
                          0.2314739532
                        ]
                      },
                      {
                        "learn": [
                          0.2323098127
                        ],
                        "iteration": 309,
                        "passed_time": 2.564321099,
                        "remaining_time": 5.707682446,
                        "test": [
                          0.2314746246
                        ]
                      },
                      {
                        "learn": [
                          0.2322942485
                        ],
                        "iteration": 310,
                        "passed_time": 2.571470836,
                        "remaining_time": 5.696924134,
                        "test": [
                          0.2314701996
                        ]
                      },
                      {
                        "learn": [
                          0.2322847879
                        ],
                        "iteration": 311,
                        "passed_time": 2.578643302,
                        "remaining_time": 5.686239076,
                        "test": [
                          0.2314549561
                        ]
                      },
                      {
                        "learn": [
                          0.2322695746
                        ],
                        "iteration": 312,
                        "passed_time": 2.585979641,
                        "remaining_time": 5.675936144,
                        "test": [
                          0.23143927
                        ]
                      },
                      {
                        "learn": [
                          0.2322568944
                        ],
                        "iteration": 313,
                        "passed_time": 2.593077858,
                        "remaining_time": 5.665131881,
                        "test": [
                          0.231420578
                        ]
                      },
                      {
                        "learn": [
                          0.2322316712
                        ],
                        "iteration": 314,
                        "passed_time": 2.605156162,
                        "remaining_time": 5.665180861,
                        "test": [
                          0.2314089813
                        ]
                      },
                      {
                        "learn": [
                          0.2322192809
                        ],
                        "iteration": 315,
                        "passed_time": 2.612419823,
                        "remaining_time": 5.654731516,
                        "test": [
                          0.2313899841
                        ]
                      },
                      {
                        "learn": [
                          0.2322034573
                        ],
                        "iteration": 316,
                        "passed_time": 2.619606771,
                        "remaining_time": 5.644136987,
                        "test": [
                          0.2313788147
                        ]
                      },
                      {
                        "learn": [
                          0.2321910212
                        ],
                        "iteration": 317,
                        "passed_time": 2.626409788,
                        "remaining_time": 5.632740488,
                        "test": [
                          0.2313637848
                        ]
                      },
                      {
                        "learn": [
                          0.2321822472
                        ],
                        "iteration": 318,
                        "passed_time": 2.633334066,
                        "remaining_time": 5.621631658,
                        "test": [
                          0.2313567352
                        ]
                      },
                      {
                        "learn": [
                          0.2321718253
                        ],
                        "iteration": 319,
                        "passed_time": 2.640053262,
                        "remaining_time": 5.610113182,
                        "test": [
                          0.2313592377
                        ]
                      },
                      {
                        "learn": [
                          0.2321608999
                        ],
                        "iteration": 320,
                        "passed_time": 2.646850327,
                        "remaining_time": 5.598789321,
                        "test": [
                          0.2313503571
                        ]
                      },
                      {
                        "learn": [
                          0.2321520801
                        ],
                        "iteration": 321,
                        "passed_time": 2.653829059,
                        "remaining_time": 5.587876092,
                        "test": [
                          0.2313434753
                        ]
                      },
                      {
                        "learn": [
                          0.2321378587
                        ],
                        "iteration": 322,
                        "passed_time": 2.661378187,
                        "remaining_time": 5.578182764,
                        "test": [
                          0.2313386688
                        ]
                      },
                      {
                        "learn": [
                          0.2321266739
                        ],
                        "iteration": 323,
                        "passed_time": 2.668404641,
                        "remaining_time": 5.567412152,
                        "test": [
                          0.2313338318
                        ]
                      },
                      {
                        "learn": [
                          0.2321106671
                        ],
                        "iteration": 324,
                        "passed_time": 2.6755379,
                        "remaining_time": 5.556886407,
                        "test": [
                          0.2313266602
                        ]
                      },
                      {
                        "learn": [
                          0.2320977427
                        ],
                        "iteration": 325,
                        "passed_time": 2.682612407,
                        "remaining_time": 5.546260006,
                        "test": [
                          0.2313170013
                        ]
                      },
                      {
                        "learn": [
                          0.2320868173
                        ],
                        "iteration": 326,
                        "passed_time": 2.689763477,
                        "remaining_time": 5.535812905,
                        "test": [
                          0.231305954
                        ]
                      },
                      {
                        "learn": [
                          0.2320656377
                        ],
                        "iteration": 327,
                        "passed_time": 2.696827314,
                        "remaining_time": 5.525207179,
                        "test": [
                          0.2312877045
                        ]
                      },
                      {
                        "learn": [
                          0.2320573063
                        ],
                        "iteration": 328,
                        "passed_time": 2.703951213,
                        "remaining_time": 5.514745484,
                        "test": [
                          0.2312731476
                        ]
                      },
                      {
                        "learn": [
                          0.2320474948
                        ],
                        "iteration": 329,
                        "passed_time": 2.711117115,
                        "remaining_time": 5.504389294,
                        "test": [
                          0.2312748108
                        ]
                      },
                      {
                        "learn": [
                          0.2320396211
                        ],
                        "iteration": 330,
                        "passed_time": 2.718138359,
                        "remaining_time": 5.493760007,
                        "test": [
                          0.2312689362
                        ]
                      },
                      {
                        "learn": [
                          0.2320321137
                        ],
                        "iteration": 331,
                        "passed_time": 2.725325243,
                        "remaining_time": 5.48348573,
                        "test": [
                          0.2312638092
                        ]
                      },
                      {
                        "learn": [
                          0.2320231566
                        ],
                        "iteration": 332,
                        "passed_time": 2.732559213,
                        "remaining_time": 5.47332431,
                        "test": [
                          0.2312589722
                        ]
                      },
                      {
                        "learn": [
                          0.2320152372
                        ],
                        "iteration": 333,
                        "passed_time": 2.740569579,
                        "remaining_time": 5.464728561,
                        "test": [
                          0.2312518921
                        ]
                      },
                      {
                        "learn": [
                          0.232001916
                        ],
                        "iteration": 334,
                        "passed_time": 2.748970007,
                        "remaining_time": 5.456910611,
                        "test": [
                          0.2312410431
                        ]
                      },
                      {
                        "learn": [
                          0.2319900903
                        ],
                        "iteration": 335,
                        "passed_time": 2.768839848,
                        "remaining_time": 5.471754938,
                        "test": [
                          0.2312348175
                        ]
                      },
                      {
                        "learn": [
                          0.2319789207
                        ],
                        "iteration": 336,
                        "passed_time": 2.794098963,
                        "remaining_time": 5.496995883,
                        "test": [
                          0.2312260437
                        ]
                      },
                      {
                        "learn": [
                          0.2319702841
                        ],
                        "iteration": 337,
                        "passed_time": 2.816473413,
                        "remaining_time": 5.516288163,
                        "test": [
                          0.2312215271
                        ]
                      },
                      {
                        "learn": [
                          0.2319629292
                        ],
                        "iteration": 338,
                        "passed_time": 2.823697111,
                        "remaining_time": 5.505792891,
                        "test": [
                          0.2312132111
                        ]
                      },
                      {
                        "learn": [
                          0.2319530566
                        ],
                        "iteration": 339,
                        "passed_time": 2.830848169,
                        "remaining_time": 5.495175858,
                        "test": [
                          0.2312115326
                        ]
                      },
                      {
                        "learn": [
                          0.2319428026
                        ],
                        "iteration": 340,
                        "passed_time": 2.837987019,
                        "remaining_time": 5.484555559,
                        "test": [
                          0.2312076874
                        ]
                      },
                      {
                        "learn": [
                          0.2319151837
                        ],
                        "iteration": 341,
                        "passed_time": 2.845046066,
                        "remaining_time": 5.47380208,
                        "test": [
                          0.2311857758
                        ]
                      },
                      {
                        "learn": [
                          0.2319070964
                        ],
                        "iteration": 342,
                        "passed_time": 2.852055713,
                        "remaining_time": 5.46297552,
                        "test": [
                          0.2311800232
                        ]
                      },
                      {
                        "learn": [
                          0.2318870766
                        ],
                        "iteration": 343,
                        "passed_time": 2.859131797,
                        "remaining_time": 5.452297846,
                        "test": [
                          0.2311609039
                        ]
                      },
                      {
                        "learn": [
                          0.2318684148
                        ],
                        "iteration": 344,
                        "passed_time": 2.866219272,
                        "remaining_time": 5.441662676,
                        "test": [
                          0.2311420135
                        ]
                      },
                      {
                        "learn": [
                          0.2318574894
                        ],
                        "iteration": 345,
                        "passed_time": 2.873369453,
                        "remaining_time": 5.431166539,
                        "test": [
                          0.2311376648
                        ]
                      },
                      {
                        "learn": [
                          0.2318435426
                        ],
                        "iteration": 346,
                        "passed_time": 2.880444375,
                        "remaining_time": 5.42054806,
                        "test": [
                          0.2311240082
                        ]
                      },
                      {
                        "learn": [
                          0.2318332275
                        ],
                        "iteration": 347,
                        "passed_time": 2.887542772,
                        "remaining_time": 5.40999393,
                        "test": [
                          0.2311172333
                        ]
                      },
                      {
                        "learn": [
                          0.2318228208
                        ],
                        "iteration": 348,
                        "passed_time": 2.894735789,
                        "remaining_time": 5.3996361,
                        "test": [
                          0.2311087036
                        ]
                      },
                      {
                        "learn": [
                          0.2318004358
                        ],
                        "iteration": 349,
                        "passed_time": 2.902047457,
                        "remaining_time": 5.389516706,
                        "test": [
                          0.2310850525
                        ]
                      },
                      {
                        "learn": [
                          0.2317868858
                        ],
                        "iteration": 350,
                        "passed_time": 2.90922677,
                        "remaining_time": 5.379168587,
                        "test": [
                          0.2310731659
                        ]
                      },
                      {
                        "learn": [
                          0.2317795462
                        ],
                        "iteration": 351,
                        "passed_time": 2.916524489,
                        "remaining_time": 5.369056445,
                        "test": [
                          0.2310632477
                        ]
                      },
                      {
                        "learn": [
                          0.2317704366
                        ],
                        "iteration": 352,
                        "passed_time": 2.92372139,
                        "remaining_time": 5.358775465,
                        "test": [
                          0.2310559387
                        ]
                      },
                      {
                        "learn": [
                          0.2317603504
                        ],
                        "iteration": 353,
                        "passed_time": 2.930926345,
                        "remaining_time": 5.348526606,
                        "test": [
                          0.231050827
                        ]
                      },
                      {
                        "learn": [
                          0.2317523394
                        ],
                        "iteration": 354,
                        "passed_time": 2.938047856,
                        "remaining_time": 5.338143288,
                        "test": [
                          0.231042572
                        ]
                      },
                      {
                        "learn": [
                          0.2317449388
                        ],
                        "iteration": 355,
                        "passed_time": 2.945206606,
                        "remaining_time": 5.327845659,
                        "test": [
                          0.2310372009
                        ]
                      },
                      {
                        "learn": [
                          0.2317323958
                        ],
                        "iteration": 356,
                        "passed_time": 2.952452102,
                        "remaining_time": 5.317721853,
                        "test": [
                          0.2310268555
                        ]
                      },
                      {
                        "learn": [
                          0.2317274977
                        ],
                        "iteration": 357,
                        "passed_time": 2.959651729,
                        "remaining_time": 5.307531872,
                        "test": [
                          0.2310291138
                        ]
                      },
                      {
                        "learn": [
                          0.2317183575
                        ],
                        "iteration": 358,
                        "passed_time": 2.967243619,
                        "remaining_time": 5.298058941,
                        "test": [
                          0.2310220642
                        ]
                      },
                      {
                        "learn": [
                          0.231712315
                        ],
                        "iteration": 359,
                        "passed_time": 2.980222095,
                        "remaining_time": 5.298172613,
                        "test": [
                          0.2310170441
                        ]
                      },
                      {
                        "learn": [
                          0.231703541
                        ],
                        "iteration": 360,
                        "passed_time": 2.994708663,
                        "remaining_time": 5.300883201,
                        "test": [
                          0.2310110321
                        ]
                      },
                      {
                        "learn": [
                          0.2316982156
                        ],
                        "iteration": 361,
                        "passed_time": 3.001935461,
                        "remaining_time": 5.290703935,
                        "test": [
                          0.2310038452
                        ]
                      },
                      {
                        "learn": [
                          0.2316880226
                        ],
                        "iteration": 362,
                        "passed_time": 3.009146594,
                        "remaining_time": 5.280513444,
                        "test": [
                          0.2309991302
                        ]
                      },
                      {
                        "learn": [
                          0.2316809119
                        ],
                        "iteration": 363,
                        "passed_time": 3.016253767,
                        "remaining_time": 5.27015768,
                        "test": [
                          0.2309985046
                        ]
                      },
                      {
                        "learn": [
                          0.2316725499
                        ],
                        "iteration": 364,
                        "passed_time": 3.023349816,
                        "remaining_time": 5.259800365,
                        "test": [
                          0.2309909973
                        ]
                      },
                      {
                        "learn": [
                          0.2316685368
                        ],
                        "iteration": 365,
                        "passed_time": 3.030457639,
                        "remaining_time": 5.249481265,
                        "test": [
                          0.2309868011
                        ]
                      },
                      {
                        "learn": [
                          0.2316587863
                        ],
                        "iteration": 366,
                        "passed_time": 3.037619262,
                        "remaining_time": 5.23927246,
                        "test": [
                          0.2309805145
                        ]
                      },
                      {
                        "learn": [
                          0.2316482423
                        ],
                        "iteration": 367,
                        "passed_time": 3.044871409,
                        "remaining_time": 5.229235681,
                        "test": [
                          0.2309679108
                        ]
                      },
                      {
                        "learn": [
                          0.2316391479
                        ],
                        "iteration": 368,
                        "passed_time": 3.052186765,
                        "remaining_time": 5.219322083,
                        "test": [
                          0.2309645386
                        ]
                      },
                      {
                        "learn": [
                          0.2316293669
                        ],
                        "iteration": 369,
                        "passed_time": 3.059406222,
                        "remaining_time": 5.209259243,
                        "test": [
                          0.230962616
                        ]
                      },
                      {
                        "learn": [
                          0.2316150692
                        ],
                        "iteration": 370,
                        "passed_time": 3.066832659,
                        "remaining_time": 5.199562649,
                        "test": [
                          0.2309481049
                        ]
                      },
                      {
                        "learn": [
                          0.231605517
                        ],
                        "iteration": 371,
                        "passed_time": 3.073908544,
                        "remaining_time": 5.189286467,
                        "test": [
                          0.2309451447
                        ]
                      },
                      {
                        "learn": [
                          0.2316008478
                        ],
                        "iteration": 372,
                        "passed_time": 3.083122991,
                        "remaining_time": 5.182622293,
                        "test": [
                          0.2309360352
                        ]
                      },
                      {
                        "learn": [
                          0.2315927605
                        ],
                        "iteration": 373,
                        "passed_time": 3.090388029,
                        "remaining_time": 5.172681568,
                        "test": [
                          0.230931427
                        ]
                      },
                      {
                        "learn": [
                          0.2315885643
                        ],
                        "iteration": 374,
                        "passed_time": 3.097471136,
                        "remaining_time": 5.162451894,
                        "test": [
                          0.2309273529
                        ]
                      },
                      {
                        "learn": [
                          0.2315795919
                        ],
                        "iteration": 375,
                        "passed_time": 3.104603413,
                        "remaining_time": 5.152320558,
                        "test": [
                          0.230921051
                        ]
                      },
                      {
                        "learn": [
                          0.2315731984
                        ],
                        "iteration": 376,
                        "passed_time": 3.111632839,
                        "remaining_time": 5.142035168,
                        "test": [
                          0.2309233246
                        ]
                      },
                      {
                        "learn": [
                          0.2315617847
                        ],
                        "iteration": 377,
                        "passed_time": 3.121299492,
                        "remaining_time": 5.136106572,
                        "test": [
                          0.2309172974
                        ]
                      },
                      {
                        "learn": [
                          0.2315561541
                        ],
                        "iteration": 378,
                        "passed_time": 3.128435457,
                        "remaining_time": 5.126011659,
                        "test": [
                          0.230910965
                        ]
                      },
                      {
                        "learn": [
                          0.2315489518
                        ],
                        "iteration": 379,
                        "passed_time": 3.135719208,
                        "remaining_time": 5.116173445,
                        "test": [
                          0.2309000397
                        ]
                      },
                      {
                        "learn": [
                          0.2315434891
                        ],
                        "iteration": 380,
                        "passed_time": 3.143067269,
                        "remaining_time": 5.106453122,
                        "test": [
                          0.230898941
                        ]
                      },
                      {
                        "learn": [
                          0.2315265058
                        ],
                        "iteration": 381,
                        "passed_time": 3.150207255,
                        "remaining_time": 5.096408596,
                        "test": [
                          0.2308771667
                        ]
                      },
                      {
                        "learn": [
                          0.2315173046
                        ],
                        "iteration": 382,
                        "passed_time": 3.157451539,
                        "remaining_time": 5.086547257,
                        "test": [
                          0.2308753815
                        ]
                      },
                      {
                        "learn": [
                          0.2315139629
                        ],
                        "iteration": 383,
                        "passed_time": 3.16461967,
                        "remaining_time": 5.076577387,
                        "test": [
                          0.2308689575
                        ]
                      },
                      {
                        "learn": [
                          0.2315069285
                        ],
                        "iteration": 384,
                        "passed_time": 3.171762089,
                        "remaining_time": 5.066581,
                        "test": [
                          0.2308658295
                        ]
                      },
                      {
                        "learn": [
                          0.2315011758
                        ],
                        "iteration": 385,
                        "passed_time": 3.17893804,
                        "remaining_time": 5.056652736,
                        "test": [
                          0.2308647156
                        ]
                      },
                      {
                        "learn": [
                          0.2314917915
                        ],
                        "iteration": 386,
                        "passed_time": 3.192060795,
                        "remaining_time": 5.056158313,
                        "test": [
                          0.2308613434
                        ]
                      },
                      {
                        "learn": [
                          0.2314793249
                        ],
                        "iteration": 387,
                        "passed_time": 3.199370781,
                        "remaining_time": 5.046430201,
                        "test": [
                          0.2308526001
                        ]
                      },
                      {
                        "learn": [
                          0.2314714054
                        ],
                        "iteration": 388,
                        "passed_time": 3.206452872,
                        "remaining_time": 5.036356568,
                        "test": [
                          0.2308424835
                        ]
                      },
                      {
                        "learn": [
                          0.2314620669
                        ],
                        "iteration": 389,
                        "passed_time": 3.213593069,
                        "remaining_time": 5.026389159,
                        "test": [
                          0.2308423309
                        ]
                      },
                      {
                        "learn": [
                          0.2314534608
                        ],
                        "iteration": 390,
                        "passed_time": 3.220781365,
                        "remaining_time": 5.016511129,
                        "test": [
                          0.2308385315
                        ]
                      },
                      {
                        "learn": [
                          0.2314450684
                        ],
                        "iteration": 391,
                        "passed_time": 3.228111527,
                        "remaining_time": 5.006866858,
                        "test": [
                          0.2308317566
                        ]
                      },
                      {
                        "learn": [
                          0.2314394225
                        ],
                        "iteration": 392,
                        "passed_time": 3.235217062,
                        "remaining_time": 4.996887422,
                        "test": [
                          0.2308296661
                        ]
                      },
                      {
                        "learn": [
                          0.2314361723
                        ],
                        "iteration": 393,
                        "passed_time": 3.242276054,
                        "remaining_time": 4.986850987,
                        "test": [
                          0.2308270416
                        ]
                      },
                      {
                        "learn": [
                          0.23143132
                        ],
                        "iteration": 394,
                        "passed_time": 3.249345402,
                        "remaining_time": 4.976845489,
                        "test": [
                          0.2308218079
                        ]
                      },
                      {
                        "learn": [
                          0.2314248654
                        ],
                        "iteration": 395,
                        "passed_time": 3.256473237,
                        "remaining_time": 4.966944028,
                        "test": [
                          0.2308186646
                        ]
                      },
                      {
                        "learn": [
                          0.2314195553
                        ],
                        "iteration": 396,
                        "passed_time": 3.263560078,
                        "remaining_time": 4.956994275,
                        "test": [
                          0.2308170929
                        ]
                      },
                      {
                        "learn": [
                          0.2314124446
                        ],
                        "iteration": 397,
                        "passed_time": 3.270624469,
                        "remaining_time": 4.947024951,
                        "test": [
                          0.2308110657
                        ]
                      },
                      {
                        "learn": [
                          0.231403106
                        ],
                        "iteration": 398,
                        "passed_time": 3.277737333,
                        "remaining_time": 4.937143201,
                        "test": [
                          0.2307994843
                        ]
                      },
                      {
                        "learn": [
                          0.2313974754
                        ],
                        "iteration": 399,
                        "passed_time": 3.284744262,
                        "remaining_time": 4.927116393,
                        "test": [
                          0.2307974091
                        ]
                      },
                      {
                        "learn": [
                          0.2313933403
                        ],
                        "iteration": 400,
                        "passed_time": 3.29178424,
                        "remaining_time": 4.917154014,
                        "test": [
                          0.2307974548
                        ]
                      },
                      {
                        "learn": [
                          0.2313868857
                        ],
                        "iteration": 401,
                        "passed_time": 3.298972596,
                        "remaining_time": 4.907426897,
                        "test": [
                          0.2307983551
                        ]
                      },
                      {
                        "learn": [
                          0.2313777913
                        ],
                        "iteration": 402,
                        "passed_time": 3.306091373,
                        "remaining_time": 4.897609305,
                        "test": [
                          0.2307910004
                        ]
                      },
                      {
                        "learn": [
                          0.2313548417
                        ],
                        "iteration": 403,
                        "passed_time": 3.313171597,
                        "remaining_time": 4.887748198,
                        "test": [
                          0.2307796326
                        ]
                      },
                      {
                        "learn": [
                          0.2313498978
                        ],
                        "iteration": 404,
                        "passed_time": 3.320218941,
                        "remaining_time": 4.877852518,
                        "test": [
                          0.2307784271
                        ]
                      },
                      {
                        "learn": [
                          0.231341368
                        ],
                        "iteration": 405,
                        "passed_time": 3.327342205,
                        "remaining_time": 4.868081945,
                        "test": [
                          0.2307708893
                        ]
                      },
                      {
                        "learn": [
                          0.2313359358
                        ],
                        "iteration": 406,
                        "passed_time": 3.33446143,
                        "remaining_time": 4.858318497,
                        "test": [
                          0.2307650299
                        ]
                      },
                      {
                        "learn": [
                          0.231307081
                        ],
                        "iteration": 407,
                        "passed_time": 3.341471208,
                        "remaining_time": 4.848409203,
                        "test": [
                          0.230739151
                        ]
                      },
                      {
                        "learn": [
                          0.2313025033
                        ],
                        "iteration": 408,
                        "passed_time": 3.348535577,
                        "remaining_time": 4.838592973,
                        "test": [
                          0.2307360229
                        ]
                      },
                      {
                        "learn": [
                          0.2312972847
                        ],
                        "iteration": 409,
                        "passed_time": 3.355687979,
                        "remaining_time": 4.828916848,
                        "test": [
                          0.2307326508
                        ]
                      },
                      {
                        "learn": [
                          0.231285932
                        ],
                        "iteration": 410,
                        "passed_time": 3.362681903,
                        "remaining_time": 4.81902589,
                        "test": [
                          0.2307212219
                        ]
                      },
                      {
                        "learn": [
                          0.2312811864
                        ],
                        "iteration": 411,
                        "passed_time": 3.36981766,
                        "remaining_time": 4.809351417,
                        "test": [
                          0.2307238007
                        ]
                      },
                      {
                        "learn": [
                          0.2312730839
                        ],
                        "iteration": 412,
                        "passed_time": 3.376859358,
                        "remaining_time": 4.799555553,
                        "test": [
                          0.2307163849
                        ]
                      },
                      {
                        "learn": [
                          0.2312691623
                        ],
                        "iteration": 413,
                        "passed_time": 3.389075363,
                        "remaining_time": 4.797097011,
                        "test": [
                          0.2307147675
                        ]
                      },
                      {
                        "learn": [
                          0.2312607393
                        ],
                        "iteration": 414,
                        "passed_time": 3.396191171,
                        "remaining_time": 4.787402012,
                        "test": [
                          0.2307109528
                        ]
                      },
                      {
                        "learn": [
                          0.2312281002
                        ],
                        "iteration": 415,
                        "passed_time": 3.403119474,
                        "remaining_time": 4.777456185,
                        "test": [
                          0.230671051
                        ]
                      },
                      {
                        "learn": [
                          0.2312221034
                        ],
                        "iteration": 416,
                        "passed_time": 3.411672229,
                        "remaining_time": 4.769795946,
                        "test": [
                          0.2306694489
                        ]
                      },
                      {
                        "learn": [
                          0.2312167628
                        ],
                        "iteration": 417,
                        "passed_time": 3.418674422,
                        "remaining_time": 4.759972521,
                        "test": [
                          0.2306644135
                        ]
                      },
                      {
                        "learn": [
                          0.2312114679
                        ],
                        "iteration": 418,
                        "passed_time": 3.426174079,
                        "remaining_time": 4.750852363,
                        "test": [
                          0.2306572266
                        ]
                      },
                      {
                        "learn": [
                          0.2312062341
                        ],
                        "iteration": 419,
                        "passed_time": 3.433334725,
                        "remaining_time": 4.741271763,
                        "test": [
                          0.230646347
                        ]
                      },
                      {
                        "learn": [
                          0.2311999016
                        ],
                        "iteration": 420,
                        "passed_time": 3.440511902,
                        "remaining_time": 4.731725395,
                        "test": [
                          0.2306439972
                        ]
                      },
                      {
                        "learn": [
                          0.2311941489
                        ],
                        "iteration": 421,
                        "passed_time": 3.447629927,
                        "remaining_time": 4.722109236,
                        "test": [
                          0.2306420288
                        ]
                      },
                      {
                        "learn": [
                          0.2311893423
                        ],
                        "iteration": 422,
                        "passed_time": 3.454693826,
                        "remaining_time": 4.712431058,
                        "test": [
                          0.2306381531
                        ]
                      },
                      {
                        "learn": [
                          0.2311765705
                        ],
                        "iteration": 423,
                        "passed_time": 3.461864058,
                        "remaining_time": 4.702909664,
                        "test": [
                          0.2306226501
                        ]
                      },
                      {
                        "learn": [
                          0.2311560624
                        ],
                        "iteration": 424,
                        "passed_time": 3.468919779,
                        "remaining_time": 4.693244407,
                        "test": [
                          0.23061763
                        ]
                      },
                      {
                        "learn": [
                          0.2311498672
                        ],
                        "iteration": 425,
                        "passed_time": 3.475963133,
                        "remaining_time": 4.683574737,
                        "test": [
                          0.2306108551
                        ]
                      },
                      {
                        "learn": [
                          0.2311444045
                        ],
                        "iteration": 426,
                        "passed_time": 3.483216026,
                        "remaining_time": 4.674198555,
                        "test": [
                          0.2306087341
                        ]
                      },
                      {
                        "learn": [
                          0.2311372785
                        ],
                        "iteration": 427,
                        "passed_time": 3.49031242,
                        "remaining_time": 4.66462314,
                        "test": [
                          0.2306079254
                        ]
                      },
                      {
                        "learn": [
                          0.2311336774
                        ],
                        "iteration": 428,
                        "passed_time": 3.498208939,
                        "remaining_time": 4.656124252,
                        "test": [
                          0.230602478
                        ]
                      },
                      {
                        "learn": [
                          0.2311222484
                        ],
                        "iteration": 429,
                        "passed_time": 3.505387036,
                        "remaining_time": 4.646675839,
                        "test": [
                          0.2305908051
                        ]
                      },
                      {
                        "learn": [
                          0.2311105905
                        ],
                        "iteration": 430,
                        "passed_time": 3.512602434,
                        "remaining_time": 4.637287204,
                        "test": [
                          0.2305783386
                        ]
                      },
                      {
                        "learn": [
                          0.2311074624
                        ],
                        "iteration": 431,
                        "passed_time": 3.519603576,
                        "remaining_time": 4.627626924,
                        "test": [
                          0.2305769806
                        ]
                      },
                      {
                        "learn": [
                          0.2311035408
                        ],
                        "iteration": 432,
                        "passed_time": 3.526881359,
                        "remaining_time": 4.618341179,
                        "test": [
                          0.2305763702
                        ]
                      },
                      {
                        "learn": [
                          0.231099253
                        ],
                        "iteration": 433,
                        "passed_time": 3.53417136,
                        "remaining_time": 4.609080622,
                        "test": [
                          0.2305708618
                        ]
                      },
                      {
                        "learn": [
                          0.231071329
                        ],
                        "iteration": 434,
                        "passed_time": 3.545699841,
                        "remaining_time": 4.605334276,
                        "test": [
                          0.2305463867
                        ]
                      },
                      {
                        "learn": [
                          0.2310636232
                        ],
                        "iteration": 435,
                        "passed_time": 3.552877146,
                        "remaining_time": 4.595923647,
                        "test": [
                          0.2305423889
                        ]
                      },
                      {
                        "learn": [
                          0.2310544525
                        ],
                        "iteration": 436,
                        "passed_time": 3.560062468,
                        "remaining_time": 4.586533569,
                        "test": [
                          0.2305315552
                        ]
                      },
                      {
                        "learn": [
                          0.2310478148
                        ],
                        "iteration": 437,
                        "passed_time": 3.567136645,
                        "remaining_time": 4.577010946,
                        "test": [
                          0.2305289764
                        ]
                      },
                      {
                        "learn": [
                          0.2310417112
                        ],
                        "iteration": 438,
                        "passed_time": 3.574312088,
                        "remaining_time": 4.567628887,
                        "test": [
                          0.230524826
                        ]
                      },
                      {
                        "learn": [
                          0.2310365537
                        ],
                        "iteration": 439,
                        "passed_time": 3.58640722,
                        "remaining_time": 4.56451828,
                        "test": [
                          0.230525116
                        ]
                      },
                      {
                        "learn": [
                          0.2310313351
                        ],
                        "iteration": 440,
                        "passed_time": 3.593477043,
                        "remaining_time": 4.554996978,
                        "test": [
                          0.2305196381
                        ]
                      },
                      {
                        "learn": [
                          0.2310278408
                        ],
                        "iteration": 441,
                        "passed_time": 3.600822087,
                        "remaining_time": 4.545834219,
                        "test": [
                          0.2305133667
                        ]
                      },
                      {
                        "learn": [
                          0.2310226222
                        ],
                        "iteration": 442,
                        "passed_time": 3.608174989,
                        "remaining_time": 4.536689546,
                        "test": [
                          0.2305111237
                        ]
                      },
                      {
                        "learn": [
                          0.2310148096
                        ],
                        "iteration": 443,
                        "passed_time": 3.615701181,
                        "remaining_time": 4.527769947,
                        "test": [
                          0.230509079
                        ]
                      },
                      {
                        "learn": [
                          0.2310022666
                        ],
                        "iteration": 444,
                        "passed_time": 3.622816228,
                        "remaining_time": 4.518343836,
                        "test": [
                          0.2304960022
                        ]
                      },
                      {
                        "learn": [
                          0.2309987571
                        ],
                        "iteration": 445,
                        "passed_time": 3.629879053,
                        "remaining_time": 4.508863219,
                        "test": [
                          0.2304937439
                        ]
                      },
                      {
                        "learn": [
                          0.2309951559
                        ],
                        "iteration": 446,
                        "passed_time": 3.636901076,
                        "remaining_time": 4.499342942,
                        "test": [
                          0.2304924622
                        ]
                      },
                      {
                        "learn": [
                          0.2309886251
                        ],
                        "iteration": 447,
                        "passed_time": 3.643894288,
                        "remaining_time": 4.48979832,
                        "test": [
                          0.2304924164
                        ]
                      },
                      {
                        "learn": [
                          0.2309838795
                        ],
                        "iteration": 448,
                        "passed_time": 3.654687974,
                        "remaining_time": 4.484928895,
                        "test": [
                          0.2304921265
                        ]
                      },
                      {
                        "learn": [
                          0.2309808277
                        ],
                        "iteration": 449,
                        "passed_time": 3.661672258,
                        "remaining_time": 4.475377204,
                        "test": [
                          0.2304932861
                        ]
                      },
                      {
                        "learn": [
                          0.230975899
                        ],
                        "iteration": 450,
                        "passed_time": 3.66866415,
                        "remaining_time": 4.46584616,
                        "test": [
                          0.2304892578
                        ]
                      },
                      {
                        "learn": [
                          0.230966469
                        ],
                        "iteration": 451,
                        "passed_time": 3.676101462,
                        "remaining_time": 4.456866374,
                        "test": [
                          0.2304859467
                        ]
                      },
                      {
                        "learn": [
                          0.2309625321
                        ],
                        "iteration": 452,
                        "passed_time": 3.683134256,
                        "remaining_time": 4.44740494,
                        "test": [
                          0.2304790649
                        ]
                      },
                      {
                        "learn": [
                          0.2309560318
                        ],
                        "iteration": 453,
                        "passed_time": 3.690363478,
                        "remaining_time": 4.438190438,
                        "test": [
                          0.230473465
                        ]
                      },
                      {
                        "learn": [
                          0.2309532241
                        ],
                        "iteration": 454,
                        "passed_time": 3.697461616,
                        "remaining_time": 4.42882765,
                        "test": [
                          0.2304718018
                        ]
                      },
                      {
                        "learn": [
                          0.2309505691
                        ],
                        "iteration": 455,
                        "passed_time": 3.704564072,
                        "remaining_time": 4.419479945,
                        "test": [
                          0.2304702148
                        ]
                      },
                      {
                        "learn": [
                          0.2309452589
                        ],
                        "iteration": 456,
                        "passed_time": 3.711701705,
                        "remaining_time": 4.410183864,
                        "test": [
                          0.2304680328
                        ]
                      },
                      {
                        "learn": [
                          0.2309383161
                        ],
                        "iteration": 457,
                        "passed_time": 3.718703587,
                        "remaining_time": 4.400736559,
                        "test": [
                          0.2304718018
                        ]
                      },
                      {
                        "learn": [
                          0.2309342572
                        ],
                        "iteration": 458,
                        "passed_time": 3.725882508,
                        "remaining_time": 4.391508578,
                        "test": [
                          0.2304654999
                        ]
                      },
                      {
                        "learn": [
                          0.2309295574
                        ],
                        "iteration": 459,
                        "passed_time": 3.745579595,
                        "remaining_time": 4.396984742,
                        "test": [
                          0.2304634857
                        ]
                      },
                      {
                        "learn": [
                          0.2309266276
                        ],
                        "iteration": 460,
                        "passed_time": 3.752948146,
                        "remaining_time": 4.387937204,
                        "test": [
                          0.2304617157
                        ]
                      },
                      {
                        "learn": [
                          0.2309246592
                        ],
                        "iteration": 461,
                        "passed_time": 3.782007409,
                        "remaining_time": 4.404155813,
                        "test": [
                          0.2304620972
                        ]
                      },
                      {
                        "learn": [
                          0.2309137185
                        ],
                        "iteration": 462,
                        "passed_time": 3.792610762,
                        "remaining_time": 4.398773173,
                        "test": [
                          0.230460022
                        ]
                      },
                      {
                        "learn": [
                          0.2309081337
                        ],
                        "iteration": 463,
                        "passed_time": 3.801979877,
                        "remaining_time": 4.391942272,
                        "test": [
                          0.2304611664
                        ]
                      },
                      {
                        "learn": [
                          0.230902793
                        ],
                        "iteration": 464,
                        "passed_time": 3.80906333,
                        "remaining_time": 4.382470713,
                        "test": [
                          0.2304565582
                        ]
                      },
                      {
                        "learn": [
                          0.2308964911
                        ],
                        "iteration": 465,
                        "passed_time": 3.816058008,
                        "remaining_time": 4.372907675,
                        "test": [
                          0.2304501495
                        ]
                      },
                      {
                        "learn": [
                          0.2308932409
                        ],
                        "iteration": 466,
                        "passed_time": 3.823363842,
                        "remaining_time": 4.363710766,
                        "test": [
                          0.2304494629
                        ]
                      },
                      {
                        "learn": [
                          0.2308890294
                        ],
                        "iteration": 467,
                        "passed_time": 3.830567707,
                        "remaining_time": 4.354406026,
                        "test": [
                          0.2304433441
                        ]
                      },
                      {
                        "learn": [
                          0.2308828495
                        ],
                        "iteration": 468,
                        "passed_time": 3.837638038,
                        "remaining_time": 4.344959057,
                        "test": [
                          0.230438858
                        ]
                      },
                      {
                        "learn": [
                          0.2308720766
                        ],
                        "iteration": 469,
                        "passed_time": 3.844834334,
                        "remaining_time": 4.335664249,
                        "test": [
                          0.2304255524
                        ]
                      },
                      {
                        "learn": [
                          0.2308658509
                        ],
                        "iteration": 470,
                        "passed_time": 3.851862347,
                        "remaining_time": 4.326189345,
                        "test": [
                          0.2304260559
                        ]
                      },
                      {
                        "learn": [
                          0.230861319
                        ],
                        "iteration": 471,
                        "passed_time": 3.85906039,
                        "remaining_time": 4.316915013,
                        "test": [
                          0.2304217377
                        ]
                      },
                      {
                        "learn": [
                          0.2308525145
                        ],
                        "iteration": 472,
                        "passed_time": 3.867127907,
                        "remaining_time": 4.308618197,
                        "test": [
                          0.230408844
                        ]
                      },
                      {
                        "learn": [
                          0.2308497374
                        ],
                        "iteration": 473,
                        "passed_time": 3.874503214,
                        "remaining_time": 4.299554199,
                        "test": [
                          0.2304066467
                        ]
                      },
                      {
                        "learn": [
                          0.2308439237
                        ],
                        "iteration": 474,
                        "passed_time": 3.881704923,
                        "remaining_time": 4.290305441,
                        "test": [
                          0.2304037781
                        ]
                      },
                      {
                        "learn": [
                          0.2308385068
                        ],
                        "iteration": 475,
                        "passed_time": 3.889098972,
                        "remaining_time": 4.28127702,
                        "test": [
                          0.2303969727
                        ]
                      },
                      {
                        "learn": [
                          0.2308354549
                        ],
                        "iteration": 476,
                        "passed_time": 3.896479008,
                        "remaining_time": 4.272240086,
                        "test": [
                          0.2303969421
                        ]
                      },
                      {
                        "learn": [
                          0.2308326015
                        ],
                        "iteration": 477,
                        "passed_time": 3.903708935,
                        "remaining_time": 4.263046159,
                        "test": [
                          0.2303962555
                        ]
                      },
                      {
                        "learn": [
                          0.2308293361
                        ],
                        "iteration": 478,
                        "passed_time": 3.911063314,
                        "remaining_time": 4.253995797,
                        "test": [
                          0.2303923035
                        ]
                      },
                      {
                        "learn": [
                          0.230817434
                        ],
                        "iteration": 479,
                        "passed_time": 3.91834361,
                        "remaining_time": 4.244872244,
                        "test": [
                          0.2303804626
                        ]
                      },
                      {
                        "learn": [
                          0.2308094841
                        ],
                        "iteration": 480,
                        "passed_time": 3.925755106,
                        "remaining_time": 4.235897921,
                        "test": [
                          0.2303712616
                        ]
                      },
                      {
                        "learn": [
                          0.230806417
                        ],
                        "iteration": 481,
                        "passed_time": 3.933311282,
                        "remaining_time": 4.227085569,
                        "test": [
                          0.2303702545
                        ]
                      },
                      {
                        "learn": [
                          0.2308006796
                        ],
                        "iteration": 482,
                        "passed_time": 3.940788921,
                        "remaining_time": 4.218194352,
                        "test": [
                          0.2303659363
                        ]
                      },
                      {
                        "learn": [
                          0.2307978872
                        ],
                        "iteration": 483,
                        "passed_time": 3.948084589,
                        "remaining_time": 4.209114975,
                        "test": [
                          0.2303640747
                        ]
                      },
                      {
                        "learn": [
                          0.2307907307
                        ],
                        "iteration": 484,
                        "passed_time": 3.955250087,
                        "remaining_time": 4.199904731,
                        "test": [
                          0.2303656464
                        ]
                      },
                      {
                        "learn": [
                          0.2307895711
                        ],
                        "iteration": 485,
                        "passed_time": 3.962255163,
                        "remaining_time": 4.190533238,
                        "test": [
                          0.2303655396
                        ]
                      },
                      {
                        "learn": [
                          0.2307851765
                        ],
                        "iteration": 486,
                        "passed_time": 3.969314947,
                        "remaining_time": 4.181229092,
                        "test": [
                          0.2303607483
                        ]
                      },
                      {
                        "learn": [
                          0.2307777606
                        ],
                        "iteration": 487,
                        "passed_time": 3.984305196,
                        "remaining_time": 4.180254632,
                        "test": [
                          0.230357666
                        ]
                      },
                      {
                        "learn": [
                          0.2307709398
                        ],
                        "iteration": 488,
                        "passed_time": 3.991229199,
                        "remaining_time": 4.170793703,
                        "test": [
                          0.230353653
                        ]
                      },
                      {
                        "learn": [
                          0.230768422
                        ],
                        "iteration": 489,
                        "passed_time": 3.99835514,
                        "remaining_time": 4.161553309,
                        "test": [
                          0.2303509216
                        ]
                      },
                      {
                        "learn": [
                          0.2307657517
                        ],
                        "iteration": 490,
                        "passed_time": 4.005455185,
                        "remaining_time": 4.152294683,
                        "test": [
                          0.2303462982
                        ]
                      },
                      {
                        "learn": [
                          0.2307625626
                        ],
                        "iteration": 491,
                        "passed_time": 4.021436268,
                        "remaining_time": 4.152214683,
                        "test": [
                          0.2303434448
                        ]
                      },
                      {
                        "learn": [
                          0.2307595108
                        ],
                        "iteration": 492,
                        "passed_time": 4.028554202,
                        "remaining_time": 4.142955335,
                        "test": [
                          0.2303375702
                        ]
                      },
                      {
                        "learn": [
                          0.2307545668
                        ],
                        "iteration": 493,
                        "passed_time": 4.035853545,
                        "remaining_time": 4.133890473,
                        "test": [
                          0.2303366699
                        ]
                      },
                      {
                        "learn": [
                          0.2307508894
                        ],
                        "iteration": 494,
                        "passed_time": 4.042950951,
                        "remaining_time": 4.124626728,
                        "test": [
                          0.2303314972
                        ]
                      },
                      {
                        "learn": [
                          0.2307474409
                        ],
                        "iteration": 495,
                        "passed_time": 4.049965905,
                        "remaining_time": 4.115287936,
                        "test": [
                          0.2303316498
                        ]
                      },
                      {
                        "learn": [
                          0.2307381939
                        ],
                        "iteration": 496,
                        "passed_time": 4.057099165,
                        "remaining_time": 4.106078229,
                        "test": [
                          0.2303197784
                        ]
                      },
                      {
                        "learn": [
                          0.2307332652
                        ],
                        "iteration": 497,
                        "passed_time": 4.064221161,
                        "remaining_time": 4.096865508,
                        "test": [
                          0.2303203278
                        ]
                      },
                      {
                        "learn": [
                          0.2307304118
                        ],
                        "iteration": 498,
                        "passed_time": 4.071371452,
                        "remaining_time": 4.087689574,
                        "test": [
                          0.2303208008
                        ]
                      },
                      {
                        "learn": [
                          0.2307265818
                        ],
                        "iteration": 499,
                        "passed_time": 4.078656571,
                        "remaining_time": 4.078656571,
                        "test": [
                          0.2303188934
                        ]
                      },
                      {
                        "learn": [
                          0.2307150307
                        ],
                        "iteration": 500,
                        "passed_time": 4.085763042,
                        "remaining_time": 4.069452611,
                        "test": [
                          0.2303175049
                        ]
                      },
                      {
                        "learn": [
                          0.2307117195
                        ],
                        "iteration": 501,
                        "passed_time": 4.092948431,
                        "remaining_time": 4.060335296,
                        "test": [
                          0.2303108368
                        ]
                      },
                      {
                        "learn": [
                          0.2307090644
                        ],
                        "iteration": 502,
                        "passed_time": 4.100135338,
                        "remaining_time": 4.051227163,
                        "test": [
                          0.2303118439
                        ]
                      },
                      {
                        "learn": [
                          0.2307047003
                        ],
                        "iteration": 503,
                        "passed_time": 4.107203063,
                        "remaining_time": 4.042009363,
                        "test": [
                          0.2303110809
                        ]
                      },
                      {
                        "learn": [
                          0.2307003057
                        ],
                        "iteration": 504,
                        "passed_time": 4.114516611,
                        "remaining_time": 4.033041035,
                        "test": [
                          0.23030867
                        ]
                      },
                      {
                        "learn": [
                          0.2306974828
                        ],
                        "iteration": 505,
                        "passed_time": 4.121643644,
                        "remaining_time": 4.023897154,
                        "test": [
                          0.2303071289
                        ]
                      },
                      {
                        "learn": [
                          0.2306941106
                        ],
                        "iteration": 506,
                        "passed_time": 4.128766465,
                        "remaining_time": 4.014757135,
                        "test": [
                          0.2303061523
                        ]
                      },
                      {
                        "learn": [
                          0.2306882969
                        ],
                        "iteration": 507,
                        "passed_time": 4.138112056,
                        "remaining_time": 4.007777818,
                        "test": [
                          0.2303049164
                        ]
                      },
                      {
                        "learn": [
                          0.2306827121
                        ],
                        "iteration": 508,
                        "passed_time": 4.146691232,
                        "remaining_time": 4.000049892,
                        "test": [
                          0.2303074646
                        ]
                      },
                      {
                        "learn": [
                          0.2306785006
                        ],
                        "iteration": 509,
                        "passed_time": 4.153789533,
                        "remaining_time": 3.990895826,
                        "test": [
                          0.2303061371
                        ]
                      },
                      {
                        "learn": [
                          0.2306723817
                        ],
                        "iteration": 510,
                        "passed_time": 4.160758988,
                        "remaining_time": 3.981626507,
                        "test": [
                          0.2303071594
                        ]
                      },
                      {
                        "learn": [
                          0.2306667969
                        ],
                        "iteration": 511,
                        "passed_time": 4.168207185,
                        "remaining_time": 3.972822473,
                        "test": [
                          0.2302990112
                        ]
                      },
                      {
                        "learn": [
                          0.2306633179
                        ],
                        "iteration": 512,
                        "passed_time": 4.181379155,
                        "remaining_time": 3.969457405,
                        "test": [
                          0.2302922668
                        ]
                      },
                      {
                        "learn": [
                          0.2306579619
                        ],
                        "iteration": 513,
                        "passed_time": 4.188657194,
                        "remaining_time": 3.960481316,
                        "test": [
                          0.2302879486
                        ]
                      },
                      {
                        "learn": [
                          0.2306549559
                        ],
                        "iteration": 514,
                        "passed_time": 4.195900952,
                        "remaining_time": 3.951479537,
                        "test": [
                          0.2302867432
                        ]
                      },
                      {
                        "learn": [
                          0.2306428402
                        ],
                        "iteration": 515,
                        "passed_time": 4.202899845,
                        "remaining_time": 3.942254893,
                        "test": [
                          0.2302782593
                        ]
                      },
                      {
                        "learn": [
                          0.2306372402
                        ],
                        "iteration": 516,
                        "passed_time": 4.210197023,
                        "remaining_time": 3.933317528,
                        "test": [
                          0.2302750244
                        ]
                      },
                      {
                        "learn": [
                          0.2306311823
                        ],
                        "iteration": 517,
                        "passed_time": 4.22118133,
                        "remaining_time": 3.927817376,
                        "test": [
                          0.230275116
                        ]
                      },
                      {
                        "learn": [
                          0.2306259027
                        ],
                        "iteration": 518,
                        "passed_time": 4.228540505,
                        "remaining_time": 3.918936384,
                        "test": [
                          0.230276062
                        ]
                      },
                      {
                        "learn": [
                          0.2306233545
                        ],
                        "iteration": 519,
                        "passed_time": 4.236180896,
                        "remaining_time": 3.910320828,
                        "test": [
                          0.2302703247
                        ]
                      },
                      {
                        "learn": [
                          0.2306125816
                        ],
                        "iteration": 520,
                        "passed_time": 4.243434815,
                        "remaining_time": 3.901353698,
                        "test": [
                          0.230258316
                        ]
                      },
                      {
                        "learn": [
                          0.2306062186
                        ],
                        "iteration": 521,
                        "passed_time": 4.250516694,
                        "remaining_time": 3.892235594,
                        "test": [
                          0.2302582092
                        ]
                      },
                      {
                        "learn": [
                          0.2306032431
                        ],
                        "iteration": 522,
                        "passed_time": 4.257619508,
                        "remaining_time": 3.88314437,
                        "test": [
                          0.2302588959
                        ]
                      },
                      {
                        "learn": [
                          0.2306023886
                        ],
                        "iteration": 523,
                        "passed_time": 4.264800837,
                        "remaining_time": 3.874132058,
                        "test": [
                          0.2302592316
                        ]
                      },
                      {
                        "learn": [
                          0.2305984517
                        ],
                        "iteration": 524,
                        "passed_time": 4.271887867,
                        "remaining_time": 3.865041403,
                        "test": [
                          0.2302603455
                        ]
                      },
                      {
                        "learn": [
                          0.230596758
                        ],
                        "iteration": 525,
                        "passed_time": 4.279023996,
                        "remaining_time": 3.856002612,
                        "test": [
                          0.2302607422
                        ]
                      },
                      {
                        "learn": [
                          0.2305901661
                        ],
                        "iteration": 526,
                        "passed_time": 4.286148974,
                        "remaining_time": 3.846961034,
                        "test": [
                          0.2302628479
                        ]
                      },
                      {
                        "learn": [
                          0.2305865955
                        ],
                        "iteration": 527,
                        "passed_time": 4.293208795,
                        "remaining_time": 3.837868469,
                        "test": [
                          0.2302608032
                        ]
                      },
                      {
                        "learn": [
                          0.2305847186
                        ],
                        "iteration": 528,
                        "passed_time": 4.300388335,
                        "remaining_time": 3.828890181,
                        "test": [
                          0.230262085
                        ]
                      },
                      {
                        "learn": [
                          0.2305783403
                        ],
                        "iteration": 529,
                        "passed_time": 4.307741672,
                        "remaining_time": 3.820072804,
                        "test": [
                          0.2302628937
                        ]
                      },
                      {
                        "learn": [
                          0.2305767534
                        ],
                        "iteration": 530,
                        "passed_time": 4.315093845,
                        "remaining_time": 3.811259912,
                        "test": [
                          0.2302615204
                        ]
                      },
                      {
                        "learn": [
                          0.2305659347
                        ],
                        "iteration": 531,
                        "passed_time": 4.3222419,
                        "remaining_time": 3.80227295,
                        "test": [
                          0.2302608337
                        ]
                      },
                      {
                        "learn": [
                          0.2305633407
                        ],
                        "iteration": 532,
                        "passed_time": 4.329170101,
                        "remaining_time": 3.793100258,
                        "test": [
                          0.2302639771
                        ]
                      },
                      {
                        "learn": [
                          0.2305569167
                        ],
                        "iteration": 533,
                        "passed_time": 4.336115844,
                        "remaining_time": 3.783951279,
                        "test": [
                          0.230259903
                        ]
                      },
                      {
                        "learn": [
                          0.230549043
                        ],
                        "iteration": 534,
                        "passed_time": 4.343130324,
                        "remaining_time": 3.774870282,
                        "test": [
                          0.2302515869
                        ]
                      },
                      {
                        "learn": [
                          0.2305439617
                        ],
                        "iteration": 535,
                        "passed_time": 4.350207337,
                        "remaining_time": 3.765851128,
                        "test": [
                          0.2302497711
                        ]
                      },
                      {
                        "learn": [
                          0.2305425579
                        ],
                        "iteration": 536,
                        "passed_time": 4.357438785,
                        "remaining_time": 3.75697236,
                        "test": [
                          0.2302485809
                        ]
                      },
                      {
                        "learn": [
                          0.2305392314
                        ],
                        "iteration": 537,
                        "passed_time": 4.364488447,
                        "remaining_time": 3.74794361,
                        "test": [
                          0.2302485504
                        ]
                      },
                      {
                        "learn": [
                          0.2305356151
                        ],
                        "iteration": 538,
                        "passed_time": 4.371697601,
                        "remaining_time": 3.739058616,
                        "test": [
                          0.2302475739
                        ]
                      },
                      {
                        "learn": [
                          0.2305322428
                        ],
                        "iteration": 539,
                        "passed_time": 4.382484183,
                        "remaining_time": 3.733227267,
                        "test": [
                          0.2302475891
                        ]
                      },
                      {
                        "learn": [
                          0.2305262613
                        ],
                        "iteration": 540,
                        "passed_time": 4.389626631,
                        "remaining_time": 3.724285811,
                        "test": [
                          0.230245285
                        ]
                      },
                      {
                        "learn": [
                          0.2305233621
                        ],
                        "iteration": 541,
                        "passed_time": 4.396786435,
                        "remaining_time": 3.715365659,
                        "test": [
                          0.2302432098
                        ]
                      },
                      {
                        "learn": [
                          0.2305207528
                        ],
                        "iteration": 542,
                        "passed_time": 4.403990385,
                        "remaining_time": 3.706489145,
                        "test": [
                          0.2302433777
                        ]
                      },
                      {
                        "learn": [
                          0.2305182655
                        ],
                        "iteration": 543,
                        "passed_time": 4.410986998,
                        "remaining_time": 3.697444983,
                        "test": [
                          0.2302407684
                        ]
                      },
                      {
                        "learn": [
                          0.2305150764
                        ],
                        "iteration": 544,
                        "passed_time": 4.418205029,
                        "remaining_time": 3.68859319,
                        "test": [
                          0.2302379608
                        ]
                      },
                      {
                        "learn": [
                          0.23051146
                        ],
                        "iteration": 545,
                        "passed_time": 4.425282117,
                        "remaining_time": 3.679630185,
                        "test": [
                          0.2302373352
                        ]
                      },
                      {
                        "learn": [
                          0.2305091559
                        ],
                        "iteration": 546,
                        "passed_time": 4.432419186,
                        "remaining_time": 3.67072375,
                        "test": [
                          0.2302335205
                        ]
                      },
                      {
                        "learn": [
                          0.2305058752
                        ],
                        "iteration": 547,
                        "passed_time": 4.439936901,
                        "remaining_time": 3.662137736,
                        "test": [
                          0.2302305145
                        ]
                      },
                      {
                        "learn": [
                          0.2305005498
                        ],
                        "iteration": 548,
                        "passed_time": 4.44709678,
                        "remaining_time": 3.653261654,
                        "test": [
                          0.2302242584
                        ]
                      },
                      {
                        "learn": [
                          0.2304979558
                        ],
                        "iteration": 549,
                        "passed_time": 4.454447985,
                        "remaining_time": 3.644548352,
                        "test": [
                          0.2302246094
                        ]
                      },
                      {
                        "learn": [
                          0.2304822695
                        ],
                        "iteration": 550,
                        "passed_time": 4.461687392,
                        "remaining_time": 3.635748891,
                        "test": [
                          0.2302202911
                        ]
                      },
                      {
                        "learn": [
                          0.2304793245
                        ],
                        "iteration": 551,
                        "passed_time": 4.468819871,
                        "remaining_time": 3.626868301,
                        "test": [
                          0.2302221069
                        ]
                      },
                      {
                        "learn": [
                          0.2304757386
                        ],
                        "iteration": 552,
                        "passed_time": 4.476130316,
                        "remaining_time": 3.618137887,
                        "test": [
                          0.2302250366
                        ]
                      },
                      {
                        "learn": [
                          0.2304715271
                        ],
                        "iteration": 553,
                        "passed_time": 4.483239452,
                        "remaining_time": 3.609250534,
                        "test": [
                          0.2302257538
                        ]
                      },
                      {
                        "learn": [
                          0.2304605101
                        ],
                        "iteration": 554,
                        "passed_time": 4.490241572,
                        "remaining_time": 3.600283783,
                        "test": [
                          0.2302182312
                        ]
                      },
                      {
                        "learn": [
                          0.2304574431
                        ],
                        "iteration": 555,
                        "passed_time": 4.497386299,
                        "remaining_time": 3.59143798,
                        "test": [
                          0.2302191772
                        ]
                      },
                      {
                        "learn": [
                          0.2304537351
                        ],
                        "iteration": 556,
                        "passed_time": 4.504659245,
                        "remaining_time": 3.582700261,
                        "test": [
                          0.2302207031
                        ]
                      },
                      {
                        "learn": [
                          0.2304501798
                        ],
                        "iteration": 557,
                        "passed_time": 4.511925018,
                        "remaining_time": 3.573962111,
                        "test": [
                          0.2302211609
                        ]
                      },
                      {
                        "learn": [
                          0.2304479977
                        ],
                        "iteration": 558,
                        "passed_time": 4.519315677,
                        "remaining_time": 3.565327752,
                        "test": [
                          0.2302247772
                        ]
                      },
                      {
                        "learn": [
                          0.2304454037
                        ],
                        "iteration": 559,
                        "passed_time": 4.526560658,
                        "remaining_time": 3.556583374,
                        "test": [
                          0.2302251434
                        ]
                      },
                      {
                        "learn": [
                          0.2304420009
                        ],
                        "iteration": 560,
                        "passed_time": 4.533776214,
                        "remaining_time": 3.547821315,
                        "test": [
                          0.2302234192
                        ]
                      },
                      {
                        "learn": [
                          0.2304405361
                        ],
                        "iteration": 561,
                        "passed_time": 4.541005862,
                        "remaining_time": 3.539075743,
                        "test": [
                          0.2302237549
                        ]
                      },
                      {
                        "learn": [
                          0.2304359583
                        ],
                        "iteration": 562,
                        "passed_time": 4.548441226,
                        "remaining_time": 3.530495232,
                        "test": [
                          0.2302205353
                        ]
                      },
                      {
                        "learn": [
                          0.2304323572
                        ],
                        "iteration": 563,
                        "passed_time": 4.555514918,
                        "remaining_time": 3.521639192,
                        "test": [
                          0.230216629
                        ]
                      },
                      {
                        "learn": [
                          0.2304306177
                        ],
                        "iteration": 564,
                        "passed_time": 4.567964205,
                        "remaining_time": 3.516928193,
                        "test": [
                          0.2302150116
                        ]
                      },
                      {
                        "learn": [
                          0.2304291376
                        ],
                        "iteration": 565,
                        "passed_time": 4.57511961,
                        "remaining_time": 3.508130584,
                        "test": [
                          0.2302159729
                        ]
                      },
                      {
                        "learn": [
                          0.2304274133
                        ],
                        "iteration": 566,
                        "passed_time": 4.582183024,
                        "remaining_time": 3.499268518,
                        "test": [
                          0.2302127686
                        ]
                      },
                      {
                        "learn": [
                          0.2304260095
                        ],
                        "iteration": 567,
                        "passed_time": 4.589472655,
                        "remaining_time": 3.490584837,
                        "test": [
                          0.2302129517
                        ]
                      },
                      {
                        "learn": [
                          0.2304230492
                        ],
                        "iteration": 568,
                        "passed_time": 4.596812561,
                        "remaining_time": 3.481944137,
                        "test": [
                          0.230210434
                        ]
                      },
                      {
                        "learn": [
                          0.2304210655
                        ],
                        "iteration": 569,
                        "passed_time": 4.604123179,
                        "remaining_time": 3.473285907,
                        "test": [
                          0.230206192
                        ]
                      },
                      {
                        "learn": [
                          0.2304190513
                        ],
                        "iteration": 570,
                        "passed_time": 4.611289481,
                        "remaining_time": 3.464523971,
                        "test": [
                          0.2302063751
                        ]
                      },
                      {
                        "learn": [
                          0.2304123526
                        ],
                        "iteration": 571,
                        "passed_time": 4.618375892,
                        "remaining_time": 3.455707835,
                        "test": [
                          0.2302039795
                        ]
                      },
                      {
                        "learn": [
                          0.2304096976
                        ],
                        "iteration": 572,
                        "passed_time": 4.625669487,
                        "remaining_time": 3.44705213,
                        "test": [
                          0.2301993713
                        ]
                      },
                      {
                        "learn": [
                          0.230408309
                        ],
                        "iteration": 573,
                        "passed_time": 4.633071033,
                        "remaining_time": 3.438481289,
                        "test": [
                          0.2302002869
                        ]
                      },
                      {
                        "learn": [
                          0.2304040975
                        ],
                        "iteration": 574,
                        "passed_time": 4.640728911,
                        "remaining_time": 3.430103978,
                        "test": [
                          0.230196701
                        ]
                      },
                      {
                        "learn": [
                          0.2303999318
                        ],
                        "iteration": 575,
                        "passed_time": 4.64820039,
                        "remaining_time": 3.421591954,
                        "test": [
                          0.2301887665
                        ]
                      },
                      {
                        "learn": [
                          0.2303963001
                        ],
                        "iteration": 576,
                        "passed_time": 4.655556454,
                        "remaining_time": 3.412998925,
                        "test": [
                          0.2301903534
                        ]
                      },
                      {
                        "learn": [
                          0.2303954151
                        ],
                        "iteration": 577,
                        "passed_time": 4.663182127,
                        "remaining_time": 3.40460702,
                        "test": [
                          0.2301898041
                        ]
                      },
                      {
                        "learn": [
                          0.2303900439
                        ],
                        "iteration": 578,
                        "passed_time": 4.670436517,
                        "remaining_time": 3.395947795,
                        "test": [
                          0.23019487
                        ]
                      },
                      {
                        "learn": [
                          0.2303876635
                        ],
                        "iteration": 579,
                        "passed_time": 4.677657093,
                        "remaining_time": 3.387268929,
                        "test": [
                          0.2301975861
                        ]
                      },
                      {
                        "learn": [
                          0.2303841082
                        ],
                        "iteration": 580,
                        "passed_time": 4.684988165,
                        "remaining_time": 3.378674769,
                        "test": [
                          0.2301966858
                        ]
                      },
                      {
                        "learn": [
                          0.2303807512
                        ],
                        "iteration": 581,
                        "passed_time": 4.695966084,
                        "remaining_time": 3.372704164,
                        "test": [
                          0.2301979218
                        ]
                      },
                      {
                        "learn": [
                          0.2303730759
                        ],
                        "iteration": 582,
                        "passed_time": 4.704649875,
                        "remaining_time": 3.365075468,
                        "test": [
                          0.2301899109
                        ]
                      },
                      {
                        "learn": [
                          0.230370375
                        ],
                        "iteration": 583,
                        "passed_time": 4.71183163,
                        "remaining_time": 3.356373216,
                        "test": [
                          0.2301910706
                        ]
                      },
                      {
                        "learn": [
                          0.2303681472
                        ],
                        "iteration": 584,
                        "passed_time": 4.71895315,
                        "remaining_time": 3.347633431,
                        "test": [
                          0.230191803
                        ]
                      },
                      {
                        "learn": [
                          0.2303666976
                        ],
                        "iteration": 585,
                        "passed_time": 4.740811436,
                        "remaining_time": 3.349310469,
                        "test": [
                          0.2301909943
                        ]
                      },
                      {
                        "learn": [
                          0.2303653091
                        ],
                        "iteration": 586,
                        "passed_time": 4.754560291,
                        "remaining_time": 3.345201704,
                        "test": [
                          0.2301883545
                        ]
                      },
                      {
                        "learn": [
                          0.2303637069
                        ],
                        "iteration": 587,
                        "passed_time": 4.762544958,
                        "remaining_time": 3.337021297,
                        "test": [
                          0.2301858978
                        ]
                      },
                      {
                        "learn": [
                          0.230362303
                        ],
                        "iteration": 588,
                        "passed_time": 4.770074187,
                        "remaining_time": 3.328523754,
                        "test": [
                          0.2301830292
                        ]
                      },
                      {
                        "learn": [
                          0.2303613112
                        ],
                        "iteration": 589,
                        "passed_time": 4.77764196,
                        "remaining_time": 3.320056277,
                        "test": [
                          0.2301820221
                        ]
                      },
                      {
                        "learn": [
                          0.2303594038
                        ],
                        "iteration": 590,
                        "passed_time": 4.807060262,
                        "remaining_time": 3.326713447,
                        "test": [
                          0.2301831207
                        ]
                      },
                      {
                        "learn": [
                          0.2303564588
                        ],
                        "iteration": 591,
                        "passed_time": 4.816681791,
                        "remaining_time": 3.319605018,
                        "test": [
                          0.2301797791
                        ]
                      },
                      {
                        "learn": [
                          0.2303543988
                        ],
                        "iteration": 592,
                        "passed_time": 4.823863246,
                        "remaining_time": 3.310813391,
                        "test": [
                          0.2301780853
                        ]
                      },
                      {
                        "learn": [
                          0.2303457317
                        ],
                        "iteration": 593,
                        "passed_time": 4.830952291,
                        "remaining_time": 3.301964024,
                        "test": [
                          0.2301760406
                        ]
                      },
                      {
                        "learn": [
                          0.2303349283
                        ],
                        "iteration": 594,
                        "passed_time": 4.838059626,
                        "remaining_time": 3.293133023,
                        "test": [
                          0.2301640472
                        ]
                      },
                      {
                        "learn": [
                          0.2303213936
                        ],
                        "iteration": 595,
                        "passed_time": 4.845315085,
                        "remaining_time": 3.284408212,
                        "test": [
                          0.2301652374
                        ]
                      },
                      {
                        "learn": [
                          0.230320478
                        ],
                        "iteration": 596,
                        "passed_time": 4.853049934,
                        "remaining_time": 3.276011932,
                        "test": [
                          0.2301634216
                        ]
                      },
                      {
                        "learn": [
                          0.2303186012
                        ],
                        "iteration": 597,
                        "passed_time": 4.860428765,
                        "remaining_time": 3.267378534,
                        "test": [
                          0.2301618805
                        ]
                      },
                      {
                        "learn": [
                          0.2303172889
                        ],
                        "iteration": 598,
                        "passed_time": 4.867940569,
                        "remaining_time": 3.258838344,
                        "test": [
                          0.2301604309
                        ]
                      },
                      {
                        "learn": [
                          0.2303129858
                        ],
                        "iteration": 599,
                        "passed_time": 4.875449802,
                        "remaining_time": 3.250299868,
                        "test": [
                          0.2301606293
                        ]
                      },
                      {
                        "learn": [
                          0.2303088659
                        ],
                        "iteration": 600,
                        "passed_time": 4.882441158,
                        "remaining_time": 3.241421002,
                        "test": [
                          0.2301572266
                        ]
                      },
                      {
                        "learn": [
                          0.2303035863
                        ],
                        "iteration": 601,
                        "passed_time": 4.889766799,
                        "remaining_time": 3.232769412,
                        "test": [
                          0.230155365
                        ]
                      },
                      {
                        "learn": [
                          0.2302995121
                        ],
                        "iteration": 602,
                        "passed_time": 4.896824659,
                        "remaining_time": 3.22394592,
                        "test": [
                          0.2301563873
                        ]
                      },
                      {
                        "learn": [
                          0.2302958805
                        ],
                        "iteration": 603,
                        "passed_time": 4.903900329,
                        "remaining_time": 3.215139951,
                        "test": [
                          0.2301538239
                        ]
                      },
                      {
                        "learn": [
                          0.2302947361
                        ],
                        "iteration": 604,
                        "passed_time": 4.911089509,
                        "remaining_time": 3.206413812,
                        "test": [
                          0.2301525269
                        ]
                      },
                      {
                        "learn": [
                          0.2302808961
                        ],
                        "iteration": 605,
                        "passed_time": 4.918372398,
                        "remaining_time": 3.197753671,
                        "test": [
                          0.2301516418
                        ]
                      },
                      {
                        "learn": [
                          0.2302775086
                        ],
                        "iteration": 606,
                        "passed_time": 4.925793309,
                        "remaining_time": 3.189187431,
                        "test": [
                          0.230148407
                        ]
                      },
                      {
                        "learn": [
                          0.2302669036
                        ],
                        "iteration": 607,
                        "passed_time": 4.93332197,
                        "remaining_time": 3.180694428,
                        "test": [
                          0.2301434174
                        ]
                      },
                      {
                        "learn": [
                          0.2302664763
                        ],
                        "iteration": 608,
                        "passed_time": 4.945647414,
                        "remaining_time": 3.175284301,
                        "test": [
                          0.2301433868
                        ]
                      },
                      {
                        "learn": [
                          0.2302625853
                        ],
                        "iteration": 609,
                        "passed_time": 4.952901912,
                        "remaining_time": 3.166609419,
                        "test": [
                          0.2301417389
                        ]
                      },
                      {
                        "learn": [
                          0.2302591062
                        ],
                        "iteration": 610,
                        "passed_time": 4.960111643,
                        "remaining_time": 3.157910686,
                        "test": [
                          0.2301424103
                        ]
                      },
                      {
                        "learn": [
                          0.2302456325
                        ],
                        "iteration": 611,
                        "passed_time": 4.967312361,
                        "remaining_time": 3.149211105,
                        "test": [
                          0.2301421509
                        ]
                      },
                      {
                        "learn": [
                          0.2302338525
                        ],
                        "iteration": 612,
                        "passed_time": 4.974302829,
                        "remaining_time": 3.140383678,
                        "test": [
                          0.2301435699
                        ]
                      },
                      {
                        "learn": [
                          0.230224514
                        ],
                        "iteration": 613,
                        "passed_time": 4.981367184,
                        "remaining_time": 3.131608686,
                        "test": [
                          0.2301342926
                        ]
                      },
                      {
                        "learn": [
                          0.2302229423
                        ],
                        "iteration": 614,
                        "passed_time": 4.988458259,
                        "remaining_time": 3.122855983,
                        "test": [
                          0.2301325226
                        ]
                      },
                      {
                        "learn": [
                          0.2302212944
                        ],
                        "iteration": 615,
                        "passed_time": 4.995583744,
                        "remaining_time": 3.114130126,
                        "test": [
                          0.2301296692
                        ]
                      },
                      {
                        "learn": [
                          0.2302193259
                        ],
                        "iteration": 616,
                        "passed_time": 5.002591423,
                        "remaining_time": 3.105336329,
                        "test": [
                          0.2301294403
                        ]
                      },
                      {
                        "learn": [
                          0.2302164725
                        ],
                        "iteration": 617,
                        "passed_time": 5.009773017,
                        "remaining_time": 3.096655813,
                        "test": [
                          0.2301283722
                        ]
                      },
                      {
                        "learn": [
                          0.2302091024
                        ],
                        "iteration": 618,
                        "passed_time": 5.016983729,
                        "remaining_time": 3.087998062,
                        "test": [
                          0.230128006
                        ]
                      },
                      {
                        "learn": [
                          0.2302066762
                        ],
                        "iteration": 619,
                        "passed_time": 5.024076756,
                        "remaining_time": 3.07927285,
                        "test": [
                          0.2301285706
                        ]
                      },
                      {
                        "learn": [
                          0.2302050282
                        ],
                        "iteration": 620,
                        "passed_time": 5.031108787,
                        "remaining_time": 3.070515669,
                        "test": [
                          0.2301277618
                        ]
                      },
                      {
                        "learn": [
                          0.2301923175
                        ],
                        "iteration": 621,
                        "passed_time": 5.038190402,
                        "remaining_time": 3.061794167,
                        "test": [
                          0.2301230774
                        ]
                      },
                      {
                        "learn": [
                          0.2301868395
                        ],
                        "iteration": 622,
                        "passed_time": 5.045293361,
                        "remaining_time": 3.053090846,
                        "test": [
                          0.2301249084
                        ]
                      },
                      {
                        "learn": [
                          0.2301855577
                        ],
                        "iteration": 623,
                        "passed_time": 5.052358523,
                        "remaining_time": 3.044369879,
                        "test": [
                          0.2301254425
                        ]
                      },
                      {
                        "learn": [
                          0.2301821855
                        ],
                        "iteration": 624,
                        "passed_time": 5.059674507,
                        "remaining_time": 3.035804704,
                        "test": [
                          0.2301247864
                        ]
                      },
                      {
                        "learn": [
                          0.2301752579
                        ],
                        "iteration": 625,
                        "passed_time": 5.068005701,
                        "remaining_time": 3.027850051,
                        "test": [
                          0.2301242523
                        ]
                      },
                      {
                        "learn": [
                          0.2301736099
                        ],
                        "iteration": 626,
                        "passed_time": 5.074953797,
                        "remaining_time": 3.019071398,
                        "test": [
                          0.2301224823
                        ]
                      },
                      {
                        "learn": [
                          0.2301710769
                        ],
                        "iteration": 627,
                        "passed_time": 5.082016562,
                        "remaining_time": 3.010366499,
                        "test": [
                          0.2301203461
                        ]
                      },
                      {
                        "learn": [
                          0.2301693984
                        ],
                        "iteration": 628,
                        "passed_time": 5.089054337,
                        "remaining_time": 3.001652081,
                        "test": [
                          0.2301173401
                        ]
                      },
                      {
                        "learn": [
                          0.2301645003
                        ],
                        "iteration": 629,
                        "passed_time": 5.102916597,
                        "remaining_time": 2.996951017,
                        "test": [
                          0.2301149597
                        ]
                      },
                      {
                        "learn": [
                          0.2301637526
                        ],
                        "iteration": 630,
                        "passed_time": 5.110082173,
                        "remaining_time": 2.988304789,
                        "test": [
                          0.23011409
                        ]
                      },
                      {
                        "learn": [
                          0.2301626386
                        ],
                        "iteration": 631,
                        "passed_time": 5.117148669,
                        "remaining_time": 2.979605554,
                        "test": [
                          0.2301154785
                        ]
                      },
                      {
                        "learn": [
                          0.2301618452
                        ],
                        "iteration": 632,
                        "passed_time": 5.124487091,
                        "remaining_time": 2.971069135,
                        "test": [
                          0.23011203
                        ]
                      },
                      {
                        "learn": [
                          0.2301597394
                        ],
                        "iteration": 633,
                        "passed_time": 5.131757482,
                        "remaining_time": 2.962497221,
                        "test": [
                          0.2301098328
                        ]
                      },
                      {
                        "learn": [
                          0.2301561383
                        ],
                        "iteration": 634,
                        "passed_time": 5.143937249,
                        "remaining_time": 2.956751332,
                        "test": [
                          0.2301029053
                        ]
                      },
                      {
                        "learn": [
                          0.2301528881
                        ],
                        "iteration": 635,
                        "passed_time": 5.15143797,
                        "remaining_time": 2.948307266,
                        "test": [
                          0.2300994873
                        ]
                      },
                      {
                        "learn": [
                          0.230144984
                        ],
                        "iteration": 636,
                        "passed_time": 5.159076731,
                        "remaining_time": 2.939944825,
                        "test": [
                          0.2300921326
                        ]
                      },
                      {
                        "learn": [
                          0.2301437175
                        ],
                        "iteration": 637,
                        "passed_time": 5.16617823,
                        "remaining_time": 2.931279811,
                        "test": [
                          0.2300902557
                        ]
                      },
                      {
                        "learn": [
                          0.2301419932
                        ],
                        "iteration": 638,
                        "passed_time": 5.173167654,
                        "remaining_time": 2.922556374,
                        "test": [
                          0.230091568
                        ]
                      },
                      {
                        "learn": [
                          0.2301406657
                        ],
                        "iteration": 639,
                        "passed_time": 5.180349602,
                        "remaining_time": 2.913946651,
                        "test": [
                          0.2300900116
                        ]
                      },
                      {
                        "learn": [
                          0.2301381327
                        ],
                        "iteration": 640,
                        "passed_time": 5.18740141,
                        "remaining_time": 2.905268497,
                        "test": [
                          0.2300888824
                        ]
                      },
                      {
                        "learn": [
                          0.2301368967
                        ],
                        "iteration": 641,
                        "passed_time": 5.194417707,
                        "remaining_time": 2.896575606,
                        "test": [
                          0.2300882263
                        ]
                      },
                      {
                        "learn": [
                          0.2301351266
                        ],
                        "iteration": 642,
                        "passed_time": 5.201600344,
                        "remaining_time": 2.887980284,
                        "test": [
                          0.2300884094
                        ]
                      },
                      {
                        "learn": [
                          0.2301329904
                        ],
                        "iteration": 643,
                        "passed_time": 5.208698532,
                        "remaining_time": 2.879342667,
                        "test": [
                          0.2300904846
                        ]
                      },
                      {
                        "learn": [
                          0.2301290383
                        ],
                        "iteration": 644,
                        "passed_time": 5.215816518,
                        "remaining_time": 2.870720719,
                        "test": [
                          0.2300895386
                        ]
                      },
                      {
                        "learn": [
                          0.2301275887
                        ],
                        "iteration": 645,
                        "passed_time": 5.223113166,
                        "remaining_time": 2.862201332,
                        "test": [
                          0.2300889893
                        ]
                      },
                      {
                        "learn": [
                          0.2301252846
                        ],
                        "iteration": 646,
                        "passed_time": 5.230229812,
                        "remaining_time": 2.853587517,
                        "test": [
                          0.2300868835
                        ]
                      },
                      {
                        "learn": [
                          0.2301224464
                        ],
                        "iteration": 647,
                        "passed_time": 5.241384201,
                        "remaining_time": 2.847171664,
                        "test": [
                          0.2300848694
                        ]
                      },
                      {
                        "learn": [
                          0.2301210273
                        ],
                        "iteration": 648,
                        "passed_time": 5.248413735,
                        "remaining_time": 2.838510356,
                        "test": [
                          0.2300869904
                        ]
                      },
                      {
                        "learn": [
                          0.2301111547
                        ],
                        "iteration": 649,
                        "passed_time": 5.255663689,
                        "remaining_time": 2.829972755,
                        "test": [
                          0.2300895233
                        ]
                      },
                      {
                        "learn": [
                          0.2301077977
                        ],
                        "iteration": 650,
                        "passed_time": 5.2628493,
                        "remaining_time": 2.821404617,
                        "test": [
                          0.230088974
                        ]
                      },
                      {
                        "learn": [
                          0.2301064854
                        ],
                        "iteration": 651,
                        "passed_time": 5.269842272,
                        "remaining_time": 2.8127379,
                        "test": [
                          0.2300890045
                        ]
                      },
                      {
                        "learn": [
                          0.2301028233
                        ],
                        "iteration": 652,
                        "passed_time": 5.276991363,
                        "remaining_time": 2.80415927,
                        "test": [
                          0.2300857849
                        ]
                      },
                      {
                        "learn": [
                          0.2301015415
                        ],
                        "iteration": 653,
                        "passed_time": 5.284074632,
                        "remaining_time": 2.795550188,
                        "test": [
                          0.2300863495
                        ]
                      },
                      {
                        "learn": [
                          0.2300949038
                        ],
                        "iteration": 654,
                        "passed_time": 5.291113995,
                        "remaining_time": 2.786922639,
                        "test": [
                          0.2300885925
                        ]
                      },
                      {
                        "learn": [
                          0.2300908754
                        ],
                        "iteration": 655,
                        "passed_time": 5.298257728,
                        "remaining_time": 2.778354662,
                        "test": [
                          0.2300847626
                        ]
                      },
                      {
                        "learn": [
                          0.2300896089
                        ],
                        "iteration": 656,
                        "passed_time": 5.30533274,
                        "remaining_time": 2.769755145,
                        "test": [
                          0.2300853729
                        ]
                      },
                      {
                        "learn": [
                          0.2300888002
                        ],
                        "iteration": 657,
                        "passed_time": 5.312422979,
                        "remaining_time": 2.761168175,
                        "test": [
                          0.2300852509
                        ]
                      },
                      {
                        "learn": [
                          0.2300868776
                        ],
                        "iteration": 658,
                        "passed_time": 5.319559728,
                        "remaining_time": 2.752609814,
                        "test": [
                          0.2300849762
                        ]
                      },
                      {
                        "learn": [
                          0.2300852754
                        ],
                        "iteration": 659,
                        "passed_time": 5.326671231,
                        "remaining_time": 2.744042755,
                        "test": [
                          0.230085144
                        ]
                      },
                      {
                        "learn": [
                          0.2300832764
                        ],
                        "iteration": 660,
                        "passed_time": 5.334049799,
                        "remaining_time": 2.735617068,
                        "test": [
                          0.2300827179
                        ]
                      },
                      {
                        "learn": [
                          0.2300810486
                        ],
                        "iteration": 661,
                        "passed_time": 5.348226098,
                        "remaining_time": 2.730665289,
                        "test": [
                          0.2300827942
                        ]
                      },
                      {
                        "learn": [
                          0.2300771118
                        ],
                        "iteration": 662,
                        "passed_time": 5.355299676,
                        "remaining_time": 2.722075401,
                        "test": [
                          0.2300789032
                        ]
                      },
                      {
                        "learn": [
                          0.2300737396
                        ],
                        "iteration": 663,
                        "passed_time": 5.362114075,
                        "remaining_time": 2.713358929,
                        "test": [
                          0.2300782471
                        ]
                      },
                      {
                        "learn": [
                          0.2300719085
                        ],
                        "iteration": 664,
                        "passed_time": 5.3691969,
                        "remaining_time": 2.704783401,
                        "test": [
                          0.2300794067
                        ]
                      },
                      {
                        "learn": [
                          0.2300704741
                        ],
                        "iteration": 665,
                        "passed_time": 5.376183684,
                        "remaining_time": 2.69616419,
                        "test": [
                          0.230076355
                        ]
                      },
                      {
                        "learn": [
                          0.2300688567
                        ],
                        "iteration": 666,
                        "passed_time": 5.383402103,
                        "remaining_time": 2.687665518,
                        "test": [
                          0.2300756531
                        ]
                      },
                      {
                        "learn": [
                          0.2300650267
                        ],
                        "iteration": 667,
                        "passed_time": 5.390451846,
                        "remaining_time": 2.679086846,
                        "test": [
                          0.230075119
                        ]
                      },
                      {
                        "learn": [
                          0.2300620206
                        ],
                        "iteration": 668,
                        "passed_time": 5.397644155,
                        "remaining_time": 2.670583281,
                        "test": [
                          0.2300744019
                        ]
                      },
                      {
                        "learn": [
                          0.230059213
                        ],
                        "iteration": 669,
                        "passed_time": 5.404849796,
                        "remaining_time": 2.662090198,
                        "test": [
                          0.230072937
                        ]
                      },
                      {
                        "learn": [
                          0.2300538418
                        ],
                        "iteration": 670,
                        "passed_time": 5.412008999,
                        "remaining_time": 2.653578183,
                        "test": [
                          0.230066452
                        ]
                      },
                      {
                        "learn": [
                          0.2300523464
                        ],
                        "iteration": 671,
                        "passed_time": 5.419061248,
                        "remaining_time": 2.64501799,
                        "test": [
                          0.2300647888
                        ]
                      },
                      {
                        "learn": [
                          0.2300512935
                        ],
                        "iteration": 672,
                        "passed_time": 5.426206819,
                        "remaining_time": 2.636507622,
                        "test": [
                          0.2300622253
                        ]
                      },
                      {
                        "learn": [
                          0.2300496456
                        ],
                        "iteration": 673,
                        "passed_time": 5.433311106,
                        "remaining_time": 2.627981336,
                        "test": [
                          0.2300641785
                        ]
                      },
                      {
                        "learn": [
                          0.2300424433
                        ],
                        "iteration": 674,
                        "passed_time": 5.440659032,
                        "remaining_time": 2.619576571,
                        "test": [
                          0.2300548096
                        ]
                      },
                      {
                        "learn": [
                          0.2300403986
                        ],
                        "iteration": 675,
                        "passed_time": 5.447982558,
                        "remaining_time": 2.611163238,
                        "test": [
                          0.2300528412
                        ]
                      },
                      {
                        "learn": [
                          0.2300359887
                        ],
                        "iteration": 676,
                        "passed_time": 5.455066894,
                        "remaining_time": 2.602639006,
                        "test": [
                          0.2300531311
                        ]
                      },
                      {
                        "learn": [
                          0.230034707
                        ],
                        "iteration": 677,
                        "passed_time": 5.462001068,
                        "remaining_time": 2.594047705,
                        "test": [
                          0.2300516968
                        ]
                      },
                      {
                        "learn": [
                          0.2300309685
                        ],
                        "iteration": 678,
                        "passed_time": 5.469172297,
                        "remaining_time": 2.585573354,
                        "test": [
                          0.2300518799
                        ]
                      },
                      {
                        "learn": [
                          0.2300295647
                        ],
                        "iteration": 679,
                        "passed_time": 5.47595496,
                        "remaining_time": 2.576919981,
                        "test": [
                          0.2300520477
                        ]
                      },
                      {
                        "learn": [
                          0.2300281456
                        ],
                        "iteration": 680,
                        "passed_time": 5.483115009,
                        "remaining_time": 2.568448881,
                        "test": [
                          0.2300532074
                        ]
                      },
                      {
                        "learn": [
                          0.2300268486
                        ],
                        "iteration": 681,
                        "passed_time": 5.490329146,
                        "remaining_time": 2.560006845,
                        "test": [
                          0.2300520782
                        ]
                      },
                      {
                        "learn": [
                          0.2300210349
                        ],
                        "iteration": 682,
                        "passed_time": 5.497336442,
                        "remaining_time": 2.551472404,
                        "test": [
                          0.2300520325
                        ]
                      },
                      {
                        "learn": [
                          0.2300181967
                        ],
                        "iteration": 683,
                        "passed_time": 5.504340987,
                        "remaining_time": 2.542941158,
                        "test": [
                          0.230050705
                        ]
                      },
                      {
                        "learn": [
                          0.2300164419
                        ],
                        "iteration": 684,
                        "passed_time": 5.511535641,
                        "remaining_time": 2.534501791,
                        "test": [
                          0.2300497437
                        ]
                      },
                      {
                        "learn": [
                          0.2300143667
                        ],
                        "iteration": 685,
                        "passed_time": 5.51875971,
                        "remaining_time": 2.526079517,
                        "test": [
                          0.2300483398
                        ]
                      },
                      {
                        "learn": [
                          0.2300130391
                        ],
                        "iteration": 686,
                        "passed_time": 5.538280939,
                        "remaining_time": 2.523263368,
                        "test": [
                          0.2300474548
                        ]
                      },
                      {
                        "learn": [
                          0.2300122304
                        ],
                        "iteration": 687,
                        "passed_time": 5.545296555,
                        "remaining_time": 2.514727508,
                        "test": [
                          0.2300463409
                        ]
                      },
                      {
                        "learn": [
                          0.2300114369
                        ],
                        "iteration": 688,
                        "passed_time": 5.55238962,
                        "remaining_time": 2.506231019,
                        "test": [
                          0.2300450897
                        ]
                      },
                      {
                        "learn": [
                          0.2300098958
                        ],
                        "iteration": 689,
                        "passed_time": 5.559450851,
                        "remaining_time": 2.497724295,
                        "test": [
                          0.2300421143
                        ]
                      },
                      {
                        "learn": [
                          0.2300062031
                        ],
                        "iteration": 690,
                        "passed_time": 5.566734389,
                        "remaining_time": 2.489321167,
                        "test": [
                          0.23003862
                        ]
                      },
                      {
                        "learn": [
                          0.2300049824
                        ],
                        "iteration": 691,
                        "passed_time": 5.573748277,
                        "remaining_time": 2.480801256,
                        "test": [
                          0.2300406494
                        ]
                      },
                      {
                        "learn": [
                          0.2300014881
                        ],
                        "iteration": 692,
                        "passed_time": 5.580597978,
                        "remaining_time": 2.472212957,
                        "test": [
                          0.2300399628
                        ]
                      },
                      {
                        "learn": [
                          0.2299989551
                        ],
                        "iteration": 693,
                        "passed_time": 5.587531258,
                        "remaining_time": 2.46366652,
                        "test": [
                          0.2300391998
                        ]
                      },
                      {
                        "learn": [
                          0.2299979632
                        ],
                        "iteration": 694,
                        "passed_time": 5.594500068,
                        "remaining_time": 2.455140318,
                        "test": [
                          0.2300380249
                        ]
                      },
                      {
                        "learn": [
                          0.229993004
                        ],
                        "iteration": 695,
                        "passed_time": 5.601752562,
                        "remaining_time": 2.446742499,
                        "test": [
                          0.2300370941
                        ]
                      },
                      {
                        "learn": [
                          0.2299908678
                        ],
                        "iteration": 696,
                        "passed_time": 5.608894524,
                        "remaining_time": 2.438299915,
                        "test": [
                          0.2300410767
                        ]
                      },
                      {
                        "learn": [
                          0.2299880449
                        ],
                        "iteration": 697,
                        "passed_time": 5.615911918,
                        "remaining_time": 2.429807162,
                        "test": [
                          0.2300386658
                        ]
                      },
                      {
                        "learn": [
                          0.2299873582
                        ],
                        "iteration": 698,
                        "passed_time": 5.623023611,
                        "remaining_time": 2.421359238,
                        "test": [
                          0.2300385132
                        ]
                      },
                      {
                        "learn": [
                          0.2299860001
                        ],
                        "iteration": 699,
                        "passed_time": 5.630241277,
                        "remaining_time": 2.412960547,
                        "test": [
                          0.2300381317
                        ]
                      },
                      {
                        "learn": [
                          0.2299842759
                        ],
                        "iteration": 700,
                        "passed_time": 5.637385455,
                        "remaining_time": 2.404533881,
                        "test": [
                          0.2300392303
                        ]
                      },
                      {
                        "learn": [
                          0.2299833756
                        ],
                        "iteration": 701,
                        "passed_time": 5.644420829,
                        "remaining_time": 2.396064682,
                        "test": [
                          0.23004039
                        ]
                      },
                      {
                        "learn": [
                          0.2299784012
                        ],
                        "iteration": 702,
                        "passed_time": 5.651708467,
                        "remaining_time": 2.387706138,
                        "test": [
                          0.230033844
                        ]
                      },
                      {
                        "learn": [
                          0.2299770278
                        ],
                        "iteration": 703,
                        "passed_time": 5.658615588,
                        "remaining_time": 2.379190645,
                        "test": [
                          0.2300346985
                        ]
                      },
                      {
                        "learn": [
                          0.229976448
                        ],
                        "iteration": 704,
                        "passed_time": 5.665480593,
                        "remaining_time": 2.370662092,
                        "test": [
                          0.2300319824
                        ]
                      },
                      {
                        "learn": [
                          0.2299762344
                        ],
                        "iteration": 705,
                        "passed_time": 5.677665628,
                        "remaining_time": 2.364353675,
                        "test": [
                          0.2300319672
                        ]
                      },
                      {
                        "learn": [
                          0.2299685896
                        ],
                        "iteration": 706,
                        "passed_time": 5.689709605,
                        "remaining_time": 2.357970176,
                        "test": [
                          0.2300241699
                        ]
                      },
                      {
                        "learn": [
                          0.2299672315
                        ],
                        "iteration": 707,
                        "passed_time": 5.706365178,
                        "remaining_time": 2.353472644,
                        "test": [
                          0.2300221558
                        ]
                      },
                      {
                        "learn": [
                          0.229966667
                        ],
                        "iteration": 708,
                        "passed_time": 5.713867886,
                        "remaining_time": 2.345184139,
                        "test": [
                          0.2300218201
                        ]
                      },
                      {
                        "learn": [
                          0.2299630353
                        ],
                        "iteration": 709,
                        "passed_time": 5.721419076,
                        "remaining_time": 2.336917651,
                        "test": [
                          0.230019043
                        ]
                      },
                      {
                        "learn": [
                          0.2299622876
                        ],
                        "iteration": 710,
                        "passed_time": 5.728429765,
                        "remaining_time": 2.328433477,
                        "test": [
                          0.2300177612
                        ]
                      },
                      {
                        "learn": [
                          0.2299615247
                        ],
                        "iteration": 711,
                        "passed_time": 5.750728947,
                        "remaining_time": 2.326137552,
                        "test": [
                          0.2300185089
                        ]
                      },
                      {
                        "learn": [
                          0.2299514385
                        ],
                        "iteration": 712,
                        "passed_time": 5.758506042,
                        "remaining_time": 2.31794002,
                        "test": [
                          0.2300101929
                        ]
                      },
                      {
                        "learn": [
                          0.2299482951
                        ],
                        "iteration": 713,
                        "passed_time": 5.766154492,
                        "remaining_time": 2.309692136,
                        "test": [
                          0.2300101624
                        ]
                      },
                      {
                        "learn": [
                          0.2299449839
                        ],
                        "iteration": 714,
                        "passed_time": 5.773686669,
                        "remaining_time": 2.301399581,
                        "test": [
                          0.230013916
                        ]
                      },
                      {
                        "learn": [
                          0.2299407114
                        ],
                        "iteration": 715,
                        "passed_time": 5.781054087,
                        "remaining_time": 2.2930438,
                        "test": [
                          0.230011795
                        ]
                      },
                      {
                        "learn": [
                          0.2299345162
                        ],
                        "iteration": 716,
                        "passed_time": 5.807891221,
                        "remaining_time": 2.292375475,
                        "test": [
                          0.2300117493
                        ]
                      },
                      {
                        "learn": [
                          0.2299330361
                        ],
                        "iteration": 717,
                        "passed_time": 5.820145849,
                        "remaining_time": 2.285906865,
                        "test": [
                          0.2300109558
                        ]
                      },
                      {
                        "learn": [
                          0.2299321816
                        ],
                        "iteration": 718,
                        "passed_time": 5.8280577,
                        "remaining_time": 2.277724915,
                        "test": [
                          0.2300104523
                        ]
                      },
                      {
                        "learn": [
                          0.2299313881
                        ],
                        "iteration": 719,
                        "passed_time": 5.835050848,
                        "remaining_time": 2.269186441,
                        "test": [
                          0.2300103912
                        ]
                      },
                      {
                        "learn": [
                          0.229929908
                        ],
                        "iteration": 720,
                        "passed_time": 5.842262521,
                        "remaining_time": 2.260736815,
                        "test": [
                          0.230010437
                        ]
                      },
                      {
                        "learn": [
                          0.2299292976
                        ],
                        "iteration": 721,
                        "passed_time": 5.849375395,
                        "remaining_time": 2.252252576,
                        "test": [
                          0.230010498
                        ]
                      },
                      {
                        "learn": [
                          0.2299283363
                        ],
                        "iteration": 722,
                        "passed_time": 5.856437478,
                        "remaining_time": 2.243752671,
                        "test": [
                          0.2300103149
                        ]
                      },
                      {
                        "learn": [
                          0.2299263068
                        ],
                        "iteration": 723,
                        "passed_time": 5.863656075,
                        "remaining_time": 2.235316404,
                        "test": [
                          0.2300119934
                        ]
                      },
                      {
                        "learn": [
                          0.2299250403
                        ],
                        "iteration": 724,
                        "passed_time": 5.870690048,
                        "remaining_time": 2.226813467,
                        "test": [
                          0.2300097046
                        ]
                      },
                      {
                        "learn": [
                          0.2299214697
                        ],
                        "iteration": 725,
                        "passed_time": 5.877713938,
                        "remaining_time": 2.21831077,
                        "test": [
                          0.2300079651
                        ]
                      },
                      {
                        "learn": [
                          0.2299211188
                        ],
                        "iteration": 726,
                        "passed_time": 5.884789879,
                        "remaining_time": 2.209831688,
                        "test": [
                          0.2300081787
                        ]
                      },
                      {
                        "learn": [
                          0.2299199591
                        ],
                        "iteration": 727,
                        "passed_time": 5.894695784,
                        "remaining_time": 2.202413809,
                        "test": [
                          0.2300077515
                        ]
                      },
                      {
                        "learn": [
                          0.2299193029
                        ],
                        "iteration": 728,
                        "passed_time": 5.901593903,
                        "remaining_time": 2.193870985,
                        "test": [
                          0.2300079041
                        ]
                      },
                      {
                        "learn": [
                          0.2299180517
                        ],
                        "iteration": 729,
                        "passed_time": 5.908529939,
                        "remaining_time": 2.18534669,
                        "test": [
                          0.2300079956
                        ]
                      },
                      {
                        "learn": [
                          0.2299153203
                        ],
                        "iteration": 730,
                        "passed_time": 5.915522833,
                        "remaining_time": 2.176847664,
                        "test": [
                          0.2300046844
                        ]
                      },
                      {
                        "learn": [
                          0.2299141301
                        ],
                        "iteration": 731,
                        "passed_time": 5.928177394,
                        "remaining_time": 2.170425603,
                        "test": [
                          0.2300039368
                        ]
                      },
                      {
                        "learn": [
                          0.2299136113
                        ],
                        "iteration": 732,
                        "passed_time": 5.935268496,
                        "remaining_time": 2.161960011,
                        "test": [
                          0.2300040588
                        ]
                      },
                      {
                        "learn": [
                          0.2299115056
                        ],
                        "iteration": 733,
                        "passed_time": 5.942299865,
                        "remaining_time": 2.153476518,
                        "test": [
                          0.230005661
                        ]
                      },
                      {
                        "learn": [
                          0.2299083164
                        ],
                        "iteration": 734,
                        "passed_time": 5.949070131,
                        "remaining_time": 2.144902836,
                        "test": [
                          0.2300036926
                        ]
                      },
                      {
                        "learn": [
                          0.229906287
                        ],
                        "iteration": 735,
                        "passed_time": 5.956293552,
                        "remaining_time": 2.1364966,
                        "test": [
                          0.2300009308
                        ]
                      },
                      {
                        "learn": [
                          0.2299051883
                        ],
                        "iteration": 736,
                        "passed_time": 5.963259858,
                        "remaining_time": 2.128001822,
                        "test": [
                          0.2300018463
                        ]
                      },
                      {
                        "learn": [
                          0.2299021213
                        ],
                        "iteration": 737,
                        "passed_time": 5.970194719,
                        "remaining_time": 2.119500022,
                        "test": [
                          0.2299979248
                        ]
                      },
                      {
                        "learn": [
                          0.2299009768
                        ],
                        "iteration": 738,
                        "passed_time": 5.977039022,
                        "remaining_time": 2.11097048,
                        "test": [
                          0.2300007629
                        ]
                      },
                      {
                        "learn": [
                          0.2299000155
                        ],
                        "iteration": 739,
                        "passed_time": 5.984089761,
                        "remaining_time": 2.102518024,
                        "test": [
                          0.2299999084
                        ]
                      },
                      {
                        "learn": [
                          0.2298990542
                        ],
                        "iteration": 740,
                        "passed_time": 5.992522574,
                        "remaining_time": 2.094552425,
                        "test": [
                          0.2299985352
                        ]
                      },
                      {
                        "learn": [
                          0.2298974978
                        ],
                        "iteration": 741,
                        "passed_time": 5.999397937,
                        "remaining_time": 2.086044027,
                        "test": [
                          0.229996109
                        ]
                      },
                      {
                        "learn": [
                          0.2298970095
                        ],
                        "iteration": 742,
                        "passed_time": 6.006107492,
                        "remaining_time": 2.077482672,
                        "test": [
                          0.2299957123
                        ]
                      },
                      {
                        "learn": [
                          0.2298945681
                        ],
                        "iteration": 743,
                        "passed_time": 6.012936926,
                        "remaining_time": 2.068967545,
                        "test": [
                          0.2299955597
                        ]
                      },
                      {
                        "learn": [
                          0.2298924776
                        ],
                        "iteration": 744,
                        "passed_time": 6.019859635,
                        "remaining_time": 2.060488868,
                        "test": [
                          0.2299943848
                        ]
                      },
                      {
                        "learn": [
                          0.2298918825
                        ],
                        "iteration": 745,
                        "passed_time": 6.026858728,
                        "remaining_time": 2.052040371,
                        "test": [
                          0.2299912262
                        ]
                      },
                      {
                        "learn": [
                          0.2298883576
                        ],
                        "iteration": 746,
                        "passed_time": 6.033912388,
                        "remaining_time": 2.043614236,
                        "test": [
                          0.2299898529
                        ]
                      },
                      {
                        "learn": [
                          0.2298849701
                        ],
                        "iteration": 747,
                        "passed_time": 6.04074357,
                        "remaining_time": 2.035116818,
                        "test": [
                          0.2299833679
                        ]
                      },
                      {
                        "learn": [
                          0.2298834137
                        ],
                        "iteration": 748,
                        "passed_time": 6.047725993,
                        "remaining_time": 2.026674532,
                        "test": [
                          0.2299840851
                        ]
                      },
                      {
                        "learn": [
                          0.2298816589
                        ],
                        "iteration": 749,
                        "passed_time": 6.054669651,
                        "remaining_time": 2.018223217,
                        "test": [
                          0.2299794006
                        ]
                      },
                      {
                        "learn": [
                          0.2298803772
                        ],
                        "iteration": 750,
                        "passed_time": 6.0616031,
                        "remaining_time": 2.009772532,
                        "test": [
                          0.2299813385
                        ]
                      },
                      {
                        "learn": [
                          0.2298773101
                        ],
                        "iteration": 751,
                        "passed_time": 6.068467732,
                        "remaining_time": 2.001303188,
                        "test": [
                          0.2299829102
                        ]
                      },
                      {
                        "learn": [
                          0.2298723051
                        ],
                        "iteration": 752,
                        "passed_time": 6.075502988,
                        "remaining_time": 1.992894075,
                        "test": [
                          0.22998172
                        ]
                      },
                      {
                        "learn": [
                          0.2298712065
                        ],
                        "iteration": 753,
                        "passed_time": 6.082649171,
                        "remaining_time": 1.984524796,
                        "test": [
                          0.2299802246
                        ]
                      },
                      {
                        "learn": [
                          0.2298702452
                        ],
                        "iteration": 754,
                        "passed_time": 6.089850352,
                        "remaining_time": 1.976176604,
                        "test": [
                          0.2299784088
                        ]
                      },
                      {
                        "learn": [
                          0.2298688261
                        ],
                        "iteration": 755,
                        "passed_time": 6.097168434,
                        "remaining_time": 1.967869177,
                        "test": [
                          0.2299771576
                        ]
                      },
                      {
                        "learn": [
                          0.2298680021
                        ],
                        "iteration": 756,
                        "passed_time": 6.104196973,
                        "remaining_time": 1.959471419,
                        "test": [
                          0.2299772949
                        ]
                      },
                      {
                        "learn": [
                          0.2298671628
                        ],
                        "iteration": 757,
                        "passed_time": 6.111249631,
                        "remaining_time": 1.951084974,
                        "test": [
                          0.2299757233
                        ]
                      },
                      {
                        "learn": [
                          0.2298654233
                        ],
                        "iteration": 758,
                        "passed_time": 6.124466103,
                        "remaining_time": 1.944659197,
                        "test": [
                          0.2299755249
                        ]
                      },
                      {
                        "learn": [
                          0.2298644467
                        ],
                        "iteration": 759,
                        "passed_time": 6.131453562,
                        "remaining_time": 1.936248493,
                        "test": [
                          0.2299768219
                        ]
                      },
                      {
                        "learn": [
                          0.2298624783
                        ],
                        "iteration": 760,
                        "passed_time": 6.138526987,
                        "remaining_time": 1.927868528,
                        "test": [
                          0.2299777985
                        ]
                      },
                      {
                        "learn": [
                          0.2298613186
                        ],
                        "iteration": 761,
                        "passed_time": 6.14547649,
                        "remaining_time": 1.919453287,
                        "test": [
                          0.2299765472
                        ]
                      },
                      {
                        "learn": [
                          0.229858511
                        ],
                        "iteration": 762,
                        "passed_time": 6.152542243,
                        "remaining_time": 1.911077997,
                        "test": [
                          0.2299721527
                        ]
                      },
                      {
                        "learn": [
                          0.2298571834
                        ],
                        "iteration": 763,
                        "passed_time": 6.165437999,
                        "remaining_time": 1.904507026,
                        "test": [
                          0.2299733582
                        ]
                      },
                      {
                        "learn": [
                          0.2298566646
                        ],
                        "iteration": 764,
                        "passed_time": 6.172516657,
                        "remaining_time": 1.896132568,
                        "test": [
                          0.2299715118
                        ]
                      },
                      {
                        "learn": [
                          0.2298524074
                        ],
                        "iteration": 765,
                        "passed_time": 6.179756239,
                        "remaining_time": 1.887810653,
                        "test": [
                          0.2299700165
                        ]
                      },
                      {
                        "learn": [
                          0.2298511866
                        ],
                        "iteration": 766,
                        "passed_time": 6.186798218,
                        "remaining_time": 1.879431532,
                        "test": [
                          0.2299684143
                        ]
                      },
                      {
                        "learn": [
                          0.2298474482
                        ],
                        "iteration": 767,
                        "passed_time": 6.193833248,
                        "remaining_time": 1.871053794,
                        "test": [
                          0.2299631195
                        ]
                      },
                      {
                        "learn": [
                          0.2298460749
                        ],
                        "iteration": 768,
                        "passed_time": 6.200918038,
                        "remaining_time": 1.862694495,
                        "test": [
                          0.2299644928
                        ]
                      },
                      {
                        "learn": [
                          0.2298451288
                        ],
                        "iteration": 769,
                        "passed_time": 6.207892124,
                        "remaining_time": 1.85430544,
                        "test": [
                          0.2299637451
                        ]
                      },
                      {
                        "learn": [
                          0.2298436029
                        ],
                        "iteration": 770,
                        "passed_time": 6.214717325,
                        "remaining_time": 1.845875833,
                        "test": [
                          0.2299622192
                        ]
                      },
                      {
                        "learn": [
                          0.229835363
                        ],
                        "iteration": 771,
                        "passed_time": 6.221759033,
                        "remaining_time": 1.837514326,
                        "test": [
                          0.2299662781
                        ]
                      },
                      {
                        "learn": [
                          0.2298344322
                        ],
                        "iteration": 772,
                        "passed_time": 6.228725679,
                        "remaining_time": 1.82913419,
                        "test": [
                          0.2299676056
                        ]
                      },
                      {
                        "learn": [
                          0.2298341881
                        ],
                        "iteration": 773,
                        "passed_time": 6.235430395,
                        "remaining_time": 1.820681226,
                        "test": [
                          0.2299688873
                        ]
                      },
                      {
                        "learn": [
                          0.2298296104
                        ],
                        "iteration": 774,
                        "passed_time": 6.242291333,
                        "remaining_time": 1.812278129,
                        "test": [
                          0.2299594116
                        ]
                      },
                      {
                        "learn": [
                          0.229828588
                        ],
                        "iteration": 775,
                        "passed_time": 6.249380854,
                        "remaining_time": 1.803944989,
                        "test": [
                          0.2299577637
                        ]
                      },
                      {
                        "learn": [
                          0.2298214468
                        ],
                        "iteration": 776,
                        "passed_time": 6.256235826,
                        "remaining_time": 1.795547734,
                        "test": [
                          0.2299540405
                        ]
                      },
                      {
                        "learn": [
                          0.2298190206
                        ],
                        "iteration": 777,
                        "passed_time": 6.263266294,
                        "remaining_time": 1.787204521,
                        "test": [
                          0.2299523621
                        ]
                      },
                      {
                        "learn": [
                          0.2298087055
                        ],
                        "iteration": 778,
                        "passed_time": 6.270216227,
                        "remaining_time": 1.778841831,
                        "test": [
                          0.2299436951
                        ]
                      },
                      {
                        "learn": [
                          0.2298047382
                        ],
                        "iteration": 779,
                        "passed_time": 6.277145061,
                        "remaining_time": 1.770476812,
                        "test": [
                          0.2299369202
                        ]
                      },
                      {
                        "learn": [
                          0.2298043567
                        ],
                        "iteration": 780,
                        "passed_time": 6.284088617,
                        "remaining_time": 1.762119599,
                        "test": [
                          0.2299363861
                        ]
                      },
                      {
                        "learn": [
                          0.2298037921
                        ],
                        "iteration": 781,
                        "passed_time": 6.291037859,
                        "remaining_time": 1.753767587,
                        "test": [
                          0.2299372253
                        ]
                      },
                      {
                        "learn": [
                          0.2298014575
                        ],
                        "iteration": 782,
                        "passed_time": 6.298039377,
                        "remaining_time": 1.745433646,
                        "test": [
                          0.2299377441
                        ]
                      },
                      {
                        "learn": [
                          0.2297984514
                        ],
                        "iteration": 783,
                        "passed_time": 6.305134811,
                        "remaining_time": 1.737128979,
                        "test": [
                          0.229941452
                        ]
                      },
                      {
                        "learn": [
                          0.2297978106
                        ],
                        "iteration": 784,
                        "passed_time": 6.312146737,
                        "remaining_time": 1.72880452,
                        "test": [
                          0.2299414368
                        ]
                      },
                      {
                        "learn": [
                          0.2297910813
                        ],
                        "iteration": 785,
                        "passed_time": 6.327665188,
                        "remaining_time": 1.722799428,
                        "test": [
                          0.2299391937
                        ]
                      },
                      {
                        "learn": [
                          0.2297901658
                        ],
                        "iteration": 786,
                        "passed_time": 6.334752444,
                        "remaining_time": 1.714488273,
                        "test": [
                          0.2299395142
                        ]
                      },
                      {
                        "learn": [
                          0.2297890366
                        ],
                        "iteration": 787,
                        "passed_time": 6.341842316,
                        "remaining_time": 1.706180928,
                        "test": [
                          0.2299396973
                        ]
                      },
                      {
                        "learn": [
                          0.2297841232
                        ],
                        "iteration": 788,
                        "passed_time": 6.348689475,
                        "remaining_time": 1.697811761,
                        "test": [
                          0.2299402008
                        ]
                      },
                      {
                        "learn": [
                          0.2297820938
                        ],
                        "iteration": 789,
                        "passed_time": 6.355393088,
                        "remaining_time": 1.689408289,
                        "test": [
                          0.2299376373
                        ]
                      },
                      {
                        "learn": [
                          0.2297805984
                        ],
                        "iteration": 790,
                        "passed_time": 6.362280449,
                        "remaining_time": 1.681057666,
                        "test": [
                          0.2299385376
                        ]
                      },
                      {
                        "learn": [
                          0.2297778823
                        ],
                        "iteration": 791,
                        "passed_time": 6.369299815,
                        "remaining_time": 1.672745406,
                        "test": [
                          0.2299401245
                        ]
                      },
                      {
                        "learn": [
                          0.2297760359
                        ],
                        "iteration": 792,
                        "passed_time": 6.376177919,
                        "remaining_time": 1.664399532,
                        "test": [
                          0.2299389496
                        ]
                      },
                      {
                        "learn": [
                          0.229774098
                        ],
                        "iteration": 793,
                        "passed_time": 6.383152499,
                        "remaining_time": 1.656082386,
                        "test": [
                          0.2299393768
                        ]
                      },
                      {
                        "learn": [
                          0.2297715956
                        ],
                        "iteration": 794,
                        "passed_time": 6.390008116,
                        "remaining_time": 1.647737942,
                        "test": [
                          0.2299374237
                        ]
                      },
                      {
                        "learn": [
                          0.2297713361
                        ],
                        "iteration": 795,
                        "passed_time": 6.396854439,
                        "remaining_time": 1.639394856,
                        "test": [
                          0.2299358978
                        ]
                      },
                      {
                        "learn": [
                          0.2297703443
                        ],
                        "iteration": 796,
                        "passed_time": 6.40376686,
                        "remaining_time": 1.631072362,
                        "test": [
                          0.2299365997
                        ]
                      },
                      {
                        "learn": [
                          0.2297681318
                        ],
                        "iteration": 797,
                        "passed_time": 6.410628387,
                        "remaining_time": 1.622740519,
                        "test": [
                          0.229934906
                        ]
                      },
                      {
                        "learn": [
                          0.2297658582
                        ],
                        "iteration": 798,
                        "passed_time": 6.417669008,
                        "remaining_time": 1.61445741,
                        "test": [
                          0.229940094
                        ]
                      },
                      {
                        "learn": [
                          0.2297656903
                        ],
                        "iteration": 799,
                        "passed_time": 6.424519369,
                        "remaining_time": 1.606129842,
                        "test": [
                          0.2299402313
                        ]
                      },
                      {
                        "learn": [
                          0.2297615246
                        ],
                        "iteration": 800,
                        "passed_time": 6.431511057,
                        "remaining_time": 1.597841074,
                        "test": [
                          0.2299388428
                        ]
                      },
                      {
                        "learn": [
                          0.2297574657
                        ],
                        "iteration": 801,
                        "passed_time": 6.438523128,
                        "remaining_time": 1.589560573,
                        "test": [
                          0.2299356384
                        ]
                      },
                      {
                        "learn": [
                          0.2297533763
                        ],
                        "iteration": 802,
                        "passed_time": 6.445520586,
                        "remaining_time": 1.581279646,
                        "test": [
                          0.2299342041
                        ]
                      },
                      {
                        "learn": [
                          0.2297530711
                        ],
                        "iteration": 803,
                        "passed_time": 6.45251454,
                        "remaining_time": 1.573001057,
                        "test": [
                          0.2299342957
                        ]
                      },
                      {
                        "learn": [
                          0.2297506296
                        ],
                        "iteration": 804,
                        "passed_time": 6.461303298,
                        "remaining_time": 1.565160426,
                        "test": [
                          0.2299329834
                        ]
                      },
                      {
                        "learn": [
                          0.2297485392
                        ],
                        "iteration": 805,
                        "passed_time": 6.468225388,
                        "remaining_time": 1.556868146,
                        "test": [
                          0.2299336243
                        ]
                      },
                      {
                        "learn": [
                          0.2297475015
                        ],
                        "iteration": 806,
                        "passed_time": 6.475367044,
                        "remaining_time": 1.548631771,
                        "test": [
                          0.2299352264
                        ]
                      },
                      {
                        "learn": [
                          0.2297424203
                        ],
                        "iteration": 807,
                        "passed_time": 6.482767615,
                        "remaining_time": 1.540459631,
                        "test": [
                          0.2299373322
                        ]
                      },
                      {
                        "learn": [
                          0.2297418099
                        ],
                        "iteration": 808,
                        "passed_time": 6.490233133,
                        "remaining_time": 1.532304732,
                        "test": [
                          0.2299372711
                        ]
                      },
                      {
                        "learn": [
                          0.2297408791
                        ],
                        "iteration": 809,
                        "passed_time": 6.497378338,
                        "remaining_time": 1.5240764,
                        "test": [
                          0.2299381409
                        ]
                      },
                      {
                        "learn": [
                          0.229739811
                        ],
                        "iteration": 810,
                        "passed_time": 6.507413938,
                        "remaining_time": 1.516524333,
                        "test": [
                          0.2299356384
                        ]
                      },
                      {
                        "learn": [
                          0.2297384682
                        ],
                        "iteration": 811,
                        "passed_time": 6.514297558,
                        "remaining_time": 1.50823638,
                        "test": [
                          0.2299341736
                        ]
                      },
                      {
                        "learn": [
                          0.2297375374
                        ],
                        "iteration": 812,
                        "passed_time": 6.52721041,
                        "remaining_time": 1.50133868,
                        "test": [
                          0.2299343567
                        ]
                      },
                      {
                        "learn": [
                          0.2297369881
                        ],
                        "iteration": 813,
                        "passed_time": 6.53431671,
                        "remaining_time": 1.493099396,
                        "test": [
                          0.2299341278
                        ]
                      },
                      {
                        "learn": [
                          0.2297352333
                        ],
                        "iteration": 814,
                        "passed_time": 6.541513063,
                        "remaining_time": 1.484883333,
                        "test": [
                          0.2299293213
                        ]
                      },
                      {
                        "learn": [
                          0.2297310981
                        ],
                        "iteration": 815,
                        "passed_time": 6.548568685,
                        "remaining_time": 1.476638037,
                        "test": [
                          0.2299323883
                        ]
                      },
                      {
                        "learn": [
                          0.2297308234
                        ],
                        "iteration": 816,
                        "passed_time": 6.555683116,
                        "remaining_time": 1.468408825,
                        "test": [
                          0.2299325256
                        ]
                      },
                      {
                        "learn": [
                          0.2297299994
                        ],
                        "iteration": 817,
                        "passed_time": 6.5627613,
                        "remaining_time": 1.460174275,
                        "test": [
                          0.2299307098
                        ]
                      },
                      {
                        "learn": [
                          0.229729206
                        ],
                        "iteration": 818,
                        "passed_time": 6.569964936,
                        "remaining_time": 1.451970273,
                        "test": [
                          0.2299295197
                        ]
                      },
                      {
                        "learn": [
                          0.2297276496
                        ],
                        "iteration": 819,
                        "passed_time": 6.576988083,
                        "remaining_time": 1.443729091,
                        "test": [
                          0.2299273987
                        ]
                      },
                      {
                        "learn": [
                          0.2297272681
                        ],
                        "iteration": 820,
                        "passed_time": 6.584012597,
                        "remaining_time": 1.435491175,
                        "test": [
                          0.2299256592
                        ]
                      },
                      {
                        "learn": [
                          0.2297261542
                        ],
                        "iteration": 821,
                        "passed_time": 6.591045702,
                        "remaining_time": 1.427258072,
                        "test": [
                          0.2299267731
                        ]
                      },
                      {
                        "learn": [
                          0.2297238653
                        ],
                        "iteration": 822,
                        "passed_time": 6.598307118,
                        "remaining_time": 1.419076987,
                        "test": [
                          0.2299224701
                        ]
                      },
                      {
                        "learn": [
                          0.2297204626
                        ],
                        "iteration": 823,
                        "passed_time": 6.605268811,
                        "remaining_time": 1.410834115,
                        "test": [
                          0.2299243927
                        ]
                      },
                      {
                        "learn": [
                          0.2297191045
                        ],
                        "iteration": 824,
                        "passed_time": 6.612294894,
                        "remaining_time": 1.402608008,
                        "test": [
                          0.2299240875
                        ]
                      },
                      {
                        "learn": [
                          0.2297183263
                        ],
                        "iteration": 825,
                        "passed_time": 6.619376883,
                        "remaining_time": 1.394396583,
                        "test": [
                          0.2299250946
                        ]
                      },
                      {
                        "learn": [
                          0.2297168614
                        ],
                        "iteration": 826,
                        "passed_time": 6.626491667,
                        "remaining_time": 1.38619475,
                        "test": [
                          0.2299234161
                        ]
                      },
                      {
                        "learn": [
                          0.2297158696
                        ],
                        "iteration": 827,
                        "passed_time": 6.643175152,
                        "remaining_time": 1.379983244,
                        "test": [
                          0.2299247589
                        ]
                      },
                      {
                        "learn": [
                          0.2297149235
                        ],
                        "iteration": 828,
                        "passed_time": 6.658203882,
                        "remaining_time": 1.373405143,
                        "test": [
                          0.2299239197
                        ]
                      },
                      {
                        "learn": [
                          0.2297114445
                        ],
                        "iteration": 829,
                        "passed_time": 6.665587829,
                        "remaining_time": 1.365240881,
                        "test": [
                          0.229923172
                        ]
                      },
                      {
                        "learn": [
                          0.2297106968
                        ],
                        "iteration": 830,
                        "passed_time": 6.673677815,
                        "remaining_time": 1.357222083,
                        "test": [
                          0.2299233398
                        ]
                      },
                      {
                        "learn": [
                          0.229709766
                        ],
                        "iteration": 831,
                        "passed_time": 6.681032902,
                        "remaining_time": 1.349054721,
                        "test": [
                          0.2299248352
                        ]
                      },
                      {
                        "learn": [
                          0.2297088657
                        ],
                        "iteration": 832,
                        "passed_time": 6.688408787,
                        "remaining_time": 1.340893478,
                        "test": [
                          0.2299254913
                        ]
                      },
                      {
                        "learn": [
                          0.2297075534
                        ],
                        "iteration": 833,
                        "passed_time": 6.69568589,
                        "remaining_time": 1.332714458,
                        "test": [
                          0.229926178
                        ]
                      },
                      {
                        "learn": [
                          0.2297057986
                        ],
                        "iteration": 834,
                        "passed_time": 6.702949964,
                        "remaining_time": 1.324535023,
                        "test": [
                          0.2299281158
                        ]
                      },
                      {
                        "learn": [
                          0.2296995424
                        ],
                        "iteration": 835,
                        "passed_time": 6.716554926,
                        "remaining_time": 1.317601684,
                        "test": [
                          0.2299315491
                        ]
                      },
                      {
                        "learn": [
                          0.2296975588
                        ],
                        "iteration": 836,
                        "passed_time": 6.729403132,
                        "remaining_time": 1.31050503,
                        "test": [
                          0.2299311981
                        ]
                      },
                      {
                        "learn": [
                          0.229696628
                        ],
                        "iteration": 837,
                        "passed_time": 6.736660484,
                        "remaining_time": 1.302313841,
                        "test": [
                          0.2299310455
                        ]
                      },
                      {
                        "learn": [
                          0.2296949495
                        ],
                        "iteration": 838,
                        "passed_time": 6.756285105,
                        "remaining_time": 1.296498095,
                        "test": [
                          0.2299304962
                        ]
                      },
                      {
                        "learn": [
                          0.2296928895
                        ],
                        "iteration": 839,
                        "passed_time": 6.770392756,
                        "remaining_time": 1.28959862,
                        "test": [
                          0.2299298706
                        ]
                      },
                      {
                        "learn": [
                          0.2296910737
                        ],
                        "iteration": 840,
                        "passed_time": 6.777674741,
                        "remaining_time": 1.281391538,
                        "test": [
                          0.2299269257
                        ]
                      },
                      {
                        "learn": [
                          0.2296850769
                        ],
                        "iteration": 841,
                        "passed_time": 6.784957449,
                        "remaining_time": 1.27318679,
                        "test": [
                          0.2299329224
                        ]
                      },
                      {
                        "learn": [
                          0.2296821929
                        ],
                        "iteration": 842,
                        "passed_time": 6.797152105,
                        "remaining_time": 1.265899028,
                        "test": [
                          0.2299316406
                        ]
                      },
                      {
                        "learn": [
                          0.2296804381
                        ],
                        "iteration": 843,
                        "passed_time": 6.81583913,
                        "remaining_time": 1.25979965,
                        "test": [
                          0.2299340515
                        ]
                      },
                      {
                        "learn": [
                          0.2296789427
                        ],
                        "iteration": 844,
                        "passed_time": 6.830188554,
                        "remaining_time": 1.252874823,
                        "test": [
                          0.2299311981
                        ]
                      },
                      {
                        "learn": [
                          0.2296783934
                        ],
                        "iteration": 845,
                        "passed_time": 6.84387515,
                        "remaining_time": 1.245811789,
                        "test": [
                          0.2299315948
                        ]
                      },
                      {
                        "learn": [
                          0.2296752195
                        ],
                        "iteration": 846,
                        "passed_time": 6.858354261,
                        "remaining_time": 1.238876272,
                        "test": [
                          0.2299380951
                        ]
                      },
                      {
                        "learn": [
                          0.2296726865
                        ],
                        "iteration": 847,
                        "passed_time": 6.867460208,
                        "remaining_time": 1.230959849,
                        "test": [
                          0.2299395447
                        ]
                      },
                      {
                        "learn": [
                          0.2296720609
                        ],
                        "iteration": 848,
                        "passed_time": 6.874658402,
                        "remaining_time": 1.222701318,
                        "test": [
                          0.2299406891
                        ]
                      },
                      {
                        "learn": [
                          0.2296668728
                        ],
                        "iteration": 849,
                        "passed_time": 6.882008978,
                        "remaining_time": 1.214472173,
                        "test": [
                          0.2299402466
                        ]
                      },
                      {
                        "learn": [
                          0.2296665066
                        ],
                        "iteration": 850,
                        "passed_time": 6.889230557,
                        "remaining_time": 1.206222506,
                        "test": [
                          0.2299392548
                        ]
                      },
                      {
                        "learn": [
                          0.2296663388
                        ],
                        "iteration": 851,
                        "passed_time": 6.896493248,
                        "remaining_time": 1.197982395,
                        "test": [
                          0.2299390259
                        ]
                      },
                      {
                        "learn": [
                          0.229664523
                        ],
                        "iteration": 852,
                        "passed_time": 6.904029094,
                        "remaining_time": 1.189791649,
                        "test": [
                          0.2299380188
                        ]
                      },
                      {
                        "learn": [
                          0.2296598995
                        ],
                        "iteration": 853,
                        "passed_time": 6.917965211,
                        "remaining_time": 1.182696629,
                        "test": [
                          0.2299332428
                        ]
                      },
                      {
                        "learn": [
                          0.2296580379
                        ],
                        "iteration": 854,
                        "passed_time": 6.925465675,
                        "remaining_time": 1.174494179,
                        "test": [
                          0.2299333038
                        ]
                      },
                      {
                        "learn": [
                          0.2296559321
                        ],
                        "iteration": 855,
                        "passed_time": 6.934726265,
                        "remaining_time": 1.166589465,
                        "test": [
                          0.2299347534
                        ]
                      },
                      {
                        "learn": [
                          0.2296544367
                        ],
                        "iteration": 856,
                        "passed_time": 6.94239723,
                        "remaining_time": 1.158416341,
                        "test": [
                          0.2299368286
                        ]
                      },
                      {
                        "learn": [
                          0.2296515223
                        ],
                        "iteration": 857,
                        "passed_time": 6.949858624,
                        "remaining_time": 1.150209702,
                        "test": [
                          0.2299368896
                        ]
                      },
                      {
                        "learn": [
                          0.2296484094
                        ],
                        "iteration": 858,
                        "passed_time": 6.964305306,
                        "remaining_time": 1.143151395,
                        "test": [
                          0.2299365692
                        ]
                      },
                      {
                        "learn": [
                          0.2296480432
                        ],
                        "iteration": 859,
                        "passed_time": 6.972398529,
                        "remaining_time": 1.135041621,
                        "test": [
                          0.2299372253
                        ]
                      },
                      {
                        "learn": [
                          0.2296450677
                        ],
                        "iteration": 860,
                        "passed_time": 6.980118826,
                        "remaining_time": 1.12687168,
                        "test": [
                          0.2299350281
                        ]
                      },
                      {
                        "learn": [
                          0.2296437554
                        ],
                        "iteration": 861,
                        "passed_time": 6.987591776,
                        "remaining_time": 1.118663185,
                        "test": [
                          0.2299342194
                        ]
                      },
                      {
                        "learn": [
                          0.2296432061
                        ],
                        "iteration": 862,
                        "passed_time": 6.994742538,
                        "remaining_time": 1.110405247,
                        "test": [
                          0.2299325562
                        ]
                      },
                      {
                        "learn": [
                          0.2296424431
                        ],
                        "iteration": 863,
                        "passed_time": 7.00202228,
                        "remaining_time": 1.102170174,
                        "test": [
                          0.2299326782
                        ]
                      },
                      {
                        "learn": [
                          0.2296392235
                        ],
                        "iteration": 864,
                        "passed_time": 7.009127009,
                        "remaining_time": 1.093909996,
                        "test": [
                          0.2299286499
                        ]
                      },
                      {
                        "learn": [
                          0.2296353172
                        ],
                        "iteration": 865,
                        "passed_time": 7.016830522,
                        "remaining_time": 1.085745139,
                        "test": [
                          0.2299265594
                        ]
                      },
                      {
                        "learn": [
                          0.2296344779
                        ],
                        "iteration": 866,
                        "passed_time": 7.027511788,
                        "remaining_time": 1.07803814,
                        "test": [
                          0.2299278717
                        ]
                      },
                      {
                        "learn": [
                          0.2296328757
                        ],
                        "iteration": 867,
                        "passed_time": 7.034877319,
                        "remaining_time": 1.069820053,
                        "test": [
                          0.2299275818
                        ]
                      },
                      {
                        "learn": [
                          0.2296325553
                        ],
                        "iteration": 868,
                        "passed_time": 7.042176671,
                        "remaining_time": 1.061593952,
                        "test": [
                          0.2299272308
                        ]
                      },
                      {
                        "learn": [
                          0.2296314566
                        ],
                        "iteration": 869,
                        "passed_time": 7.049555891,
                        "remaining_time": 1.053381915,
                        "test": [
                          0.2299287262
                        ]
                      },
                      {
                        "learn": [
                          0.2296279471
                        ],
                        "iteration": 870,
                        "passed_time": 7.056850434,
                        "remaining_time": 1.045159249,
                        "test": [
                          0.2299302673
                        ]
                      },
                      {
                        "learn": [
                          0.2296219198
                        ],
                        "iteration": 871,
                        "passed_time": 7.064173721,
                        "remaining_time": 1.036942932,
                        "test": [
                          0.2299306793
                        ]
                      },
                      {
                        "learn": [
                          0.2296210347
                        ],
                        "iteration": 872,
                        "passed_time": 7.071555047,
                        "remaining_time": 1.028737103,
                        "test": [
                          0.2299320068
                        ]
                      },
                      {
                        "learn": [
                          0.2296200734
                        ],
                        "iteration": 873,
                        "passed_time": 7.07889522,
                        "remaining_time": 1.020527229,
                        "test": [
                          0.2299332733
                        ]
                      },
                      {
                        "learn": [
                          0.2296192494
                        ],
                        "iteration": 874,
                        "passed_time": 7.086300397,
                        "remaining_time": 1.012328628,
                        "test": [
                          0.2299329834
                        ]
                      },
                      {
                        "learn": [
                          0.2296183644
                        ],
                        "iteration": 875,
                        "passed_time": 7.093782168,
                        "remaining_time": 1.004142681,
                        "test": [
                          0.2299320374
                        ]
                      },
                      {
                        "learn": [
                          0.2296169606
                        ],
                        "iteration": 876,
                        "passed_time": 7.101057559,
                        "remaining_time": 0.9959293954,
                        "test": [
                          0.2299318695
                        ]
                      },
                      {
                        "learn": [
                          0.2296158924
                        ],
                        "iteration": 877,
                        "passed_time": 7.108408335,
                        "remaining_time": 0.9877287208,
                        "test": [
                          0.2299285583
                        ]
                      },
                      {
                        "learn": [
                          0.2296139851
                        ],
                        "iteration": 878,
                        "passed_time": 7.12282787,
                        "remaining_time": 0.9805030401,
                        "test": [
                          0.2299259491
                        ]
                      },
                      {
                        "learn": [
                          0.2296129169
                        ],
                        "iteration": 879,
                        "passed_time": 7.129959378,
                        "remaining_time": 0.9722671879,
                        "test": [
                          0.2299283905
                        ]
                      },
                      {
                        "learn": [
                          0.229611803
                        ],
                        "iteration": 880,
                        "passed_time": 7.137285904,
                        "remaining_time": 0.9640601846,
                        "test": [
                          0.2299313812
                        ]
                      },
                      {
                        "learn": [
                          0.2296069201
                        ],
                        "iteration": 881,
                        "passed_time": 7.144530431,
                        "remaining_time": 0.9558442073,
                        "test": [
                          0.2299258575
                        ]
                      },
                      {
                        "learn": [
                          0.2296023729
                        ],
                        "iteration": 882,
                        "passed_time": 7.151812554,
                        "remaining_time": 0.947635412,
                        "test": [
                          0.229930542
                        ]
                      },
                      {
                        "learn": [
                          0.229601137
                        ],
                        "iteration": 883,
                        "passed_time": 7.159102223,
                        "remaining_time": 0.9394297035,
                        "test": [
                          0.229929245
                        ]
                      },
                      {
                        "learn": [
                          0.2295997026
                        ],
                        "iteration": 884,
                        "passed_time": 7.166462408,
                        "remaining_time": 0.9312352281,
                        "test": [
                          0.2299287567
                        ]
                      },
                      {
                        "learn": [
                          0.2295982683
                        ],
                        "iteration": 885,
                        "passed_time": 7.173481994,
                        "remaining_time": 0.9229988119,
                        "test": [
                          0.2299315186
                        ]
                      },
                      {
                        "learn": [
                          0.2295969102
                        ],
                        "iteration": 886,
                        "passed_time": 7.180468803,
                        "remaining_time": 0.9147609636,
                        "test": [
                          0.2299316101
                        ]
                      },
                      {
                        "learn": [
                          0.2295959947
                        ],
                        "iteration": 887,
                        "passed_time": 7.187623536,
                        "remaining_time": 0.9065471127,
                        "test": [
                          0.2299299622
                        ]
                      },
                      {
                        "learn": [
                          0.2295944535
                        ],
                        "iteration": 888,
                        "passed_time": 7.194833593,
                        "remaining_time": 0.8983425521,
                        "test": [
                          0.2299269562
                        ]
                      },
                      {
                        "learn": [
                          0.2295932023
                        ],
                        "iteration": 889,
                        "passed_time": 7.202011595,
                        "remaining_time": 0.8901362645,
                        "test": [
                          0.2299251709
                        ]
                      },
                      {
                        "learn": [
                          0.2295904556
                        ],
                        "iteration": 890,
                        "passed_time": 7.20909219,
                        "remaining_time": 0.8819203689,
                        "test": [
                          0.2299270325
                        ]
                      },
                      {
                        "learn": [
                          0.2295895554
                        ],
                        "iteration": 891,
                        "passed_time": 7.215987181,
                        "remaining_time": 0.8736845465,
                        "test": [
                          0.2299275208
                        ]
                      },
                      {
                        "learn": [
                          0.2295868698
                        ],
                        "iteration": 892,
                        "passed_time": 7.223024858,
                        "remaining_time": 0.865468824,
                        "test": [
                          0.2299265289
                        ]
                      },
                      {
                        "learn": [
                          0.2295853439
                        ],
                        "iteration": 893,
                        "passed_time": 7.229942862,
                        "remaining_time": 0.8572415474,
                        "test": [
                          0.2299278412
                        ]
                      },
                      {
                        "learn": [
                          0.2295841079
                        ],
                        "iteration": 894,
                        "passed_time": 7.23693266,
                        "remaining_time": 0.8490256193,
                        "test": [
                          0.2299280396
                        ]
                      },
                      {
                        "learn": [
                          0.2295820174
                        ],
                        "iteration": 895,
                        "passed_time": 7.244078316,
                        "remaining_time": 0.8408305188,
                        "test": [
                          0.2299306335
                        ]
                      },
                      {
                        "learn": [
                          0.2295804762
                        ],
                        "iteration": 896,
                        "passed_time": 7.250951678,
                        "remaining_time": 0.8326064915,
                        "test": [
                          0.2299328003
                        ]
                      },
                      {
                        "learn": [
                          0.2295794539
                        ],
                        "iteration": 897,
                        "passed_time": 7.257815865,
                        "remaining_time": 0.8243844301,
                        "test": [
                          0.2299318848
                        ]
                      },
                      {
                        "learn": [
                          0.2295777143
                        ],
                        "iteration": 898,
                        "passed_time": 7.264510397,
                        "remaining_time": 0.8161463293,
                        "test": [
                          0.2299302673
                        ]
                      },
                      {
                        "learn": [
                          0.2295774244
                        ],
                        "iteration": 899,
                        "passed_time": 7.271464435,
                        "remaining_time": 0.8079404928,
                        "test": [
                          0.229931015
                        ]
                      },
                      {
                        "learn": [
                          0.22957628
                        ],
                        "iteration": 900,
                        "passed_time": 7.278071207,
                        "remaining_time": 0.799699278,
                        "test": [
                          0.2299324646
                        ]
                      },
                      {
                        "learn": [
                          0.2295706036
                        ],
                        "iteration": 901,
                        "passed_time": 7.284958252,
                        "remaining_time": 0.7914921382,
                        "test": [
                          0.2299326324
                        ]
                      },
                      {
                        "learn": [
                          0.2295693677
                        ],
                        "iteration": 902,
                        "passed_time": 7.291754073,
                        "remaining_time": 0.783278123,
                        "test": [
                          0.2299323883
                        ]
                      },
                      {
                        "learn": [
                          0.2295686963
                        ],
                        "iteration": 903,
                        "passed_time": 7.298711796,
                        "remaining_time": 0.7750844385,
                        "test": [
                          0.2299313507
                        ]
                      },
                      {
                        "learn": [
                          0.2295680096
                        ],
                        "iteration": 904,
                        "passed_time": 7.310213769,
                        "remaining_time": 0.7673705061,
                        "test": [
                          0.229932373
                        ]
                      },
                      {
                        "learn": [
                          0.229567033
                        ],
                        "iteration": 905,
                        "passed_time": 7.317188077,
                        "remaining_time": 0.7591784539,
                        "test": [
                          0.2299318695
                        ]
                      },
                      {
                        "learn": [
                          0.2295661938
                        ],
                        "iteration": 906,
                        "passed_time": 7.324249459,
                        "remaining_time": 0.7509980151,
                        "test": [
                          0.229930603
                        ]
                      },
                      {
                        "learn": [
                          0.2295657208
                        ],
                        "iteration": 907,
                        "passed_time": 7.331032758,
                        "remaining_time": 0.7427918654,
                        "test": [
                          0.2299324036
                        ]
                      },
                      {
                        "learn": [
                          0.2295648968
                        ],
                        "iteration": 908,
                        "passed_time": 7.337746863,
                        "remaining_time": 0.7345819192,
                        "test": [
                          0.2299316254
                        ]
                      },
                      {
                        "learn": [
                          0.229563203
                        ],
                        "iteration": 909,
                        "passed_time": 7.344764799,
                        "remaining_time": 0.7264053097,
                        "test": [
                          0.2299319
                        ]
                      },
                      {
                        "learn": [
                          0.2295624401
                        ],
                        "iteration": 910,
                        "passed_time": 7.351744362,
                        "remaining_time": 0.7182274953,
                        "test": [
                          0.2299317017
                        ]
                      },
                      {
                        "learn": [
                          0.2295616313
                        ],
                        "iteration": 911,
                        "passed_time": 7.358785681,
                        "remaining_time": 0.7100582675,
                        "test": [
                          0.2299322205
                        ]
                      },
                      {
                        "learn": [
                          0.2295594951
                        ],
                        "iteration": 912,
                        "passed_time": 7.365766979,
                        "remaining_time": 0.701885791,
                        "test": [
                          0.2299322662
                        ]
                      },
                      {
                        "learn": [
                          0.2295581065
                        ],
                        "iteration": 913,
                        "passed_time": 7.372701957,
                        "remaining_time": 0.6937115627,
                        "test": [
                          0.229932251
                        ]
                      },
                      {
                        "learn": [
                          0.2295547343
                        ],
                        "iteration": 914,
                        "passed_time": 7.380256996,
                        "remaining_time": 0.6855976445,
                        "test": [
                          0.2299291534
                        ]
                      },
                      {
                        "learn": [
                          0.2295527048
                        ],
                        "iteration": 915,
                        "passed_time": 7.387343759,
                        "remaining_time": 0.6774420041,
                        "test": [
                          0.2299294128
                        ]
                      },
                      {
                        "learn": [
                          0.2295450448
                        ],
                        "iteration": 916,
                        "passed_time": 7.394530326,
                        "remaining_time": 0.6692977285,
                        "test": [
                          0.229923111
                        ]
                      },
                      {
                        "learn": [
                          0.2295434578
                        ],
                        "iteration": 917,
                        "passed_time": 7.401540941,
                        "remaining_time": 0.6611398226,
                        "test": [
                          0.2299236145
                        ]
                      },
                      {
                        "learn": [
                          0.2295427254
                        ],
                        "iteration": 918,
                        "passed_time": 7.40850591,
                        "remaining_time": 0.6529803903,
                        "test": [
                          0.2299228668
                        ]
                      },
                      {
                        "learn": [
                          0.2295416115
                        ],
                        "iteration": 919,
                        "passed_time": 7.415777506,
                        "remaining_time": 0.6448502179,
                        "test": [
                          0.2299232025
                        ]
                      },
                      {
                        "learn": [
                          0.2295375526
                        ],
                        "iteration": 920,
                        "passed_time": 7.423110655,
                        "remaining_time": 0.6367271897,
                        "test": [
                          0.2299249878
                        ]
                      },
                      {
                        "learn": [
                          0.2295358741
                        ],
                        "iteration": 921,
                        "passed_time": 7.430272887,
                        "remaining_time": 0.6285914156,
                        "test": [
                          0.2299248199
                        ]
                      },
                      {
                        "learn": [
                          0.2295353705
                        ],
                        "iteration": 922,
                        "passed_time": 7.437964462,
                        "remaining_time": 0.6205019107,
                        "test": [
                          0.229924408
                        ]
                      },
                      {
                        "learn": [
                          0.2295342261
                        ],
                        "iteration": 923,
                        "passed_time": 7.445090693,
                        "remaining_time": 0.612366767,
                        "test": [
                          0.2299236603
                        ]
                      },
                      {
                        "learn": [
                          0.2295338294
                        ],
                        "iteration": 924,
                        "passed_time": 7.452207564,
                        "remaining_time": 0.6042330457,
                        "test": [
                          0.2299241028
                        ]
                      },
                      {
                        "learn": [
                          0.2295333258
                        ],
                        "iteration": 925,
                        "passed_time": 7.45922456,
                        "remaining_time": 0.5960935394,
                        "test": [
                          0.229923584
                        ]
                      },
                      {
                        "learn": [
                          0.2295324103
                        ],
                        "iteration": 926,
                        "passed_time": 7.466242835,
                        "remaining_time": 0.5879565555,
                        "test": [
                          0.229923233
                        ]
                      },
                      {
                        "learn": [
                          0.2295320288
                        ],
                        "iteration": 927,
                        "passed_time": 7.473467266,
                        "remaining_time": 0.5798379775,
                        "test": [
                          0.2299239044
                        ]
                      },
                      {
                        "learn": [
                          0.2295289312
                        ],
                        "iteration": 928,
                        "passed_time": 7.48029922,
                        "remaining_time": 0.5716913289,
                        "test": [
                          0.2299208069
                        ]
                      },
                      {
                        "learn": [
                          0.2295275884
                        ],
                        "iteration": 929,
                        "passed_time": 7.48718111,
                        "remaining_time": 0.5635512663,
                        "test": [
                          0.229920929
                        ]
                      },
                      {
                        "learn": [
                          0.2295273901
                        ],
                        "iteration": 930,
                        "passed_time": 7.500342945,
                        "remaining_time": 0.5558793375,
                        "test": [
                          0.2299191437
                        ]
                      },
                      {
                        "learn": [
                          0.2295258489
                        ],
                        "iteration": 931,
                        "passed_time": 7.507326889,
                        "remaining_time": 0.5477448803,
                        "test": [
                          0.2299179993
                        ]
                      },
                      {
                        "learn": [
                          0.2295245366
                        ],
                        "iteration": 932,
                        "passed_time": 7.514217817,
                        "remaining_time": 0.5396062098,
                        "test": [
                          0.2299192352
                        ]
                      },
                      {
                        "learn": [
                          0.2295237279
                        ],
                        "iteration": 933,
                        "passed_time": 7.520959627,
                        "remaining_time": 0.5314596739,
                        "test": [
                          0.2299187469
                        ]
                      },
                      {
                        "learn": [
                          0.229523087
                        ],
                        "iteration": 934,
                        "passed_time": 7.52777976,
                        "remaining_time": 0.5233215876,
                        "test": [
                          0.2299169769
                        ]
                      },
                      {
                        "learn": [
                          0.2295223699
                        ],
                        "iteration": 935,
                        "passed_time": 7.534831718,
                        "remaining_time": 0.5152021687,
                        "test": [
                          0.229915329
                        ]
                      },
                      {
                        "learn": [
                          0.2295211186
                        ],
                        "iteration": 936,
                        "passed_time": 7.541812939,
                        "remaining_time": 0.5070802723,
                        "test": [
                          0.229915741
                        ]
                      },
                      {
                        "learn": [
                          0.2295202336
                        ],
                        "iteration": 937,
                        "passed_time": 7.548881878,
                        "remaining_time": 0.498966606,
                        "test": [
                          0.229914917
                        ]
                      },
                      {
                        "learn": [
                          0.2295193943
                        ],
                        "iteration": 938,
                        "passed_time": 7.556145202,
                        "remaining_time": 0.4908677927,
                        "test": [
                          0.229917038
                        ]
                      },
                      {
                        "learn": [
                          0.2295177006
                        ],
                        "iteration": 939,
                        "passed_time": 7.563068094,
                        "remaining_time": 0.4827490273,
                        "test": [
                          0.2299156189
                        ]
                      },
                      {
                        "learn": [
                          0.2295162357
                        ],
                        "iteration": 940,
                        "passed_time": 7.570234127,
                        "remaining_time": 0.4746480483,
                        "test": [
                          0.2299172668
                        ]
                      },
                      {
                        "learn": [
                          0.229512009
                        ],
                        "iteration": 941,
                        "passed_time": 7.577532744,
                        "remaining_time": 0.4665572178,
                        "test": [
                          0.2299178467
                        ]
                      },
                      {
                        "learn": [
                          0.2295112765
                        ],
                        "iteration": 942,
                        "passed_time": 7.590088645,
                        "remaining_time": 0.458785846,
                        "test": [
                          0.2299164886
                        ]
                      },
                      {
                        "learn": [
                          0.2295110171
                        ],
                        "iteration": 943,
                        "passed_time": 7.606176795,
                        "remaining_time": 0.4512138777,
                        "test": [
                          0.2299172058
                        ]
                      },
                      {
                        "learn": [
                          0.2295106509
                        ],
                        "iteration": 944,
                        "passed_time": 7.620254163,
                        "remaining_time": 0.4435068561,
                        "test": [
                          0.229918045
                        ]
                      },
                      {
                        "learn": [
                          0.2295101169
                        ],
                        "iteration": 945,
                        "passed_time": 7.627464075,
                        "remaining_time": 0.4353943553,
                        "test": [
                          0.2299169922
                        ]
                      },
                      {
                        "learn": [
                          0.2295097812
                        ],
                        "iteration": 946,
                        "passed_time": 7.636724559,
                        "remaining_time": 0.4273985234,
                        "test": [
                          0.2299187164
                        ]
                      },
                      {
                        "learn": [
                          0.2295046694
                        ],
                        "iteration": 947,
                        "passed_time": 7.644039997,
                        "remaining_time": 0.4192933332,
                        "test": [
                          0.2299183502
                        ]
                      },
                      {
                        "learn": [
                          0.2295031587
                        ],
                        "iteration": 948,
                        "passed_time": 7.651251864,
                        "remaining_time": 0.4111842414,
                        "test": [
                          0.2299184418
                        ]
                      },
                      {
                        "learn": [
                          0.2295009004
                        ],
                        "iteration": 949,
                        "passed_time": 7.658378882,
                        "remaining_time": 0.4030725727,
                        "test": [
                          0.2299160919
                        ]
                      },
                      {
                        "learn": [
                          0.2295002748
                        ],
                        "iteration": 950,
                        "passed_time": 7.665618367,
                        "remaining_time": 0.3949687697,
                        "test": [
                          0.2299166718
                        ]
                      },
                      {
                        "learn": [
                          0.2294999849
                        ],
                        "iteration": 951,
                        "passed_time": 7.672953995,
                        "remaining_time": 0.38687163,
                        "test": [
                          0.2299164124
                        ]
                      },
                      {
                        "learn": [
                          0.2294985963
                        ],
                        "iteration": 952,
                        "passed_time": 7.68064402,
                        "remaining_time": 0.3787935665,
                        "test": [
                          0.2299190674
                        ]
                      },
                      {
                        "learn": [
                          0.2294978791
                        ],
                        "iteration": 953,
                        "passed_time": 7.688368594,
                        "remaining_time": 0.3707179825,
                        "test": [
                          0.2299178925
                        ]
                      },
                      {
                        "learn": [
                          0.2294965516
                        ],
                        "iteration": 954,
                        "passed_time": 7.701772552,
                        "remaining_time": 0.3629107485,
                        "test": [
                          0.2299176331
                        ]
                      },
                      {
                        "learn": [
                          0.2294955292
                        ],
                        "iteration": 955,
                        "passed_time": 7.708995225,
                        "remaining_time": 0.3548073116,
                        "test": [
                          0.2299157715
                        ]
                      },
                      {
                        "learn": [
                          0.2294945832
                        ],
                        "iteration": 956,
                        "passed_time": 7.716483717,
                        "remaining_time": 0.3467176592,
                        "test": [
                          0.2299156342
                        ]
                      },
                      {
                        "learn": [
                          0.2294926453
                        ],
                        "iteration": 957,
                        "passed_time": 7.723757316,
                        "remaining_time": 0.3386198406,
                        "test": [
                          0.2299148254
                        ]
                      },
                      {
                        "learn": [
                          0.2294923706
                        ],
                        "iteration": 958,
                        "passed_time": 7.73083417,
                        "remaining_time": 0.3305153295,
                        "test": [
                          0.2299145203
                        ]
                      },
                      {
                        "learn": [
                          0.2294907379
                        ],
                        "iteration": 959,
                        "passed_time": 7.737954343,
                        "remaining_time": 0.3224147643,
                        "test": [
                          0.2299135284
                        ]
                      },
                      {
                        "learn": [
                          0.2294903259
                        ],
                        "iteration": 960,
                        "passed_time": 7.745489076,
                        "remaining_time": 0.3143330634,
                        "test": [
                          0.2299133606
                        ]
                      },
                      {
                        "learn": [
                          0.2294893493
                        ],
                        "iteration": 961,
                        "passed_time": 7.765232678,
                        "remaining_time": 0.3067347628,
                        "test": [
                          0.2299155579
                        ]
                      },
                      {
                        "learn": [
                          0.2294876861
                        ],
                        "iteration": 962,
                        "passed_time": 7.773118657,
                        "remaining_time": 0.2986556493,
                        "test": [
                          0.2299163055
                        ]
                      },
                      {
                        "learn": [
                          0.2294871825
                        ],
                        "iteration": 963,
                        "passed_time": 7.78102973,
                        "remaining_time": 0.2905778737,
                        "test": [
                          0.2299168701
                        ]
                      },
                      {
                        "learn": [
                          0.2294866332
                        ],
                        "iteration": 964,
                        "passed_time": 7.788716816,
                        "remaining_time": 0.2824923198,
                        "test": [
                          0.2299177399
                        ]
                      },
                      {
                        "learn": [
                          0.2294819182
                        ],
                        "iteration": 965,
                        "passed_time": 7.796533409,
                        "remaining_time": 0.274412149,
                        "test": [
                          0.2299150085
                        ]
                      },
                      {
                        "learn": [
                          0.2294795835
                        ],
                        "iteration": 966,
                        "passed_time": 7.804353955,
                        "remaining_time": 0.2663326583,
                        "test": [
                          0.2299173584
                        ]
                      },
                      {
                        "learn": [
                          0.2294790953
                        ],
                        "iteration": 967,
                        "passed_time": 7.81206298,
                        "remaining_time": 0.2582500159,
                        "test": [
                          0.2299189148
                        ]
                      },
                      {
                        "learn": [
                          0.2294781492
                        ],
                        "iteration": 968,
                        "passed_time": 7.819581578,
                        "remaining_time": 0.2501620525,
                        "test": [
                          0.229919342
                        ]
                      },
                      {
                        "learn": [
                          0.2294758909
                        ],
                        "iteration": 969,
                        "passed_time": 7.841670219,
                        "remaining_time": 0.2425258831,
                        "test": [
                          0.2299219818
                        ]
                      },
                      {
                        "learn": [
                          0.2294755857
                        ],
                        "iteration": 970,
                        "passed_time": 7.854846642,
                        "remaining_time": 0.234593772,
                        "test": [
                          0.2299217529
                        ]
                      },
                      {
                        "learn": [
                          0.2294730069
                        ],
                        "iteration": 971,
                        "passed_time": 7.871683678,
                        "remaining_time": 0.2267563199,
                        "test": [
                          0.2299185028
                        ]
                      },
                      {
                        "learn": [
                          0.2294716946
                        ],
                        "iteration": 972,
                        "passed_time": 7.879061575,
                        "remaining_time": 0.2186378854,
                        "test": [
                          0.2299168091
                        ]
                      },
                      {
                        "learn": [
                          0.2294690853
                        ],
                        "iteration": 973,
                        "passed_time": 7.886161937,
                        "remaining_time": 0.210513563,
                        "test": [
                          0.2299181824
                        ]
                      },
                      {
                        "learn": [
                          0.2294684292
                        ],
                        "iteration": 974,
                        "passed_time": 7.893456978,
                        "remaining_time": 0.2023963328,
                        "test": [
                          0.2299204254
                        ]
                      },
                      {
                        "learn": [
                          0.2294679867
                        ],
                        "iteration": 975,
                        "passed_time": 7.900491156,
                        "remaining_time": 0.1942743727,
                        "test": [
                          0.2299187469
                        ]
                      },
                      {
                        "learn": [
                          0.229467712
                        ],
                        "iteration": 976,
                        "passed_time": 7.90755229,
                        "remaining_time": 0.186155274,
                        "test": [
                          0.2299187317
                        ]
                      },
                      {
                        "learn": [
                          0.2294675747
                        ],
                        "iteration": 977,
                        "passed_time": 7.914778143,
                        "remaining_time": 0.1780420441,
                        "test": [
                          0.2299188232
                        ]
                      },
                      {
                        "learn": [
                          0.2294673153
                        ],
                        "iteration": 978,
                        "passed_time": 7.922017372,
                        "remaining_time": 0.169930914,
                        "test": [
                          0.2299197235
                        ]
                      },
                      {
                        "learn": [
                          0.2294671169
                        ],
                        "iteration": 979,
                        "passed_time": 7.92916335,
                        "remaining_time": 0.1618196602,
                        "test": [
                          0.2299187775
                        ]
                      },
                      {
                        "learn": [
                          0.2294667812
                        ],
                        "iteration": 980,
                        "passed_time": 7.936350856,
                        "remaining_time": 0.1537111787,
                        "test": [
                          0.2299194031
                        ]
                      },
                      {
                        "learn": [
                          0.2294663387
                        ],
                        "iteration": 981,
                        "passed_time": 7.943581892,
                        "remaining_time": 0.1456053707,
                        "test": [
                          0.2299190063
                        ]
                      },
                      {
                        "learn": [
                          0.2294636531
                        ],
                        "iteration": 982,
                        "passed_time": 7.951117695,
                        "remaining_time": 0.1375066132,
                        "test": [
                          0.2299176788
                        ]
                      },
                      {
                        "learn": [
                          0.2294577174
                        ],
                        "iteration": 983,
                        "passed_time": 7.958353109,
                        "remaining_time": 0.1294041156,
                        "test": [
                          0.229913681
                        ]
                      },
                      {
                        "learn": [
                          0.2294568018
                        ],
                        "iteration": 984,
                        "passed_time": 7.965382354,
                        "remaining_time": 0.1213002389,
                        "test": [
                          0.2299124756
                        ]
                      },
                      {
                        "learn": [
                          0.2294553827
                        ],
                        "iteration": 985,
                        "passed_time": 7.972404556,
                        "remaining_time": 0.113198442,
                        "test": [
                          0.2299123993
                        ]
                      },
                      {
                        "learn": [
                          0.2294532617
                        ],
                        "iteration": 986,
                        "passed_time": 7.979479792,
                        "remaining_time": 0.1050995312,
                        "test": [
                          0.2299120789
                        ]
                      },
                      {
                        "learn": [
                          0.2294530176
                        ],
                        "iteration": 987,
                        "passed_time": 7.986628465,
                        "remaining_time": 0.09700358459,
                        "test": [
                          0.229912384
                        ]
                      },
                      {
                        "learn": [
                          0.2294452202
                        ],
                        "iteration": 988,
                        "passed_time": 7.993782552,
                        "remaining_time": 0.08890961382,
                        "test": [
                          0.2299105377
                        ]
                      },
                      {
                        "learn": [
                          0.2294450829
                        ],
                        "iteration": 989,
                        "passed_time": 8.000955219,
                        "remaining_time": 0.08081772949,
                        "test": [
                          0.2299102173
                        ]
                      },
                      {
                        "learn": [
                          0.229444854
                        ],
                        "iteration": 990,
                        "passed_time": 8.008182273,
                        "remaining_time": 0.07272819421,
                        "test": [
                          0.2299103241
                        ]
                      },
                      {
                        "learn": [
                          0.2294437859
                        ],
                        "iteration": 991,
                        "passed_time": 8.015338883,
                        "remaining_time": 0.0646398297,
                        "test": [
                          0.2299112701
                        ]
                      },
                      {
                        "learn": [
                          0.2294429008
                        ],
                        "iteration": 992,
                        "passed_time": 8.022481204,
                        "remaining_time": 0.05655324111,
                        "test": [
                          0.2299120483
                        ]
                      },
                      {
                        "learn": [
                          0.2294418175
                        ],
                        "iteration": 993,
                        "passed_time": 8.029798617,
                        "remaining_time": 0.04846960936,
                        "test": [
                          0.2299124908
                        ]
                      },
                      {
                        "learn": [
                          0.229440261
                        ],
                        "iteration": 994,
                        "passed_time": 8.036976623,
                        "remaining_time": 0.0403868172,
                        "test": [
                          0.2299138947
                        ]
                      },
                      {
                        "learn": [
                          0.2294362021
                        ],
                        "iteration": 995,
                        "passed_time": 8.044313479,
                        "remaining_time": 0.03230647983,
                        "test": [
                          0.2299121094
                        ]
                      },
                      {
                        "learn": [
                          0.2294356528
                        ],
                        "iteration": 996,
                        "passed_time": 8.051663972,
                        "remaining_time": 0.02422767494,
                        "test": [
                          0.2299118042
                        ]
                      },
                      {
                        "learn": [
                          0.2294329214
                        ],
                        "iteration": 997,
                        "passed_time": 8.058775241,
                        "remaining_time": 0.01614985018,
                        "test": [
                          0.2299108429
                        ]
                      },
                      {
                        "learn": [
                          0.2294268789
                        ],
                        "iteration": 998,
                        "passed_time": 8.075469748,
                        "remaining_time": 0.008083553302,
                        "test": [
                          0.2299077606
                        ]
                      },
                      {
                        "learn": [
                          0.2294262838
                        ],
                        "iteration": 999,
                        "passed_time": 8.082757185,
                        "remaining_time": 0,
                        "test": [
                          0.2299051666
                        ]
                      }
                    ],
                    "meta": {
                      "test_sets": [
                        "test"
                      ],
                      "test_metrics": [
                        {
                          "best_value": "Min",
                          "name": "Logloss"
                        }
                      ],
                      "learn_metrics": [
                        {
                          "best_value": "Min",
                          "name": "Logloss"
                        }
                      ],
                      "launch_mode": "Train",
                      "parameters": "",
                      "iteration_count": 1000,
                      "learn_sets": [
                        "learn"
                      ],
                      "name": "experiment"
                    }
                  }
                }
              }
            },
            "layout": "IPY_MODEL_0cf4a3aaa5754895831162e90d651f71"
          }
        }
      }
    }
  },
  "nbformat": 4,
  "nbformat_minor": 5
}